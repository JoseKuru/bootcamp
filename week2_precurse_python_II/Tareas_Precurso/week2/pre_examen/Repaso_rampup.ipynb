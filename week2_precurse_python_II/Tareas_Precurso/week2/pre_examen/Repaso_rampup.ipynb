{
 "cells": [
  {
   "cell_type": "markdown",
   "metadata": {},
   "source": [
    "## 🐍 Ramp-up\n",
    "\n",
    "Note: The bold words are instructions for you to know how to solve the exercises below that word. For example, if it says **for loop** you should use at least a for loop in order to solve the exercise. "
   ]
  },
  {
   "source": [
    "#### Collections\n",
    "1. Create a tuple as follows (10,2,27,8)\n",
    "2. Get the lenght of the tuple\n",
    "3. Which type is it? And which type are the elements the tuple contains?\n",
    "4. Create a new tuple with any other 4 strings and concatenate all of them with the tuple you created before by position, creating a list called `words`.\n",
    "5. Make a list with the same elements in question 1. Find the element 27 and make it 37.\n",
    "6. Remove the number 8 from the list.\n",
    "7. Turn the list you made before into a set.\n",
    "8. Check if the element \"3\" is in that set.\n",
    "9. Sort the list you made in exercise 4 in descending order.\n",
    "10. Turn the list `words` into a dictionary. Split every string taking the number in the tuple (10,2,27,8) as the values and the rest as the keys.\n",
    "11. Sum up the values of the new dictionary.\n",
    "12. Sort the values of the dictionary in descending order and the keys in ascending order, then make a list of tuples with every couple of keys and values by position."
   ],
   "cell_type": "markdown",
   "metadata": {}
  },
  {
   "cell_type": "code",
   "execution_count": 54,
   "metadata": {},
   "outputs": [
    {
     "output_type": "execute_result",
     "data": {
      "text/plain": [
       "[('Ghost', '27'), ('in', '10'), ('shell', '8'), ('the', '2')]"
      ]
     },
     "metadata": {},
     "execution_count": 54
    }
   ],
   "source": [
    "# 1\n",
    "my_tuple = (10, 2, 27, 8)\n",
    "# 2\n",
    "len(my_tuple)\n",
    "# 3\n",
    "type(my_tuple)\n",
    "type(my_tuple[0])\n",
    "# 4\n",
    "string_tuple = ('Ghost', 'in', 'the', 'shell')\n",
    "words = []\n",
    "for i in range(len(my_tuple)):\n",
    "    words.append(string_tuple[i] + str(my_tuple[i]))\n",
    "words\n",
    "# 5\n",
    "my_list = [10, 2, 27, 8]\n",
    "my_list[2] = 37\n",
    "# 6\n",
    "my_list.remove(8)\n",
    "# 7\n",
    "my_set = set(my_list)\n",
    "# 8\n",
    "3 in my_set\n",
    "# 9\n",
    "words.sort()\n",
    "# 10\n",
    "my_dict = {words[0][:-2] : words[0][-2:], words[1][:-1] : words[1][-1:],\n",
    "        words[2][:-1] : words[2][-1:], words[3][:-2] : words[3][-2:]}\n",
    "# 11\n",
    "sum([int(x) for x in list(my_dict.values())])\n",
    "# 12\n",
    "order_keys = list(my_dict.keys())\n",
    "order_keys.sort()\n",
    "order_values = list(my_dict.values())\n",
    "order_values.sort(key=int, reverse=True)\n",
    "list_dict = []\n",
    "for i in range(len(order_keys)):\n",
    "    list_dict.append((order_keys[i], order_values[i]))\n",
    "list_dict"
   ]
  },
  {
   "cell_type": "markdown",
   "metadata": {},
   "source": [
    "#### Dictionaries\n",
    "\n",
    "1. Make a dictionary containing three major rivers and the country each river runs through. One key-value pair might be 'nile': 'egypt'.\n",
    "\n",
    "    - Use a loop to print a sentence about each river, such as The Nile runs through Egypt.\n",
    "    - Use a loop to print the name of each river included in the dictionary.\n",
    "    - Use a loop to print the name of each country included in the dictionary."
   ]
  },
  {
   "cell_type": "code",
   "execution_count": 29,
   "metadata": {},
   "outputs": [
    {
     "output_type": "stream",
     "name": "stdout",
     "text": [
      "El río Danubio pasa por Alemania\nEl río Ebro pasa por España\nEl río Amazonas pasa por Brasil\nDanubio\nEbro\nAmazonas\nAlemania\nEspaña\nBrasil\n"
     ]
    }
   ],
   "source": [
    "rivers_dict = {'Alemania' : 'Danubio', 'España' : 'Ebro', 'Brasil' : 'Amazonas'}\n",
    "# First loop\n",
    "for key in rivers_dict.keys():\n",
    "    print(f'El río {rivers_dict[key]} pasa por {key}')\n",
    "# Second loop\n",
    "for value in rivers_dict.values():\n",
    "    print(value)\n",
    "# Third loop\n",
    "for key in rivers_dict.keys():\n",
    "    print(key)"
   ]
  },
  {
   "cell_type": "markdown",
   "metadata": {},
   "source": [
    "2. Use the provided dictionary that shows some coders and their favoites languages.\n",
    "```Python\n",
    "favorite_languages = {\n",
    "    'jen': 'python',\n",
    "    'sarah': 'c',\n",
    "    'edward': 'ruby',\n",
    "    'phil': 'python',\n",
    "    }\n",
    "```\n",
    "\n",
    "    - Make a list of people who should take the favorite languages poll. Include some names that are already in the dictionary and some that are not.\n",
    "    - Loop through the list of people who should take the poll. If they have already taken the poll, print a message thanking them for responding. If they have not yet taken the poll, print a message inviting them to take the poll."
   ]
  },
  {
   "cell_type": "code",
   "execution_count": 32,
   "metadata": {},
   "outputs": [
    {
     "output_type": "stream",
     "name": "stdout",
     "text": [
      "Please take part in our survey John\nThanks for your collaboration jen!\nPlease take part in our survey Susan\nThanks for your collaboration phil!\nPlease take part in our survey Alejandro\n"
     ]
    }
   ],
   "source": [
    "favorite_languages = {\n",
    "    'jen': 'python',\n",
    "    'sarah': 'c',\n",
    "    'edward': 'ruby',\n",
    "    'phil': 'python',\n",
    "    }\n",
    "lista_personas = ['John', 'jen', 'Susan', 'phil', 'Alejandro']\n",
    "for person in lista_personas:\n",
    "    if person in favorite_languages.keys():\n",
    "        print(f'Thanks for your collaboration {person}!')\n",
    "    else:\n",
    "        print(f'Please take part in our survey {person}')\n"
   ]
  },
  {
   "cell_type": "markdown",
   "metadata": {},
   "source": [
    "3. Make a dictionary called cities. Use the names of three cities as keys in your dictionary. Create a dictionary of information about each city and include the country that the city is in, its approximate population, and one fact about that city. The keys for each city’s dictionary should be something like country, population, and fact. Print the name of each city and all of the information you have stored about it.\n",
    "\n",
    "```python\n",
    "cities = {\"city1\":{\"country\": \"bla\"}}\n",
    "```\n",
    "\n",
    "\n"
   ]
  },
  {
   "cell_type": "code",
   "execution_count": 50,
   "metadata": {},
   "outputs": [
    {
     "output_type": "stream",
     "name": "stdout",
     "text": [
      "Cádiz\nEspaña\n110.000\nUna de las ciudades mas antiguas de Europa\n----------\nFrancia\nParís\n2.100.000\nEl rey francés que menos estuvo en el trono, tan solo estuvo 5 días\n----------\nItalia\nRoma\n2.800.000\nLos gatos callejeros están protegidos por derechos especiales\n----------\n"
     ]
    }
   ],
   "source": [
    "cities = {'Cádiz':{'España': {'110.000' : 'Una de las ciudades mas antiguas de Europa'}},\n",
    "        'Francia':{'París': {'2.100.000' : 'El rey francés que menos estuvo en el trono, tan solo estuvo 5 días'}},\n",
    "        'Italia':{'Roma': {'2.800.000' : 'Los gatos callejeros están protegidos por derechos especiales'}}}        \n",
    "\n",
    "for k, v in cities.items():\n",
    "    print(k)\n",
    "    for k2, v2 in v.items():\n",
    "        print(k2)\n",
    "        for k3 in v2.keys():\n",
    "            print(k3)\n",
    "            print(v[k2][k3])\n",
    "    print('----------')\n"
   ]
  },
  {
   "cell_type": "markdown",
   "metadata": {},
   "source": [
    "**for loop**\n",
    "1. This is a fruit list, ['banana', 'orange', 'mango', 'lemon'] reverse the order using a for loop.\n"
   ]
  },
  {
   "cell_type": "code",
   "execution_count": 61,
   "metadata": {},
   "outputs": [
    {
     "output_type": "execute_result",
     "data": {
      "text/plain": [
       "['lemon', 'mango', 'orange', 'banana']"
      ]
     },
     "metadata": {},
     "execution_count": 61
    }
   ],
   "source": [
    "list_fruits = ['banana', 'orange', 'mango', 'lemon']\n",
    "list_fruits_reverse = []\n",
    "for i in range(len(list_fruits) - 1, -1, -1):\n",
    "    list_fruits_reverse.append(list_fruits[i])\n",
    "list_fruits_reverse"
   ]
  },
  {
   "cell_type": "markdown",
   "metadata": {},
   "source": [
    "2. Write a Python program to create the multiplication table (from 1 to 10) of a number.\n",
    "```python\n",
    "Input a number: 5                                                                                             \n",
    "5 x 1 = 5                                                                                                     \n",
    "5 x 2 = 10                                                                                                    \n",
    "5 x 3 = 15                                                                                                    \n",
    "5 x 4 = 20                                                                                                    \n",
    "5 x 5 = 25                                                                                                    \n",
    "5 x 6 = 30                                                                                                    \n",
    "5 x 7 = 35                                                                                                    \n",
    "5 x 8 = 40                                                                                                    \n",
    "5 x 9 = 45                                                                                                    \n",
    "5 x 10 = 50\n",
    "```"
   ]
  },
  {
   "cell_type": "code",
   "execution_count": 36,
   "metadata": {},
   "outputs": [
    {
     "output_type": "stream",
     "name": "stdout",
     "text": [
      "5 x 1 = 5\n5 x 2 = 10\n5 x 3 = 15\n5 x 4 = 20\n5 x 5 = 25\n5 x 6 = 30\n5 x 7 = 35\n5 x 8 = 40\n5 x 9 = 45\n5 x 10 = 50\n"
     ]
    }
   ],
   "source": [
    "number = int(input('Enter a number: '))\n",
    "for i in range(1, 11):\n",
    "    print(f'{number} x {i} = {number * i}')"
   ]
  },
  {
   "cell_type": "markdown",
   "metadata": {},
   "source": [
    "3. Write a Python program which iterates the integers from 1 to 50. For multiples of three print \"Fizz\" instead of the number and for the multiples of five print \"Buzz\". For numbers which are multiples of both three and five print \"FizzBuzz\".\n",
    "```python\n",
    "Sample Output :\n",
    "fizzbuzz\n",
    "1\n",
    "2\n",
    "fizz\n",
    "4\n",
    "buzz\n",
    "```"
   ]
  },
  {
   "cell_type": "code",
   "execution_count": 62,
   "metadata": {},
   "outputs": [
    {
     "output_type": "stream",
     "name": "stdout",
     "text": [
      "1\n2\nFizz\n4\nBuzz\nFizz\n7\n8\nFizz\nBuzz\n11\nFizz\n13\n14\nFizzBuzz\n16\n17\nFizz\n19\nBuzz\nFizz\n22\n23\nFizz\nBuzz\n26\nFizz\n28\n29\nFizzBuzz\n31\n32\nFizz\n34\nBuzz\nFizz\n37\n38\nFizz\nBuzz\n41\nFizz\n43\n44\nFizzBuzz\n46\n47\nFizz\n49\nBuzz\n"
     ]
    }
   ],
   "source": [
    "for i in range(1, 51):\n",
    "    if i % 3 == 0 and i % 5 == 0:\n",
    "        print('FizzBuzz')\n",
    "    elif i % 3 == 0:\n",
    "        print('Fizz')\n",
    "    elif i % 5 == 0:\n",
    "        print('Buzz')\n",
    "    else:\n",
    "        print(i) \n",
    "        "
   ]
  },
  {
   "cell_type": "markdown",
   "metadata": {},
   "source": [
    "**functions**\n",
    "\n",
    "1. Write a Python function to check whether a string is a pangram or not. \n",
    "\n",
    "Note : Pangrams are words or sentences containing every letter of the alphabet at least once.\n",
    "    \n",
    "For example : `\"The quick brown fox jumps over the lazy dog\"`"
   ]
  },
  {
   "cell_type": "code",
   "execution_count": 69,
   "metadata": {},
   "outputs": [
    {
     "output_type": "stream",
     "name": "stdout",
     "text": [
      "The phrase is a pangram\n"
     ]
    }
   ],
   "source": [
    "def is_pangram(phrase):\n",
    "    english_alphabet = 26\n",
    "    phrase_char = []\n",
    "    for char in phrase:\n",
    "        if char.lower() not in phrase_char and char != ' ':\n",
    "            phrase_char.append(char.lower())\n",
    "    if len(phrase_char) == 26:\n",
    "        print('The phrase is a pangram')\n",
    "    else:\n",
    "        print('The phrase is NOT a pangram')\n",
    "\n",
    "is_pangram('The quick brown fox jumps over the lazy dog')"
   ]
  },
  {
   "cell_type": "markdown",
   "metadata": {},
   "source": [
    "2. Write a Python program to count the number of even and odd numbers from a series of numbers. \n",
    "\n",
    "```python\n",
    "Sample numbers: numbers = (1, 2, 3, 4, 5, 6, 7, 8, 9) \n",
    "    \n",
    "Expected Output:\n",
    "Number of even numbers: 5\n",
    "Number of odd numbers: 4\n",
    "```"
   ]
  },
  {
   "cell_type": "code",
   "execution_count": 78,
   "metadata": {},
   "outputs": [
    {
     "output_type": "stream",
     "name": "stdout",
     "text": [
      "Number of even numbers: 4\nNumber of odd numbers: 5\n"
     ]
    }
   ],
   "source": [
    "def even_odd(numbers):\n",
    "    even_count = 0\n",
    "    odd_count = 0\n",
    "    for num in numbers:\n",
    "        if num % 2 == 0:\n",
    "            even_count += 1\n",
    "        else:\n",
    "            odd_count += 1\n",
    "    print(f'Number of even numbers: {even_count}')\n",
    "    print(f'Number of odd numbers: {odd_count}')\n",
    "\n",
    "even_odd((1, 2, 3, 4, 5, 6, 7, 8, 9))"
   ]
  },
  {
   "cell_type": "markdown",
   "metadata": {},
   "source": [
    "#### functions & while loop\n",
    "1. Write a program which keeps asking for numbers till the user writes 9999. In that case, the program returns the concatenation of every number as a string.\n"
   ]
  },
  {
   "cell_type": "code",
   "execution_count": 80,
   "metadata": {},
   "outputs": [
    {
     "output_type": "execute_result",
     "data": {
      "text/plain": [
       "'53333344232434534656569999'"
      ]
     },
     "metadata": {},
     "execution_count": 80
    }
   ],
   "source": [
    "def stop_please():\n",
    "    return_string = ''\n",
    "    num = 0\n",
    "    while num != 9999:\n",
    "        num = int(input('To stop this program enter 9999. Enter a number: '))\n",
    "        return_string += str(num)\n",
    "    return return_string\n",
    "\n",
    "stop_please()"
   ]
  },
  {
   "cell_type": "markdown",
   "metadata": {},
   "source": [
    "2. Writes a function that asks a user for a pin code till they get it right... If they give a wrong answer three times the function returns \"Your bank account has been blocked\", otherwise, returns: \"You got it right! You get full access to your money\".\n"
   ]
  },
  {
   "cell_type": "code",
   "execution_count": 82,
   "metadata": {},
   "outputs": [
    {
     "output_type": "execute_result",
     "data": {
      "text/plain": [
       "'You go it right!'"
      ]
     },
     "metadata": {},
     "execution_count": 82
    }
   ],
   "source": [
    "def pin():\n",
    "    user_pin = 3590\n",
    "    count = 0\n",
    "    while count < 3:\n",
    "        enter_pin = int(input('Enter your pin code: '))\n",
    "        if enter_pin == user_pin:\n",
    "            return 'You go it right!'\n",
    "        count += 1\n",
    "    return 'Your bank account has been blocked'\n",
    "\n",
    "pin()"
   ]
  },
  {
   "cell_type": "markdown",
   "metadata": {},
   "source": [
    "#### functions & for loop\n",
    "\n",
    "1. Write a function that takes in a person's name, and prints out a greeting.\n",
    "    - The greeting must be at least three lines, and the person's name must be in each line.\n",
    "    - Use your function to greet at least three different people.\n",
    "    - Store your three people in a list, and call your function from a for loop."
   ]
  },
  {
   "cell_type": "code",
   "execution_count": 85,
   "metadata": {},
   "outputs": [
    {
     "output_type": "stream",
     "name": "stdout",
     "text": [
      "Greetings José!\nGreetings José!\nGreetings José!\nGreetings Mónica!\nGreetings Mónica!\nGreetings Mónica!\nGreetings Javier!\nGreetings Javier!\nGreetings Javier!\nGreetings José!\nGreetings José!\nGreetings José!\nGreetings Mónica!\nGreetings Mónica!\nGreetings Mónica!\nGreetings Javier!\nGreetings Javier!\nGreetings Javier!\n"
     ]
    }
   ],
   "source": [
    "def greeting(person_name):\n",
    "    for i in range(3):\n",
    "        print(f'Greetings {person_name}!')\n",
    "\n",
    "greeting('José')\n",
    "greeting('Mónica')\n",
    "greeting('Javier')\n",
    "person_name = ['José', 'Mónica', 'Javier']\n",
    "for nombre in person_name:\n",
    "    greeting(nombre)"
   ]
  },
  {
   "cell_type": "markdown",
   "metadata": {},
   "source": [
    "2. Make a list that includes 3 or 4 games that you like to play and print a statement that tells the user what games you like.\n",
    "    - Write a function that asks the user to tell you a game they like, and store the game in a variable such as `new_game`. \n",
    "    - If the user mentions one game you like to play, send a message asking to play together.\n",
    "    - Otherwise ask for another game name. If the user tries your program 3 times and doesn't give a game name you like, then ask them to find another friend."
   ]
  },
  {
   "cell_type": "code",
   "execution_count": 5,
   "metadata": {},
   "outputs": [
    {
     "output_type": "stream",
     "name": "stdout",
     "text": [
      "Let's play together\n"
     ]
    }
   ],
   "source": [
    "list_games = ['NieR Automata', 'Hollow Knight', 'Death Stranding', 'Persona 5']\n",
    "\n",
    "def game():\n",
    "    friend = False\n",
    "    new_game = input('Tell me a game you like')\n",
    "    for i in range(2):\n",
    "        if new_game in list_games:\n",
    "            friend = True\n",
    "            print(\"Let's play together\")\n",
    "        else:\n",
    "            new_game = input('Tell me another game')\n",
    "    if not friend:\n",
    "        print('Maybe we should try other people')\n",
    "\n",
    "game()"
   ]
  },
  {
   "cell_type": "markdown",
   "metadata": {},
   "source": [
    "#### write a mini-program\n",
    "**Three is a Crowd**\n",
    "- Make a list of names that includes at least four people.\n",
    "- Write an if test that prints a message about the room being crowded, if there are more than three people in your list.\n",
    "- Modify your list so that there are only two people in it. Use one of the methods for removing people from the list, don't just redefine the list.\n",
    "- Run your if test again. There should be no output this time, because there are less than three people in the list.\n",
    "- Store your if test in a function called something like `crowd_test`.\n",
    "\n"
   ]
  },
  {
   "cell_type": "code",
   "execution_count": 13,
   "metadata": {},
   "outputs": [
    {
     "output_type": "stream",
     "name": "stdout",
     "text": [
      "The room is crowed\n"
     ]
    }
   ],
   "source": [
    "list_names = ['Susana', 'Gloria', 'Laura', 'Pedro']\n",
    "if len(list_names) > 3:\n",
    "    print('The room is crowed')\n",
    "list_names.remove('Laura')\n",
    "list_names.remove('Gloria')\n",
    "if len(list_names) > 3:\n",
    "    print('The room is crowed')\n",
    "\n",
    "def crowd_test():\n",
    "    if len(list_names) > 3:\n",
    "        print('The room is crowed')"
   ]
  },
  {
   "cell_type": "markdown",
   "metadata": {},
   "source": [
    "**Three is a Crowd - Part 2**\n",
    "- Save your program from *Three is a Crowd* under a new name.\n",
    "- Add an `else` statement to your if tests. If the `else` statement is run, have it print a message that the room is not very crowded.\n"
   ]
  },
  {
   "cell_type": "code",
   "execution_count": 14,
   "metadata": {},
   "outputs": [
    {
     "output_type": "stream",
     "name": "stdout",
     "text": [
      "The room is not very crowed\n"
     ]
    }
   ],
   "source": [
    "def crowd_test2():\n",
    "    if len(list_names) > 3:\n",
    "        print('The room is crowed')\n",
    "    else:\n",
    "        print('The room is not very crowed')\n",
    "\n",
    "list_names = ['Susana', 'Gloria', 'Laura', 'Pedro']\n",
    "list_names.remove('Laura')\n",
    "list_names.remove('Gloria')\n",
    "crowd_test2()"
   ]
  },
  {
   "cell_type": "markdown",
   "metadata": {},
   "source": [
    "\n",
    "**Six is a Mob**\n",
    "- Save your program from *Three is a Crowd - Part 2* under a new name.\n",
    "- Add some names to your list, so that there are at least six people in the list.\n",
    "- Modify your tests so that\n",
    "    - If there are more than 5 people, a message is printed about there being a mob in the room.\n",
    "    - If there are 3-5 people, a message is printed about the room being crowded.\n",
    "    - If there are 1 or 2 people, a message is printed about the room not being crowded.\n",
    "    - If there are no people in the room, a message is printed abou the room being empty."
   ]
  },
  {
   "cell_type": "code",
   "execution_count": 16,
   "metadata": {},
   "outputs": [
    {
     "output_type": "stream",
     "name": "stdout",
     "text": [
      "The room is crowed\n"
     ]
    }
   ],
   "source": [
    "def crowd_test3():\n",
    "    if len(list_names) > 5:\n",
    "        print('There is a mob in the room')\n",
    "    elif 5 >= len(list_names) >= 3:\n",
    "        print('The room is crowed')\n",
    "    elif 2 >= len(list_names) >= 1:\n",
    "        print('The room is not crowed')\n",
    "    else:\n",
    "        print('The room is empty')\n",
    "\n",
    "list_names = ['Susana', 'Gloria', 'Laura', 'Pedro', 'Rodrigo', 'Soledad']\n",
    "list_names.remove('Laura')\n",
    "list_names.remove('Gloria')\n",
    "crowd_test3()"
   ]
  },
  {
   "cell_type": "code",
   "execution_count": null,
   "metadata": {},
   "outputs": [],
   "source": []
  }
 ],
 "metadata": {
  "kernelspec": {
   "display_name": "Python 3",
   "language": "python",
   "name": "python3"
  },
  "language_info": {
   "codemirror_mode": {
    "name": "ipython",
    "version": 3
   },
   "file_extension": ".py",
   "mimetype": "text/x-python",
   "name": "python",
   "nbconvert_exporter": "python",
   "pygments_lexer": "ipython3",
   "version": "3.7.4-final"
  }
 },
 "nbformat": 4,
 "nbformat_minor": 4
}