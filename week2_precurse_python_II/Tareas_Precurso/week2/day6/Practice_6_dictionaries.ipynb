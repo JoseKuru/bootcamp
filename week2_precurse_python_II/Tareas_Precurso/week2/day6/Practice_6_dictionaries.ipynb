{
 "cells": [
  {
   "cell_type": "markdown",
   "metadata": {},
   "source": [
    "# Python | day 6 | dictionaries"
   ]
  },
  {
   "cell_type": "markdown",
   "metadata": {},
   "source": [
    "Dictionaries are used to store data values in key:value pairs.\n",
    "\n",
    "A dictionary is a collection which is unordered, changeable and does not allow duplicates.\n",
    "\n",
    "Dictionaries are written with curly brackets, and have keys and values:"
   ]
  },
  {
   "cell_type": "markdown",
   "metadata": {},
   "source": [
    "```python\n",
    "thisdict = {\n",
    "  \"brand\": \"Ford\",\n",
    "  \"model\": \"Mustang\",\n",
    "  \"year\": 1964\n",
    "}\n",
    "```"
   ]
  },
  {
   "cell_type": "markdown",
   "metadata": {},
   "source": [
    "https://www.w3schools.com/python/python_dictionaries.asp"
   ]
  },
  {
   "cell_type": "markdown",
   "metadata": {},
   "source": [
    "### Exercise 1. \n",
    "\n",
    "1. Create a dictionary with an integer 5 as the key and \"val\" as its value."
   ]
  },
  {
   "cell_type": "code",
   "execution_count": 1,
   "metadata": {},
   "outputs": [],
   "source": [
    "dictionary = {5 : 'val'}"
   ]
  },
  {
   "cell_type": "markdown",
   "metadata": {},
   "source": [
    "2. Create two lists: one that has 4 city names and another that has 4 landmarks in the city."
   ]
  },
  {
   "cell_type": "code",
   "execution_count": 7,
   "metadata": {},
   "outputs": [],
   "source": [
    "city_list = ['Cádiz', 'Madrid', 'Sevilla', 'Córdoba']\n",
    "city_landmarks = ['Gran Teatro Falla', 'Museo Nacional del Prado', 'El Real Alcázar', 'Mezquita-catedral de Córdoba']"
   ]
  },
  {
   "cell_type": "markdown",
   "metadata": {},
   "source": [
    "3. Create a dictionary where the cities contained in the first list are the **keys** and the landmarks are the **values**.\n",
    "```python\n",
    "#example\n",
    "places = {\"Malaga\": \"Gibralfaro\", \n",
    "         \"Madrid\": \"Templo de Debod\",\n",
    "         \"Granada\": \"La Alcazaba\",\n",
    "         \"Barcelona\": \"Sagrada Familia\"}\n",
    "```"
   ]
  },
  {
   "cell_type": "code",
   "execution_count": 8,
   "metadata": {},
   "outputs": [
    {
     "output_type": "execute_result",
     "data": {
      "text/plain": [
       "{'Cádiz': 'Gran Teatro Falla',\n",
       " 'Madrid': 'Museo Nacional del Prado',\n",
       " 'Sevilla': 'El Real Alcázar',\n",
       " 'Córdoba': 'Mezquita-catedral de Córdoba'}"
      ]
     },
     "metadata": {},
     "execution_count": 8
    }
   ],
   "source": [
    "city_dict = {}\n",
    "for i in range(len(city_list)):\n",
    "    city_dict[city_list[i]] = city_landmarks[i]\n",
    "city_dict"
   ]
  },
  {
   "cell_type": "markdown",
   "metadata": {},
   "source": [
    "4. Loop through the dictionary and print only the values of those keys starting with the letter **M**.\n",
    "\n",
    "https://realpython.com/iterate-through-dictionary-python/"
   ]
  },
  {
   "cell_type": "code",
   "execution_count": 11,
   "metadata": {},
   "outputs": [
    {
     "output_type": "stream",
     "name": "stdout",
     "text": [
      "Madrid ---> Museo Nacional del Prado\n"
     ]
    }
   ],
   "source": [
    "for key in city_dict.keys():\n",
    "    if key[0] == 'M':\n",
    "        print(key, city_dict[key], sep=' ---> ')\n"
   ]
  },
  {
   "cell_type": "markdown",
   "metadata": {},
   "source": [
    "5. Create a function that receives two lists `list1` and `list2` by parameter and returns a dictionary with each element of `list1` as keys and the elements of `list2` as values. Call the function with the lists you have created before to return the same dictionary you've created in question 3. "
   ]
  },
  {
   "cell_type": "code",
   "execution_count": 12,
   "metadata": {},
   "outputs": [
    {
     "output_type": "execute_result",
     "data": {
      "text/plain": [
       "{'Cádiz': 'Gran Teatro Falla',\n",
       " 'Madrid': 'Museo Nacional del Prado',\n",
       " 'Sevilla': 'El Real Alcázar',\n",
       " 'Córdoba': 'Mezquita-catedral de Córdoba'}"
      ]
     },
     "metadata": {},
     "execution_count": 12
    }
   ],
   "source": [
    "def create_dictionary(list1, list2):\n",
    "    created_dict = {}\n",
    "    for i in range(len(list1)):\n",
    "       created_dict[list1[i]] = list2[i]\n",
    "    return created_dict\n",
    "\n",
    "city_dict2 = create_dictionary(city_list, city_landmarks)\n",
    "city_dict2"
   ]
  },
  {
   "cell_type": "markdown",
   "metadata": {},
   "source": [
    "### Exercise 2. "
   ]
  },
  {
   "cell_type": "markdown",
   "metadata": {},
   "source": [
    "1. Create an empty dictionary called dog."
   ]
  },
  {
   "cell_type": "code",
   "execution_count": null,
   "metadata": {},
   "outputs": [],
   "source": [
    "dog = {}"
   ]
  },
  {
   "cell_type": "markdown",
   "metadata": {},
   "source": [
    "2. Add name, color, breed, legs, age to the dog dictionary."
   ]
  },
  {
   "cell_type": "code",
   "execution_count": 19,
   "metadata": {},
   "outputs": [
    {
     "output_type": "execute_result",
     "data": {
      "text/plain": [
       "{'name': 'Leia', 'color': 'red', 'breed': 'Shiba inu', 'legs': 4, 'age': 8}"
      ]
     },
     "metadata": {},
     "execution_count": 19
    }
   ],
   "source": [
    "dog = {'name': 'Leia', 'color': 'red', 'breed': 'Shiba inu', 'legs': 4, 'age': 8 }\n",
    "dog"
   ]
  },
  {
   "cell_type": "markdown",
   "metadata": {},
   "source": [
    "3. Create a student dictionary and add first_name, last_name, age, skills, country, city and address as keys for the dictionary.\n"
   ]
  },
  {
   "cell_type": "code",
   "execution_count": 24,
   "metadata": {},
   "outputs": [
    {
     "output_type": "execute_result",
     "data": {
      "text/plain": [
       "{'first_name': 'José Carlos',\n",
       " 'last_name': 'Batista Rivero',\n",
       " 'age': 28,\n",
       " 'skills': ['programming', 'gaming', 'procrastination'],\n",
       " 'country': 'España',\n",
       " 'city': 'Cádiz',\n",
       " 'address': 'C/ Goleta, nº7 4ºA'}"
      ]
     },
     "metadata": {},
     "execution_count": 24
    }
   ],
   "source": [
    "student = {'first_name': 'José Carlos', 'last_name': 'Batista Rivero', 'age': 28, \n",
    "        'skills': ['programming', 'gaming', 'procrastination'],\n",
    "        'country': 'España', 'city': 'Cádiz', 'address': 'C/ Goleta, nº7 4ºA'}\n",
    "student\n",
    "# He usado una doble identación para la declaración de student.\n",
    "# No se si esta bien o hay formas mas correctas."
   ]
  },
  {
   "cell_type": "markdown",
   "metadata": {},
   "source": [
    "4. Get the length of the student dictionary.\n"
   ]
  },
  {
   "cell_type": "code",
   "execution_count": 25,
   "metadata": {},
   "outputs": [
    {
     "output_type": "execute_result",
     "data": {
      "text/plain": [
       "7"
      ]
     },
     "metadata": {},
     "execution_count": 25
    }
   ],
   "source": [
    "len(student)"
   ]
  },
  {
   "cell_type": "markdown",
   "metadata": {},
   "source": [
    "5. Get the value of skills and check the data type, it should be a list."
   ]
  },
  {
   "cell_type": "code",
   "execution_count": 27,
   "metadata": {},
   "outputs": [
    {
     "output_type": "stream",
     "name": "stdout",
     "text": [
      "['programming', 'gaming', 'procrastination']\n<class 'list'>\n"
     ]
    }
   ],
   "source": [
    "print(student['skills'])\n",
    "print(type(student['skills']))"
   ]
  },
  {
   "cell_type": "markdown",
   "metadata": {},
   "source": [
    "6. Modify the skills values by adding one or two skills."
   ]
  },
  {
   "cell_type": "code",
   "execution_count": 28,
   "metadata": {},
   "outputs": [
    {
     "output_type": "execute_result",
     "data": {
      "text/plain": [
       "{'first_name': 'José Carlos',\n",
       " 'last_name': 'Batista Rivero',\n",
       " 'age': 28,\n",
       " 'skills': ['programming',\n",
       "  'gaming',\n",
       "  'procrastination',\n",
       "  'critical thinking',\n",
       "  'creativity'],\n",
       " 'country': 'España',\n",
       " 'city': 'Cádiz',\n",
       " 'address': 'C/ Goleta, nº7 4ºA'}"
      ]
     },
     "metadata": {},
     "execution_count": 28
    }
   ],
   "source": [
    "student['skills'].append('critical thinking')\n",
    "student['skills'].append('creativity')\n",
    "student"
   ]
  },
  {
   "cell_type": "markdown",
   "metadata": {},
   "source": [
    "7. Get the dictionary keys as a list."
   ]
  },
  {
   "cell_type": "code",
   "execution_count": 30,
   "metadata": {},
   "outputs": [
    {
     "output_type": "execute_result",
     "data": {
      "text/plain": [
       "['first_name', 'last_name', 'age', 'skills', 'country', 'city', 'address']"
      ]
     },
     "metadata": {},
     "execution_count": 30
    }
   ],
   "source": [
    "list(student.keys())"
   ]
  },
  {
   "cell_type": "markdown",
   "metadata": {},
   "source": [
    "8. Get the dictionary values as a list.\n"
   ]
  },
  {
   "cell_type": "code",
   "execution_count": 31,
   "metadata": {},
   "outputs": [
    {
     "output_type": "execute_result",
     "data": {
      "text/plain": [
       "['José Carlos',\n",
       " 'Batista Rivero',\n",
       " 28,\n",
       " ['programming',\n",
       "  'gaming',\n",
       "  'procrastination',\n",
       "  'critical thinking',\n",
       "  'creativity'],\n",
       " 'España',\n",
       " 'Cádiz',\n",
       " 'C/ Goleta, nº7 4ºA']"
      ]
     },
     "metadata": {},
     "execution_count": 31
    }
   ],
   "source": [
    "list(student.values())"
   ]
  },
  {
   "cell_type": "markdown",
   "metadata": {},
   "source": [
    "9. Change the dictionary to a list of tuples using `items()` method"
   ]
  },
  {
   "cell_type": "code",
   "execution_count": 37,
   "metadata": {},
   "outputs": [
    {
     "output_type": "execute_result",
     "data": {
      "text/plain": [
       "[('first_name', 'José Carlos'),\n",
       " ('last_name', 'Batista Rivero'),\n",
       " ('age', 28),\n",
       " ('skills',\n",
       "  ['programming',\n",
       "   'gaming',\n",
       "   'procrastination',\n",
       "   'critical thinking',\n",
       "   'creativity']),\n",
       " ('country', 'España'),\n",
       " ('city', 'Cádiz'),\n",
       " ('address', 'C/ Goleta, nº7 4ºA')]"
      ]
     },
     "metadata": {},
     "execution_count": 37
    }
   ],
   "source": [
    "list(student.items())"
   ]
  },
  {
   "cell_type": "markdown",
   "metadata": {},
   "source": [
    "10. Delete one of the items in the dictionary.\n"
   ]
  },
  {
   "cell_type": "code",
   "execution_count": 38,
   "metadata": {},
   "outputs": [
    {
     "output_type": "execute_result",
     "data": {
      "text/plain": [
       "{'first_name': 'José Carlos',\n",
       " 'last_name': 'Batista Rivero',\n",
       " 'age': 28,\n",
       " 'skills': ['programming',\n",
       "  'gaming',\n",
       "  'procrastination',\n",
       "  'critical thinking',\n",
       "  'creativity'],\n",
       " 'city': 'Cádiz',\n",
       " 'address': 'C/ Goleta, nº7 4ºA'}"
      ]
     },
     "metadata": {},
     "execution_count": 38
    }
   ],
   "source": [
    "del student['country']\n",
    "student"
   ]
  },
  {
   "cell_type": "markdown",
   "metadata": {},
   "source": [
    "### Bonus Track"
   ]
  },
  {
   "cell_type": "markdown",
   "metadata": {},
   "source": [
    "**Tómate un zumito a tu salud.**"
   ]
  },
  {
   "cell_type": "markdown",
   "metadata": {},
   "source": [
    "!['daughter'](https://i.pinimg.com/originals/8f/35/28/8f35281e742e71be09697e7e6789b819.png)"
   ]
  },
  {
   "cell_type": "code",
   "execution_count": null,
   "metadata": {},
   "outputs": [],
   "source": []
  }
 ],
 "metadata": {
  "kernelspec": {
   "display_name": "Python 3",
   "language": "python",
   "name": "python3"
  },
  "language_info": {
   "codemirror_mode": {
    "name": "ipython",
    "version": 3
   },
   "file_extension": ".py",
   "mimetype": "text/x-python",
   "name": "python",
   "nbconvert_exporter": "python",
   "pygments_lexer": "ipython3",
   "version": "3.7.4-final"
  }
 },
 "nbformat": 4,
 "nbformat_minor": 2
}