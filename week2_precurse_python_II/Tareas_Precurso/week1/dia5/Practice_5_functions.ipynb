{
 "cells": [
  {
   "source": [
    "# Python | day 5 | functions"
   ],
   "cell_type": "markdown",
   "metadata": {}
  },
  {
   "source": [
    "In Python, a function is a group of related statements that performs a specific task."
   ],
   "cell_type": "markdown",
   "metadata": {}
  },
  {
   "cell_type": "markdown",
   "metadata": {},
   "source": [
    "https://www.programiz.com/python-programming/function"
   ]
  },
  {
   "source": [
    "#### Difference between `return` and `print`.\n",
    "\n",
    "Take some minutes to understand the difference between `return` and `print`, it seems to be the same, but they are not and it's important you understand the difference. "
   ],
   "cell_type": "markdown",
   "metadata": {}
  },
  {
   "cell_type": "code",
   "execution_count": 1,
   "metadata": {},
   "outputs": [
    {
     "output_type": "stream",
     "name": "stdout",
     "text": [
      "2\n4\n8\n"
     ]
    }
   ],
   "source": [
    "def suma(a,b):\n",
    "    print(a)\n",
    "    return a+b\n",
    "\n",
    "print(suma(suma(2,2),4))"
   ]
  },
  {
   "cell_type": "markdown",
   "metadata": {},
   "source": [
    "#### Comments in a function."
   ]
  },
  {
   "cell_type": "code",
   "execution_count": 2,
   "metadata": {},
   "outputs": [],
   "source": [
    "def say_hello(name):\n",
    "    \"\"\"\n",
    "    Given a name as an argument, \n",
    "    the function return a string greeting\n",
    "    the name given. \n",
    "    \"\"\"\n",
    "    return f\"hello {name}\""
   ]
  },
  {
   "cell_type": "code",
   "execution_count": 3,
   "metadata": {},
   "outputs": [
    {
     "output_type": "stream",
     "name": "stdout",
     "text": [
      "hello Clara\n"
     ]
    }
   ],
   "source": [
    "print(say_hello(\"Clara\"))"
   ]
  },
  {
   "cell_type": "code",
   "execution_count": 4,
   "metadata": {},
   "outputs": [
    {
     "output_type": "stream",
     "name": "stdout",
     "text": [
      "Help on function say_hello in module __main__:\n\nsay_hello(name)\n    Given a name as an argument, \n    the function return a string greeting\n    the name given.\n\n"
     ]
    }
   ],
   "source": [
    "help(say_hello)"
   ]
  },
  {
   "cell_type": "markdown",
   "metadata": {},
   "source": [
    "### Exercise 1. "
   ]
  },
  {
   "cell_type": "markdown",
   "metadata": {},
   "source": [
    "To solve the following exercises it will be necessary to define a function for each section. You choose the name of those functions unless specified, but make sure you define a single parameter `whichever_list`, when calling the function it will correspond to the variable `info_list`.\n",
    "```python\n",
    "def funtion_bla(whichever_list):\n",
    "    return whichever_list\n",
    "\n",
    "function_bla(info_list)\n",
    "```\n",
    "\n",
    "**In the case of not being able to solve a question containing the code in a function, try to do it without defining one.**"
   ]
  },
  {
   "cell_type": "code",
   "execution_count": 5,
   "metadata": {},
   "outputs": [],
   "source": [
    "# you can use this list or take yours from Practice 3\n",
    "info_list = [15, 'Recoletos', True, ['Recoletos', 15],  None, '8'] "
   ]
  },
  {
   "cell_type": "markdown",
   "metadata": {},
   "source": [
    "1. Display on the screen `\"I like the tranquility\"` if you like the mountains more and `\"I'd love to live in Malaga\"` if you like the beach more.\n",
    "\n"
   ]
  },
  {
   "cell_type": "code",
   "execution_count": 6,
   "metadata": {},
   "outputs": [],
   "source": [
    "#define a function which takes a single parameter `whichever_list`\n",
    "def beach_or_mountain(whichever_list):\n",
    "    if whichever_list[2] == True:\n",
    "        print(\"I'd love to live in Malaga\")\n",
    "    else:\n",
    "        print(\"I like the tranquility\")\n"
   ]
  },
  {
   "cell_type": "code",
   "execution_count": 7,
   "metadata": {},
   "outputs": [
    {
     "output_type": "stream",
     "name": "stdout",
     "text": [
      "I'd love to live in Malaga\n"
     ]
    }
   ],
   "source": [
    "#call the function with the variable `info_list`\n",
    "beach_or_mountain(info_list)"
   ]
  },
  {
   "cell_type": "markdown",
   "metadata": {},
   "source": [
    "2. Print `\"Today I am tired\"` if you have slept less than 7 hours or `\"Today I conquer the world\"` if you have slept more than 7 hours."
   ]
  },
  {
   "cell_type": "code",
   "execution_count": 8,
   "metadata": {},
   "outputs": [],
   "source": [
    "#define a function which takes a single parameter `whichever_list`\n",
    "def am_i_tired(whichever_list):\n",
    "    if int(whichever_list[5]) >= 7:\n",
    "        print(\"Today I conquer the world\")\n",
    "    else:\n",
    "        print(\"Today I am tired\")\n"
   ]
  },
  {
   "cell_type": "code",
   "execution_count": 9,
   "metadata": {},
   "outputs": [
    {
     "output_type": "stream",
     "name": "stdout",
     "text": [
      "Today I conquer the world\n"
     ]
    }
   ],
   "source": [
    "#call the function with the variable `info_list`\n",
    "am_i_tired(info_list)"
   ]
  },
  {
   "cell_type": "markdown",
   "metadata": {},
   "source": [
    "3. Loop through `whichever_list` to print all the elements it contains. This function should return the list turned into a tuple. "
   ]
  },
  {
   "cell_type": "code",
   "execution_count": 10,
   "metadata": {},
   "outputs": [],
   "source": [
    "#define a function which takes a single parameter `whichever_list`\n",
    "def print_all_elements(whichever_list):\n",
    "    for element in whichever_list:\n",
    "        print(element)\n",
    "    return tuple(whichever_list)"
   ]
  },
  {
   "cell_type": "code",
   "execution_count": 11,
   "metadata": {},
   "outputs": [
    {
     "output_type": "stream",
     "name": "stdout",
     "text": [
      "15\nRecoletos\nTrue\n['Recoletos', 15]\nNone\n8\n"
     ]
    },
    {
     "output_type": "execute_result",
     "data": {
      "text/plain": [
       "(15, 'Recoletos', True, ['Recoletos', 15], None, '8')"
      ]
     },
     "metadata": {},
     "execution_count": 11
    }
   ],
   "source": [
    "#call the function with the variable `info_list`\n",
    "print_all_elements(info_list)"
   ]
  },
  {
   "cell_type": "markdown",
   "metadata": {},
   "source": [
    "4. Loop through `whichever_list` to print all the elements it contains concatenated with the string` \"--> OK\" `. This function should return a message saying, `\"everything will be ok\"`. \n"
   ]
  },
  {
   "cell_type": "code",
   "execution_count": 12,
   "metadata": {},
   "outputs": [],
   "source": [
    "#define a function which takes a single parameter `whichever_list`\n",
    "def ok_function(whichever_list):\n",
    "    for element in whichever_list:\n",
    "        print(str(element) + ' --> OK')\n",
    "    return 'everythin will be ok'"
   ]
  },
  {
   "cell_type": "code",
   "execution_count": 13,
   "metadata": {},
   "outputs": [
    {
     "output_type": "stream",
     "name": "stdout",
     "text": [
      "15 --> OK\nRecoletos --> OK\nTrue --> OK\n['Recoletos', 15] --> OK\nNone --> OK\n8 --> OK\n"
     ]
    },
    {
     "output_type": "execute_result",
     "data": {
      "text/plain": [
       "'everythin will be ok'"
      ]
     },
     "metadata": {},
     "execution_count": 13
    }
   ],
   "source": [
    "#call the function with the variable `info_list`\n",
    "ok_function(info_list)"
   ]
  },
  {
   "cell_type": "markdown",
   "metadata": {},
   "source": [
    "5. Loop through `whichever_list` to display all items it contains except the first one. This function should return the first element of the list. "
   ]
  },
  {
   "cell_type": "code",
   "execution_count": 14,
   "metadata": {},
   "outputs": [],
   "source": [
    "#define a function which takes a single parameter `whichever_list`\n",
    "def display_items(whichever_list):\n",
    "    for i in range(1, len(whichever_list)):\n",
    "        print(whichever_list[i])\n",
    "    return whichever_list[0]"
   ]
  },
  {
   "cell_type": "code",
   "execution_count": 15,
   "metadata": {},
   "outputs": [
    {
     "output_type": "stream",
     "name": "stdout",
     "text": [
      "Recoletos\nTrue\n['Recoletos', 15]\nNone\n8\n"
     ]
    },
    {
     "output_type": "execute_result",
     "data": {
      "text/plain": [
       "15"
      ]
     },
     "metadata": {},
     "execution_count": 15
    }
   ],
   "source": [
    "#call the function with the variable `info_list`\n",
    "display_items(whichever_list=info_list)"
   ]
  },
  {
   "cell_type": "markdown",
   "metadata": {},
   "source": [
    "6. Loop through `whichever_list` to display all the items it contains except the last one. This function should return the last element of the list. "
   ]
  },
  {
   "cell_type": "code",
   "execution_count": 16,
   "metadata": {},
   "outputs": [],
   "source": [
    "#define a function which takes a single parameter `whichever_list`\n",
    "def display_items2(whichever_list):\n",
    "    for i in range(0, len(whichever_list) - 1):\n",
    "        print(whichever_list[i])\n",
    "    return whichever_list[-1]"
   ]
  },
  {
   "cell_type": "code",
   "execution_count": 17,
   "metadata": {},
   "outputs": [
    {
     "output_type": "stream",
     "name": "stdout",
     "text": [
      "15\nRecoletos\nTrue\n['Recoletos', 15]\nNone\n"
     ]
    },
    {
     "output_type": "execute_result",
     "data": {
      "text/plain": [
       "'8'"
      ]
     },
     "metadata": {},
     "execution_count": 17
    }
   ],
   "source": [
    "#call the function with the variable `info_list`\n",
    "display_items2(info_list)"
   ]
  },
  {
   "cell_type": "markdown",
   "metadata": {},
   "source": [
    "7. Loop through `whichever_list` to show all the elements it contains except the street number and the hours you've slept."
   ]
  },
  {
   "cell_type": "code",
   "execution_count": 18,
   "metadata": {},
   "outputs": [],
   "source": [
    "#define a function which takes a single parameter `whichever_list`\n",
    "def display_items3(whichever_list):\n",
    "    for i in range(1, len(whichever_list) - 1):\n",
    "        print(whichever_list[i])"
   ]
  },
  {
   "cell_type": "code",
   "execution_count": 19,
   "metadata": {},
   "outputs": [
    {
     "output_type": "stream",
     "name": "stdout",
     "text": [
      "Recoletos\nTrue\n['Recoletos', 15]\nNone\n"
     ]
    }
   ],
   "source": [
    "#call the function with the variable `info_list`\n",
    "display_items3(info_list)"
   ]
  },
  {
   "cell_type": "markdown",
   "metadata": {},
   "source": [
    "8. Loop through `whichever_list` to print all the elements it contains except the first element of the list which is in fourth position (`'Recoletos'`). This function should return the lenght of that element. "
   ]
  },
  {
   "cell_type": "code",
   "execution_count": 20,
   "metadata": {},
   "outputs": [],
   "source": [
    "#define a function which takes a single parameter `whichever_list`\n",
    "def display_items4(whichever_list):\n",
    "    length_element = 0\n",
    "    for element in whichever_list:\n",
    "        if not isinstance(element, list):\n",
    "            print(element)\n",
    "        else:\n",
    "            print(element[1])\n",
    "            length_element += len(element[0])\n",
    "    return length_element"
   ]
  },
  {
   "cell_type": "code",
   "execution_count": 21,
   "metadata": {},
   "outputs": [
    {
     "output_type": "stream",
     "name": "stdout",
     "text": [
      "15\nRecoletos\nTrue\n15\nNone\n8\n"
     ]
    },
    {
     "output_type": "execute_result",
     "data": {
      "text/plain": [
       "9"
      ]
     },
     "metadata": {},
     "execution_count": 21
    }
   ],
   "source": [
    "#call the function with the variable `info_list`\n",
    "display_items4(info_list)"
   ]
  },
  {
   "cell_type": "markdown",
   "metadata": {},
   "source": [
    "9. Loop through `whichever_list` to show all the elements it contains except the one that contains the information about whether you like the mountains or the beach. The function should return a message saying `\"I love the beach\"` if you prefer the beach and a message saying `\"I love the mountain\"` otherwise. "
   ]
  },
  {
   "cell_type": "code",
   "execution_count": 22,
   "metadata": {},
   "outputs": [],
   "source": [
    "#define a function which takes a single parameter `whichever_list`\n",
    "def display_items5(whichever_list):\n",
    "    mountain_or_beach = None\n",
    "    for element in whichever_list:\n",
    "        if isinstance(element, bool):\n",
    "            mountain_or_beach = element\n",
    "            continue\n",
    "        else:\n",
    "            print(element)\n",
    "    if element == True:\n",
    "        return 'I love the beach'\n",
    "    else:\n",
    "        return 'I love the mountain'\n",
    "        "
   ]
  },
  {
   "cell_type": "code",
   "execution_count": 23,
   "metadata": {},
   "outputs": [
    {
     "output_type": "stream",
     "name": "stdout",
     "text": [
      "15\nRecoletos\n['Recoletos', 15]\nNone\n8\n"
     ]
    },
    {
     "output_type": "execute_result",
     "data": {
      "text/plain": [
       "'I love the mountain'"
      ]
     },
     "metadata": {},
     "execution_count": 23
    }
   ],
   "source": [
    "#call the function with the variable `info_list`\n",
    "display_items5(info_list)"
   ]
  },
  {
   "cell_type": "markdown",
   "metadata": {},
   "source": [
    "### Bonus Track\n",
    "\n",
    "In the case of not being able to solve a question containing the code in a function, try to do it without defining one. "
   ]
  },
  {
   "cell_type": "markdown",
   "metadata": {},
   "source": [
    "1. Create a variable called `zone` and give it the value of **None**. Loop through `whichever_list` and update `zone` to **True** if and only if, you have slept more than 7 hours, you like the beach and the sum of the hours you have slept plus the number of The Bridge is less than 24. In any other case, `zone` will be **False**. This function should return the value of `zone` and will be called `zone_function`.\n"
   ]
  },
  {
   "cell_type": "code",
   "execution_count": 31,
   "metadata": {},
   "outputs": [
    {
     "output_type": "execute_result",
     "data": {
      "text/plain": [
       "True"
      ]
     },
     "metadata": {},
     "execution_count": 31
    }
   ],
   "source": [
    "def zone_function(whichever_list):\n",
    "    zone = None\n",
    "    if (whichever_list[2] == True and int(whichever_list[5]) >= 7 and \n",
    "        whichever_list[0] + int(whichever_list[5])< 24):\n",
    "        zone = True\n",
    "    else:\n",
    "        zone = False\n",
    "    return zone\n",
    "\n",
    "zone_function(info_list)"
   ]
  },
  {
   "cell_type": "markdown",
   "metadata": {},
   "source": [
    "2. Define a function called `test_function` that receives only one parameter called `zone_value` and that returns the value of `zone_value` if it is **True**. Once you've defined `test_function` you should call it with the value returned by the `zone_function` as an argument."
   ]
  },
  {
   "cell_type": "code",
   "execution_count": 25,
   "metadata": {},
   "outputs": [
    {
     "output_type": "execute_result",
     "data": {
      "text/plain": [
       "True"
      ]
     },
     "metadata": {},
     "execution_count": 25
    }
   ],
   "source": [
    "def test_function(zone_values):\n",
    "    if zone_values is True:\n",
    "        return zone_values\n",
    "\n",
    "test_function(zone_function(info_list))"
   ]
  },
  {
   "cell_type": "markdown",
   "metadata": {},
   "source": [
    "3. Define a function that asks the user if they like the mountain and, if not, call the `zone_function` function."
   ]
  },
  {
   "cell_type": "code",
   "execution_count": 30,
   "metadata": {},
   "outputs": [
    {
     "output_type": "stream",
     "name": "stdout",
     "text": [
      "None\n"
     ]
    }
   ],
   "source": [
    "def mountain():\n",
    "    user_opinion = input('Do you like the mountain? Yes or No')\n",
    "    if user_opinion is 'No':\n",
    "        zone_function(info_list) \n"
   ]
  },
  {
   "source": [
    "### Bonus Track of the Bonus Track.\n",
    "\n",
    "**This Bonus Track could take you some days, it is very ok, sometimes coding is all about time.**\n",
    "\n",
    "Sooner than later, you'll also learn about `.py` files and you will be able to implement this program into that kind of file. Not yet, tho. "
   ],
   "cell_type": "markdown",
   "metadata": {}
  },
  {
   "cell_type": "markdown",
   "metadata": {},
   "source": [
    "1. Program **a calculator** that asks for two numbers and two operators on the screen. One operation must be performed first and then another. Try to define as many functions as possible."
   ]
  },
  {
   "cell_type": "code",
   "execution_count": 27,
   "metadata": {},
   "outputs": [
    {
     "output_type": "stream",
     "name": "stdout",
     "text": [
      "La operacion multiplicacion entre los numeros 5.0 y 3.0 da: 15.0\nLa operacion coeficiente binomial entre los numeros 5.0 y 3.0 da: 10.0\n"
     ]
    }
   ],
   "source": [
    "def suma(x, y):\n",
    "    return x + y\n",
    "\n",
    "def resta(x, y):\n",
    "    return x - y\n",
    "\n",
    "def multiplicacion(x, y):\n",
    "    return x * y\n",
    "\n",
    "def division(x, y):\n",
    "    return x / y\n",
    "\n",
    "def potencia(x, y):\n",
    "    return x ** y\n",
    "\n",
    "def factorial(x):   # No aparece en el diccionario de funciones porque solo sirve para calcular el coeficiente binomial\n",
    "    if x == 1:\n",
    "        return 1\n",
    "    return x * factorial(x -1)\n",
    "\n",
    "def coeficiente_binomial(x, y):    # Numeros enteros con x > y\n",
    "    return factorial(x)/(factorial(y) * factorial(x - y))\n",
    "\n",
    "\n",
    "funciones = {'suma' : suma, 'resta' : resta, 'multiplicacion' : multiplicacion, 'division' : division,\n",
    "             'potencia' : potencia, 'coeficiente binomial' : coeficiente_binomial}\n",
    "x = float(input('Introduce el primer numero'))\n",
    "y = float(input('Introduce el segundo numero'))\n",
    "operator1 = input('Introduce la primera operacion')\n",
    "operator2 = input('Introduce la segunda operacion')\n",
    "lista_operaciones = [operator1, operator2]\n",
    "for i in lista_operaciones:\n",
    "    if i in funciones.keys():\n",
    "        print(f'La operacion {i} entre los numeros {x} y {y} da: {funciones[i](x, y)}')\n",
    "    else:\n",
    "        print('Operacion no valida')"
   ]
  },
  {
   "cell_type": "markdown",
   "metadata": {},
   "source": [
    "!['ha'](https://i.pinimg.com/originals/c6/4e/fc/c64efc9adaedbf446f328698e8b67388.jpg)"
   ]
  },
  {
   "cell_type": "code",
   "execution_count": null,
   "metadata": {},
   "outputs": [],
   "source": []
  }
 ],
 "metadata": {
  "kernelspec": {
   "display_name": "Python 3",
   "language": "python",
   "name": "python3"
  },
  "language_info": {
   "codemirror_mode": {
    "name": "ipython",
    "version": 3
   },
   "file_extension": ".py",
   "mimetype": "text/x-python",
   "name": "python",
   "nbconvert_exporter": "python",
   "pygments_lexer": "ipython3",
   "version": "3.7.4-final"
  }
 },
 "nbformat": 4,
 "nbformat_minor": 4
}