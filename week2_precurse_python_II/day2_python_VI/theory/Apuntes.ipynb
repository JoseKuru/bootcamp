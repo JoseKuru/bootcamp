{
 "metadata": {
  "language_info": {
   "codemirror_mode": {
    "name": "ipython",
    "version": 3
   },
   "file_extension": ".py",
   "mimetype": "text/x-python",
   "name": "python",
   "nbconvert_exporter": "python",
   "pygments_lexer": "ipython3",
   "version": "3.7.4-final"
  },
  "orig_nbformat": 2,
  "kernelspec": {
   "name": "python374jvsc74a57bd0aee8b7b246df8f9039afb4144a1f6fd8d2ca17a180786b69acc140d282b71a49",
   "display_name": "Python 3.7.4 64-bit"
  },
  "metadata": {
   "interpreter": {
    "hash": "aee8b7b246df8f9039afb4144a1f6fd8d2ca17a180786b69acc140d282b71a49"
   }
  }
 },
 "nbformat": 4,
 "nbformat_minor": 2,
 "cells": [
  {
   "cell_type": "code",
   "execution_count": 33,
   "metadata": {},
   "outputs": [],
   "source": [
    "# Un conjunto no se puede indexar pero si recorrer con un for"
   ]
  },
  {
   "cell_type": "code",
   "execution_count": 34,
   "metadata": {},
   "outputs": [
    {
     "output_type": "execute_result",
     "data": {
      "text/plain": [
       "[44, 48, 27, 75, 84, 68, 16, 45, 4, 34]"
      ]
     },
     "metadata": {},
     "execution_count": 34
    }
   ],
   "source": [
    "import random\n",
    "\n",
    "lista = [random.randint(0,100) for x in range(10)]\n",
    "lista"
   ]
  },
  {
   "cell_type": "code",
   "execution_count": 35,
   "metadata": {},
   "outputs": [],
   "source": [
    "conjunto = set([1, 4, 2, 8, 5, 3, 6, 2, 6, 7, 9 ,12])"
   ]
  },
  {
   "cell_type": "code",
   "execution_count": 36,
   "metadata": {},
   "outputs": [
    {
     "output_type": "stream",
     "name": "stdout",
     "text": [
      "0  -->  1\n1  -->  2\n2  -->  3\n3  -->  4\n4  -->  5\n5  -->  6\n6  -->  7\n7  -->  8\n8  -->  9\n9  -->  12\n"
     ]
    }
   ],
   "source": [
    "for pos, value in enumerate(conjunto):\n",
    "    print(pos, ' --> ', value)"
   ]
  },
  {
   "cell_type": "code",
   "execution_count": 37,
   "metadata": {},
   "outputs": [
    {
     "output_type": "execute_result",
     "data": {
      "text/plain": [
       "'HOLA'"
      ]
     },
     "metadata": {},
     "execution_count": 37
    }
   ],
   "source": [
    "s = 'hola'\n",
    "s.upper()"
   ]
  },
  {
   "cell_type": "code",
   "execution_count": 38,
   "metadata": {},
   "outputs": [
    {
     "output_type": "execute_result",
     "data": {
      "text/plain": [
       "<function str.upper()>"
      ]
     },
     "metadata": {},
     "execution_count": 38
    }
   ],
   "source": [
    "def f_upper(word):\n",
    "    return word.upper\n",
    "\n",
    "s = 'hola'\n",
    "f_upper(s)"
   ]
  },
  {
   "cell_type": "code",
   "execution_count": 43,
   "metadata": {},
   "outputs": [
    {
     "output_type": "execute_result",
     "data": {
      "text/plain": [
       "[4096,\n",
       " 32768,\n",
       " 262144,\n",
       " 2097152,\n",
       " 16777216,\n",
       " 134217728,\n",
       " 1073741824,\n",
       " 8589934592,\n",
       " 68719476736,\n",
       " 549755813888]"
      ]
     },
     "metadata": {},
     "execution_count": 43
    }
   ],
   "source": [
    "n = 46288\n",
    "p = 0\n",
    "posible = [x for x in range(1, 2345) if n % x == 0]\n",
    "possibe_sums = []\n",
    "n = [int(x) for x in str(n)]\n",
    "for p in range(10):\n",
    "    suma = 0\n",
    "    for value in n:\n",
    "            suma = value ** p\n",
    "            p += 1\n",
    "    possibe_sums.append(suma)  \n",
    "possibe_sums\n",
    "for poss in possibe_sums:\n",
    "    for poss2 in posible:\n",
    "        if poss > poss2 and poss % n == 0:\n",
    "            return poss\n",
    "return -1"
   ]
  },
  {
   "cell_type": "code",
   "execution_count": null,
   "metadata": {},
   "outputs": [],
   "source": []
  }
 ]
}