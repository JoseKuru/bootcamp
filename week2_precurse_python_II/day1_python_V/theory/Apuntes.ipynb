{
 "metadata": {
  "language_info": {
   "codemirror_mode": {
    "name": "ipython",
    "version": 3
   },
   "file_extension": ".py",
   "mimetype": "text/x-python",
   "name": "python",
   "nbconvert_exporter": "python",
   "pygments_lexer": "ipython3",
   "version": "3.7.4-final"
  },
  "orig_nbformat": 2,
  "kernelspec": {
   "name": "python374jvsc74a57bd0aee8b7b246df8f9039afb4144a1f6fd8d2ca17a180786b69acc140d282b71a49",
   "display_name": "Python 3.7.4 64-bit"
  },
  "metadata": {
   "interpreter": {
    "hash": "aee8b7b246df8f9039afb4144a1f6fd8d2ca17a180786b69acc140d282b71a49"
   }
  }
 },
 "nbformat": 4,
 "nbformat_minor": 2,
 "cells": [
  {
   "source": [
    "# Apuntes"
   ],
   "cell_type": "markdown",
   "metadata": {}
  },
  {
   "cell_type": "code",
   "execution_count": 7,
   "metadata": {},
   "outputs": [
    {
     "output_type": "stream",
     "name": "stdout",
     "text": [
      "2 6\n(2, 6, 10) <class 'tuple'>\n"
     ]
    }
   ],
   "source": [
    "x = 2\n",
    "x, y = 2, 6\n",
    "print(x, y)\n",
    "t = 2, 6, 10 # -------------> Python utilizara la tupla como coleccion por defecto\n",
    "print(t, type(t))"
   ]
  },
  {
   "cell_type": "code",
   "execution_count": 13,
   "metadata": {},
   "outputs": [
    {
     "output_type": "stream",
     "name": "stdout",
     "text": [
      "Yo retorno\n(2, 4, 7) <class 'tuple'>\n"
     ]
    }
   ],
   "source": [
    "def retorna_varios():\n",
    "    print('Yo retorno')\n",
    "    return 2, 4, 7    # Devolvera un tupla si no se especifica otra cosa\n",
    "\n",
    "x = retorna_varios()\n",
    "print(x ,type(x))"
   ]
  },
  {
   "cell_type": "code",
   "execution_count": 14,
   "metadata": {},
   "outputs": [
    {
     "output_type": "stream",
     "name": "stdout",
     "text": [
      "<class 'tuple'>\n(0, 'x')\n<class 'tuple'>\n(1, 'y')\n<class 'tuple'>\n(2, 'z')\n"
     ]
    }
   ],
   "source": [
    "lista = ['x', 'y', 'z']\n",
    "for t in enumerate(lista): # enumarate devuelve dos valores, si se obliga a guardarse en una variable sera una tupla\n",
    "    print(type(t))\n",
    "    print(t)"
   ]
  },
  {
   "source": [
    "# Diccionarios --> Coleccion"
   ],
   "cell_type": "markdown",
   "metadata": {}
  },
  {
   "cell_type": "code",
   "execution_count": 18,
   "metadata": {},
   "outputs": [
    {
     "output_type": "execute_result",
     "data": {
      "text/plain": [
       "dict"
      ]
     },
     "metadata": {},
     "execution_count": 18
    }
   ],
   "source": [
    "diccionario = {} # -- Diccionario\n",
    "type(diccionario)"
   ]
  },
  {
   "cell_type": "code",
   "execution_count": 25,
   "metadata": {},
   "outputs": [
    {
     "output_type": "execute_result",
     "data": {
      "text/plain": [
       "999"
      ]
     },
     "metadata": {},
     "execution_count": 25
    }
   ],
   "source": [
    "diccionario = {'key_string': 'valor', 0: 'valor', 0: 'key', 'key':999, 2: 1000} # No se pueden tener dos claves iguales\n",
    "diccionario['key']"
   ]
  },
  {
   "cell_type": "code",
   "execution_count": 26,
   "metadata": {},
   "outputs": [
    {
     "output_type": "execute_result",
     "data": {
      "text/plain": [
       "['key_string', 0, 'key', 2]"
      ]
     },
     "metadata": {},
     "execution_count": 26
    }
   ],
   "source": [
    "diccionario\n",
    "list(diccionario.keys()) # --> Lista de todas las keys"
   ]
  },
  {
   "cell_type": "code",
   "execution_count": 27,
   "metadata": {},
   "outputs": [
    {
     "output_type": "execute_result",
     "data": {
      "text/plain": [
       "['valor', 'key', 999, 1000]"
      ]
     },
     "metadata": {},
     "execution_count": 27
    }
   ],
   "source": [
    "list(diccionario.values())"
   ]
  },
  {
   "cell_type": "code",
   "execution_count": 28,
   "metadata": {},
   "outputs": [
    {
     "output_type": "stream",
     "name": "stdout",
     "text": [
      "999\n1000\n"
     ]
    }
   ],
   "source": [
    "for value in diccionario.values():\n",
    "    if isinstance(value, int) and value > 0:\n",
    "        print(value)\n"
   ]
  },
  {
   "cell_type": "code",
   "execution_count": 30,
   "metadata": {},
   "outputs": [
    {
     "output_type": "stream",
     "name": "stdout",
     "text": [
      "key_string valor\nkey 999\n"
     ]
    }
   ],
   "source": [
    "for key in diccionario.keys():\n",
    "    if isinstance(key, str):\n",
    "        print(key, diccionario[key])"
   ]
  },
  {
   "cell_type": "code",
   "execution_count": 38,
   "metadata": {},
   "outputs": [
    {
     "output_type": "stream",
     "name": "stdout",
     "text": [
      "Key:key_string Value:valor\nKey:0 Value:key\nKey:key Value:999\nKey:2 Value:1000\n"
     ]
    }
   ],
   "source": [
    "for key, value in diccionario.items(): # items es como enumerate, nos da key y value\n",
    "    print('Key:', key, ' Value:', value, sep='')"
   ]
  },
  {
   "cell_type": "code",
   "execution_count": 39,
   "metadata": {},
   "outputs": [],
   "source": [
    "diccio = {}\n",
    "# añadir clave-valor\n",
    "diccio['nombre_de_la_clave'] = 'valor_de_esa_clave'"
   ]
  },
  {
   "cell_type": "code",
   "execution_count": 40,
   "metadata": {},
   "outputs": [
    {
     "output_type": "execute_result",
     "data": {
      "text/plain": [
       "{'nombre_de_la_clave': 'valor_de_esa_clave'}"
      ]
     },
     "metadata": {},
     "execution_count": 40
    }
   ],
   "source": [
    "diccio"
   ]
  },
  {
   "cell_type": "code",
   "execution_count": 41,
   "metadata": {},
   "outputs": [
    {
     "output_type": "execute_result",
     "data": {
      "text/plain": [
       "{}"
      ]
     },
     "metadata": {},
     "execution_count": 41
    }
   ],
   "source": [
    "#eliminar clave:valor ----> a partir de la clave\n",
    "del diccio['nombre_de_la_clave']\n",
    "diccio"
   ]
  },
  {
   "cell_type": "code",
   "execution_count": 42,
   "metadata": {},
   "outputs": [],
   "source": [
    "#Crear un diccionario a partir de dos listas, lista a tiene las claves y lista b tiene las laves asociadas\n",
    "\n",
    "a = ['x', 'y', 'z']\n",
    "b = [0, 10, 20]\n",
    "diccionario = {}\n",
    "for i in range(len(a)):    #Mejor que con un contador\n",
    "    diccionario[a[i]] = b[i]"
   ]
  },
  {
   "cell_type": "code",
   "execution_count": 43,
   "metadata": {},
   "outputs": [
    {
     "output_type": "execute_result",
     "data": {
      "text/plain": [
       "{'x': 0, 'y': 10, 'z': 20}"
      ]
     },
     "metadata": {},
     "execution_count": 43
    }
   ],
   "source": [
    "diccionario"
   ]
  },
  {
   "cell_type": "code",
   "execution_count": 46,
   "metadata": {},
   "outputs": [
    {
     "output_type": "stream",
     "name": "stdout",
     "text": [
      "{49078469: ['Jose Carlos', 28, 1.7], 3248290348: ['Lucia', 61, 1.8]}\n{49078469: ['Jose Carlos', 20, 1.69], 3248290348: ['Lucia', 61, 1.8]}\n"
     ]
    }
   ],
   "source": [
    "dni = {49078469: ['Jose Carlos', 28, 1.70]}\n",
    "dni[3248290348] = ['Lucia', 61, 1.8]\n",
    "print(dni)\n",
    "dni[49078469] = ['Jose Carlos', 20, 1.69]\n",
    "print(dni)"
   ]
  },
  {
   "cell_type": "code",
   "execution_count": 47,
   "metadata": {},
   "outputs": [],
   "source": [
    "# tipo de datos permitidos como clave = string, integer, float, tupla ----> Algo Inmutable\n",
    "\n",
    "diccionario[('00001000L'), 0] = {1: ('H', 'Z')}"
   ]
  },
  {
   "cell_type": "code",
   "execution_count": 48,
   "metadata": {},
   "outputs": [
    {
     "output_type": "execute_result",
     "data": {
      "text/plain": [
       "{'x': 0, 'y': 10, 'z': 20, ('00001000L', 0): {1: ('H', 'Z')}}"
      ]
     },
     "metadata": {},
     "execution_count": 48
    }
   ],
   "source": [
    "diccionario"
   ]
  },
  {
   "cell_type": "code",
   "execution_count": 51,
   "metadata": {},
   "outputs": [
    {
     "output_type": "execute_result",
     "data": {
      "text/plain": [
       "'Z'"
      ]
     },
     "metadata": {},
     "execution_count": 51
    }
   ],
   "source": [
    "diccionario[('00001000L', 0)][1][1]"
   ]
  },
  {
   "cell_type": "code",
   "execution_count": 52,
   "metadata": {},
   "outputs": [
    {
     "output_type": "execute_result",
     "data": {
      "text/plain": [
       "{'x': 0, 'y': 10, 'z': 20}"
      ]
     },
     "metadata": {},
     "execution_count": 52
    }
   ],
   "source": [
    "del diccionario[('00001000L', 0)]\n",
    "diccionario"
   ]
  },
  {
   "source": [
    "### While"
   ],
   "cell_type": "markdown",
   "metadata": {}
  },
  {
   "cell_type": "code",
   "execution_count": 54,
   "metadata": {},
   "outputs": [
    {
     "output_type": "stream",
     "name": "stdout",
     "text": [
      "G\nG\nG\nG\nG\nG\nG\nG\nG\nG\nG\nG\nG\nG\nG\nG\nG\nG\nG\nG\n"
     ]
    }
   ],
   "source": [
    "for i in range(20):\n",
    "    print('G')  # Esta linea se repite 20 veces"
   ]
  },
  {
   "cell_type": "code",
   "execution_count": 57,
   "metadata": {},
   "outputs": [
    {
     "output_type": "stream",
     "name": "stdout",
     "text": [
      "1\n"
     ]
    }
   ],
   "source": [
    "while True: # Mientras la conducion sea True, lo de abajo siempre se ejecuta\n",
    "    print(1)\n",
    "    break\n"
   ]
  },
  {
   "cell_type": "code",
   "execution_count": 58,
   "metadata": {},
   "outputs": [
    {
     "output_type": "stream",
     "name": "stdout",
     "text": [
      "0\n1\n2\n3\n4\n"
     ]
    }
   ],
   "source": [
    "contador = 0\n",
    "while contador < 5:\n",
    "    print(contador)\n",
    "    contador += 1"
   ]
  },
  {
   "cell_type": "code",
   "execution_count": 61,
   "metadata": {},
   "outputs": [
    {
     "output_type": "stream",
     "name": "stdout",
     "text": [
      "0\n1\n2\n3\n4\n"
     ]
    },
    {
     "output_type": "error",
     "ename": "KeyboardInterrupt",
     "evalue": "",
     "traceback": [
      "\u001b[0;31m---------------------------------------------------------------------------\u001b[0m",
      "\u001b[0;31mKeyboardInterrupt\u001b[0m                         Traceback (most recent call last)",
      "\u001b[0;32m<ipython-input-61-ae4a6bdd1a04>\u001b[0m in \u001b[0;36m<module>\u001b[0;34m\u001b[0m\n\u001b[1;32m      1\u001b[0m \u001b[0mrango\u001b[0m \u001b[0;34m=\u001b[0m \u001b[0;34m[\u001b[0m\u001b[0;36m0\u001b[0m\u001b[0;34m,\u001b[0m \u001b[0;36m1\u001b[0m\u001b[0;34m,\u001b[0m \u001b[0;36m2\u001b[0m\u001b[0;34m,\u001b[0m \u001b[0;36m3\u001b[0m\u001b[0;34m,\u001b[0m \u001b[0;36m4\u001b[0m\u001b[0;34m]\u001b[0m\u001b[0;34m\u001b[0m\u001b[0;34m\u001b[0m\u001b[0m\n\u001b[0;32m----> 2\u001b[0;31m \u001b[0;32mfor\u001b[0m \u001b[0mi\u001b[0m \u001b[0;32min\u001b[0m \u001b[0mrange\u001b[0m\u001b[0;34m(\u001b[0m\u001b[0;36m1000000000\u001b[0m\u001b[0;34m)\u001b[0m\u001b[0;34m:\u001b[0m\u001b[0;34m\u001b[0m\u001b[0;34m\u001b[0m\u001b[0m\n\u001b[0m\u001b[1;32m      3\u001b[0m     \u001b[0;32mif\u001b[0m \u001b[0mi\u001b[0m \u001b[0;34m<\u001b[0m \u001b[0;36m5\u001b[0m\u001b[0;34m:\u001b[0m\u001b[0;34m\u001b[0m\u001b[0;34m\u001b[0m\u001b[0m\n\u001b[1;32m      4\u001b[0m         \u001b[0mprint\u001b[0m\u001b[0;34m(\u001b[0m\u001b[0mi\u001b[0m\u001b[0;34m)\u001b[0m\u001b[0;34m\u001b[0m\u001b[0;34m\u001b[0m\u001b[0m\n",
      "\u001b[0;31mKeyboardInterrupt\u001b[0m: "
     ]
    }
   ],
   "source": [
    "rango = [0, 1, 2, 3, 4]\n",
    "for i in range(1000000000):\n",
    "    if i < 5:\n",
    "        print(i)\n"
   ]
  },
  {
   "cell_type": "code",
   "execution_count": 66,
   "metadata": {
    "tags": []
   },
   "outputs": [
    {
     "output_type": "stream",
     "name": "stdout",
     "text": [
      "x\ny\nz\nh\nw\n4444\n"
     ]
    }
   ],
   "source": [
    "a = ['x', 'y', 'z', 'h', 'w', '4444']\n",
    "\n",
    "contador = 0\n",
    "while True:\n",
    "    try:\n",
    "        print(a[contador])\n",
    "        contador += 1\n",
    "    except IndexError:\n",
    "        break\n"
   ]
  },
  {
   "cell_type": "code",
   "execution_count": 68,
   "metadata": {},
   "outputs": [
    {
     "output_type": "stream",
     "name": "stdout",
     "text": [
      "x\nz\nw\n"
     ]
    }
   ],
   "source": [
    "a\n",
    "\n",
    "contador = 0\n",
    "while contador < len(a):\n",
    "    print(a[contador])\n",
    "    contador += 2"
   ]
  },
  {
   "cell_type": "code",
   "execution_count": 75,
   "metadata": {},
   "outputs": [
    {
     "output_type": "stream",
     "name": "stdout",
     "text": [
      "acumulador: 0\n",
      "acumulador: 1\n",
      "acumulador: 2\n"
     ]
    }
   ],
   "source": [
    "import time\n",
    "\n",
    "acumulador = 0\n",
    "while acumulador < 3 :\n",
    "    print('acumulador:', acumulador)\n",
    "    time.sleep(1)\n",
    "    acumulador += 1\n",
    "\n"
   ]
  },
  {
   "cell_type": "code",
   "execution_count": 80,
   "metadata": {},
   "outputs": [
    {
     "output_type": "stream",
     "name": "stdout",
     "text": [
      "6\n",
      "7\n",
      "6\n",
      "7\n",
      "6\n",
      "7\n",
      "6\n",
      "7\n",
      "6\n",
      "4\n",
      "4\n",
      "6\n",
      "36\n"
     ]
    }
   ],
   "source": [
    "def suma(x):\n",
    "    print(x+3)\n",
    "\n",
    "while True:\n",
    "    x = input('Escribe')\n",
    "    if x == 'STOP':\n",
    "        break\n",
    "    suma(int(x))"
   ]
  },
  {
   "cell_type": "code",
   "execution_count": null,
   "metadata": {},
   "outputs": [],
   "source": [
    "# Juego del ahorcado"
   ]
  },
  {
   "source": [
    "## Continue or break"
   ],
   "cell_type": "markdown",
   "metadata": {}
  },
  {
   "cell_type": "code",
   "execution_count": 83,
   "metadata": {},
   "outputs": [],
   "source": [
    "l = [x for x in range(11)]"
   ]
  },
  {
   "cell_type": "code",
   "execution_count": 95,
   "metadata": {},
   "outputs": [
    {
     "output_type": "execute_result",
     "data": {
      "text/plain": [
       "[10, 9, 8, 7, 6, 5, 4, 3, 2, 1, 0]"
      ]
     },
     "metadata": {},
     "execution_count": 95
    }
   ],
   "source": [
    "l[::-1]"
   ]
  },
  {
   "cell_type": "code",
   "execution_count": null,
   "metadata": {},
   "outputs": [],
   "source": []
  }
 ]
}