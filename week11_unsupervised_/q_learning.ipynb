{
 "cells": [
  {
   "cell_type": "code",
   "execution_count": 22,
   "metadata": {},
   "outputs": [],
   "source": [
    "import numpy as np\n",
    "from nes_py.wrappers import JoypadSpace\n",
    "import gym_super_mario_bros\n",
    "from gym_super_mario_bros.actions import COMPLEX_MOVEMENT\n",
    "import time\n",
    "import tensorflow as tf\n",
    "from tensorflow import keras\n",
    "import matplotlib.pyplot as plt\n",
    "from collections import deque\n"
   ]
  },
  {
   "cell_type": "code",
   "execution_count": 2,
   "metadata": {},
   "outputs": [],
   "source": [
    "env = gym_super_mario_bros.make('SuperMarioBros-1-1-v0')\n",
    "env = JoypadSpace(env, COMPLEX_MOVEMENT)"
   ]
  },
  {
   "cell_type": "markdown",
   "metadata": {},
   "source": [
    "Vamos a ver los estados y las acciones que se pueden realizar"
   ]
  },
  {
   "cell_type": "code",
   "execution_count": 3,
   "metadata": {},
   "outputs": [
    {
     "data": {
      "text/plain": "Box(0, 255, (240, 256, 3), uint8)"
     },
     "execution_count": 3,
     "metadata": {},
     "output_type": "execute_result"
    }
   ],
   "source": [
    "env.observation_space\n",
    "# Tenemos imagenes RGB de 240x256 pixeles"
   ]
  },
  {
   "cell_type": "code",
   "execution_count": 4,
   "metadata": {},
   "outputs": [
    {
     "data": {
      "text/plain": "12"
     },
     "execution_count": 4,
     "metadata": {},
     "output_type": "execute_result"
    }
   ],
   "source": [
    "env.action_space.n"
   ]
  },
  {
   "cell_type": "markdown",
   "metadata": {},
   "source": [
    "<img src=\"combinaciones.png\"/>"
   ]
  },
  {
   "cell_type": "markdown",
   "metadata": {},
   "source": [
    "Las 12 acciones corresponden a la siguiente combinación de botones:\n",
    "\n",
    "- ['NOOP']\n",
    "- ['right']\n",
    "- ['right', 'A']\n",
    "- ['right', 'B']\n",
    "- ['right', 'A', 'B']\n",
    "- ['A']\n",
    "- ['left']\n",
    "- ['left', 'A']\n",
    "- ['left', 'B']\n",
    "- ['left', 'A', 'B']\n",
    "- ['down']\n",
    "- ['up']"
   ]
  },
  {
   "cell_type": "markdown",
   "metadata": {},
   "source": [
    "Vemos los siguientes atributos"
   ]
  },
  {
   "cell_type": "code",
   "execution_count": 5,
   "metadata": {},
   "outputs": [
    {
     "name": "stdout",
     "output_type": "stream",
     "text": [
      "Estado: (240, 256, 3), Recompensa: 0, Done: False\n",
      "Estado: (240, 256, 3), Recompensa: 0, Done: False\n",
      "Estado: (240, 256, 3), Recompensa: 0, Done: False\n",
      "Estado: (240, 256, 3), Recompensa: 0, Done: False\n",
      "Estado: (240, 256, 3), Recompensa: 1, Done: False\n",
      "Estado: (240, 256, 3), Recompensa: 0, Done: False\n",
      "Estado: (240, 256, 3), Recompensa: 0, Done: False\n",
      "Estado: (240, 256, 3), Recompensa: 0, Done: False\n",
      "Estado: (240, 256, 3), Recompensa: 1, Done: False\n",
      "Estado: (240, 256, 3), Recompensa: 0, Done: False\n",
      "Estado: (240, 256, 3), Recompensa: 0, Done: False\n",
      "Estado: (240, 256, 3), Recompensa: 1, Done: False\n",
      "Estado: (240, 256, 3), Recompensa: 0, Done: False\n",
      "Estado: (240, 256, 3), Recompensa: 0, Done: False\n",
      "Estado: (240, 256, 3), Recompensa: 1, Done: False\n",
      "Estado: (240, 256, 3), Recompensa: 0, Done: False\n",
      "Estado: (240, 256, 3), Recompensa: 0, Done: False\n",
      "Estado: (240, 256, 3), Recompensa: 1, Done: False\n",
      "Estado: (240, 256, 3), Recompensa: -1, Done: False\n",
      "Estado: (240, 256, 3), Recompensa: 0, Done: False\n",
      "Estado: (240, 256, 3), Recompensa: 1, Done: False\n",
      "Estado: (240, 256, 3), Recompensa: 0, Done: False\n",
      "Estado: (240, 256, 3), Recompensa: 1, Done: False\n",
      "Estado: (240, 256, 3), Recompensa: 0, Done: False\n",
      "Estado: (240, 256, 3), Recompensa: 1, Done: False\n",
      "Estado: (240, 256, 3), Recompensa: 0, Done: False\n",
      "Estado: (240, 256, 3), Recompensa: 1, Done: False\n",
      "Estado: (240, 256, 3), Recompensa: 0, Done: False\n",
      "Estado: (240, 256, 3), Recompensa: 0, Done: False\n",
      "Estado: (240, 256, 3), Recompensa: 1, Done: False\n",
      "Estado: (240, 256, 3), Recompensa: 0, Done: False\n",
      "Estado: (240, 256, 3), Recompensa: 1, Done: False\n",
      "Estado: (240, 256, 3), Recompensa: 0, Done: False\n",
      "Estado: (240, 256, 3), Recompensa: 0, Done: False\n",
      "Estado: (240, 256, 3), Recompensa: 1, Done: False\n",
      "Estado: (240, 256, 3), Recompensa: 0, Done: False\n",
      "Estado: (240, 256, 3), Recompensa: 0, Done: False\n",
      "Estado: (240, 256, 3), Recompensa: 1, Done: False\n",
      "Estado: (240, 256, 3), Recompensa: -1, Done: False\n",
      "Estado: (240, 256, 3), Recompensa: 1, Done: False\n",
      "Estado: (240, 256, 3), Recompensa: 0, Done: False\n",
      "Estado: (240, 256, 3), Recompensa: 1, Done: False\n",
      "Estado: (240, 256, 3), Recompensa: 0, Done: False\n",
      "Estado: (240, 256, 3), Recompensa: 0, Done: False\n",
      "Estado: (240, 256, 3), Recompensa: 0, Done: False\n"
     ]
    },
    {
     "data": {
      "image/png": "[encoded data removed]",
      "text/plain": "<Figure size 1440x360 with 5 Axes>"
     },
     "metadata": {
      "needs_background": "light"
     },
     "output_type": "display_data"
    }
   ],
   "source": [
    "fig, ax = plt.subplots(ncols=5, figsize=(20, 5))\n",
    "\n",
    "env.reset()\n",
    "\n",
    "done = False\n",
    "for i in range(50):\n",
    "    if i % 10:\n",
    "        state, reward, done, _ = env.step(env.action_space.sample()) # Ejecuta una acción aleatoria\n",
    "        print(f'Estado: {state.shape}, Recompensa: {reward}, Done: {done}')\n",
    "        ax[i//10].imshow(state)"
   ]
  },
  {
   "cell_type": "code",
   "execution_count": 6,
   "metadata": {},
   "outputs": [
    {
     "name": "stdout",
     "output_type": "stream",
     "text": [
      "Episode: 1 -> Score: -25\n",
      "Episode: 2 -> Score: -66\n",
      "Episode: 3 -> Score: -113\n",
      "Episode: 4 -> Score: -30\n",
      "Episode: 5 -> Score: 83\n"
     ]
    }
   ],
   "source": [
    "import random\n",
    "episodes = 5\n",
    "\n",
    "for i in range(episodes):\n",
    "    env.reset()\n",
    "    done = False\n",
    "    score = 0\n",
    "    while not done:\n",
    "        action = random.choice(np.arange(0, 12))\n",
    "        state, reward, done, _ = env.step(action)\n",
    "        score += reward\n",
    "    print(f'Episode: {i + 1} -> Score: {score}')\n"
   ]
  },
  {
   "cell_type": "code",
   "execution_count": 13,
   "metadata": {},
   "outputs": [],
   "source": [
    "#Deepmind\n",
    "\n",
    "def deepmind_model(input_shape, output_size):\n",
    "\n",
    "    model = keras.Sequential()\n",
    "    \n",
    "    model.add(keras.layers.Conv2D(32, 8, strides=4, activation=\"relu\", input_shape=input_shape))\n",
    "    model.add(keras.layers.Conv2D(32, 8, strides=4, activation=\"relu\"))\n",
    "    model.add(keras.layers.Conv2D(64, 4, strides=2, activation=\"relu\"))\n",
    "    model.add(keras.layers.Conv2D(64, 3, strides=1, activation=\"relu\"))\n",
    "    model.add(keras.layers.Flatten())\n",
    "    model.add(keras.layers.Dense(512, activation=\"relu\"))\n",
    "    model.add(keras.layers.Dense(output_size, activation=\"linear\"))\n",
    "\n",
    "    model.compile(\n",
    "        optimizer=keras.optimizers.Adam(),\n",
    "        loss= keras.losses.MeanSquaredError()\n",
    "    )\n",
    "\n",
    "    return model"
   ]
  },
  {
   "cell_type": "code",
   "execution_count": 9,
   "metadata": {},
   "outputs": [],
   "source": [
    "def epsilon_greedy(epsilon):\n",
    "    '''Exploración vs predicción'''\n",
    "    random = np.random.uniform(0, 1, size=1)\n",
    "    if (1 - epsilon) > random:\n",
    "        action = model.predict(state)\n",
    "    else:\n",
    "        action = env.action_space.sample()\n",
    "    \n",
    "    epsilon *= 0.99\n",
    "\n",
    "    return action, epsilon"
   ]
  },
  {
   "cell_type": "code",
   "execution_count": 16,
   "metadata": {},
   "outputs": [
    {
     "data": {
      "text/plain": "(240, 256, 3)"
     },
     "execution_count": 16,
     "metadata": {},
     "output_type": "execute_result"
    }
   ],
   "source": [
    "env.observation_space.shape"
   ]
  },
  {
   "cell_type": "code",
   "execution_count": 17,
   "metadata": {},
   "outputs": [
    {
     "data": {
      "text/plain": "(240, 256, 3)"
     },
     "execution_count": 17,
     "metadata": {},
     "output_type": "execute_result"
    }
   ],
   "source": [
    "state.shape"
   ]
  },
  {
   "cell_type": "code",
   "execution_count": 19,
   "metadata": {},
   "outputs": [],
   "source": [
    "model_train = deepmind_model(input_shape=env.observation_space.shape, output_size=env.action_space.n)\n",
    "model_target = deepmind_model(input_shape=env.observation_space.shape, output_size=env.action_space.n)"
   ]
  },
  {
   "cell_type": "code",
   "execution_count": 24,
   "metadata": {},
   "outputs": [],
   "source": [
    "memory = deque(maxlen=64)"
   ]
  }
 ],
 "metadata": {
  "kernelspec": {
   "display_name": "Python 3.7.4 64-bit",
   "name": "python374jvsc74a57bd0aee8b7b246df8f9039afb4144a1f6fd8d2ca17a180786b69acc140d282b71a49"
  },
  "language_info": {
   "codemirror_mode": {
    "name": "ipython",
    "version": 3
   },
   "file_extension": ".py",
   "mimetype": "text/x-python",
   "name": "python",
   "nbconvert_exporter": "python",
   "pygments_lexer": "ipython3",
   "version": "3.7.4"
  },
  "metadata": {
   "interpreter": {
    "hash": "aee8b7b246df8f9039afb4144a1f6fd8d2ca17a180786b69acc140d282b71a49"
   }
  },
  "orig_nbformat": 2
 },
 "nbformat": 4,
 "nbformat_minor": 2
}