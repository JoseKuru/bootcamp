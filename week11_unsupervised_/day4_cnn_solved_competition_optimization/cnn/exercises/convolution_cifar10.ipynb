{
 "cells": [
  {
   "cell_type": "markdown",
   "metadata": {},
   "source": [
    "### 1.\n",
    "\n",
    "A partir del dataset mnist (tf.keras.datasets.cifar10.load_data()), realiza una clasificación usando:\n",
    "\n",
    "** Las imágenes son a color, es decir, tienen 3 dimensiones (rgb). Para este problema, antes de empezar, transforma las imágenes a blanco y negro para que tengan 1 sola dimensión de profundidad **. \n",
    "\n",
    "1. Una CNN con:\n",
    "    - 1 capa convolutiva con 8 neuronas\n",
    "    - 1 MaxPool quedando las dimensiones de la imagen a la mitad\n",
    "    - 1 dropout 0.25\n",
    "    - 1 Flatten\n",
    "    - 1 dense con 32 neuronas\n",
    "    - 1 dense con 10 (salida)\n",
    "\n",
    "2. Una CNN con:\n",
    "    - 1 capa convolutiva con 8 neuronas\n",
    "    - 1 MaxPool quedando las dimensiones de la imagen a la mitad\n",
    "    - 1 dropout 0.25\n",
    "    - 1 Flatten\n",
    "    - 1 dense con 16 neuronas\n",
    "    - 1 dense con 32 neuronas\n",
    "    - 1 dense con 10 (salida)\n",
    "\n",
    "¿ Cuál ha dado mejor resultado?\n",
    "\n",
    "Para compilar el modelo, usa:"
   ]
  },
  {
   "cell_type": "code",
   "execution_count": 55,
   "metadata": {},
   "outputs": [],
   "source": [
    "import numpy as np\n",
    "import matplotlib.pyplot as plt\n",
    "import tensorflow as tf\n",
    "from tensorflow import keras\n",
    "from keras.datasets.cifar10 import load_data"
   ]
  },
  {
   "cell_type": "markdown",
   "metadata": {},
   "source": [
    "Probamos pasando las imágenes a blanco y negro"
   ]
  },
  {
   "cell_type": "code",
   "execution_count": 51,
   "metadata": {},
   "outputs": [],
   "source": [
    "(x_train, y_train), (x_test, y_test) = load_data()"
   ]
  },
  {
   "cell_type": "code",
   "execution_count": 8,
   "metadata": {},
   "outputs": [
    {
     "data": {
      "text/plain": "(50000, 32, 32, 3)"
     },
     "execution_count": 8,
     "metadata": {},
     "output_type": "execute_result"
    }
   ],
   "source": [
    "x_train.shape"
   ]
  },
  {
   "cell_type": "code",
   "execution_count": 52,
   "metadata": {},
   "outputs": [],
   "source": [
    "x_train = tf.image.rgb_to_grayscale(x_train)\n",
    "x_test = tf.image.rgb_to_grayscale(x_test)\n",
    "# Pasamos a imágenes en blanco y negro"
   ]
  },
  {
   "cell_type": "code",
   "execution_count": 12,
   "metadata": {},
   "outputs": [
    {
     "data": {
      "text/plain": "TensorShape([50000, 32, 32, 1])"
     },
     "execution_count": 12,
     "metadata": {},
     "output_type": "execute_result"
    }
   ],
   "source": [
    "x_train.shape"
   ]
  },
  {
   "cell_type": "code",
   "execution_count": 59,
   "metadata": {},
   "outputs": [],
   "source": [
    "def build_model(input_shape):\n",
    "\n",
    "    model = keras.Sequential()\n",
    "    model.add(keras.layers.Conv2D(8, kernel_size=(3, 3), padding='same', input_shape=input_shape))\n",
    "    model.add(keras.layers.MaxPool2D(pool_size=(2, 2)))\n",
    "    model.add(keras.layers.Dropout(0.25))\n",
    "    model.add(keras.layers.Flatten())\n",
    "    model.add(keras.layers.Dense(32, activation='ReLU'))\n",
    "    model.add(keras.layers.Dense(10, activation='softmax'))\n",
    "\n",
    "    model.compile(optimizer='adam',\n",
    "        loss='sparse_categorical_crossentropy',\n",
    "        metrics=['accuracy'])\n",
    "\n",
    "    return model"
   ]
  },
  {
   "cell_type": "code",
   "execution_count": 27,
   "metadata": {},
   "outputs": [],
   "source": [
    "model = build_model(input_shape=(32, 32, 1))"
   ]
  },
  {
   "cell_type": "code",
   "execution_count": 28,
   "metadata": {},
   "outputs": [
    {
     "name": "stdout",
     "output_type": "stream",
     "text": [
      "Model: \"sequential_7\"\n",
      "_________________________________________________________________\n",
      "Layer (type)                 Output Shape              Param #   \n",
      "=================================================================\n",
      "conv2d_5 (Conv2D)            (None, 32, 32, 8)         80        \n",
      "_________________________________________________________________\n",
      "max_pooling2d_5 (MaxPooling2 (None, 16, 16, 8)         0         \n",
      "_________________________________________________________________\n",
      "dropout_3 (Dropout)          (None, 16, 16, 8)         0         \n",
      "_________________________________________________________________\n",
      "flatten_3 (Flatten)          (None, 2048)              0         \n",
      "_________________________________________________________________\n",
      "dense_5 (Dense)              (None, 32)                65568     \n",
      "_________________________________________________________________\n",
      "dense_6 (Dense)              (None, 10)                330       \n",
      "=================================================================\n",
      "Total params: 65,978\n",
      "Trainable params: 65,978\n",
      "Non-trainable params: 0\n",
      "_________________________________________________________________\n"
     ]
    }
   ],
   "source": [
    "model.summary()"
   ]
  },
  {
   "cell_type": "code",
   "execution_count": 35,
   "metadata": {},
   "outputs": [],
   "source": [
    "early_stop = keras.callbacks.EarlyStopping('val_accuracy', patience=5)"
   ]
  },
  {
   "cell_type": "code",
   "execution_count": 36,
   "metadata": {},
   "outputs": [
    {
     "name": "stdout",
     "output_type": "stream",
     "text": [
      "Epoch 1/100\n",
      "625/625 [==============================] - 9s 14ms/step - loss: 2.3027 - accuracy: 0.0997 - val_loss: 2.3027 - val_accuracy: 0.0952\n",
      "Epoch 2/100\n",
      "625/625 [==============================] - 9s 14ms/step - loss: 2.3027 - accuracy: 0.0993 - val_loss: 2.3028 - val_accuracy: 0.0952\n",
      "Epoch 3/100\n",
      "625/625 [==============================] - 9s 14ms/step - loss: 2.3027 - accuracy: 0.0976 - val_loss: 2.3028 - val_accuracy: 0.0952\n",
      "Epoch 4/100\n",
      "625/625 [==============================] - 9s 14ms/step - loss: 2.3027 - accuracy: 0.0997 - val_loss: 2.3028 - val_accuracy: 0.1003\n",
      "Epoch 5/100\n",
      "625/625 [==============================] - 9s 14ms/step - loss: 2.3027 - accuracy: 0.0985 - val_loss: 2.3027 - val_accuracy: 0.0952\n",
      "Epoch 6/100\n",
      "625/625 [==============================] - 9s 14ms/step - loss: 2.3027 - accuracy: 0.0997 - val_loss: 2.3028 - val_accuracy: 0.0952\n",
      "Epoch 7/100\n",
      "625/625 [==============================] - 9s 14ms/step - loss: 2.3027 - accuracy: 0.0996 - val_loss: 2.3027 - val_accuracy: 0.1022\n",
      "Epoch 8/100\n",
      "625/625 [==============================] - 9s 15ms/step - loss: 2.3027 - accuracy: 0.1009 - val_loss: 2.3028 - val_accuracy: 0.0977\n",
      "Epoch 9/100\n",
      "625/625 [==============================] - 9s 15ms/step - loss: 2.3027 - accuracy: 0.0993 - val_loss: 2.3027 - val_accuracy: 0.0997\n",
      "Epoch 10/100\n",
      "625/625 [==============================] - 9s 14ms/step - loss: 2.3027 - accuracy: 0.0956 - val_loss: 2.3027 - val_accuracy: 0.0952\n",
      "Epoch 11/100\n",
      "625/625 [==============================] - 9s 14ms/step - loss: 2.3027 - accuracy: 0.0984 - val_loss: 2.3028 - val_accuracy: 0.0952\n",
      "Epoch 12/100\n",
      "625/625 [==============================] - 9s 15ms/step - loss: 2.3042 - accuracy: 0.0997 - val_loss: 2.3027 - val_accuracy: 0.0952\n"
     ]
    }
   ],
   "source": [
    "history = model.fit(x=x_train, y=y_train, validation_split=0.2, batch_size=64, epochs=100, callbacks=[early_stop])"
   ]
  },
  {
   "cell_type": "code",
   "execution_count": 53,
   "metadata": {},
   "outputs": [
    {
     "name": "stdout",
     "output_type": "stream",
     "text": [
      "157/157 [==============================] - 1s 5ms/step - loss: 2.3026 - accuracy: 0.1000\n"
     ]
    },
    {
     "data": {
      "text/plain": "[2.302619218826294, 0.10000000149011612]"
     },
     "execution_count": 53,
     "metadata": {},
     "output_type": "execute_result"
    }
   ],
   "source": [
    "model.evaluate(x_test, y_test, batch_size=64)\n",
    "# Tenemos un accuracy del 10%"
   ]
  },
  {
   "cell_type": "code",
   "execution_count": 56,
   "metadata": {},
   "outputs": [
    {
     "data": {
      "image/png": "[encoded data removed]",
      "text/plain": "<Figure size 432x288 with 1 Axes>"
     },
     "metadata": {
      "needs_background": "light"
     },
     "output_type": "display_data"
    }
   ],
   "source": [
    "loss = history.history['loss']\n",
    "val_loss = history.history['val_loss']\n",
    "epochs = range(1, len(loss) + 1)\n",
    "plt.plot(epochs, loss, 'y', label='Training loss')\n",
    "plt.plot(epochs, val_loss, 'r', label='Validation loss')\n",
    "plt.title('Training and validation loss')\n",
    "plt.xlabel('Epochs')\n",
    "plt.ylabel('Loss')\n",
    "plt.legend()\n",
    "plt.show()"
   ]
  },
  {
   "cell_type": "markdown",
   "metadata": {},
   "source": [
    "### 2.\n",
    "\n",
    "Entrena la red neuronal 1 pero esta vez con las imágenes a color."
   ]
  },
  {
   "cell_type": "code",
   "execution_count": 60,
   "metadata": {},
   "outputs": [],
   "source": [
    "(x_train, y_train), (x_test, y_test) = keras.datasets.cifar10.load_data()\n",
    "# Imágenes en RGB"
   ]
  },
  {
   "cell_type": "code",
   "execution_count": 61,
   "metadata": {},
   "outputs": [],
   "source": [
    "model = build_model(input_shape=(32, 32, 3))"
   ]
  },
  {
   "cell_type": "code",
   "execution_count": 62,
   "metadata": {},
   "outputs": [
    {
     "name": "stdout",
     "output_type": "stream",
     "text": [
      "Epoch 1/100\n",
      "625/625 [==============================] - 9s 13ms/step - loss: 3.1847 - accuracy: 0.1016 - val_loss: 2.3351 - val_accuracy: 0.0951\n",
      "Epoch 2/100\n",
      "625/625 [==============================] - 10s 16ms/step - loss: 2.3041 - accuracy: 0.1000 - val_loss: 2.3152 - val_accuracy: 0.0952\n",
      "Epoch 3/100\n",
      "625/625 [==============================] - 10s 16ms/step - loss: 2.3033 - accuracy: 0.1008 - val_loss: 2.3116 - val_accuracy: 0.0952\n",
      "Epoch 4/100\n",
      "625/625 [==============================] - 12s 19ms/step - loss: 2.3026 - accuracy: 0.0984 - val_loss: 2.3119 - val_accuracy: 0.0980\n",
      "Epoch 5/100\n",
      "625/625 [==============================] - 12s 20ms/step - loss: 2.3027 - accuracy: 0.0991 - val_loss: 2.3119 - val_accuracy: 0.0980\n",
      "Epoch 6/100\n",
      "625/625 [==============================] - 11s 18ms/step - loss: 2.3026 - accuracy: 0.0998 - val_loss: 2.3127 - val_accuracy: 0.0952\n",
      "Epoch 7/100\n",
      "625/625 [==============================] - 12s 19ms/step - loss: 2.3026 - accuracy: 0.1009 - val_loss: 2.3136 - val_accuracy: 0.0980\n",
      "Epoch 8/100\n",
      "625/625 [==============================] - 13s 20ms/step - loss: 2.3026 - accuracy: 0.0989 - val_loss: 2.3157 - val_accuracy: 0.1014\n",
      "Epoch 9/100\n",
      "625/625 [==============================] - 11s 17ms/step - loss: 2.3026 - accuracy: 0.0982 - val_loss: 2.3159 - val_accuracy: 0.1015\n",
      "Epoch 10/100\n",
      "625/625 [==============================] - 12s 20ms/step - loss: 2.3026 - accuracy: 0.0995 - val_loss: 2.3160 - val_accuracy: 0.0980\n",
      "Epoch 11/100\n",
      "625/625 [==============================] - 12s 20ms/step - loss: 2.3026 - accuracy: 0.0996 - val_loss: 2.3174 - val_accuracy: 0.0952\n",
      "Epoch 12/100\n",
      "625/625 [==============================] - 18s 29ms/step - loss: 2.3026 - accuracy: 0.0972 - val_loss: 2.3132 - val_accuracy: 0.0952\n",
      "Epoch 13/100\n",
      "625/625 [==============================] - 19s 30ms/step - loss: 2.3026 - accuracy: 0.0996 - val_loss: 2.3195 - val_accuracy: 0.0952\n",
      "Epoch 14/100\n",
      "625/625 [==============================] - 14s 23ms/step - loss: 2.3045 - accuracy: 0.0982 - val_loss: 2.3040 - val_accuracy: 0.0952\n"
     ]
    }
   ],
   "source": [
    "history = model.fit(x=x_train, y=y_train, validation_split=0.2, batch_size=64, epochs=100, callbacks=[early_stop])"
   ]
  },
  {
   "cell_type": "code",
   "execution_count": 63,
   "metadata": {},
   "outputs": [
    {
     "name": "stdout",
     "output_type": "stream",
     "text": [
      "157/157 [==============================] - 1s 7ms/step - loss: 2.3026 - accuracy: 0.1000\n"
     ]
    },
    {
     "data": {
      "text/plain": "[2.3026182651519775, 0.10000000149011612]"
     },
     "execution_count": 63,
     "metadata": {},
     "output_type": "execute_result"
    }
   ],
   "source": [
    "model.evaluate(x_test, y_test, batch_size=64)\n",
    "# Tenemos un acierto de 10%"
   ]
  },
  {
   "cell_type": "code",
   "execution_count": 64,
   "metadata": {},
   "outputs": [
    {
     "data": {
      "image/png": "[encoded data removed]",
      "text/plain": "<Figure size 432x288 with 1 Axes>"
     },
     "metadata": {
      "needs_background": "light"
     },
     "output_type": "display_data"
    }
   ],
   "source": [
    "loss = history.history['loss']\n",
    "val_loss = history.history['val_loss']\n",
    "epochs = range(1, len(loss) + 1)\n",
    "plt.plot(epochs, loss, 'y', label='Training loss')\n",
    "plt.plot(epochs, val_loss, 'r', label='Validation loss')\n",
    "plt.title('Training and validation loss')\n",
    "plt.xlabel('Epochs')\n",
    "plt.ylabel('Loss')\n",
    "plt.legend()\n",
    "plt.show()"
   ]
  }
 ],
 "metadata": {
  "kernelspec": {
   "display_name": "Python 3.7.4 64-bit",
   "name": "python374jvsc74a57bd0aee8b7b246df8f9039afb4144a1f6fd8d2ca17a180786b69acc140d282b71a49"
  },
  "language_info": {
   "codemirror_mode": {
    "name": "ipython",
    "version": 3
   },
   "file_extension": ".py",
   "mimetype": "text/x-python",
   "name": "python",
   "nbconvert_exporter": "python",
   "pygments_lexer": "ipython3",
   "version": "3.7.4"
  },
  "metadata": {
   "interpreter": {
    "hash": "aee8b7b246df8f9039afb4144a1f6fd8d2ca17a180786b69acc140d282b71a49"
   }
  },
  "orig_nbformat": 2
 },
 "nbformat": 4,
 "nbformat_minor": 2
}