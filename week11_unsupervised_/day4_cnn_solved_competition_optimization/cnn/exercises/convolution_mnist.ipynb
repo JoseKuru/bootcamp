{
 "cells": [
  {
   "cell_type": "markdown",
   "metadata": {},
   "source": [
    "A partir del dataset mnist (tf.keras.datasets.mnist.load_data()), realiza una clasificación usando:\n",
    "\n",
    "1. Una CNN con:\n",
    "    - 1 capa convolutiva con 8 neuronas\n",
    "    - 1 MaxPool quedando las dimensiones de la imagen a la mitad\n",
    "    - 1 dropout 0.25\n",
    "    - 1 Flatten\n",
    "    - 1 dense con 32 neuronas\n",
    "    - 1 dense con 10 (salida)\n",
    "\n",
    "2. Una CNN con:\n",
    "    - 1 capa convolutiva con 8 neuronas\n",
    "    - 1 MaxPool quedando las dimensiones de la imagen a la mitad\n",
    "    - 1 dropout 0.25\n",
    "    - 1 Flatten\n",
    "    - 1 dense con 16 neuronas\n",
    "    - 1 dense con 32 neuronas\n",
    "    - 1 dense con 10 (salida)\n",
    "\n",
    "¿ Cuál ha dado mejor resultado?\n",
    "\n",
    "Para compilar el modelo, usa:"
   ]
  },
  {
   "cell_type": "code",
   "execution_count": 20,
   "metadata": {},
   "outputs": [],
   "source": [
    "import numpy as np\n",
    "import matplotlib.pyplot as plt\n",
    "import tensorflow as tf\n",
    "from tensorflow import keras\n",
    "from keras.datasets.mnist import load_data"
   ]
  },
  {
   "cell_type": "code",
   "execution_count": 10,
   "metadata": {},
   "outputs": [],
   "source": [
    "(x_train, y_train), (x_test, y_test) = load_data()"
   ]
  },
  {
   "cell_type": "code",
   "execution_count": 12,
   "metadata": {},
   "outputs": [
    {
     "data": {
      "text/plain": "(60000, 28, 28, 1)"
     },
     "execution_count": 12,
     "metadata": {},
     "output_type": "execute_result"
    }
   ],
   "source": [
    "x_train.shape"
   ]
  },
  {
   "cell_type": "code",
   "execution_count": 11,
   "metadata": {},
   "outputs": [],
   "source": [
    "x_train = np.expand_dims(x_train, -1)\n",
    "x_test = np.expand_dims(x_test, -1)"
   ]
  },
  {
   "cell_type": "markdown",
   "metadata": {},
   "source": [
    "Primera CNN"
   ]
  },
  {
   "cell_type": "code",
   "execution_count": 14,
   "metadata": {},
   "outputs": [],
   "source": [
    "model = keras.Sequential()\n",
    "model.add(keras.layers.Conv2D(8, kernel_size=(3, 3), padding='same', input_shape=(28, 28, 1)))\n",
    "model.add(keras.layers.MaxPool2D(pool_size=(2, 2)))\n",
    "model.add(keras.layers.Dropout(0.25))\n",
    "model.add(keras.layers.Flatten())\n",
    "model.add(keras.layers.Dense(32, activation='ReLU'))\n",
    "model.add(keras.layers.Dense(10, activation='softmax'))"
   ]
  },
  {
   "cell_type": "code",
   "execution_count": 15,
   "metadata": {},
   "outputs": [],
   "source": [
    "model.compile(optimizer='adam',\n",
    "        loss='sparse_categorical_crossentropy',\n",
    "        metrics=['accuracy'])"
   ]
  },
  {
   "cell_type": "code",
   "execution_count": 16,
   "metadata": {},
   "outputs": [],
   "source": [
    "early_stop = keras.callbacks.EarlyStopping('val_accuracy', patience=5)"
   ]
  },
  {
   "cell_type": "code",
   "execution_count": 17,
   "metadata": {},
   "outputs": [
    {
     "name": "stderr",
     "output_type": "stream",
     "text": [
      "/home/jose/.local/lib/python3.7/site-packages/pandas/compat/__init__.py:97: UserWarning: Could not import the lzma module. Your installed Python is incomplete. Attempting to use lzma compression will result in a RuntimeError.\n",
      "  warnings.warn(msg)\n"
     ]
    },
    {
     "name": "stdout",
     "output_type": "stream",
     "text": [
      "Epoch 1/100\n",
      "750/750 [==============================] - 6s 7ms/step - loss: 1.7218 - accuracy: 0.6305 - val_loss: 0.5703 - val_accuracy: 0.8294\n",
      "Epoch 2/100\n",
      "750/750 [==============================] - 6s 8ms/step - loss: 0.5643 - accuracy: 0.8581 - val_loss: 0.3132 - val_accuracy: 0.9168\n",
      "Epoch 3/100\n",
      "750/750 [==============================] - 6s 8ms/step - loss: 0.3632 - accuracy: 0.9052 - val_loss: 0.2325 - val_accuracy: 0.9405\n",
      "Epoch 4/100\n",
      "750/750 [==============================] - 7s 9ms/step - loss: 0.2622 - accuracy: 0.9266 - val_loss: 0.1900 - val_accuracy: 0.9483\n",
      "Epoch 5/100\n",
      "750/750 [==============================] - 9s 12ms/step - loss: 0.2168 - accuracy: 0.9385 - val_loss: 0.1515 - val_accuracy: 0.9575\n",
      "Epoch 6/100\n",
      "750/750 [==============================] - 8s 11ms/step - loss: 0.1848 - accuracy: 0.9470 - val_loss: 0.1477 - val_accuracy: 0.9581\n",
      "Epoch 7/100\n",
      "750/750 [==============================] - 8s 11ms/step - loss: 0.1606 - accuracy: 0.9523 - val_loss: 0.1414 - val_accuracy: 0.9611\n",
      "Epoch 8/100\n",
      "750/750 [==============================] - 8s 11ms/step - loss: 0.1501 - accuracy: 0.9547 - val_loss: 0.1234 - val_accuracy: 0.9655\n",
      "Epoch 9/100\n",
      "750/750 [==============================] - 8s 11ms/step - loss: 0.1400 - accuracy: 0.9572 - val_loss: 0.1233 - val_accuracy: 0.9653\n",
      "Epoch 10/100\n",
      "750/750 [==============================] - 8s 11ms/step - loss: 0.1365 - accuracy: 0.9579 - val_loss: 0.1173 - val_accuracy: 0.9677\n",
      "Epoch 11/100\n",
      "750/750 [==============================] - 9s 12ms/step - loss: 0.1277 - accuracy: 0.9612 - val_loss: 0.1158 - val_accuracy: 0.9668\n",
      "Epoch 12/100\n",
      "750/750 [==============================] - 10s 14ms/step - loss: 0.1231 - accuracy: 0.9624 - val_loss: 0.1052 - val_accuracy: 0.9704\n",
      "Epoch 13/100\n",
      "750/750 [==============================] - 9s 12ms/step - loss: 0.1171 - accuracy: 0.9641 - val_loss: 0.1071 - val_accuracy: 0.9694\n",
      "Epoch 14/100\n",
      "750/750 [==============================] - 10s 14ms/step - loss: 0.1159 - accuracy: 0.9649 - val_loss: 0.1091 - val_accuracy: 0.9707\n",
      "Epoch 15/100\n",
      "750/750 [==============================] - 9s 13ms/step - loss: 0.1109 - accuracy: 0.9660 - val_loss: 0.1104 - val_accuracy: 0.9692\n",
      "Epoch 16/100\n",
      "750/750 [==============================] - 10s 13ms/step - loss: 0.1056 - accuracy: 0.9678 - val_loss: 0.1169 - val_accuracy: 0.9675\n",
      "Epoch 17/100\n",
      "750/750 [==============================] - 10s 13ms/step - loss: 0.1086 - accuracy: 0.9666 - val_loss: 0.1084 - val_accuracy: 0.9720\n",
      "Epoch 18/100\n",
      "750/750 [==============================] - 8s 11ms/step - loss: 0.1031 - accuracy: 0.9681 - val_loss: 0.1228 - val_accuracy: 0.9672\n",
      "Epoch 19/100\n",
      "750/750 [==============================] - 9s 12ms/step - loss: 0.1036 - accuracy: 0.9679 - val_loss: 0.1221 - val_accuracy: 0.9681\n",
      "Epoch 20/100\n",
      "750/750 [==============================] - 10s 13ms/step - loss: 0.0962 - accuracy: 0.9699 - val_loss: 0.1145 - val_accuracy: 0.9716\n",
      "Epoch 21/100\n",
      "750/750 [==============================] - 10s 13ms/step - loss: 0.0995 - accuracy: 0.9693 - val_loss: 0.1221 - val_accuracy: 0.9700\n",
      "Epoch 22/100\n",
      "750/750 [==============================] - 9s 12ms/step - loss: 0.0973 - accuracy: 0.9692 - val_loss: 0.1028 - val_accuracy: 0.9726\n",
      "Epoch 23/100\n",
      "750/750 [==============================] - 9s 12ms/step - loss: 0.0967 - accuracy: 0.9709 - val_loss: 0.1034 - val_accuracy: 0.9733\n",
      "Epoch 24/100\n",
      "750/750 [==============================] - 11s 14ms/step - loss: 0.0919 - accuracy: 0.9711 - val_loss: 0.1207 - val_accuracy: 0.9690\n",
      "Epoch 25/100\n",
      "750/750 [==============================] - 11s 14ms/step - loss: 0.0896 - accuracy: 0.9721 - val_loss: 0.1153 - val_accuracy: 0.9701\n",
      "Epoch 26/100\n",
      "750/750 [==============================] - 10s 13ms/step - loss: 0.0926 - accuracy: 0.9711 - val_loss: 0.1119 - val_accuracy: 0.9733\n",
      "Epoch 27/100\n",
      "750/750 [==============================] - 10s 14ms/step - loss: 0.0860 - accuracy: 0.9733 - val_loss: 0.1196 - val_accuracy: 0.9709\n",
      "Epoch 28/100\n",
      "750/750 [==============================] - 10s 14ms/step - loss: 0.0886 - accuracy: 0.9722 - val_loss: 0.1009 - val_accuracy: 0.9743\n",
      "Epoch 29/100\n",
      "750/750 [==============================] - 10s 13ms/step - loss: 0.0882 - accuracy: 0.9726 - val_loss: 0.1051 - val_accuracy: 0.9750\n",
      "Epoch 30/100\n",
      "750/750 [==============================] - 9s 13ms/step - loss: 0.0901 - accuracy: 0.9721 - val_loss: 0.1134 - val_accuracy: 0.9707\n",
      "Epoch 31/100\n",
      "750/750 [==============================] - 10s 13ms/step - loss: 0.0854 - accuracy: 0.9730 - val_loss: 0.1134 - val_accuracy: 0.9721\n",
      "Epoch 32/100\n",
      "750/750 [==============================] - 10s 13ms/step - loss: 0.0818 - accuracy: 0.9750 - val_loss: 0.1025 - val_accuracy: 0.9749\n",
      "Epoch 33/100\n",
      "750/750 [==============================] - 10s 13ms/step - loss: 0.0878 - accuracy: 0.9731 - val_loss: 0.1064 - val_accuracy: 0.9728\n",
      "Epoch 34/100\n",
      "750/750 [==============================] - 10s 13ms/step - loss: 0.0799 - accuracy: 0.9746 - val_loss: 0.1147 - val_accuracy: 0.9712\n"
     ]
    }
   ],
   "source": [
    "history = model.fit(x=x_train, y=y_train, validation_split=0.2, batch_size=64, epochs=100, callbacks=[early_stop])"
   ]
  },
  {
   "cell_type": "code",
   "execution_count": 18,
   "metadata": {},
   "outputs": [
    {
     "name": "stdout",
     "output_type": "stream",
     "text": [
      "157/157 [==============================] - 1s 4ms/step - loss: 0.1136 - accuracy: 0.9713\n"
     ]
    },
    {
     "data": {
      "text/plain": "[0.11357305943965912, 0.9713000059127808]"
     },
     "execution_count": 18,
     "metadata": {},
     "output_type": "execute_result"
    }
   ],
   "source": [
    "model.evaluate(x_test, y_test, batch_size=64)"
   ]
  },
  {
   "cell_type": "code",
   "execution_count": 21,
   "metadata": {},
   "outputs": [
    {
     "data": {
      "image/png": "[encoded data removed]",
      "text/plain": "<Figure size 432x288 with 1 Axes>"
     },
     "metadata": {
      "needs_background": "light"
     },
     "output_type": "display_data"
    }
   ],
   "source": [
    "loss = history.history['loss']\n",
    "val_loss = history.history['val_loss']\n",
    "epochs = range(1, len(loss) + 1)\n",
    "plt.plot(epochs, loss, 'y', label='Training loss')\n",
    "plt.plot(epochs, val_loss, 'r', label='Validation loss')\n",
    "plt.title('Training and validation loss')\n",
    "plt.xlabel('Epochs')\n",
    "plt.ylabel('Loss')\n",
    "plt.legend()\n",
    "plt.show()"
   ]
  },
  {
   "cell_type": "markdown",
   "metadata": {},
   "source": [
    "Segunda CNN"
   ]
  },
  {
   "cell_type": "code",
   "execution_count": 23,
   "metadata": {},
   "outputs": [],
   "source": [
    "model = keras.Sequential()\n",
    "model.add(keras.layers.Conv2D(8, kernel_size=(3, 3), padding='same', input_shape=(28, 28, 1)))\n",
    "model.add(keras.layers.MaxPool2D(pool_size=(2, 2)))\n",
    "model.add(keras.layers.Dropout(0.25))\n",
    "model.add(keras.layers.Flatten())\n",
    "model.add(keras.layers.Dense(16, activation='ReLU')) # Nueva capa\n",
    "model.add(keras.layers.Dense(32, activation='ReLU'))\n",
    "model.add(keras.layers.Dense(10, activation='softmax'))"
   ]
  },
  {
   "cell_type": "code",
   "execution_count": 24,
   "metadata": {},
   "outputs": [],
   "source": [
    "model.compile(optimizer='adam',\n",
    "              loss='sparse_categorical_crossentropy',\n",
    "              metrics=['accuracy'])"
   ]
  },
  {
   "cell_type": "code",
   "execution_count": 25,
   "metadata": {},
   "outputs": [
    {
     "name": "stdout",
     "output_type": "stream",
     "text": [
      "Epoch 1/100\n",
      "750/750 [==============================] - 7s 9ms/step - loss: 2.3910 - accuracy: 0.1738 - val_loss: 2.0150 - val_accuracy: 0.2160\n",
      "Epoch 2/100\n",
      "750/750 [==============================] - 8s 11ms/step - loss: 1.8571 - accuracy: 0.2656 - val_loss: 1.6398 - val_accuracy: 0.3553\n",
      "Epoch 3/100\n",
      "750/750 [==============================] - 9s 11ms/step - loss: 1.3336 - accuracy: 0.4729 - val_loss: 0.9831 - val_accuracy: 0.5862\n",
      "Epoch 4/100\n",
      "750/750 [==============================] - 8s 11ms/step - loss: 0.9680 - accuracy: 0.6161 - val_loss: 0.8527 - val_accuracy: 0.6397\n",
      "Epoch 5/100\n",
      "750/750 [==============================] - 9s 12ms/step - loss: 0.8766 - accuracy: 0.6501 - val_loss: 0.7533 - val_accuracy: 0.6643\n",
      "Epoch 6/100\n",
      "750/750 [==============================] - 8s 11ms/step - loss: 0.6114 - accuracy: 0.7729 - val_loss: 0.4930 - val_accuracy: 0.8256\n",
      "Epoch 7/100\n",
      "750/750 [==============================] - 8s 11ms/step - loss: 0.4796 - accuracy: 0.8349 - val_loss: 0.3894 - val_accuracy: 0.8717\n",
      "Epoch 8/100\n",
      "750/750 [==============================] - 11s 15ms/step - loss: 0.3707 - accuracy: 0.8849 - val_loss: 0.2422 - val_accuracy: 0.9328\n",
      "Epoch 9/100\n",
      "750/750 [==============================] - 10s 13ms/step - loss: 0.2718 - accuracy: 0.9195 - val_loss: 0.1931 - val_accuracy: 0.9446\n",
      "Epoch 10/100\n",
      "750/750 [==============================] - 10s 13ms/step - loss: 0.2371 - accuracy: 0.9281 - val_loss: 0.1808 - val_accuracy: 0.9483\n",
      "Epoch 11/100\n",
      "750/750 [==============================] - 11s 14ms/step - loss: 0.2220 - accuracy: 0.9330 - val_loss: 0.1712 - val_accuracy: 0.9517\n",
      "Epoch 12/100\n",
      "750/750 [==============================] - 9s 12ms/step - loss: 0.2030 - accuracy: 0.9395 - val_loss: 0.1766 - val_accuracy: 0.9503\n",
      "Epoch 13/100\n",
      "750/750 [==============================] - 10s 13ms/step - loss: 0.2027 - accuracy: 0.9395 - val_loss: 0.1635 - val_accuracy: 0.9556\n",
      "Epoch 14/100\n",
      "750/750 [==============================] - 8s 11ms/step - loss: 0.1862 - accuracy: 0.9439 - val_loss: 0.1580 - val_accuracy: 0.9542\n",
      "Epoch 15/100\n",
      "750/750 [==============================] - 8s 11ms/step - loss: 0.1860 - accuracy: 0.9450 - val_loss: 0.1406 - val_accuracy: 0.9605\n",
      "Epoch 16/100\n",
      "750/750 [==============================] - 8s 11ms/step - loss: 0.1808 - accuracy: 0.9453 - val_loss: 0.1399 - val_accuracy: 0.9623\n",
      "Epoch 17/100\n",
      "750/750 [==============================] - 8s 11ms/step - loss: 0.1782 - accuracy: 0.9460 - val_loss: 0.1391 - val_accuracy: 0.9594\n",
      "Epoch 18/100\n",
      "750/750 [==============================] - 8s 11ms/step - loss: 0.1721 - accuracy: 0.9479 - val_loss: 0.1365 - val_accuracy: 0.9628\n",
      "Epoch 19/100\n",
      "750/750 [==============================] - 8s 11ms/step - loss: 0.1655 - accuracy: 0.9496 - val_loss: 0.1294 - val_accuracy: 0.9650\n",
      "Epoch 20/100\n",
      "750/750 [==============================] - 8s 11ms/step - loss: 0.1611 - accuracy: 0.9517 - val_loss: 0.1435 - val_accuracy: 0.9600\n",
      "Epoch 21/100\n",
      "750/750 [==============================] - 10s 13ms/step - loss: 0.1610 - accuracy: 0.9502 - val_loss: 0.1289 - val_accuracy: 0.9635\n",
      "Epoch 22/100\n",
      "750/750 [==============================] - 8s 11ms/step - loss: 0.1587 - accuracy: 0.9518 - val_loss: 0.1410 - val_accuracy: 0.9598\n",
      "Epoch 23/100\n",
      "750/750 [==============================] - 8s 11ms/step - loss: 0.1546 - accuracy: 0.9523 - val_loss: 0.1342 - val_accuracy: 0.9634\n",
      "Epoch 24/100\n",
      "750/750 [==============================] - 8s 11ms/step - loss: 0.1510 - accuracy: 0.9537 - val_loss: 0.1374 - val_accuracy: 0.9626\n"
     ]
    }
   ],
   "source": [
    "history = model.fit(x=x_train, y=y_train, validation_split=0.2, batch_size=64, epochs=100, callbacks=[early_stop])"
   ]
  },
  {
   "cell_type": "code",
   "execution_count": 26,
   "metadata": {},
   "outputs": [
    {
     "name": "stdout",
     "output_type": "stream",
     "text": [
      "157/157 [==============================] - 1s 4ms/step - loss: 0.1380 - accuracy: 0.9605\n"
     ]
    },
    {
     "data": {
      "text/plain": "[0.13797657191753387, 0.9605000019073486]"
     },
     "execution_count": 26,
     "metadata": {},
     "output_type": "execute_result"
    }
   ],
   "source": [
    "model.evaluate(x_test, y_test, batch_size=64)"
   ]
  },
  {
   "cell_type": "code",
   "execution_count": 27,
   "metadata": {},
   "outputs": [
    {
     "data": {
      "image/png": "[encoded data removed]",
      "text/plain": "<Figure size 432x288 with 1 Axes>"
     },
     "metadata": {
      "needs_background": "light"
     },
     "output_type": "display_data"
    }
   ],
   "source": [
    "loss = history.history['loss']\n",
    "val_loss = history.history['val_loss']\n",
    "epochs = range(1, len(loss) + 1)\n",
    "plt.plot(epochs, loss, 'y', label='Training loss')\n",
    "plt.plot(epochs, val_loss, 'r', label='Validation loss')\n",
    "plt.title('Training and validation loss')\n",
    "plt.xlabel('Epochs')\n",
    "plt.ylabel('Loss')\n",
    "plt.legend()\n",
    "plt.show()"
   ]
  }
 ],
 "metadata": {
  "kernelspec": {
   "display_name": "Python 3.7.4 64-bit",
   "name": "python374jvsc74a57bd0aee8b7b246df8f9039afb4144a1f6fd8d2ca17a180786b69acc140d282b71a49"
  },
  "language_info": {
   "codemirror_mode": {
    "name": "ipython",
    "version": 3
   },
   "file_extension": ".py",
   "mimetype": "text/x-python",
   "name": "python",
   "nbconvert_exporter": "python",
   "pygments_lexer": "ipython3",
   "version": "3.7.4"
  },
  "metadata": {
   "interpreter": {
    "hash": "aee8b7b246df8f9039afb4144a1f6fd8d2ca17a180786b69acc140d282b71a49"
   }
  },
  "orig_nbformat": 2
 },
 "nbformat": 4,
 "nbformat_minor": 2
}