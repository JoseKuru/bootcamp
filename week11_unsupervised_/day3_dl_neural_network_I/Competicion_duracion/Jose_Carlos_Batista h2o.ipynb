{
 "cells": [
  {
   "cell_type": "code",
   "execution_count": 1,
   "metadata": {},
   "outputs": [
    {
     "name": "stderr",
     "output_type": "stream",
     "text": [
      "/home/jose/.local/lib/python3.7/site-packages/pandas/compat/__init__.py:97: UserWarning: Could not import the lzma module. Your installed Python is incomplete. Attempting to use lzma compression will result in a RuntimeError.\n",
      "  warnings.warn(msg)\n"
     ]
    }
   ],
   "source": [
    "import numpy as np\n",
    "import pandas as pd\n",
    "import matplotlib.pyplot as plt\n",
    "\n",
    "from sklearn.preprocessing import LabelEncoder\n",
    "from sklearn.preprocessing import StandardScaler, RobustScaler\n",
    "from sklearn.decomposition import PCA\n",
    "\n",
    "import h2o\n",
    "from h2o.automl import H2OAutoML"
   ]
  },
  {
   "cell_type": "code",
   "execution_count": 2,
   "metadata": {},
   "outputs": [],
   "source": [
    "df = pd.read_csv('how-long-would-you-stay-data-ft-apr-2021/hospital_train.csv', index_col=0)\n"
   ]
  },
  {
   "cell_type": "code",
   "execution_count": 3,
   "metadata": {},
   "outputs": [
    {
     "data": {
      "text/html": "<div>\n<style scoped>\n    .dataframe tbody tr th:only-of-type {\n        vertical-align: middle;\n    }\n\n    .dataframe tbody tr th {\n        vertical-align: top;\n    }\n\n    .dataframe thead th {\n        text-align: right;\n    }\n</style>\n<table border=\"1\" class=\"dataframe\">\n  <thead>\n    <tr style=\"text-align: right;\">\n      <th></th>\n      <th>1</th>\n      <th>2</th>\n      <th>3</th>\n      <th>4</th>\n      <th>5</th>\n      <th>6</th>\n      <th>7</th>\n      <th>8</th>\n      <th>9</th>\n      <th>10</th>\n      <th>11</th>\n      <th>12</th>\n      <th>13</th>\n      <th>14</th>\n      <th>15</th>\n      <th>16</th>\n      <th>17</th>\n    </tr>\n  </thead>\n  <tbody>\n    <tr>\n      <th>0</th>\n      <td>6</td>\n      <td>a</td>\n      <td>6</td>\n      <td>X</td>\n      <td>2</td>\n      <td>gynecology</td>\n      <td>R</td>\n      <td>F</td>\n      <td>4.0</td>\n      <td>45810</td>\n      <td>2.0</td>\n      <td>Urgent</td>\n      <td>Moderate</td>\n      <td>2</td>\n      <td>21-30</td>\n      <td>2817.0</td>\n      <td>0-10</td>\n    </tr>\n    <tr>\n      <th>1</th>\n      <td>23</td>\n      <td>a</td>\n      <td>6</td>\n      <td>X</td>\n      <td>4</td>\n      <td>gynecology</td>\n      <td>Q</td>\n      <td>F</td>\n      <td>2.0</td>\n      <td>128565</td>\n      <td>15.0</td>\n      <td>Trauma</td>\n      <td>Moderate</td>\n      <td>4</td>\n      <td>51-60</td>\n      <td>4498.0</td>\n      <td>21-30</td>\n    </tr>\n    <tr>\n      <th>2</th>\n      <td>2</td>\n      <td>c</td>\n      <td>5</td>\n      <td>Z</td>\n      <td>2</td>\n      <td>anesthesia</td>\n      <td>S</td>\n      <td>F</td>\n      <td>3.0</td>\n      <td>46565</td>\n      <td>5.0</td>\n      <td>Urgent</td>\n      <td>Moderate</td>\n      <td>2</td>\n      <td>71-80</td>\n      <td>4573.0</td>\n      <td>11-20</td>\n    </tr>\n    <tr>\n      <th>3</th>\n      <td>32</td>\n      <td>f</td>\n      <td>9</td>\n      <td>Y</td>\n      <td>3</td>\n      <td>gynecology</td>\n      <td>S</td>\n      <td>B</td>\n      <td>4.0</td>\n      <td>124546</td>\n      <td>6.0</td>\n      <td>Emergency</td>\n      <td>Moderate</td>\n      <td>4</td>\n      <td>11-20</td>\n      <td>7202.0</td>\n      <td>51-60</td>\n    </tr>\n    <tr>\n      <th>4</th>\n      <td>14</td>\n      <td>a</td>\n      <td>1</td>\n      <td>X</td>\n      <td>3</td>\n      <td>gynecology</td>\n      <td>S</td>\n      <td>E</td>\n      <td>2.0</td>\n      <td>22729</td>\n      <td>8.0</td>\n      <td>Urgent</td>\n      <td>Moderate</td>\n      <td>2</td>\n      <td>51-60</td>\n      <td>3398.0</td>\n      <td>51-60</td>\n    </tr>\n    <tr>\n      <th>...</th>\n      <td>...</td>\n      <td>...</td>\n      <td>...</td>\n      <td>...</td>\n      <td>...</td>\n      <td>...</td>\n      <td>...</td>\n      <td>...</td>\n      <td>...</td>\n      <td>...</td>\n      <td>...</td>\n      <td>...</td>\n      <td>...</td>\n      <td>...</td>\n      <td>...</td>\n      <td>...</td>\n      <td>...</td>\n    </tr>\n    <tr>\n      <th>99995</th>\n      <td>12</td>\n      <td>a</td>\n      <td>9</td>\n      <td>Y</td>\n      <td>3</td>\n      <td>gynecology</td>\n      <td>R</td>\n      <td>B</td>\n      <td>3.0</td>\n      <td>82914</td>\n      <td>3.0</td>\n      <td>Emergency</td>\n      <td>Moderate</td>\n      <td>6</td>\n      <td>51-60</td>\n      <td>3966.0</td>\n      <td>More than 100 Days</td>\n    </tr>\n    <tr>\n      <th>99996</th>\n      <td>28</td>\n      <td>b</td>\n      <td>11</td>\n      <td>X</td>\n      <td>2</td>\n      <td>gynecology</td>\n      <td>R</td>\n      <td>F</td>\n      <td>2.0</td>\n      <td>40026</td>\n      <td>5.0</td>\n      <td>Urgent</td>\n      <td>Moderate</td>\n      <td>3</td>\n      <td>21-30</td>\n      <td>4005.0</td>\n      <td>51-60</td>\n    </tr>\n    <tr>\n      <th>99997</th>\n      <td>6</td>\n      <td>a</td>\n      <td>6</td>\n      <td>X</td>\n      <td>3</td>\n      <td>gynecology</td>\n      <td>Q</td>\n      <td>F</td>\n      <td>3.0</td>\n      <td>92346</td>\n      <td>2.0</td>\n      <td>Trauma</td>\n      <td>Minor</td>\n      <td>2</td>\n      <td>31-40</td>\n      <td>5215.0</td>\n      <td>31-40</td>\n    </tr>\n    <tr>\n      <th>99998</th>\n      <td>32</td>\n      <td>f</td>\n      <td>9</td>\n      <td>Y</td>\n      <td>2</td>\n      <td>gynecology</td>\n      <td>S</td>\n      <td>B</td>\n      <td>4.0</td>\n      <td>113798</td>\n      <td>15.0</td>\n      <td>Trauma</td>\n      <td>Moderate</td>\n      <td>3</td>\n      <td>41-50</td>\n      <td>5092.0</td>\n      <td>11-20</td>\n    </tr>\n    <tr>\n      <th>99999</th>\n      <td>25</td>\n      <td>e</td>\n      <td>1</td>\n      <td>X</td>\n      <td>3</td>\n      <td>gynecology</td>\n      <td>Q</td>\n      <td>E</td>\n      <td>2.0</td>\n      <td>109237</td>\n      <td>8.0</td>\n      <td>Emergency</td>\n      <td>Moderate</td>\n      <td>2</td>\n      <td>41-50</td>\n      <td>3390.0</td>\n      <td>41-50</td>\n    </tr>\n  </tbody>\n</table>\n<p>100000 rows × 17 columns</p>\n</div>",
      "text/plain": "        1  2   3  4  5           6  7  8    9      10    11         12  \\\n0       6  a   6  X  2  gynecology  R  F  4.0   45810   2.0     Urgent   \n1      23  a   6  X  4  gynecology  Q  F  2.0  128565  15.0     Trauma   \n2       2  c   5  Z  2  anesthesia  S  F  3.0   46565   5.0     Urgent   \n3      32  f   9  Y  3  gynecology  S  B  4.0  124546   6.0  Emergency   \n4      14  a   1  X  3  gynecology  S  E  2.0   22729   8.0     Urgent   \n...    .. ..  .. .. ..         ... .. ..  ...     ...   ...        ...   \n99995  12  a   9  Y  3  gynecology  R  B  3.0   82914   3.0  Emergency   \n99996  28  b  11  X  2  gynecology  R  F  2.0   40026   5.0     Urgent   \n99997   6  a   6  X  3  gynecology  Q  F  3.0   92346   2.0     Trauma   \n99998  32  f   9  Y  2  gynecology  S  B  4.0  113798  15.0     Trauma   \n99999  25  e   1  X  3  gynecology  Q  E  2.0  109237   8.0  Emergency   \n\n             13  14     15      16                  17  \n0      Moderate   2  21-30  2817.0                0-10  \n1      Moderate   4  51-60  4498.0               21-30  \n2      Moderate   2  71-80  4573.0               11-20  \n3      Moderate   4  11-20  7202.0               51-60  \n4      Moderate   2  51-60  3398.0               51-60  \n...         ...  ..    ...     ...                 ...  \n99995  Moderate   6  51-60  3966.0  More than 100 Days  \n99996  Moderate   3  21-30  4005.0               51-60  \n99997     Minor   2  31-40  5215.0               31-40  \n99998  Moderate   3  41-50  5092.0               11-20  \n99999  Moderate   2  41-50  3390.0               41-50  \n\n[100000 rows x 17 columns]"
     },
     "execution_count": 3,
     "metadata": {},
     "output_type": "execute_result"
    }
   ],
   "source": [
    "df = df.reset_index(drop=True)\n",
    "df"
   ]
  },
  {
   "cell_type": "code",
   "execution_count": 4,
   "metadata": {},
   "outputs": [],
   "source": [
    "df = df.fillna(0)\n",
    "df['13'].unique()\n",
    "diccionario_13 = {'Minor': 1, 'Moderate': 2, 'Extreme': 3}\n",
    "diccionario_12 = {\n",
    "    \"Emergency\" : 1,\n",
    "    \"Trauma\" : 2,\n",
    "    \"Urgent\" : 3\n",
    "}\n",
    "\n",
    "\n",
    "# Age of the patient\n",
    "diccionario_15 = {\n",
    "    \"0-10\" : 1,\n",
    "    \"11-20\" : 2,\n",
    "    \"21-30\" : 3,\n",
    "    \"31-40\" : 4,\n",
    "    \"41-50\" : 5,\n",
    "    \"51-60\" : 6,\n",
    "    \"61-70\" : 7,\n",
    "    \"71-80\" : 8,\n",
    "    \"81-90\" : 9,\n",
    "    \"91-100\" : 10,\n",
    "}\n",
    "\n",
    "# Stay Days by the patient\n",
    "diccionario_17 = {\n",
    "    \"0-10\" : 1,\n",
    "    \"11-20\" : 2,\n",
    "    \"21-30\" : 3,\n",
    "    \"31-40\" : 4,\n",
    "    \"41-50\" : 5,\n",
    "    \"51-60\" : 6,\n",
    "    \"61-70\" : 7,\n",
    "    \"71-80\" : 8,\n",
    "    \"81-90\" : 9,\n",
    "    \"91-100\" : 10,\n",
    "    \"More than 100 Days\" : 11\n",
    "}\n",
    "\n",
    "#df[\"2\"] = le.fit_transform(df[\"2\"])\n",
    "#df[\"4\"] = le.fit_transform(df[\"4\"])\n",
    "#df[\"6\"] = le.fit_transform(df[\"6\"])\n",
    "#df[\"7\"] = le.fit_transform(df[\"7\"])\n",
    "#df[\"8\"] = le.fit_transform(df[\"8\"])\n",
    "#df[\"12\"] = le.fit_transform(df[\"12\"])\n",
    "#df[\"15\"] = le.fit_transform(df[\"15\"])\n",
    "df['13'] = df['13'].apply(lambda x: diccionario_13[x])\n",
    "df['12'] = df['12'].apply(lambda x: diccionario_12[x])\n",
    "df['15'] = df['15'].apply(lambda x: diccionario_15[x])\n",
    "#df['17'] = df['17'].apply(lambda x: diccionario_17[x])\n",
    "\n",
    "\n",
    "target = df[\"17\"]\n",
    "df.drop('17', axis=1, inplace=True)\n",
    "\n",
    "df = pd.get_dummies(df)"
   ]
  },
  {
   "cell_type": "code",
   "execution_count": 5,
   "metadata": {},
   "outputs": [],
   "source": [
    "scaler = StandardScaler()\n",
    "df = pd.DataFrame(scaler.fit_transform(df), columns=df.columns)"
   ]
  },
  {
   "cell_type": "code",
   "execution_count": 6,
   "metadata": {},
   "outputs": [
    {
     "data": {
      "text/plain": "<matplotlib.lines.Line2D at 0x7f06fca06450>"
     },
     "execution_count": 6,
     "metadata": {},
     "output_type": "execute_result"
    },
    {
     "data": {
      "image/png": "[encoded data removed]",
      "text/plain": "<Figure size 432x288 with 1 Axes>"
     },
     "metadata": {
      "needs_background": "light"
     },
     "output_type": "display_data"
    }
   ],
   "source": [
    "pca = PCA()\n",
    "pca.fit(pd.get_dummies(df))\n",
    "fig, ax = plt.subplots()\n",
    "ax.plot(np.cumsum(pca.explained_variance_ratio_))\n",
    "ax.set_xlabel('number of components')\n",
    "ax.set_ylabel('cumulative explained variance')\n",
    "ax.axvline(10, c='green', alpha=0.3)"
   ]
  },
  {
   "cell_type": "code",
   "execution_count": 7,
   "metadata": {},
   "outputs": [
    {
     "data": {
      "text/html": "<div>\n<style scoped>\n    .dataframe tbody tr th:only-of-type {\n        vertical-align: middle;\n    }\n\n    .dataframe tbody tr th {\n        vertical-align: top;\n    }\n\n    .dataframe thead th {\n        text-align: right;\n    }\n</style>\n<table border=\"1\" class=\"dataframe\">\n  <thead>\n    <tr style=\"text-align: right;\">\n      <th></th>\n      <th>1</th>\n      <th>3</th>\n      <th>5</th>\n      <th>9</th>\n      <th>10</th>\n      <th>11</th>\n      <th>12</th>\n      <th>13</th>\n      <th>14</th>\n      <th>15</th>\n      <th>...</th>\n      <th>7_R</th>\n      <th>7_S</th>\n      <th>7_T</th>\n      <th>7_U</th>\n      <th>8_A</th>\n      <th>8_B</th>\n      <th>8_C</th>\n      <th>8_D</th>\n      <th>8_E</th>\n      <th>8_F</th>\n    </tr>\n  </thead>\n  <tbody>\n    <tr>\n      <th>0</th>\n      <td>-1.429165</td>\n      <td>0.394291</td>\n      <td>-1.022764</td>\n      <td>1.572874</td>\n      <td>-0.531863</td>\n      <td>-1.074732</td>\n      <td>1.770393</td>\n      <td>0.139756</td>\n      <td>-0.724828</td>\n      <td>-1.128304</td>\n      <td>...</td>\n      <td>1.217123</td>\n      <td>-0.567358</td>\n      <td>-0.067682</td>\n      <td>-0.005477</td>\n      <td>-0.308788</td>\n      <td>-0.349187</td>\n      <td>-0.354481</td>\n      <td>-0.442897</td>\n      <td>-0.456717</td>\n      <td>1.344811</td>\n    </tr>\n    <tr>\n      <th>1</th>\n      <td>0.541579</td>\n      <td>0.394291</td>\n      <td>0.685815</td>\n      <td>-0.711338</td>\n      <td>1.653223</td>\n      <td>1.654613</td>\n      <td>0.320570</td>\n      <td>0.139756</td>\n      <td>0.394191</td>\n      <td>0.460842</td>\n      <td>...</td>\n      <td>-0.821609</td>\n      <td>-0.567358</td>\n      <td>-0.067682</td>\n      <td>-0.005477</td>\n      <td>-0.308788</td>\n      <td>-0.349187</td>\n      <td>-0.354481</td>\n      <td>-0.442897</td>\n      <td>-0.456717</td>\n      <td>1.344811</td>\n    </tr>\n    <tr>\n      <th>2</th>\n      <td>-1.892870</td>\n      <td>0.072005</td>\n      <td>-1.022764</td>\n      <td>0.430768</td>\n      <td>-0.511928</td>\n      <td>-0.444883</td>\n      <td>1.770393</td>\n      <td>0.139756</td>\n      <td>-0.724828</td>\n      <td>1.520272</td>\n      <td>...</td>\n      <td>-0.821609</td>\n      <td>1.762557</td>\n      <td>-0.067682</td>\n      <td>-0.005477</td>\n      <td>-0.308788</td>\n      <td>-0.349187</td>\n      <td>-0.354481</td>\n      <td>-0.442897</td>\n      <td>-0.456717</td>\n      <td>1.344811</td>\n    </tr>\n    <tr>\n      <th>3</th>\n      <td>1.584914</td>\n      <td>1.361147</td>\n      <td>-0.168474</td>\n      <td>1.572874</td>\n      <td>1.547104</td>\n      <td>-0.234934</td>\n      <td>-1.129253</td>\n      <td>0.139756</td>\n      <td>0.394191</td>\n      <td>-1.658019</td>\n      <td>...</td>\n      <td>-0.821609</td>\n      <td>1.762557</td>\n      <td>-0.067682</td>\n      <td>-0.005477</td>\n      <td>-0.308788</td>\n      <td>2.863796</td>\n      <td>-0.354481</td>\n      <td>-0.442897</td>\n      <td>-0.456717</td>\n      <td>-0.743599</td>\n    </tr>\n    <tr>\n      <th>4</th>\n      <td>-0.501756</td>\n      <td>-1.217137</td>\n      <td>-0.168474</td>\n      <td>-0.711338</td>\n      <td>-1.141301</td>\n      <td>0.184966</td>\n      <td>1.770393</td>\n      <td>0.139756</td>\n      <td>-0.724828</td>\n      <td>0.460842</td>\n      <td>...</td>\n      <td>-0.821609</td>\n      <td>1.762557</td>\n      <td>-0.067682</td>\n      <td>-0.005477</td>\n      <td>-0.308788</td>\n      <td>-0.349187</td>\n      <td>-0.354481</td>\n      <td>-0.442897</td>\n      <td>2.189538</td>\n      <td>-0.743599</td>\n    </tr>\n    <tr>\n      <th>...</th>\n      <td>...</td>\n      <td>...</td>\n      <td>...</td>\n      <td>...</td>\n      <td>...</td>\n      <td>...</td>\n      <td>...</td>\n      <td>...</td>\n      <td>...</td>\n      <td>...</td>\n      <td>...</td>\n      <td>...</td>\n      <td>...</td>\n      <td>...</td>\n      <td>...</td>\n      <td>...</td>\n      <td>...</td>\n      <td>...</td>\n      <td>...</td>\n      <td>...</td>\n      <td>...</td>\n    </tr>\n    <tr>\n      <th>99995</th>\n      <td>-0.733608</td>\n      <td>1.361147</td>\n      <td>-0.168474</td>\n      <td>0.430768</td>\n      <td>0.447841</td>\n      <td>-0.864783</td>\n      <td>-1.129253</td>\n      <td>0.139756</td>\n      <td>1.513211</td>\n      <td>0.460842</td>\n      <td>...</td>\n      <td>1.217123</td>\n      <td>-0.567358</td>\n      <td>-0.067682</td>\n      <td>-0.005477</td>\n      <td>-0.308788</td>\n      <td>2.863796</td>\n      <td>-0.354481</td>\n      <td>-0.442897</td>\n      <td>-0.456717</td>\n      <td>-0.743599</td>\n    </tr>\n    <tr>\n      <th>99996</th>\n      <td>1.121210</td>\n      <td>2.005719</td>\n      <td>-1.022764</td>\n      <td>-0.711338</td>\n      <td>-0.684586</td>\n      <td>-0.444883</td>\n      <td>1.770393</td>\n      <td>0.139756</td>\n      <td>-0.165318</td>\n      <td>-1.128304</td>\n      <td>...</td>\n      <td>1.217123</td>\n      <td>-0.567358</td>\n      <td>-0.067682</td>\n      <td>-0.005477</td>\n      <td>-0.308788</td>\n      <td>-0.349187</td>\n      <td>-0.354481</td>\n      <td>-0.442897</td>\n      <td>-0.456717</td>\n      <td>1.344811</td>\n    </tr>\n    <tr>\n      <th>99997</th>\n      <td>-1.429165</td>\n      <td>0.394291</td>\n      <td>-0.168474</td>\n      <td>0.430768</td>\n      <td>0.696886</td>\n      <td>-1.074732</td>\n      <td>0.320570</td>\n      <td>-1.369811</td>\n      <td>-0.724828</td>\n      <td>-0.598589</td>\n      <td>...</td>\n      <td>-0.821609</td>\n      <td>-0.567358</td>\n      <td>-0.067682</td>\n      <td>-0.005477</td>\n      <td>-0.308788</td>\n      <td>-0.349187</td>\n      <td>-0.354481</td>\n      <td>-0.442897</td>\n      <td>-0.456717</td>\n      <td>1.344811</td>\n    </tr>\n    <tr>\n      <th>99998</th>\n      <td>1.584914</td>\n      <td>1.361147</td>\n      <td>-1.022764</td>\n      <td>1.572874</td>\n      <td>1.263311</td>\n      <td>1.654613</td>\n      <td>0.320570</td>\n      <td>0.139756</td>\n      <td>-0.165318</td>\n      <td>-0.068874</td>\n      <td>...</td>\n      <td>-0.821609</td>\n      <td>1.762557</td>\n      <td>-0.067682</td>\n      <td>-0.005477</td>\n      <td>-0.308788</td>\n      <td>2.863796</td>\n      <td>-0.354481</td>\n      <td>-0.442897</td>\n      <td>-0.456717</td>\n      <td>-0.743599</td>\n    </tr>\n    <tr>\n      <th>99999</th>\n      <td>0.773431</td>\n      <td>-1.217137</td>\n      <td>-0.168474</td>\n      <td>-0.711338</td>\n      <td>1.142881</td>\n      <td>0.184966</td>\n      <td>-1.129253</td>\n      <td>0.139756</td>\n      <td>-0.724828</td>\n      <td>-0.068874</td>\n      <td>...</td>\n      <td>-0.821609</td>\n      <td>-0.567358</td>\n      <td>-0.067682</td>\n      <td>-0.005477</td>\n      <td>-0.308788</td>\n      <td>-0.349187</td>\n      <td>-0.354481</td>\n      <td>-0.442897</td>\n      <td>2.189538</td>\n      <td>-0.743599</td>\n    </tr>\n  </tbody>\n</table>\n<p>100000 rows × 38 columns</p>\n</div>",
      "text/plain": "              1         3         5         9        10        11        12  \\\n0     -1.429165  0.394291 -1.022764  1.572874 -0.531863 -1.074732  1.770393   \n1      0.541579  0.394291  0.685815 -0.711338  1.653223  1.654613  0.320570   \n2     -1.892870  0.072005 -1.022764  0.430768 -0.511928 -0.444883  1.770393   \n3      1.584914  1.361147 -0.168474  1.572874  1.547104 -0.234934 -1.129253   \n4     -0.501756 -1.217137 -0.168474 -0.711338 -1.141301  0.184966  1.770393   \n...         ...       ...       ...       ...       ...       ...       ...   \n99995 -0.733608  1.361147 -0.168474  0.430768  0.447841 -0.864783 -1.129253   \n99996  1.121210  2.005719 -1.022764 -0.711338 -0.684586 -0.444883  1.770393   \n99997 -1.429165  0.394291 -0.168474  0.430768  0.696886 -1.074732  0.320570   \n99998  1.584914  1.361147 -1.022764  1.572874  1.263311  1.654613  0.320570   \n99999  0.773431 -1.217137 -0.168474 -0.711338  1.142881  0.184966 -1.129253   \n\n             13        14        15  ...       7_R       7_S       7_T  \\\n0      0.139756 -0.724828 -1.128304  ...  1.217123 -0.567358 -0.067682   \n1      0.139756  0.394191  0.460842  ... -0.821609 -0.567358 -0.067682   \n2      0.139756 -0.724828  1.520272  ... -0.821609  1.762557 -0.067682   \n3      0.139756  0.394191 -1.658019  ... -0.821609  1.762557 -0.067682   \n4      0.139756 -0.724828  0.460842  ... -0.821609  1.762557 -0.067682   \n...         ...       ...       ...  ...       ...       ...       ...   \n99995  0.139756  1.513211  0.460842  ...  1.217123 -0.567358 -0.067682   \n99996  0.139756 -0.165318 -1.128304  ...  1.217123 -0.567358 -0.067682   \n99997 -1.369811 -0.724828 -0.598589  ... -0.821609 -0.567358 -0.067682   \n99998  0.139756 -0.165318 -0.068874  ... -0.821609  1.762557 -0.067682   \n99999  0.139756 -0.724828 -0.068874  ... -0.821609 -0.567358 -0.067682   \n\n            7_U       8_A       8_B       8_C       8_D       8_E       8_F  \n0     -0.005477 -0.308788 -0.349187 -0.354481 -0.442897 -0.456717  1.344811  \n1     -0.005477 -0.308788 -0.349187 -0.354481 -0.442897 -0.456717  1.344811  \n2     -0.005477 -0.308788 -0.349187 -0.354481 -0.442897 -0.456717  1.344811  \n3     -0.005477 -0.308788  2.863796 -0.354481 -0.442897 -0.456717 -0.743599  \n4     -0.005477 -0.308788 -0.349187 -0.354481 -0.442897  2.189538 -0.743599  \n...         ...       ...       ...       ...       ...       ...       ...  \n99995 -0.005477 -0.308788  2.863796 -0.354481 -0.442897 -0.456717 -0.743599  \n99996 -0.005477 -0.308788 -0.349187 -0.354481 -0.442897 -0.456717  1.344811  \n99997 -0.005477 -0.308788 -0.349187 -0.354481 -0.442897 -0.456717  1.344811  \n99998 -0.005477 -0.308788  2.863796 -0.354481 -0.442897 -0.456717 -0.743599  \n99999 -0.005477 -0.308788 -0.349187 -0.354481 -0.442897  2.189538 -0.743599  \n\n[100000 rows x 38 columns]"
     },
     "execution_count": 7,
     "metadata": {},
     "output_type": "execute_result"
    }
   ],
   "source": [
    "df"
   ]
  },
  {
   "cell_type": "code",
   "execution_count": 8,
   "metadata": {},
   "outputs": [],
   "source": [
    "df = pd.concat([df, target], axis=1)"
   ]
  },
  {
   "cell_type": "code",
   "execution_count": 9,
   "metadata": {},
   "outputs": [
    {
     "data": {
      "text/html": "<div>\n<style scoped>\n    .dataframe tbody tr th:only-of-type {\n        vertical-align: middle;\n    }\n\n    .dataframe tbody tr th {\n        vertical-align: top;\n    }\n\n    .dataframe thead th {\n        text-align: right;\n    }\n</style>\n<table border=\"1\" class=\"dataframe\">\n  <thead>\n    <tr style=\"text-align: right;\">\n      <th></th>\n      <th>1</th>\n      <th>3</th>\n      <th>5</th>\n      <th>9</th>\n      <th>10</th>\n      <th>11</th>\n      <th>12</th>\n      <th>13</th>\n      <th>14</th>\n      <th>15</th>\n      <th>...</th>\n      <th>7_S</th>\n      <th>7_T</th>\n      <th>7_U</th>\n      <th>8_A</th>\n      <th>8_B</th>\n      <th>8_C</th>\n      <th>8_D</th>\n      <th>8_E</th>\n      <th>8_F</th>\n      <th>17</th>\n    </tr>\n  </thead>\n  <tbody>\n    <tr>\n      <th>0</th>\n      <td>-1.429165</td>\n      <td>0.394291</td>\n      <td>-1.022764</td>\n      <td>1.572874</td>\n      <td>-0.531863</td>\n      <td>-1.074732</td>\n      <td>1.770393</td>\n      <td>0.139756</td>\n      <td>-0.724828</td>\n      <td>-1.128304</td>\n      <td>...</td>\n      <td>-0.567358</td>\n      <td>-0.067682</td>\n      <td>-0.005477</td>\n      <td>-0.308788</td>\n      <td>-0.349187</td>\n      <td>-0.354481</td>\n      <td>-0.442897</td>\n      <td>-0.456717</td>\n      <td>1.344811</td>\n      <td>0-10</td>\n    </tr>\n    <tr>\n      <th>1</th>\n      <td>0.541579</td>\n      <td>0.394291</td>\n      <td>0.685815</td>\n      <td>-0.711338</td>\n      <td>1.653223</td>\n      <td>1.654613</td>\n      <td>0.320570</td>\n      <td>0.139756</td>\n      <td>0.394191</td>\n      <td>0.460842</td>\n      <td>...</td>\n      <td>-0.567358</td>\n      <td>-0.067682</td>\n      <td>-0.005477</td>\n      <td>-0.308788</td>\n      <td>-0.349187</td>\n      <td>-0.354481</td>\n      <td>-0.442897</td>\n      <td>-0.456717</td>\n      <td>1.344811</td>\n      <td>21-30</td>\n    </tr>\n    <tr>\n      <th>2</th>\n      <td>-1.892870</td>\n      <td>0.072005</td>\n      <td>-1.022764</td>\n      <td>0.430768</td>\n      <td>-0.511928</td>\n      <td>-0.444883</td>\n      <td>1.770393</td>\n      <td>0.139756</td>\n      <td>-0.724828</td>\n      <td>1.520272</td>\n      <td>...</td>\n      <td>1.762557</td>\n      <td>-0.067682</td>\n      <td>-0.005477</td>\n      <td>-0.308788</td>\n      <td>-0.349187</td>\n      <td>-0.354481</td>\n      <td>-0.442897</td>\n      <td>-0.456717</td>\n      <td>1.344811</td>\n      <td>11-20</td>\n    </tr>\n    <tr>\n      <th>3</th>\n      <td>1.584914</td>\n      <td>1.361147</td>\n      <td>-0.168474</td>\n      <td>1.572874</td>\n      <td>1.547104</td>\n      <td>-0.234934</td>\n      <td>-1.129253</td>\n      <td>0.139756</td>\n      <td>0.394191</td>\n      <td>-1.658019</td>\n      <td>...</td>\n      <td>1.762557</td>\n      <td>-0.067682</td>\n      <td>-0.005477</td>\n      <td>-0.308788</td>\n      <td>2.863796</td>\n      <td>-0.354481</td>\n      <td>-0.442897</td>\n      <td>-0.456717</td>\n      <td>-0.743599</td>\n      <td>51-60</td>\n    </tr>\n    <tr>\n      <th>4</th>\n      <td>-0.501756</td>\n      <td>-1.217137</td>\n      <td>-0.168474</td>\n      <td>-0.711338</td>\n      <td>-1.141301</td>\n      <td>0.184966</td>\n      <td>1.770393</td>\n      <td>0.139756</td>\n      <td>-0.724828</td>\n      <td>0.460842</td>\n      <td>...</td>\n      <td>1.762557</td>\n      <td>-0.067682</td>\n      <td>-0.005477</td>\n      <td>-0.308788</td>\n      <td>-0.349187</td>\n      <td>-0.354481</td>\n      <td>-0.442897</td>\n      <td>2.189538</td>\n      <td>-0.743599</td>\n      <td>51-60</td>\n    </tr>\n    <tr>\n      <th>...</th>\n      <td>...</td>\n      <td>...</td>\n      <td>...</td>\n      <td>...</td>\n      <td>...</td>\n      <td>...</td>\n      <td>...</td>\n      <td>...</td>\n      <td>...</td>\n      <td>...</td>\n      <td>...</td>\n      <td>...</td>\n      <td>...</td>\n      <td>...</td>\n      <td>...</td>\n      <td>...</td>\n      <td>...</td>\n      <td>...</td>\n      <td>...</td>\n      <td>...</td>\n      <td>...</td>\n    </tr>\n    <tr>\n      <th>99995</th>\n      <td>-0.733608</td>\n      <td>1.361147</td>\n      <td>-0.168474</td>\n      <td>0.430768</td>\n      <td>0.447841</td>\n      <td>-0.864783</td>\n      <td>-1.129253</td>\n      <td>0.139756</td>\n      <td>1.513211</td>\n      <td>0.460842</td>\n      <td>...</td>\n      <td>-0.567358</td>\n      <td>-0.067682</td>\n      <td>-0.005477</td>\n      <td>-0.308788</td>\n      <td>2.863796</td>\n      <td>-0.354481</td>\n      <td>-0.442897</td>\n      <td>-0.456717</td>\n      <td>-0.743599</td>\n      <td>More than 100 Days</td>\n    </tr>\n    <tr>\n      <th>99996</th>\n      <td>1.121210</td>\n      <td>2.005719</td>\n      <td>-1.022764</td>\n      <td>-0.711338</td>\n      <td>-0.684586</td>\n      <td>-0.444883</td>\n      <td>1.770393</td>\n      <td>0.139756</td>\n      <td>-0.165318</td>\n      <td>-1.128304</td>\n      <td>...</td>\n      <td>-0.567358</td>\n      <td>-0.067682</td>\n      <td>-0.005477</td>\n      <td>-0.308788</td>\n      <td>-0.349187</td>\n      <td>-0.354481</td>\n      <td>-0.442897</td>\n      <td>-0.456717</td>\n      <td>1.344811</td>\n      <td>51-60</td>\n    </tr>\n    <tr>\n      <th>99997</th>\n      <td>-1.429165</td>\n      <td>0.394291</td>\n      <td>-0.168474</td>\n      <td>0.430768</td>\n      <td>0.696886</td>\n      <td>-1.074732</td>\n      <td>0.320570</td>\n      <td>-1.369811</td>\n      <td>-0.724828</td>\n      <td>-0.598589</td>\n      <td>...</td>\n      <td>-0.567358</td>\n      <td>-0.067682</td>\n      <td>-0.005477</td>\n      <td>-0.308788</td>\n      <td>-0.349187</td>\n      <td>-0.354481</td>\n      <td>-0.442897</td>\n      <td>-0.456717</td>\n      <td>1.344811</td>\n      <td>31-40</td>\n    </tr>\n    <tr>\n      <th>99998</th>\n      <td>1.584914</td>\n      <td>1.361147</td>\n      <td>-1.022764</td>\n      <td>1.572874</td>\n      <td>1.263311</td>\n      <td>1.654613</td>\n      <td>0.320570</td>\n      <td>0.139756</td>\n      <td>-0.165318</td>\n      <td>-0.068874</td>\n      <td>...</td>\n      <td>1.762557</td>\n      <td>-0.067682</td>\n      <td>-0.005477</td>\n      <td>-0.308788</td>\n      <td>2.863796</td>\n      <td>-0.354481</td>\n      <td>-0.442897</td>\n      <td>-0.456717</td>\n      <td>-0.743599</td>\n      <td>11-20</td>\n    </tr>\n    <tr>\n      <th>99999</th>\n      <td>0.773431</td>\n      <td>-1.217137</td>\n      <td>-0.168474</td>\n      <td>-0.711338</td>\n      <td>1.142881</td>\n      <td>0.184966</td>\n      <td>-1.129253</td>\n      <td>0.139756</td>\n      <td>-0.724828</td>\n      <td>-0.068874</td>\n      <td>...</td>\n      <td>-0.567358</td>\n      <td>-0.067682</td>\n      <td>-0.005477</td>\n      <td>-0.308788</td>\n      <td>-0.349187</td>\n      <td>-0.354481</td>\n      <td>-0.442897</td>\n      <td>2.189538</td>\n      <td>-0.743599</td>\n      <td>41-50</td>\n    </tr>\n  </tbody>\n</table>\n<p>100000 rows × 39 columns</p>\n</div>",
      "text/plain": "              1         3         5         9        10        11        12  \\\n0     -1.429165  0.394291 -1.022764  1.572874 -0.531863 -1.074732  1.770393   \n1      0.541579  0.394291  0.685815 -0.711338  1.653223  1.654613  0.320570   \n2     -1.892870  0.072005 -1.022764  0.430768 -0.511928 -0.444883  1.770393   \n3      1.584914  1.361147 -0.168474  1.572874  1.547104 -0.234934 -1.129253   \n4     -0.501756 -1.217137 -0.168474 -0.711338 -1.141301  0.184966  1.770393   \n...         ...       ...       ...       ...       ...       ...       ...   \n99995 -0.733608  1.361147 -0.168474  0.430768  0.447841 -0.864783 -1.129253   \n99996  1.121210  2.005719 -1.022764 -0.711338 -0.684586 -0.444883  1.770393   \n99997 -1.429165  0.394291 -0.168474  0.430768  0.696886 -1.074732  0.320570   \n99998  1.584914  1.361147 -1.022764  1.572874  1.263311  1.654613  0.320570   \n99999  0.773431 -1.217137 -0.168474 -0.711338  1.142881  0.184966 -1.129253   \n\n             13        14        15  ...       7_S       7_T       7_U  \\\n0      0.139756 -0.724828 -1.128304  ... -0.567358 -0.067682 -0.005477   \n1      0.139756  0.394191  0.460842  ... -0.567358 -0.067682 -0.005477   \n2      0.139756 -0.724828  1.520272  ...  1.762557 -0.067682 -0.005477   \n3      0.139756  0.394191 -1.658019  ...  1.762557 -0.067682 -0.005477   \n4      0.139756 -0.724828  0.460842  ...  1.762557 -0.067682 -0.005477   \n...         ...       ...       ...  ...       ...       ...       ...   \n99995  0.139756  1.513211  0.460842  ... -0.567358 -0.067682 -0.005477   \n99996  0.139756 -0.165318 -1.128304  ... -0.567358 -0.067682 -0.005477   \n99997 -1.369811 -0.724828 -0.598589  ... -0.567358 -0.067682 -0.005477   \n99998  0.139756 -0.165318 -0.068874  ...  1.762557 -0.067682 -0.005477   \n99999  0.139756 -0.724828 -0.068874  ... -0.567358 -0.067682 -0.005477   \n\n            8_A       8_B       8_C       8_D       8_E       8_F  \\\n0     -0.308788 -0.349187 -0.354481 -0.442897 -0.456717  1.344811   \n1     -0.308788 -0.349187 -0.354481 -0.442897 -0.456717  1.344811   \n2     -0.308788 -0.349187 -0.354481 -0.442897 -0.456717  1.344811   \n3     -0.308788  2.863796 -0.354481 -0.442897 -0.456717 -0.743599   \n4     -0.308788 -0.349187 -0.354481 -0.442897  2.189538 -0.743599   \n...         ...       ...       ...       ...       ...       ...   \n99995 -0.308788  2.863796 -0.354481 -0.442897 -0.456717 -0.743599   \n99996 -0.308788 -0.349187 -0.354481 -0.442897 -0.456717  1.344811   \n99997 -0.308788 -0.349187 -0.354481 -0.442897 -0.456717  1.344811   \n99998 -0.308788  2.863796 -0.354481 -0.442897 -0.456717 -0.743599   \n99999 -0.308788 -0.349187 -0.354481 -0.442897  2.189538 -0.743599   \n\n                       17  \n0                    0-10  \n1                   21-30  \n2                   11-20  \n3                   51-60  \n4                   51-60  \n...                   ...  \n99995  More than 100 Days  \n99996               51-60  \n99997               31-40  \n99998               11-20  \n99999               41-50  \n\n[100000 rows x 39 columns]"
     },
     "execution_count": 9,
     "metadata": {},
     "output_type": "execute_result"
    }
   ],
   "source": [
    "df"
   ]
  },
  {
   "cell_type": "code",
   "execution_count": 10,
   "metadata": {},
   "outputs": [],
   "source": [
    "train = df[:80000]\n",
    "test = df[:-20001:-1]"
   ]
  },
  {
   "cell_type": "code",
   "execution_count": 11,
   "metadata": {},
   "outputs": [
    {
     "data": {
      "text/plain": "(80000, 39)"
     },
     "execution_count": 11,
     "metadata": {},
     "output_type": "execute_result"
    }
   ],
   "source": [
    "train.shape"
   ]
  },
  {
   "cell_type": "code",
   "execution_count": 12,
   "metadata": {},
   "outputs": [
    {
     "data": {
      "text/plain": "(20000, 39)"
     },
     "execution_count": 12,
     "metadata": {},
     "output_type": "execute_result"
    }
   ],
   "source": [
    "test.shape"
   ]
  },
  {
   "cell_type": "code",
   "execution_count": 13,
   "metadata": {},
   "outputs": [
    {
     "name": "stdout",
     "output_type": "stream",
     "text": [
      "Checking whether there is an H2O instance running at http://localhost:54321 . connected.\n"
     ]
    },
    {
     "data": {
      "text/html": "<div style=\"overflow:auto\"><table style=\"width:50%\"><tr><td>H2O_cluster_uptime:</td>\n<td>1 hour 59 mins</td></tr>\n<tr><td>H2O_cluster_timezone:</td>\n<td>Europe/Madrid</td></tr>\n<tr><td>H2O_data_parsing_timezone:</td>\n<td>UTC</td></tr>\n<tr><td>H2O_cluster_version:</td>\n<td>3.32.1.3</td></tr>\n<tr><td>H2O_cluster_version_age:</td>\n<td>1 month and 7 days </td></tr>\n<tr><td>H2O_cluster_name:</td>\n<td>H2O_from_python_jose_9pqzzk</td></tr>\n<tr><td>H2O_cluster_total_nodes:</td>\n<td>1</td></tr>\n<tr><td>H2O_cluster_free_memory:</td>\n<td>3.025 Gb</td></tr>\n<tr><td>H2O_cluster_total_cores:</td>\n<td>8</td></tr>\n<tr><td>H2O_cluster_allowed_cores:</td>\n<td>8</td></tr>\n<tr><td>H2O_cluster_status:</td>\n<td>locked, healthy</td></tr>\n<tr><td>H2O_connection_url:</td>\n<td>http://localhost:54321</td></tr>\n<tr><td>H2O_connection_proxy:</td>\n<td>{\"http\": null, \"https\": null}</td></tr>\n<tr><td>H2O_internal_security:</td>\n<td>False</td></tr>\n<tr><td>H2O_API_Extensions:</td>\n<td>Amazon S3, XGBoost, Algos, AutoML, Core V3, TargetEncoder, Core V4</td></tr>\n<tr><td>Python_version:</td>\n<td>3.7.4 final</td></tr></table></div>",
      "text/plain": "--------------------------  ------------------------------------------------------------------\nH2O_cluster_uptime:         1 hour 59 mins\nH2O_cluster_timezone:       Europe/Madrid\nH2O_data_parsing_timezone:  UTC\nH2O_cluster_version:        3.32.1.3\nH2O_cluster_version_age:    1 month and 7 days\nH2O_cluster_name:           H2O_from_python_jose_9pqzzk\nH2O_cluster_total_nodes:    1\nH2O_cluster_free_memory:    3.025 Gb\nH2O_cluster_total_cores:    8\nH2O_cluster_allowed_cores:  8\nH2O_cluster_status:         locked, healthy\nH2O_connection_url:         http://localhost:54321\nH2O_connection_proxy:       {\"http\": null, \"https\": null}\nH2O_internal_security:      False\nH2O_API_Extensions:         Amazon S3, XGBoost, Algos, AutoML, Core V3, TargetEncoder, Core V4\nPython_version:             3.7.4 final\n--------------------------  ------------------------------------------------------------------"
     },
     "metadata": {},
     "output_type": "display_data"
    }
   ],
   "source": [
    "h2o.init()"
   ]
  },
  {
   "cell_type": "code",
   "execution_count": 14,
   "metadata": {},
   "outputs": [
    {
     "name": "stdout",
     "output_type": "stream",
     "text": [
      "Parse progress: |█████████████████████████████████████████████████████████| 100%\n",
      "Parse progress: |█████████████████████████████████████████████████████████| 100%\n"
     ]
    }
   ],
   "source": [
    "h2train = h2o.H2OFrame(train)\n",
    "h2test = h2o.H2OFrame(test)"
   ]
  },
  {
   "cell_type": "code",
   "execution_count": 15,
   "metadata": {},
   "outputs": [],
   "source": [
    "columnas = [a for a in h2train.columns if a != \"17\"]\n",
    "x = columnas\n",
    "y = \"17\""
   ]
  },
  {
   "cell_type": "code",
   "execution_count": 16,
   "metadata": {},
   "outputs": [
    {
     "name": "stdout",
     "output_type": "stream",
     "text": [
      "AutoML progress: |████████████████████████████████████████████████████████| 100%\n"
     ]
    }
   ],
   "source": [
    "automl = H2OAutoML(max_runtime_secs=300, sort_metric='mean_per_class_error')\n",
    "automl.train(x=x, y=y, training_frame=h2train)"
   ]
  },
  {
   "cell_type": "code",
   "execution_count": 37,
   "metadata": {},
   "outputs": [
    {
     "data": {
      "text/html": "<table>\n<thead>\n<tr><th>model_id                                           </th><th style=\"text-align: right;\">  mean_per_class_error</th><th style=\"text-align: right;\">  logloss</th><th style=\"text-align: right;\">    rmse</th><th style=\"text-align: right;\">     mse</th><th style=\"text-align: right;\">  auc</th><th style=\"text-align: right;\">  aucpr</th></tr>\n</thead>\n<tbody>\n<tr><td>StackedEnsemble_AllModels_AutoML_20210627_174418   </td><td style=\"text-align: right;\">              0.768362</td><td style=\"text-align: right;\">  1.54652</td><td style=\"text-align: right;\">0.73697 </td><td style=\"text-align: right;\">0.543125</td><td style=\"text-align: right;\">  nan</td><td style=\"text-align: right;\">    nan</td></tr>\n<tr><td>GBM_3_AutoML_20210627_174418                       </td><td style=\"text-align: right;\">              0.771312</td><td style=\"text-align: right;\">  2.05927</td><td style=\"text-align: right;\">0.867806</td><td style=\"text-align: right;\">0.753087</td><td style=\"text-align: right;\">  nan</td><td style=\"text-align: right;\">    nan</td></tr>\n<tr><td>StackedEnsemble_BestOfFamily_AutoML_20210627_174418</td><td style=\"text-align: right;\">              0.773477</td><td style=\"text-align: right;\">  1.55885</td><td style=\"text-align: right;\">0.740363</td><td style=\"text-align: right;\">0.548137</td><td style=\"text-align: right;\">  nan</td><td style=\"text-align: right;\">    nan</td></tr>\n<tr><td>GBM_2_AutoML_20210627_174418                       </td><td style=\"text-align: right;\">              0.776918</td><td style=\"text-align: right;\">  2.05996</td><td style=\"text-align: right;\">0.867991</td><td style=\"text-align: right;\">0.753408</td><td style=\"text-align: right;\">  nan</td><td style=\"text-align: right;\">    nan</td></tr>\n<tr><td>XGBoost_2_AutoML_20210627_174418                   </td><td style=\"text-align: right;\">              0.778254</td><td style=\"text-align: right;\">  1.9632 </td><td style=\"text-align: right;\">0.850242</td><td style=\"text-align: right;\">0.722912</td><td style=\"text-align: right;\">  nan</td><td style=\"text-align: right;\">    nan</td></tr>\n<tr><td>GBM_4_AutoML_20210627_174418                       </td><td style=\"text-align: right;\">              0.779878</td><td style=\"text-align: right;\">  2.17979</td><td style=\"text-align: right;\">0.884504</td><td style=\"text-align: right;\">0.782347</td><td style=\"text-align: right;\">  nan</td><td style=\"text-align: right;\">    nan</td></tr>\n<tr><td>XGBoost_3_AutoML_20210627_174418                   </td><td style=\"text-align: right;\">              0.780586</td><td style=\"text-align: right;\">  1.81029</td><td style=\"text-align: right;\">0.821389</td><td style=\"text-align: right;\">0.67468 </td><td style=\"text-align: right;\">  nan</td><td style=\"text-align: right;\">    nan</td></tr>\n<tr><td>GBM_5_AutoML_20210627_174418                       </td><td style=\"text-align: right;\">              0.782272</td><td style=\"text-align: right;\">  2.19076</td><td style=\"text-align: right;\">0.886344</td><td style=\"text-align: right;\">0.785606</td><td style=\"text-align: right;\">  nan</td><td style=\"text-align: right;\">    nan</td></tr>\n<tr><td>XGBoost_grid__1_AutoML_20210627_174418_model_1     </td><td style=\"text-align: right;\">              0.786873</td><td style=\"text-align: right;\">  1.82472</td><td style=\"text-align: right;\">0.822175</td><td style=\"text-align: right;\">0.675972</td><td style=\"text-align: right;\">  nan</td><td style=\"text-align: right;\">    nan</td></tr>\n<tr><td>DeepLearning_grid__1_AutoML_20210627_174418_model_2</td><td style=\"text-align: right;\">              0.792026</td><td style=\"text-align: right;\">  1.63057</td><td style=\"text-align: right;\">0.751087</td><td style=\"text-align: right;\">0.564131</td><td style=\"text-align: right;\">  nan</td><td style=\"text-align: right;\">    nan</td></tr>\n</tbody>\n</table>"
     },
     "metadata": {},
     "output_type": "display_data"
    },
    {
     "data": {
      "text/plain": ""
     },
     "execution_count": 37,
     "metadata": {},
     "output_type": "execute_result"
    }
   ],
   "source": [
    "automl.leaderboard"
   ]
  },
  {
   "cell_type": "code",
   "execution_count": 18,
   "metadata": {},
   "outputs": [
    {
     "ename": "NameError",
     "evalue": "name 'a' is not defined",
     "output_type": "error",
     "traceback": [
      "\u001b[0;31m---------------------------------------------------------------------------\u001b[0m",
      "\u001b[0;31mNameError\u001b[0m                                 Traceback (most recent call last)",
      "\u001b[0;32m<ipython-input-18-3f786850e387>\u001b[0m in \u001b[0;36m<module>\u001b[0;34m\u001b[0m\n\u001b[0;32m----> 1\u001b[0;31m \u001b[0ma\u001b[0m\u001b[0;34m\u001b[0m\u001b[0;34m\u001b[0m\u001b[0m\n\u001b[0m",
      "\u001b[0;31mNameError\u001b[0m: name 'a' is not defined"
     ]
    }
   ],
   "source": [
    "a"
   ]
  },
  {
   "cell_type": "markdown",
   "metadata": {},
   "source": [
    "## Predicción "
   ]
  },
  {
   "cell_type": "code",
   "execution_count": null,
   "metadata": {},
   "outputs": [],
   "source": [
    "test = pd.read_csv('how-long-would-you-stay-data-ft-apr-2021/hospital_test.csv', index_col=0)"
   ]
  },
  {
   "cell_type": "code",
   "execution_count": null,
   "metadata": {},
   "outputs": [],
   "source": [
    "test = test.fillna(0)\n",
    "test['13'].unique()\n",
    "diccionario_13 = {'Minor': 0, 'Moderate': 1, 'Extreme': 2}\n",
    "\n",
    "le = LabelEncoder()\n",
    "test[\"2\"] = le.fit_transform(test[\"2\"])\n",
    "test[\"4\"] = le.fit_transform(test[\"4\"])\n",
    "test[\"6\"] = le.fit_transform(test[\"6\"])\n",
    "test[\"7\"] = le.fit_transform(test[\"7\"])\n",
    "test[\"8\"] = le.fit_transform(test[\"8\"])\n",
    "test[\"12\"] = le.fit_transform(test[\"12\"])\n",
    "test[\"15\"] = le.fit_transform(test[\"15\"])\n",
    "test['13'] = test['13'].apply(lambda x: diccionario_13[x])\n",
    "\n",
    "test = pd.DataFrame(scaler.fit_transform(test), columns=test.columns, index=test.index)"
   ]
  },
  {
   "cell_type": "code",
   "execution_count": null,
   "metadata": {},
   "outputs": [
    {
     "name": "stdout",
     "output_type": "stream",
     "text": [
      "Parse progress: |█████████████████████████████████████████████████████████| 100%\n"
     ]
    }
   ],
   "source": [
    "h2test = h2o.H2OFrame(test)"
   ]
  },
  {
   "cell_type": "code",
   "execution_count": null,
   "metadata": {},
   "outputs": [
    {
     "data": {
      "text/html": "<div>\n<style scoped>\n    .dataframe tbody tr th:only-of-type {\n        vertical-align: middle;\n    }\n\n    .dataframe tbody tr th {\n        vertical-align: top;\n    }\n\n    .dataframe thead th {\n        text-align: right;\n    }\n</style>\n<table border=\"1\" class=\"dataframe\">\n  <thead>\n    <tr style=\"text-align: right;\">\n      <th></th>\n      <th>1</th>\n      <th>2</th>\n      <th>3</th>\n      <th>4</th>\n      <th>5</th>\n      <th>6</th>\n      <th>7</th>\n      <th>8</th>\n      <th>9</th>\n      <th>10</th>\n      <th>11</th>\n      <th>12</th>\n      <th>13</th>\n      <th>14</th>\n      <th>15</th>\n      <th>16</th>\n    </tr>\n    <tr>\n      <th>0</th>\n      <th></th>\n      <th></th>\n      <th></th>\n      <th></th>\n      <th></th>\n      <th></th>\n      <th></th>\n      <th></th>\n      <th></th>\n      <th></th>\n      <th></th>\n      <th></th>\n      <th></th>\n      <th></th>\n      <th></th>\n      <th></th>\n    </tr>\n  </thead>\n  <tbody>\n    <tr>\n      <th>314114</th>\n      <td>0.081230</td>\n      <td>-0.817644</td>\n      <td>0.719671</td>\n      <td>0.295902</td>\n      <td>0.686327</td>\n      <td>0.098915</td>\n      <td>1.382554</td>\n      <td>-0.760545</td>\n      <td>-0.709506</td>\n      <td>-0.168530</td>\n      <td>0.173261</td>\n      <td>-1.136777</td>\n      <td>-1.371718</td>\n      <td>-0.731372</td>\n      <td>-0.067110</td>\n      <td>-0.095923</td>\n    </tr>\n    <tr>\n      <th>208989</th>\n      <td>-0.382030</td>\n      <td>0.482800</td>\n      <td>0.075000</td>\n      <td>1.626070</td>\n      <td>-0.170294</td>\n      <td>0.098915</td>\n      <td>1.382554</td>\n      <td>1.017053</td>\n      <td>-0.709506</td>\n      <td>0.960735</td>\n      <td>1.632692</td>\n      <td>0.312106</td>\n      <td>0.136173</td>\n      <td>-0.159178</td>\n      <td>-0.595734</td>\n      <td>0.780214</td>\n    </tr>\n    <tr>\n      <th>305872</th>\n      <td>-0.150400</td>\n      <td>1.783243</td>\n      <td>-1.214343</td>\n      <td>-1.034265</td>\n      <td>0.686327</td>\n      <td>0.098915</td>\n      <td>0.140942</td>\n      <td>0.424521</td>\n      <td>1.578265</td>\n      <td>-1.573049</td>\n      <td>-0.660699</td>\n      <td>-1.136777</td>\n      <td>-1.371718</td>\n      <td>-0.159178</td>\n      <td>1.518764</td>\n      <td>0.166185</td>\n    </tr>\n    <tr>\n      <th>266099</th>\n      <td>-1.771812</td>\n      <td>0.482800</td>\n      <td>-0.569672</td>\n      <td>1.626070</td>\n      <td>0.686327</td>\n      <td>-3.475109</td>\n      <td>0.140942</td>\n      <td>-1.945610</td>\n      <td>-0.709506</td>\n      <td>-0.237797</td>\n      <td>0.381751</td>\n      <td>1.760989</td>\n      <td>1.644064</td>\n      <td>0.413016</td>\n      <td>-0.595734</td>\n      <td>-1.492611</td>\n    </tr>\n    <tr>\n      <th>13228</th>\n      <td>-1.424367</td>\n      <td>-0.817644</td>\n      <td>0.397335</td>\n      <td>-1.034265</td>\n      <td>0.686327</td>\n      <td>0.098915</td>\n      <td>0.140942</td>\n      <td>1.017053</td>\n      <td>-1.853391</td>\n      <td>1.328959</td>\n      <td>0.173261</td>\n      <td>-1.136777</td>\n      <td>-1.371718</td>\n      <td>-0.159178</td>\n      <td>-1.124359</td>\n      <td>-0.223311</td>\n    </tr>\n  </tbody>\n</table>\n</div>",
      "text/plain": "               1         2         3         4         5         6         7  \\\n0                                                                              \n314114  0.081230 -0.817644  0.719671  0.295902  0.686327  0.098915  1.382554   \n208989 -0.382030  0.482800  0.075000  1.626070 -0.170294  0.098915  1.382554   \n305872 -0.150400  1.783243 -1.214343 -1.034265  0.686327  0.098915  0.140942   \n266099 -1.771812  0.482800 -0.569672  1.626070  0.686327 -3.475109  0.140942   \n13228  -1.424367 -0.817644  0.397335 -1.034265  0.686327  0.098915  0.140942   \n\n               8         9        10        11        12        13        14  \\\n0                                                                              \n314114 -0.760545 -0.709506 -0.168530  0.173261 -1.136777 -1.371718 -0.731372   \n208989  1.017053 -0.709506  0.960735  1.632692  0.312106  0.136173 -0.159178   \n305872  0.424521  1.578265 -1.573049 -0.660699 -1.136777 -1.371718 -0.159178   \n266099 -1.945610 -0.709506 -0.237797  0.381751  1.760989  1.644064  0.413016   \n13228   1.017053 -1.853391  1.328959  0.173261 -1.136777 -1.371718 -0.159178   \n\n              15        16  \n0                           \n314114 -0.067110 -0.095923  \n208989 -0.595734  0.780214  \n305872  1.518764  0.166185  \n266099 -0.595734 -1.492611  \n13228  -1.124359 -0.223311  "
     },
     "execution_count": 44,
     "metadata": {},
     "output_type": "execute_result"
    }
   ],
   "source": [
    "test.head()"
   ]
  },
  {
   "cell_type": "code",
   "execution_count": null,
   "metadata": {},
   "outputs": [],
   "source": [
    "index_test = list(test.index)"
   ]
  },
  {
   "cell_type": "markdown",
   "metadata": {},
   "source": [
    "### 2. Carga los datos de `diamonds_test.csv` para predecir.\n",
    "\n",
    "**¿De dónde saco `diamonds_test.csv`?**"
   ]
  },
  {
   "cell_type": "code",
   "execution_count": null,
   "metadata": {},
   "outputs": [
    {
     "name": "stdout",
     "output_type": "stream",
     "text": [
      "stackedensemble prediction progress: |████████████████████████████████████| 100%\n"
     ]
    }
   ],
   "source": [
    "predictions_submit = automl.leader.predict(h2test)"
   ]
  },
  {
   "cell_type": "code",
   "execution_count": null,
   "metadata": {},
   "outputs": [],
   "source": [
    "#predictions_submit = np.argmax(predictions_submit, axis=1).reshape(-1, 1).copy()"
   ]
  },
  {
   "cell_type": "code",
   "execution_count": null,
   "metadata": {},
   "outputs": [],
   "source": [
    "predictions_submit = predictions_submit['predict']"
   ]
  },
  {
   "cell_type": "code",
   "execution_count": null,
   "metadata": {},
   "outputs": [
    {
     "data": {
      "text/plain": "(133744, 1)"
     },
     "execution_count": 48,
     "metadata": {},
     "output_type": "execute_result"
    }
   ],
   "source": [
    "predictions_submit.shape"
   ]
  },
  {
   "cell_type": "code",
   "execution_count": null,
   "metadata": {},
   "outputs": [
    {
     "data": {
      "text/html": "<div>\n<style scoped>\n    .dataframe tbody tr th:only-of-type {\n        vertical-align: middle;\n    }\n\n    .dataframe tbody tr th {\n        vertical-align: top;\n    }\n\n    .dataframe thead th {\n        text-align: right;\n    }\n</style>\n<table border=\"1\" class=\"dataframe\">\n  <thead>\n    <tr style=\"text-align: right;\">\n      <th></th>\n      <th>predict</th>\n    </tr>\n  </thead>\n  <tbody>\n    <tr>\n      <th>0</th>\n      <td>11-20</td>\n    </tr>\n    <tr>\n      <th>1</th>\n      <td>51-60</td>\n    </tr>\n    <tr>\n      <th>2</th>\n      <td>11-20</td>\n    </tr>\n    <tr>\n      <th>3</th>\n      <td>51-60</td>\n    </tr>\n    <tr>\n      <th>4</th>\n      <td>21-30</td>\n    </tr>\n    <tr>\n      <th>...</th>\n      <td>...</td>\n    </tr>\n    <tr>\n      <th>133739</th>\n      <td>11-20</td>\n    </tr>\n    <tr>\n      <th>133740</th>\n      <td>51-60</td>\n    </tr>\n    <tr>\n      <th>133741</th>\n      <td>11-20</td>\n    </tr>\n    <tr>\n      <th>133742</th>\n      <td>21-30</td>\n    </tr>\n    <tr>\n      <th>133743</th>\n      <td>21-30</td>\n    </tr>\n  </tbody>\n</table>\n<p>133744 rows × 1 columns</p>\n</div>",
      "text/plain": "       predict\n0        11-20\n1        51-60\n2        11-20\n3        51-60\n4        21-30\n...        ...\n133739   11-20\n133740   51-60\n133741   11-20\n133742   21-30\n133743   21-30\n\n[133744 rows x 1 columns]"
     },
     "execution_count": 49,
     "metadata": {},
     "output_type": "execute_result"
    }
   ],
   "source": [
    "predictions_submit.as_data_frame()"
   ]
  },
  {
   "cell_type": "code",
   "execution_count": null,
   "metadata": {},
   "outputs": [
    {
     "data": {
      "text/html": "<div>\n<style scoped>\n    .dataframe tbody tr th:only-of-type {\n        vertical-align: middle;\n    }\n\n    .dataframe tbody tr th {\n        vertical-align: top;\n    }\n\n    .dataframe thead th {\n        text-align: right;\n    }\n</style>\n<table border=\"1\" class=\"dataframe\">\n  <thead>\n    <tr style=\"text-align: right;\">\n      <th></th>\n      <th>id</th>\n      <th>days</th>\n    </tr>\n  </thead>\n  <tbody>\n    <tr>\n      <th>0</th>\n      <td>314114</td>\n      <td>11-20</td>\n    </tr>\n    <tr>\n      <th>1</th>\n      <td>208989</td>\n      <td>31-40</td>\n    </tr>\n    <tr>\n      <th>2</th>\n      <td>305872</td>\n      <td>81-90</td>\n    </tr>\n    <tr>\n      <th>3</th>\n      <td>266099</td>\n      <td>21-30</td>\n    </tr>\n    <tr>\n      <th>4</th>\n      <td>13228</td>\n      <td>31-40</td>\n    </tr>\n  </tbody>\n</table>\n</div>",
      "text/plain": "       id   days\n0  314114  11-20\n1  208989  31-40\n2  305872  81-90\n3  266099  21-30\n4   13228  31-40"
     },
     "execution_count": 45,
     "metadata": {},
     "output_type": "execute_result"
    }
   ],
   "source": [
    "submission_test = pd.read_csv('how-long-would-you-stay-data-ft-apr-2021/sample_submission.csv')\n",
    "submission_test.head()"
   ]
  },
  {
   "cell_type": "code",
   "execution_count": null,
   "metadata": {},
   "outputs": [
    {
     "data": {
      "text/plain": "(133744, 2)"
     },
     "execution_count": 46,
     "metadata": {},
     "output_type": "execute_result"
    }
   ],
   "source": [
    "submission_test.shape"
   ]
  },
  {
   "cell_type": "code",
   "execution_count": null,
   "metadata": {},
   "outputs": [
    {
     "data": {
      "text/plain": "(array([32762., 23145.,  2077., 36744.,  4253.,  1119., 10062.,  4933.,\n        14742.,  3907.]),\n array([ 0.,  1.,  2.,  3.,  4.,  5.,  6.,  7.,  8.,  9., 10.]),\n <BarContainer object of 10 artists>)"
     },
     "execution_count": 47,
     "metadata": {},
     "output_type": "execute_result"
    },
    {
     "data": {
      "image/png": "[encoded data removed]",
      "text/plain": "<Figure size 432x288 with 1 Axes>"
     },
     "metadata": {
      "needs_background": "light"
     },
     "output_type": "display_data"
    }
   ],
   "source": [
    "plt.hist(x=submission_test['days'])"
   ]
  },
  {
   "cell_type": "code",
   "execution_count": null,
   "metadata": {},
   "outputs": [],
   "source": [
    "submission = pd.DataFrame({\"id\": index_test, \"days\": predictions_submit.as_data_frame()['predict']})"
   ]
  },
  {
   "cell_type": "code",
   "execution_count": null,
   "metadata": {},
   "outputs": [
    {
     "data": {
      "text/html": "<div>\n<style scoped>\n    .dataframe tbody tr th:only-of-type {\n        vertical-align: middle;\n    }\n\n    .dataframe tbody tr th {\n        vertical-align: top;\n    }\n\n    .dataframe thead th {\n        text-align: right;\n    }\n</style>\n<table border=\"1\" class=\"dataframe\">\n  <thead>\n    <tr style=\"text-align: right;\">\n      <th></th>\n      <th>id</th>\n      <th>days</th>\n    </tr>\n  </thead>\n  <tbody>\n    <tr>\n      <th>0</th>\n      <td>314114</td>\n      <td>11-20</td>\n    </tr>\n    <tr>\n      <th>1</th>\n      <td>208989</td>\n      <td>51-60</td>\n    </tr>\n    <tr>\n      <th>2</th>\n      <td>305872</td>\n      <td>11-20</td>\n    </tr>\n    <tr>\n      <th>3</th>\n      <td>266099</td>\n      <td>51-60</td>\n    </tr>\n    <tr>\n      <th>4</th>\n      <td>13228</td>\n      <td>21-30</td>\n    </tr>\n  </tbody>\n</table>\n</div>",
      "text/plain": "       id   days\n0  314114  11-20\n1  208989  51-60\n2  305872  11-20\n3  266099  51-60\n4   13228  21-30"
     },
     "execution_count": 51,
     "metadata": {},
     "output_type": "execute_result"
    }
   ],
   "source": [
    "submission.head()"
   ]
  },
  {
   "cell_type": "code",
   "execution_count": null,
   "metadata": {},
   "outputs": [
    {
     "data": {
      "text/plain": "(array([4.0772e+04, 1.9517e+04, 5.4655e+04, 1.1602e+04, 0.0000e+00,\n        2.3950e+03, 4.3100e+03, 3.7600e+02, 1.1100e+02, 6.0000e+00]),\n array([0. , 0.8, 1.6, 2.4, 3.2, 4. , 4.8, 5.6, 6.4, 7.2, 8. ]),\n <BarContainer object of 10 artists>)"
     },
     "execution_count": 52,
     "metadata": {},
     "output_type": "execute_result"
    },
    {
     "data": {
      "image/png": "[encoded data removed]",
      "text/plain": "<Figure size 432x288 with 1 Axes>"
     },
     "metadata": {
      "needs_background": "light"
     },
     "output_type": "display_data"
    }
   ],
   "source": [
    "plt.hist(x=submission['days'])"
   ]
  },
  {
   "cell_type": "code",
   "execution_count": null,
   "metadata": {},
   "outputs": [
    {
     "data": {
      "text/plain": "(133744, 2)"
     },
     "execution_count": 53,
     "metadata": {},
     "output_type": "execute_result"
    }
   ],
   "source": [
    "submission.shape"
   ]
  },
  {
   "cell_type": "code",
   "execution_count": null,
   "metadata": {},
   "outputs": [],
   "source": [
    "submission.to_csv('submission.csv', index=False)\n"
   ]
  },
  {
   "cell_type": "code",
   "execution_count": 38,
   "metadata": {},
   "outputs": [
    {
     "name": "stdout",
     "output_type": "stream",
     "text": [
      "H2O session _sid_820e closed.\n"
     ]
    }
   ],
   "source": [
    "h2o.cluster().shutdown()"
   ]
  }
 ],
 "metadata": {
  "kernelspec": {
   "display_name": "Python 3.7.4 64-bit",
   "name": "python374jvsc74a57bd0aee8b7b246df8f9039afb4144a1f6fd8d2ca17a180786b69acc140d282b71a49"
  },
  "language_info": {
   "codemirror_mode": {
    "name": "ipython",
    "version": 3
   },
   "file_extension": ".py",
   "mimetype": "text/x-python",
   "name": "python",
   "nbconvert_exporter": "python",
   "pygments_lexer": "ipython3",
   "version": "3.7.4"
  },
  "metadata": {
   "interpreter": {
    "hash": "aee8b7b246df8f9039afb4144a1f6fd8d2ca17a180786b69acc140d282b71a49"
   }
  }
 },
 "nbformat": 4,
 "nbformat_minor": 4
}