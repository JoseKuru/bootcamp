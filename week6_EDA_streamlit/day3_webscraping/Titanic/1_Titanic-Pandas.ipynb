{
 "cells": [
  {
   "cell_type": "markdown",
   "metadata": {},
   "source": [
    "   #                                                  Titanic Exercise I\n",
    "   #### Practice pandas"
   ]
  },
  {
   "cell_type": "markdown",
   "metadata": {},
   "source": [
    "![titanic](https://userscontent2.emaze.com/images/a5f68f37-6349-4065-a1fc-921cbe7401b2/958230111417e36d6b3c67ffd7bc3494.jpeg)"
   ]
  },
  {
   "cell_type": "markdown",
   "metadata": {},
   "source": [
    "First of all, import the needed libraries. "
   ]
  },
  {
   "cell_type": "code",
   "execution_count": 1,
   "metadata": {},
   "outputs": [
    {
     "output_type": "stream",
     "name": "stderr",
     "text": [
      "/home/jose/.local/lib/python3.7/site-packages/pandas/compat/__init__.py:97: UserWarning: Could not import the lzma module. Your installed Python is incomplete. Attempting to use lzma compression will result in a RuntimeError.\n  warnings.warn(msg)\n"
     ]
    }
   ],
   "source": [
    "import numpy as np\n",
    "import pandas as pd\n",
    "# you will have to import at least another library along the exercise do it in here when the time comes\n",
    "import random"
   ]
  },
  {
   "cell_type": "markdown",
   "metadata": {},
   "source": [
    "1. Read in filename and call the variable `titanic`\n",
    "    - Explore the `titanic` dataset using `info`, `dtypes` & `describe`\n",
    " "
   ]
  },
  {
   "cell_type": "code",
   "execution_count": 2,
   "metadata": {},
   "outputs": [],
   "source": [
    "filename = \"titanic.csv\""
   ]
  },
  {
   "cell_type": "code",
   "execution_count": 4,
   "metadata": {},
   "outputs": [],
   "source": [
    "titanic = pd.read_csv('./data/' + filename)"
   ]
  },
  {
   "cell_type": "code",
   "execution_count": 9,
   "metadata": {},
   "outputs": [
    {
     "output_type": "stream",
     "name": "stdout",
     "text": [
      "<class 'pandas.core.frame.DataFrame'>\nRangeIndex: 1309 entries, 0 to 1308\nData columns (total 14 columns):\n #   Column     Non-Null Count  Dtype  \n---  ------     --------------  -----  \n 0   pclass     1309 non-null   int64  \n 1   survived   1309 non-null   int64  \n 2   name       1309 non-null   object \n 3   sex        1309 non-null   object \n 4   age        1046 non-null   float64\n 5   sibsp      1309 non-null   int64  \n 6   parch      1309 non-null   int64  \n 7   ticket     1309 non-null   object \n 8   fare       1308 non-null   float64\n 9   cabin      295 non-null    object \n 10  embarked   1307 non-null   object \n 11  boat       486 non-null    object \n 12  body       121 non-null    float64\n 13  home.dest  745 non-null    object \ndtypes: float64(3), int64(4), object(7)\nmemory usage: 143.3+ KB\n"
     ]
    }
   ],
   "source": [
    "titanic.info()"
   ]
  },
  {
   "cell_type": "code",
   "execution_count": 14,
   "metadata": {},
   "outputs": [
    {
     "output_type": "execute_result",
     "data": {
      "text/plain": [
       "pclass         int64\n",
       "survived       int64\n",
       "name          object\n",
       "sex           object\n",
       "age          float64\n",
       "sibsp          int64\n",
       "parch          int64\n",
       "ticket        object\n",
       "fare         float64\n",
       "cabin         object\n",
       "embarked      object\n",
       "boat          object\n",
       "body         float64\n",
       "home.dest     object\n",
       "dtype: object"
      ]
     },
     "metadata": {},
     "execution_count": 14
    }
   ],
   "source": [
    "titanic.dtypes"
   ]
  },
  {
   "cell_type": "code",
   "execution_count": 12,
   "metadata": {},
   "outputs": [
    {
     "output_type": "execute_result",
     "data": {
      "text/plain": [
       "            pclass     survived          age        sibsp        parch  \\\n",
       "count  1309.000000  1309.000000  1046.000000  1309.000000  1309.000000   \n",
       "mean      2.294882     0.381971    29.881138     0.498854     0.385027   \n",
       "std       0.837836     0.486055    14.413493     1.041658     0.865560   \n",
       "min       1.000000     0.000000     0.170000     0.000000     0.000000   \n",
       "25%       2.000000     0.000000    21.000000     0.000000     0.000000   \n",
       "50%       3.000000     0.000000    28.000000     0.000000     0.000000   \n",
       "75%       3.000000     1.000000    39.000000     1.000000     0.000000   \n",
       "max       3.000000     1.000000    80.000000     8.000000     9.000000   \n",
       "\n",
       "              fare        body  \n",
       "count  1308.000000  121.000000  \n",
       "mean     33.295479  160.809917  \n",
       "std      51.758668   97.696922  \n",
       "min       0.000000    1.000000  \n",
       "25%       7.895800   72.000000  \n",
       "50%      14.454200  155.000000  \n",
       "75%      31.275000  256.000000  \n",
       "max     512.329200  328.000000  "
      ],
      "text/html": "<div>\n<style scoped>\n    .dataframe tbody tr th:only-of-type {\n        vertical-align: middle;\n    }\n\n    .dataframe tbody tr th {\n        vertical-align: top;\n    }\n\n    .dataframe thead th {\n        text-align: right;\n    }\n</style>\n<table border=\"1\" class=\"dataframe\">\n  <thead>\n    <tr style=\"text-align: right;\">\n      <th></th>\n      <th>pclass</th>\n      <th>survived</th>\n      <th>age</th>\n      <th>sibsp</th>\n      <th>parch</th>\n      <th>fare</th>\n      <th>body</th>\n    </tr>\n  </thead>\n  <tbody>\n    <tr>\n      <th>count</th>\n      <td>1309.000000</td>\n      <td>1309.000000</td>\n      <td>1046.000000</td>\n      <td>1309.000000</td>\n      <td>1309.000000</td>\n      <td>1308.000000</td>\n      <td>121.000000</td>\n    </tr>\n    <tr>\n      <th>mean</th>\n      <td>2.294882</td>\n      <td>0.381971</td>\n      <td>29.881138</td>\n      <td>0.498854</td>\n      <td>0.385027</td>\n      <td>33.295479</td>\n      <td>160.809917</td>\n    </tr>\n    <tr>\n      <th>std</th>\n      <td>0.837836</td>\n      <td>0.486055</td>\n      <td>14.413493</td>\n      <td>1.041658</td>\n      <td>0.865560</td>\n      <td>51.758668</td>\n      <td>97.696922</td>\n    </tr>\n    <tr>\n      <th>min</th>\n      <td>1.000000</td>\n      <td>0.000000</td>\n      <td>0.170000</td>\n      <td>0.000000</td>\n      <td>0.000000</td>\n      <td>0.000000</td>\n      <td>1.000000</td>\n    </tr>\n    <tr>\n      <th>25%</th>\n      <td>2.000000</td>\n      <td>0.000000</td>\n      <td>21.000000</td>\n      <td>0.000000</td>\n      <td>0.000000</td>\n      <td>7.895800</td>\n      <td>72.000000</td>\n    </tr>\n    <tr>\n      <th>50%</th>\n      <td>3.000000</td>\n      <td>0.000000</td>\n      <td>28.000000</td>\n      <td>0.000000</td>\n      <td>0.000000</td>\n      <td>14.454200</td>\n      <td>155.000000</td>\n    </tr>\n    <tr>\n      <th>75%</th>\n      <td>3.000000</td>\n      <td>1.000000</td>\n      <td>39.000000</td>\n      <td>1.000000</td>\n      <td>0.000000</td>\n      <td>31.275000</td>\n      <td>256.000000</td>\n    </tr>\n    <tr>\n      <th>max</th>\n      <td>3.000000</td>\n      <td>1.000000</td>\n      <td>80.000000</td>\n      <td>8.000000</td>\n      <td>9.000000</td>\n      <td>512.329200</td>\n      <td>328.000000</td>\n    </tr>\n  </tbody>\n</table>\n</div>"
     },
     "metadata": {},
     "execution_count": 12
    }
   ],
   "source": [
    "titanic.describe()"
   ]
  },
  {
   "cell_type": "markdown",
   "metadata": {},
   "source": [
    "2. Create a separate dataframe with the columns `['name', 'sex', 'age']`, call it `people`\n",
    "\n",
    "It can be done two ways, do it both!"
   ]
  },
  {
   "cell_type": "code",
   "execution_count": 15,
   "metadata": {},
   "outputs": [
    {
     "output_type": "execute_result",
     "data": {
      "text/plain": [
       "                                              name     sex    age\n",
       "0                    Allen, Miss. Elisabeth Walton  female  29.00\n",
       "1                   Allison, Master. Hudson Trevor    male   0.92\n",
       "2                     Allison, Miss. Helen Loraine  female   2.00\n",
       "3             Allison, Mr. Hudson Joshua Creighton    male  30.00\n",
       "4  Allison, Mrs. Hudson J C (Bessie Waldo Daniels)  female  25.00"
      ],
      "text/html": "<div>\n<style scoped>\n    .dataframe tbody tr th:only-of-type {\n        vertical-align: middle;\n    }\n\n    .dataframe tbody tr th {\n        vertical-align: top;\n    }\n\n    .dataframe thead th {\n        text-align: right;\n    }\n</style>\n<table border=\"1\" class=\"dataframe\">\n  <thead>\n    <tr style=\"text-align: right;\">\n      <th></th>\n      <th>name</th>\n      <th>sex</th>\n      <th>age</th>\n    </tr>\n  </thead>\n  <tbody>\n    <tr>\n      <th>0</th>\n      <td>Allen, Miss. Elisabeth Walton</td>\n      <td>female</td>\n      <td>29.00</td>\n    </tr>\n    <tr>\n      <th>1</th>\n      <td>Allison, Master. Hudson Trevor</td>\n      <td>male</td>\n      <td>0.92</td>\n    </tr>\n    <tr>\n      <th>2</th>\n      <td>Allison, Miss. Helen Loraine</td>\n      <td>female</td>\n      <td>2.00</td>\n    </tr>\n    <tr>\n      <th>3</th>\n      <td>Allison, Mr. Hudson Joshua Creighton</td>\n      <td>male</td>\n      <td>30.00</td>\n    </tr>\n    <tr>\n      <th>4</th>\n      <td>Allison, Mrs. Hudson J C (Bessie Waldo Daniels)</td>\n      <td>female</td>\n      <td>25.00</td>\n    </tr>\n  </tbody>\n</table>\n</div>"
     },
     "metadata": {},
     "execution_count": 15
    }
   ],
   "source": [
    "people = titanic[['name', 'sex', 'age']]\n",
    "people.head()"
   ]
  },
  {
   "cell_type": "code",
   "execution_count": 16,
   "metadata": {},
   "outputs": [
    {
     "output_type": "execute_result",
     "data": {
      "text/plain": [
       "                                              name     sex    age\n",
       "0                    Allen, Miss. Elisabeth Walton  female  29.00\n",
       "1                   Allison, Master. Hudson Trevor    male   0.92\n",
       "2                     Allison, Miss. Helen Loraine  female   2.00\n",
       "3             Allison, Mr. Hudson Joshua Creighton    male  30.00\n",
       "4  Allison, Mrs. Hudson J C (Bessie Waldo Daniels)  female  25.00"
      ],
      "text/html": "<div>\n<style scoped>\n    .dataframe tbody tr th:only-of-type {\n        vertical-align: middle;\n    }\n\n    .dataframe tbody tr th {\n        vertical-align: top;\n    }\n\n    .dataframe thead th {\n        text-align: right;\n    }\n</style>\n<table border=\"1\" class=\"dataframe\">\n  <thead>\n    <tr style=\"text-align: right;\">\n      <th></th>\n      <th>name</th>\n      <th>sex</th>\n      <th>age</th>\n    </tr>\n  </thead>\n  <tbody>\n    <tr>\n      <th>0</th>\n      <td>Allen, Miss. Elisabeth Walton</td>\n      <td>female</td>\n      <td>29.00</td>\n    </tr>\n    <tr>\n      <th>1</th>\n      <td>Allison, Master. Hudson Trevor</td>\n      <td>male</td>\n      <td>0.92</td>\n    </tr>\n    <tr>\n      <th>2</th>\n      <td>Allison, Miss. Helen Loraine</td>\n      <td>female</td>\n      <td>2.00</td>\n    </tr>\n    <tr>\n      <th>3</th>\n      <td>Allison, Mr. Hudson Joshua Creighton</td>\n      <td>male</td>\n      <td>30.00</td>\n    </tr>\n    <tr>\n      <th>4</th>\n      <td>Allison, Mrs. Hudson J C (Bessie Waldo Daniels)</td>\n      <td>female</td>\n      <td>25.00</td>\n    </tr>\n  </tbody>\n</table>\n</div>"
     },
     "metadata": {},
     "execution_count": 16
    }
   ],
   "source": [
    "people = titanic.loc[:, 'name':'age']\n",
    "people.head()"
   ]
  },
  {
   "cell_type": "markdown",
   "metadata": {},
   "source": [
    "3. Print the output of `people` showing the first three rows and the last four rows, using `append`,`tail` and `head`"
   ]
  },
  {
   "cell_type": "code",
   "execution_count": 18,
   "metadata": {},
   "outputs": [
    {
     "output_type": "stream",
     "name": "stdout",
     "text": [
      "                             name     sex    age\n0   Allen, Miss. Elisabeth Walton  female  29.00\n1  Allison, Master. Hudson Trevor    male   0.92\n2    Allison, Miss. Helen Loraine  female   2.00\n                           name     sex   age\n1305      Zabour, Miss. Thamine  female   NaN\n1306  Zakarian, Mr. Mapriededer    male  26.5\n1307        Zakarian, Mr. Ortin    male  27.0\n1308         Zimmerman, Mr. Leo    male  29.0\n"
     ]
    }
   ],
   "source": [
    "print(people.head(3), people.tail(4), sep='\\n')"
   ]
  },
  {
   "cell_type": "markdown",
   "metadata": {},
   "source": [
    "4. Slice the row from 3 to 9, call it `s_titanic`"
   ]
  },
  {
   "cell_type": "code",
   "execution_count": 20,
   "metadata": {},
   "outputs": [
    {
     "output_type": "execute_result",
     "data": {
      "text/plain": [
       "   pclass  survived                                             name     sex  \\\n",
       "3       1         0             Allison, Mr. Hudson Joshua Creighton    male   \n",
       "4       1         0  Allison, Mrs. Hudson J C (Bessie Waldo Daniels)  female   \n",
       "5       1         1                              Anderson, Mr. Harry    male   \n",
       "6       1         1                Andrews, Miss. Kornelia Theodosia  female   \n",
       "7       1         0                           Andrews, Mr. Thomas Jr    male   \n",
       "8       1         1    Appleton, Mrs. Edward Dale (Charlotte Lamson)  female   \n",
       "9       1         0                          Artagaveytia, Mr. Ramon    male   \n",
       "\n",
       "    age  sibsp  parch    ticket      fare    cabin embarked boat   body  \\\n",
       "3  30.0      1      2    113781  151.5500  C22 C26        S  NaN  135.0   \n",
       "4  25.0      1      2    113781  151.5500  C22 C26        S  NaN    NaN   \n",
       "5  48.0      0      0     19952   26.5500      E12        S    3    NaN   \n",
       "6  63.0      1      0     13502   77.9583       D7        S   10    NaN   \n",
       "7  39.0      0      0    112050    0.0000      A36        S  NaN    NaN   \n",
       "8  53.0      2      0     11769   51.4792     C101        S    D    NaN   \n",
       "9  71.0      0      0  PC 17609   49.5042      NaN        C  NaN   22.0   \n",
       "\n",
       "                         home.dest  \n",
       "3  Montreal, PQ / Chesterville, ON  \n",
       "4  Montreal, PQ / Chesterville, ON  \n",
       "5                     New York, NY  \n",
       "6                       Hudson, NY  \n",
       "7                      Belfast, NI  \n",
       "8              Bayside, Queens, NY  \n",
       "9              Montevideo, Uruguay  "
      ],
      "text/html": "<div>\n<style scoped>\n    .dataframe tbody tr th:only-of-type {\n        vertical-align: middle;\n    }\n\n    .dataframe tbody tr th {\n        vertical-align: top;\n    }\n\n    .dataframe thead th {\n        text-align: right;\n    }\n</style>\n<table border=\"1\" class=\"dataframe\">\n  <thead>\n    <tr style=\"text-align: right;\">\n      <th></th>\n      <th>pclass</th>\n      <th>survived</th>\n      <th>name</th>\n      <th>sex</th>\n      <th>age</th>\n      <th>sibsp</th>\n      <th>parch</th>\n      <th>ticket</th>\n      <th>fare</th>\n      <th>cabin</th>\n      <th>embarked</th>\n      <th>boat</th>\n      <th>body</th>\n      <th>home.dest</th>\n    </tr>\n  </thead>\n  <tbody>\n    <tr>\n      <th>3</th>\n      <td>1</td>\n      <td>0</td>\n      <td>Allison, Mr. Hudson Joshua Creighton</td>\n      <td>male</td>\n      <td>30.0</td>\n      <td>1</td>\n      <td>2</td>\n      <td>113781</td>\n      <td>151.5500</td>\n      <td>C22 C26</td>\n      <td>S</td>\n      <td>NaN</td>\n      <td>135.0</td>\n      <td>Montreal, PQ / Chesterville, ON</td>\n    </tr>\n    <tr>\n      <th>4</th>\n      <td>1</td>\n      <td>0</td>\n      <td>Allison, Mrs. Hudson J C (Bessie Waldo Daniels)</td>\n      <td>female</td>\n      <td>25.0</td>\n      <td>1</td>\n      <td>2</td>\n      <td>113781</td>\n      <td>151.5500</td>\n      <td>C22 C26</td>\n      <td>S</td>\n      <td>NaN</td>\n      <td>NaN</td>\n      <td>Montreal, PQ / Chesterville, ON</td>\n    </tr>\n    <tr>\n      <th>5</th>\n      <td>1</td>\n      <td>1</td>\n      <td>Anderson, Mr. Harry</td>\n      <td>male</td>\n      <td>48.0</td>\n      <td>0</td>\n      <td>0</td>\n      <td>19952</td>\n      <td>26.5500</td>\n      <td>E12</td>\n      <td>S</td>\n      <td>3</td>\n      <td>NaN</td>\n      <td>New York, NY</td>\n    </tr>\n    <tr>\n      <th>6</th>\n      <td>1</td>\n      <td>1</td>\n      <td>Andrews, Miss. Kornelia Theodosia</td>\n      <td>female</td>\n      <td>63.0</td>\n      <td>1</td>\n      <td>0</td>\n      <td>13502</td>\n      <td>77.9583</td>\n      <td>D7</td>\n      <td>S</td>\n      <td>10</td>\n      <td>NaN</td>\n      <td>Hudson, NY</td>\n    </tr>\n    <tr>\n      <th>7</th>\n      <td>1</td>\n      <td>0</td>\n      <td>Andrews, Mr. Thomas Jr</td>\n      <td>male</td>\n      <td>39.0</td>\n      <td>0</td>\n      <td>0</td>\n      <td>112050</td>\n      <td>0.0000</td>\n      <td>A36</td>\n      <td>S</td>\n      <td>NaN</td>\n      <td>NaN</td>\n      <td>Belfast, NI</td>\n    </tr>\n    <tr>\n      <th>8</th>\n      <td>1</td>\n      <td>1</td>\n      <td>Appleton, Mrs. Edward Dale (Charlotte Lamson)</td>\n      <td>female</td>\n      <td>53.0</td>\n      <td>2</td>\n      <td>0</td>\n      <td>11769</td>\n      <td>51.4792</td>\n      <td>C101</td>\n      <td>S</td>\n      <td>D</td>\n      <td>NaN</td>\n      <td>Bayside, Queens, NY</td>\n    </tr>\n    <tr>\n      <th>9</th>\n      <td>1</td>\n      <td>0</td>\n      <td>Artagaveytia, Mr. Ramon</td>\n      <td>male</td>\n      <td>71.0</td>\n      <td>0</td>\n      <td>0</td>\n      <td>PC 17609</td>\n      <td>49.5042</td>\n      <td>NaN</td>\n      <td>C</td>\n      <td>NaN</td>\n      <td>22.0</td>\n      <td>Montevideo, Uruguay</td>\n    </tr>\n  </tbody>\n</table>\n</div>"
     },
     "metadata": {},
     "execution_count": 20
    }
   ],
   "source": [
    "s_titanic = titanic.iloc[3:10]\n",
    "s_titanic"
   ]
  },
  {
   "cell_type": "markdown",
   "metadata": {},
   "source": [
    "5. Slice the row from 40 to 63 in reverse order, call it `s_titanic_rev`"
   ]
  },
  {
   "cell_type": "code",
   "execution_count": 21,
   "metadata": {},
   "outputs": [
    {
     "output_type": "execute_result",
     "data": {
      "text/plain": [
       "    pclass  survived                                               name  \\\n",
       "63       1         1  Chaffee, Mrs. Herbert Fuller (Carrie Constance...   \n",
       "62       1         0                        Chaffee, Mr. Herbert Fuller   \n",
       "61       1         1  Cavendish, Mrs. Tyrell William (Julia Florence...   \n",
       "60       1         0                      Cavendish, Mr. Tyrell William   \n",
       "59       1         1  Cassebeer, Mrs. Henry Arthur Jr (Eleanor Genev...   \n",
       "58       1         0                             Case, Mr. Howard Brown   \n",
       "57       1         1          Carter, Mrs. William Ernest (Lucile Polk)   \n",
       "56       1         1                         Carter, Mr. William Ernest   \n",
       "55       1         1                          Carter, Miss. Lucile Polk   \n",
       "54       1         1                Carter, Master. William Thornton II   \n",
       "53       1         0                             Carrau, Mr. Jose Pedro   \n",
       "52       1         0                            Carrau, Mr. Francisco M   \n",
       "51       1         0                           Carlsson, Mr. Frans Olof   \n",
       "50       1         1  Cardeza, Mrs. James Warburton Martinez (Charlo...   \n",
       "49       1         1                 Cardeza, Mr. Thomas Drake Martinez   \n",
       "48       1         1   Candee, Mrs. Edward (Helen Churchill Hungerford)   \n",
       "47       1         1                  Calderhead, Mr. Edward Pennington   \n",
       "46       1         0                              Cairns, Mr. Alexander   \n",
       "45       1         0                  Butt, Major. Archibald Willingham   \n",
       "44       1         1                    Burns, Miss. Elizabeth Margaret   \n",
       "43       1         1    Bucknell, Mrs. William Robert (Emma Eliza Ward)   \n",
       "42       1         1     Brown, Mrs. John Murray (Caroline Lane Lamson)   \n",
       "41       1         1          Brown, Mrs. James Joseph (Margaret Tobin)   \n",
       "40       1         0                          Brewe, Dr. Arthur Jackson   \n",
       "\n",
       "       sex   age  sibsp  parch       ticket      fare        cabin embarked  \\\n",
       "63  female  47.0      1      0  W.E.P. 5734   61.1750          E31        S   \n",
       "62    male  46.0      1      0  W.E.P. 5734   61.1750          E31        S   \n",
       "61  female  76.0      1      0        19877   78.8500          C46        S   \n",
       "60    male  36.0      1      0        19877   78.8500          C46        S   \n",
       "59  female   NaN      0      0        17770   27.7208          NaN        C   \n",
       "58    male  49.0      0      0        19924   26.0000          NaN        S   \n",
       "57  female  36.0      1      2       113760  120.0000      B96 B98        S   \n",
       "56    male  36.0      1      2       113760  120.0000      B96 B98        S   \n",
       "55  female  14.0      1      2       113760  120.0000      B96 B98        S   \n",
       "54    male  11.0      1      2       113760  120.0000      B96 B98        S   \n",
       "53    male  17.0      0      0       113059   47.1000          NaN        S   \n",
       "52    male  28.0      0      0       113059   47.1000          NaN        S   \n",
       "51    male  33.0      0      0          695    5.0000  B51 B53 B55        S   \n",
       "50  female  58.0      0      1     PC 17755  512.3292  B51 B53 B55        C   \n",
       "49    male  36.0      0      1     PC 17755  512.3292  B51 B53 B55        C   \n",
       "48  female  53.0      0      0     PC 17606   27.4458          NaN        C   \n",
       "47    male  42.0      0      0     PC 17476   26.2875          E24        S   \n",
       "46    male   NaN      0      0       113798   31.0000          NaN        S   \n",
       "45    male  45.0      0      0       113050   26.5500          B38        S   \n",
       "44  female  41.0      0      0        16966  134.5000          E40        C   \n",
       "43  female  60.0      0      0        11813   76.2917          D15        C   \n",
       "42  female  59.0      2      0        11769   51.4792         C101        S   \n",
       "41  female  44.0      0      0     PC 17610   27.7208           B4        C   \n",
       "40    male   NaN      0      0       112379   39.6000          NaN        C   \n",
       "\n",
       "   boat   body                                       home.dest  \n",
       "63    4    NaN                                      Amenia, ND  \n",
       "62  NaN    NaN                                      Amenia, ND  \n",
       "61    6    NaN                         Little Onn Hall, Staffs  \n",
       "60  NaN  172.0                         Little Onn Hall, Staffs  \n",
       "59    5    NaN                                    New York, NY  \n",
       "58  NaN    NaN                Ascot, Berkshire / Rochester, NY  \n",
       "57    4    NaN                                   Bryn Mawr, PA  \n",
       "56    C    NaN                                   Bryn Mawr, PA  \n",
       "55    4    NaN                                   Bryn Mawr, PA  \n",
       "54    4    NaN                                   Bryn Mawr, PA  \n",
       "53  NaN    NaN                             Montevideo, Uruguay  \n",
       "52  NaN    NaN                             Montevideo, Uruguay  \n",
       "51  NaN    NaN                                    New York, NY  \n",
       "50    3    NaN                    Germantown, Philadelphia, PA  \n",
       "49    3    NaN  Austria-Hungary / Germantown, Philadelphia, PA  \n",
       "48    6    NaN                                  Washington, DC  \n",
       "47    5    NaN                                    New York, NY  \n",
       "46  NaN    NaN                                             NaN  \n",
       "45  NaN    NaN                                  Washington, DC  \n",
       "44    3    NaN                                             NaN  \n",
       "43    8    NaN                                Philadelphia, PA  \n",
       "42    D    NaN                                     Belmont, MA  \n",
       "41    6    NaN                                      Denver, CO  \n",
       "40  NaN    NaN                                Philadelphia, PA  "
      ],
      "text/html": "<div>\n<style scoped>\n    .dataframe tbody tr th:only-of-type {\n        vertical-align: middle;\n    }\n\n    .dataframe tbody tr th {\n        vertical-align: top;\n    }\n\n    .dataframe thead th {\n        text-align: right;\n    }\n</style>\n<table border=\"1\" class=\"dataframe\">\n  <thead>\n    <tr style=\"text-align: right;\">\n      <th></th>\n      <th>pclass</th>\n      <th>survived</th>\n      <th>name</th>\n      <th>sex</th>\n      <th>age</th>\n      <th>sibsp</th>\n      <th>parch</th>\n      <th>ticket</th>\n      <th>fare</th>\n      <th>cabin</th>\n      <th>embarked</th>\n      <th>boat</th>\n      <th>body</th>\n      <th>home.dest</th>\n    </tr>\n  </thead>\n  <tbody>\n    <tr>\n      <th>63</th>\n      <td>1</td>\n      <td>1</td>\n      <td>Chaffee, Mrs. Herbert Fuller (Carrie Constance...</td>\n      <td>female</td>\n      <td>47.0</td>\n      <td>1</td>\n      <td>0</td>\n      <td>W.E.P. 5734</td>\n      <td>61.1750</td>\n      <td>E31</td>\n      <td>S</td>\n      <td>4</td>\n      <td>NaN</td>\n      <td>Amenia, ND</td>\n    </tr>\n    <tr>\n      <th>62</th>\n      <td>1</td>\n      <td>0</td>\n      <td>Chaffee, Mr. Herbert Fuller</td>\n      <td>male</td>\n      <td>46.0</td>\n      <td>1</td>\n      <td>0</td>\n      <td>W.E.P. 5734</td>\n      <td>61.1750</td>\n      <td>E31</td>\n      <td>S</td>\n      <td>NaN</td>\n      <td>NaN</td>\n      <td>Amenia, ND</td>\n    </tr>\n    <tr>\n      <th>61</th>\n      <td>1</td>\n      <td>1</td>\n      <td>Cavendish, Mrs. Tyrell William (Julia Florence...</td>\n      <td>female</td>\n      <td>76.0</td>\n      <td>1</td>\n      <td>0</td>\n      <td>19877</td>\n      <td>78.8500</td>\n      <td>C46</td>\n      <td>S</td>\n      <td>6</td>\n      <td>NaN</td>\n      <td>Little Onn Hall, Staffs</td>\n    </tr>\n    <tr>\n      <th>60</th>\n      <td>1</td>\n      <td>0</td>\n      <td>Cavendish, Mr. Tyrell William</td>\n      <td>male</td>\n      <td>36.0</td>\n      <td>1</td>\n      <td>0</td>\n      <td>19877</td>\n      <td>78.8500</td>\n      <td>C46</td>\n      <td>S</td>\n      <td>NaN</td>\n      <td>172.0</td>\n      <td>Little Onn Hall, Staffs</td>\n    </tr>\n    <tr>\n      <th>59</th>\n      <td>1</td>\n      <td>1</td>\n      <td>Cassebeer, Mrs. Henry Arthur Jr (Eleanor Genev...</td>\n      <td>female</td>\n      <td>NaN</td>\n      <td>0</td>\n      <td>0</td>\n      <td>17770</td>\n      <td>27.7208</td>\n      <td>NaN</td>\n      <td>C</td>\n      <td>5</td>\n      <td>NaN</td>\n      <td>New York, NY</td>\n    </tr>\n    <tr>\n      <th>58</th>\n      <td>1</td>\n      <td>0</td>\n      <td>Case, Mr. Howard Brown</td>\n      <td>male</td>\n      <td>49.0</td>\n      <td>0</td>\n      <td>0</td>\n      <td>19924</td>\n      <td>26.0000</td>\n      <td>NaN</td>\n      <td>S</td>\n      <td>NaN</td>\n      <td>NaN</td>\n      <td>Ascot, Berkshire / Rochester, NY</td>\n    </tr>\n    <tr>\n      <th>57</th>\n      <td>1</td>\n      <td>1</td>\n      <td>Carter, Mrs. William Ernest (Lucile Polk)</td>\n      <td>female</td>\n      <td>36.0</td>\n      <td>1</td>\n      <td>2</td>\n      <td>113760</td>\n      <td>120.0000</td>\n      <td>B96 B98</td>\n      <td>S</td>\n      <td>4</td>\n      <td>NaN</td>\n      <td>Bryn Mawr, PA</td>\n    </tr>\n    <tr>\n      <th>56</th>\n      <td>1</td>\n      <td>1</td>\n      <td>Carter, Mr. William Ernest</td>\n      <td>male</td>\n      <td>36.0</td>\n      <td>1</td>\n      <td>2</td>\n      <td>113760</td>\n      <td>120.0000</td>\n      <td>B96 B98</td>\n      <td>S</td>\n      <td>C</td>\n      <td>NaN</td>\n      <td>Bryn Mawr, PA</td>\n    </tr>\n    <tr>\n      <th>55</th>\n      <td>1</td>\n      <td>1</td>\n      <td>Carter, Miss. Lucile Polk</td>\n      <td>female</td>\n      <td>14.0</td>\n      <td>1</td>\n      <td>2</td>\n      <td>113760</td>\n      <td>120.0000</td>\n      <td>B96 B98</td>\n      <td>S</td>\n      <td>4</td>\n      <td>NaN</td>\n      <td>Bryn Mawr, PA</td>\n    </tr>\n    <tr>\n      <th>54</th>\n      <td>1</td>\n      <td>1</td>\n      <td>Carter, Master. William Thornton II</td>\n      <td>male</td>\n      <td>11.0</td>\n      <td>1</td>\n      <td>2</td>\n      <td>113760</td>\n      <td>120.0000</td>\n      <td>B96 B98</td>\n      <td>S</td>\n      <td>4</td>\n      <td>NaN</td>\n      <td>Bryn Mawr, PA</td>\n    </tr>\n    <tr>\n      <th>53</th>\n      <td>1</td>\n      <td>0</td>\n      <td>Carrau, Mr. Jose Pedro</td>\n      <td>male</td>\n      <td>17.0</td>\n      <td>0</td>\n      <td>0</td>\n      <td>113059</td>\n      <td>47.1000</td>\n      <td>NaN</td>\n      <td>S</td>\n      <td>NaN</td>\n      <td>NaN</td>\n      <td>Montevideo, Uruguay</td>\n    </tr>\n    <tr>\n      <th>52</th>\n      <td>1</td>\n      <td>0</td>\n      <td>Carrau, Mr. Francisco M</td>\n      <td>male</td>\n      <td>28.0</td>\n      <td>0</td>\n      <td>0</td>\n      <td>113059</td>\n      <td>47.1000</td>\n      <td>NaN</td>\n      <td>S</td>\n      <td>NaN</td>\n      <td>NaN</td>\n      <td>Montevideo, Uruguay</td>\n    </tr>\n    <tr>\n      <th>51</th>\n      <td>1</td>\n      <td>0</td>\n      <td>Carlsson, Mr. Frans Olof</td>\n      <td>male</td>\n      <td>33.0</td>\n      <td>0</td>\n      <td>0</td>\n      <td>695</td>\n      <td>5.0000</td>\n      <td>B51 B53 B55</td>\n      <td>S</td>\n      <td>NaN</td>\n      <td>NaN</td>\n      <td>New York, NY</td>\n    </tr>\n    <tr>\n      <th>50</th>\n      <td>1</td>\n      <td>1</td>\n      <td>Cardeza, Mrs. James Warburton Martinez (Charlo...</td>\n      <td>female</td>\n      <td>58.0</td>\n      <td>0</td>\n      <td>1</td>\n      <td>PC 17755</td>\n      <td>512.3292</td>\n      <td>B51 B53 B55</td>\n      <td>C</td>\n      <td>3</td>\n      <td>NaN</td>\n      <td>Germantown, Philadelphia, PA</td>\n    </tr>\n    <tr>\n      <th>49</th>\n      <td>1</td>\n      <td>1</td>\n      <td>Cardeza, Mr. Thomas Drake Martinez</td>\n      <td>male</td>\n      <td>36.0</td>\n      <td>0</td>\n      <td>1</td>\n      <td>PC 17755</td>\n      <td>512.3292</td>\n      <td>B51 B53 B55</td>\n      <td>C</td>\n      <td>3</td>\n      <td>NaN</td>\n      <td>Austria-Hungary / Germantown, Philadelphia, PA</td>\n    </tr>\n    <tr>\n      <th>48</th>\n      <td>1</td>\n      <td>1</td>\n      <td>Candee, Mrs. Edward (Helen Churchill Hungerford)</td>\n      <td>female</td>\n      <td>53.0</td>\n      <td>0</td>\n      <td>0</td>\n      <td>PC 17606</td>\n      <td>27.4458</td>\n      <td>NaN</td>\n      <td>C</td>\n      <td>6</td>\n      <td>NaN</td>\n      <td>Washington, DC</td>\n    </tr>\n    <tr>\n      <th>47</th>\n      <td>1</td>\n      <td>1</td>\n      <td>Calderhead, Mr. Edward Pennington</td>\n      <td>male</td>\n      <td>42.0</td>\n      <td>0</td>\n      <td>0</td>\n      <td>PC 17476</td>\n      <td>26.2875</td>\n      <td>E24</td>\n      <td>S</td>\n      <td>5</td>\n      <td>NaN</td>\n      <td>New York, NY</td>\n    </tr>\n    <tr>\n      <th>46</th>\n      <td>1</td>\n      <td>0</td>\n      <td>Cairns, Mr. Alexander</td>\n      <td>male</td>\n      <td>NaN</td>\n      <td>0</td>\n      <td>0</td>\n      <td>113798</td>\n      <td>31.0000</td>\n      <td>NaN</td>\n      <td>S</td>\n      <td>NaN</td>\n      <td>NaN</td>\n      <td>NaN</td>\n    </tr>\n    <tr>\n      <th>45</th>\n      <td>1</td>\n      <td>0</td>\n      <td>Butt, Major. Archibald Willingham</td>\n      <td>male</td>\n      <td>45.0</td>\n      <td>0</td>\n      <td>0</td>\n      <td>113050</td>\n      <td>26.5500</td>\n      <td>B38</td>\n      <td>S</td>\n      <td>NaN</td>\n      <td>NaN</td>\n      <td>Washington, DC</td>\n    </tr>\n    <tr>\n      <th>44</th>\n      <td>1</td>\n      <td>1</td>\n      <td>Burns, Miss. Elizabeth Margaret</td>\n      <td>female</td>\n      <td>41.0</td>\n      <td>0</td>\n      <td>0</td>\n      <td>16966</td>\n      <td>134.5000</td>\n      <td>E40</td>\n      <td>C</td>\n      <td>3</td>\n      <td>NaN</td>\n      <td>NaN</td>\n    </tr>\n    <tr>\n      <th>43</th>\n      <td>1</td>\n      <td>1</td>\n      <td>Bucknell, Mrs. William Robert (Emma Eliza Ward)</td>\n      <td>female</td>\n      <td>60.0</td>\n      <td>0</td>\n      <td>0</td>\n      <td>11813</td>\n      <td>76.2917</td>\n      <td>D15</td>\n      <td>C</td>\n      <td>8</td>\n      <td>NaN</td>\n      <td>Philadelphia, PA</td>\n    </tr>\n    <tr>\n      <th>42</th>\n      <td>1</td>\n      <td>1</td>\n      <td>Brown, Mrs. John Murray (Caroline Lane Lamson)</td>\n      <td>female</td>\n      <td>59.0</td>\n      <td>2</td>\n      <td>0</td>\n      <td>11769</td>\n      <td>51.4792</td>\n      <td>C101</td>\n      <td>S</td>\n      <td>D</td>\n      <td>NaN</td>\n      <td>Belmont, MA</td>\n    </tr>\n    <tr>\n      <th>41</th>\n      <td>1</td>\n      <td>1</td>\n      <td>Brown, Mrs. James Joseph (Margaret Tobin)</td>\n      <td>female</td>\n      <td>44.0</td>\n      <td>0</td>\n      <td>0</td>\n      <td>PC 17610</td>\n      <td>27.7208</td>\n      <td>B4</td>\n      <td>C</td>\n      <td>6</td>\n      <td>NaN</td>\n      <td>Denver, CO</td>\n    </tr>\n    <tr>\n      <th>40</th>\n      <td>1</td>\n      <td>0</td>\n      <td>Brewe, Dr. Arthur Jackson</td>\n      <td>male</td>\n      <td>NaN</td>\n      <td>0</td>\n      <td>0</td>\n      <td>112379</td>\n      <td>39.6000</td>\n      <td>NaN</td>\n      <td>C</td>\n      <td>NaN</td>\n      <td>NaN</td>\n      <td>Philadelphia, PA</td>\n    </tr>\n  </tbody>\n</table>\n</div>"
     },
     "metadata": {},
     "execution_count": 21
    }
   ],
   "source": [
    "s_titanic_rev = titanic.iloc[63:39:-1]\n",
    "s_titanic_rev"
   ]
  },
  {
   "cell_type": "markdown",
   "metadata": {},
   "source": [
    "6. Slice the columns from the starting column to `'parch'`, call it `left_columns`"
   ]
  },
  {
   "cell_type": "code",
   "execution_count": 23,
   "metadata": {},
   "outputs": [
    {
     "output_type": "execute_result",
     "data": {
      "text/plain": [
       "   pclass  survived                                             name     sex  \\\n",
       "0       1         1                    Allen, Miss. Elisabeth Walton  female   \n",
       "1       1         1                   Allison, Master. Hudson Trevor    male   \n",
       "2       1         0                     Allison, Miss. Helen Loraine  female   \n",
       "3       1         0             Allison, Mr. Hudson Joshua Creighton    male   \n",
       "4       1         0  Allison, Mrs. Hudson J C (Bessie Waldo Daniels)  female   \n",
       "\n",
       "     age  sibsp  parch  \n",
       "0  29.00      0      0  \n",
       "1   0.92      1      2  \n",
       "2   2.00      1      2  \n",
       "3  30.00      1      2  \n",
       "4  25.00      1      2  "
      ],
      "text/html": "<div>\n<style scoped>\n    .dataframe tbody tr th:only-of-type {\n        vertical-align: middle;\n    }\n\n    .dataframe tbody tr th {\n        vertical-align: top;\n    }\n\n    .dataframe thead th {\n        text-align: right;\n    }\n</style>\n<table border=\"1\" class=\"dataframe\">\n  <thead>\n    <tr style=\"text-align: right;\">\n      <th></th>\n      <th>pclass</th>\n      <th>survived</th>\n      <th>name</th>\n      <th>sex</th>\n      <th>age</th>\n      <th>sibsp</th>\n      <th>parch</th>\n    </tr>\n  </thead>\n  <tbody>\n    <tr>\n      <th>0</th>\n      <td>1</td>\n      <td>1</td>\n      <td>Allen, Miss. Elisabeth Walton</td>\n      <td>female</td>\n      <td>29.00</td>\n      <td>0</td>\n      <td>0</td>\n    </tr>\n    <tr>\n      <th>1</th>\n      <td>1</td>\n      <td>1</td>\n      <td>Allison, Master. Hudson Trevor</td>\n      <td>male</td>\n      <td>0.92</td>\n      <td>1</td>\n      <td>2</td>\n    </tr>\n    <tr>\n      <th>2</th>\n      <td>1</td>\n      <td>0</td>\n      <td>Allison, Miss. Helen Loraine</td>\n      <td>female</td>\n      <td>2.00</td>\n      <td>1</td>\n      <td>2</td>\n    </tr>\n    <tr>\n      <th>3</th>\n      <td>1</td>\n      <td>0</td>\n      <td>Allison, Mr. Hudson Joshua Creighton</td>\n      <td>male</td>\n      <td>30.00</td>\n      <td>1</td>\n      <td>2</td>\n    </tr>\n    <tr>\n      <th>4</th>\n      <td>1</td>\n      <td>0</td>\n      <td>Allison, Mrs. Hudson J C (Bessie Waldo Daniels)</td>\n      <td>female</td>\n      <td>25.00</td>\n      <td>1</td>\n      <td>2</td>\n    </tr>\n  </tbody>\n</table>\n</div>"
     },
     "metadata": {},
     "execution_count": 23
    }
   ],
   "source": [
    "left_columns = titanic.loc[:, :'parch']\n",
    "left_columns.head()"
   ]
  },
  {
   "cell_type": "markdown",
   "metadata": {},
   "source": [
    "7. Slice the columns from `'name'` to `'age'`, call it `middle_columns`"
   ]
  },
  {
   "cell_type": "code",
   "execution_count": 24,
   "metadata": {},
   "outputs": [
    {
     "output_type": "execute_result",
     "data": {
      "text/plain": [
       "                                              name     sex    age\n",
       "0                    Allen, Miss. Elisabeth Walton  female  29.00\n",
       "1                   Allison, Master. Hudson Trevor    male   0.92\n",
       "2                     Allison, Miss. Helen Loraine  female   2.00\n",
       "3             Allison, Mr. Hudson Joshua Creighton    male  30.00\n",
       "4  Allison, Mrs. Hudson J C (Bessie Waldo Daniels)  female  25.00"
      ],
      "text/html": "<div>\n<style scoped>\n    .dataframe tbody tr th:only-of-type {\n        vertical-align: middle;\n    }\n\n    .dataframe tbody tr th {\n        vertical-align: top;\n    }\n\n    .dataframe thead th {\n        text-align: right;\n    }\n</style>\n<table border=\"1\" class=\"dataframe\">\n  <thead>\n    <tr style=\"text-align: right;\">\n      <th></th>\n      <th>name</th>\n      <th>sex</th>\n      <th>age</th>\n    </tr>\n  </thead>\n  <tbody>\n    <tr>\n      <th>0</th>\n      <td>Allen, Miss. Elisabeth Walton</td>\n      <td>female</td>\n      <td>29.00</td>\n    </tr>\n    <tr>\n      <th>1</th>\n      <td>Allison, Master. Hudson Trevor</td>\n      <td>male</td>\n      <td>0.92</td>\n    </tr>\n    <tr>\n      <th>2</th>\n      <td>Allison, Miss. Helen Loraine</td>\n      <td>female</td>\n      <td>2.00</td>\n    </tr>\n    <tr>\n      <th>3</th>\n      <td>Allison, Mr. Hudson Joshua Creighton</td>\n      <td>male</td>\n      <td>30.00</td>\n    </tr>\n    <tr>\n      <th>4</th>\n      <td>Allison, Mrs. Hudson J C (Bessie Waldo Daniels)</td>\n      <td>female</td>\n      <td>25.00</td>\n    </tr>\n  </tbody>\n</table>\n</div>"
     },
     "metadata": {},
     "execution_count": 24
    }
   ],
   "source": [
    "middle_columns = titanic.loc[:, 'name':'age']\n",
    "middle_columns.head()"
   ]
  },
  {
   "cell_type": "markdown",
   "metadata": {},
   "source": [
    "8. Slice the columns from `'ticket'` to the end, call it `right_columns`"
   ]
  },
  {
   "cell_type": "code",
   "execution_count": 25,
   "metadata": {},
   "outputs": [
    {
     "output_type": "execute_result",
     "data": {
      "text/plain": [
       "   ticket      fare    cabin embarked boat   body  \\\n",
       "0   24160  211.3375       B5        S    2    NaN   \n",
       "1  113781  151.5500  C22 C26        S   11    NaN   \n",
       "2  113781  151.5500  C22 C26        S  NaN    NaN   \n",
       "3  113781  151.5500  C22 C26        S  NaN  135.0   \n",
       "4  113781  151.5500  C22 C26        S  NaN    NaN   \n",
       "\n",
       "                         home.dest  \n",
       "0                     St Louis, MO  \n",
       "1  Montreal, PQ / Chesterville, ON  \n",
       "2  Montreal, PQ / Chesterville, ON  \n",
       "3  Montreal, PQ / Chesterville, ON  \n",
       "4  Montreal, PQ / Chesterville, ON  "
      ],
      "text/html": "<div>\n<style scoped>\n    .dataframe tbody tr th:only-of-type {\n        vertical-align: middle;\n    }\n\n    .dataframe tbody tr th {\n        vertical-align: top;\n    }\n\n    .dataframe thead th {\n        text-align: right;\n    }\n</style>\n<table border=\"1\" class=\"dataframe\">\n  <thead>\n    <tr style=\"text-align: right;\">\n      <th></th>\n      <th>ticket</th>\n      <th>fare</th>\n      <th>cabin</th>\n      <th>embarked</th>\n      <th>boat</th>\n      <th>body</th>\n      <th>home.dest</th>\n    </tr>\n  </thead>\n  <tbody>\n    <tr>\n      <th>0</th>\n      <td>24160</td>\n      <td>211.3375</td>\n      <td>B5</td>\n      <td>S</td>\n      <td>2</td>\n      <td>NaN</td>\n      <td>St Louis, MO</td>\n    </tr>\n    <tr>\n      <th>1</th>\n      <td>113781</td>\n      <td>151.5500</td>\n      <td>C22 C26</td>\n      <td>S</td>\n      <td>11</td>\n      <td>NaN</td>\n      <td>Montreal, PQ / Chesterville, ON</td>\n    </tr>\n    <tr>\n      <th>2</th>\n      <td>113781</td>\n      <td>151.5500</td>\n      <td>C22 C26</td>\n      <td>S</td>\n      <td>NaN</td>\n      <td>NaN</td>\n      <td>Montreal, PQ / Chesterville, ON</td>\n    </tr>\n    <tr>\n      <th>3</th>\n      <td>113781</td>\n      <td>151.5500</td>\n      <td>C22 C26</td>\n      <td>S</td>\n      <td>NaN</td>\n      <td>135.0</td>\n      <td>Montreal, PQ / Chesterville, ON</td>\n    </tr>\n    <tr>\n      <th>4</th>\n      <td>113781</td>\n      <td>151.5500</td>\n      <td>C22 C26</td>\n      <td>S</td>\n      <td>NaN</td>\n      <td>NaN</td>\n      <td>Montreal, PQ / Chesterville, ON</td>\n    </tr>\n  </tbody>\n</table>\n</div>"
     },
     "metadata": {},
     "execution_count": 25
    }
   ],
   "source": [
    "right_columns = titanic.loc[:, 'ticket':]\n",
    "right_columns.head()"
   ]
  },
  {
   "cell_type": "markdown",
   "metadata": {},
   "source": [
    "9. What is the name of the oldest person who died in the Titanic? Was he or she travelling alone or had any family travelling with them?  \n",
    "\n"
   ]
  },
  {
   "cell_type": "code",
   "execution_count": 50,
   "metadata": {},
   "outputs": [
    {
     "output_type": "execute_result",
     "data": {
      "text/plain": [
       "74.0"
      ]
     },
     "metadata": {},
     "execution_count": 50
    }
   ],
   "source": [
    "titanic[titanic.survived == 0]['age'].max()"
   ]
  },
  {
   "cell_type": "code",
   "execution_count": 51,
   "metadata": {},
   "outputs": [
    {
     "output_type": "execute_result",
     "data": {
      "text/plain": [
       "1235    Svensson, Mr. Johan\n",
       "Name: name, dtype: object"
      ]
     },
     "metadata": {},
     "execution_count": 51
    }
   ],
   "source": [
    "titanic[titanic.age == 74]['name']"
   ]
  },
  {
   "cell_type": "markdown",
   "metadata": {},
   "source": [
    "In order to give an answer to the second question you should find out which columns give you that info. Usually part of your job as a Data Scientist will be get to know the dataset which you are working with. In this case the columns which give you that info are the following: \n",
    "        - 'sibsp' Number of Siblings/Spouses Aboard\n",
    "        - 'parch' Number of Parents/Children Aboard"
   ]
  },
  {
   "cell_type": "code",
   "execution_count": 53,
   "metadata": {},
   "outputs": [
    {
     "output_type": "execute_result",
     "data": {
      "text/plain": [
       "sibsp    0\n",
       "parch    0\n",
       "Name: 1235, dtype: object"
      ]
     },
     "metadata": {},
     "execution_count": 53
    }
   ],
   "source": [
    "titanic.iloc[1235][['sibsp', 'parch']]\n",
    "# Viajaba solo"
   ]
  },
  {
   "cell_type": "markdown",
   "metadata": {},
   "source": [
    "10. Create the list of 5 random numbers of rows from 0 to the lenght of the dataframe, call it `rows`\n",
    "\n",
    "ex. `rows = [3,7,99,52,48]` use `random` library\n",
    "\n"
   ]
  },
  {
   "cell_type": "code",
   "execution_count": 147,
   "metadata": {},
   "outputs": [
    {
     "output_type": "execute_result",
     "data": {
      "text/plain": [
       "[387, 986, 318, 76, 209]"
      ]
     },
     "metadata": {},
     "execution_count": 147
    }
   ],
   "source": [
    "rows = [random.randint(0, titanic.shape[0]) for i in range(5)]\n",
    "rows"
   ]
  },
  {
   "cell_type": "markdown",
   "metadata": {},
   "source": [
    "This list of numbers are random, could be different.\n"
   ]
  },
  {
   "cell_type": "markdown",
   "metadata": {},
   "source": [
    "11. Create the list of three column labels, call it `cols`\n"
   ]
  },
  {
   "cell_type": "code",
   "execution_count": 154,
   "metadata": {},
   "outputs": [],
   "source": [
    "cols = ['one', 'two', 'three', 'four', 'five']"
   ]
  },
  {
   "cell_type": "markdown",
   "metadata": {},
   "source": [
    "12. Use both lists `rows` and `cols` to create a new dataframe"
   ]
  },
  {
   "cell_type": "code",
   "execution_count": 155,
   "metadata": {},
   "outputs": [
    {
     "output_type": "execute_result",
     "data": {
      "text/plain": [
       "   one  two  three  four  five\n",
       "0  387  986    318    76   209"
      ],
      "text/html": "<div>\n<style scoped>\n    .dataframe tbody tr th:only-of-type {\n        vertical-align: middle;\n    }\n\n    .dataframe tbody tr th {\n        vertical-align: top;\n    }\n\n    .dataframe thead th {\n        text-align: right;\n    }\n</style>\n<table border=\"1\" class=\"dataframe\">\n  <thead>\n    <tr style=\"text-align: right;\">\n      <th></th>\n      <th>one</th>\n      <th>two</th>\n      <th>three</th>\n      <th>four</th>\n      <th>five</th>\n    </tr>\n  </thead>\n  <tbody>\n    <tr>\n      <th>0</th>\n      <td>387</td>\n      <td>986</td>\n      <td>318</td>\n      <td>76</td>\n      <td>209</td>\n    </tr>\n  </tbody>\n</table>\n</div>"
     },
     "metadata": {},
     "execution_count": 155
    }
   ],
   "source": [
    "new_df = pd.DataFrame(data=[rows], columns=cols)\n",
    "new_df"
   ]
  },
  {
   "cell_type": "markdown",
   "metadata": {},
   "source": [
    "13. Create a boolean array with the condition of being a woman or a man, using the `sex` column, where **female** is True. Call it `array_fe`"
   ]
  },
  {
   "cell_type": "markdown",
   "metadata": {},
   "source": [
    "Bonus: Rename the column `\"sex\"` to `\"gender\"`"
   ]
  },
  {
   "cell_type": "code",
   "execution_count": 77,
   "metadata": {},
   "outputs": [
    {
     "output_type": "execute_result",
     "data": {
      "text/plain": [
       "   pclass  survived                                             name  gender  \\\n",
       "0       1         1                    Allen, Miss. Elisabeth Walton  female   \n",
       "1       1         1                   Allison, Master. Hudson Trevor    male   \n",
       "2       1         0                     Allison, Miss. Helen Loraine  female   \n",
       "3       1         0             Allison, Mr. Hudson Joshua Creighton    male   \n",
       "4       1         0  Allison, Mrs. Hudson J C (Bessie Waldo Daniels)  female   \n",
       "\n",
       "     age  sibsp  parch  ticket      fare    cabin embarked boat   body  \\\n",
       "0  29.00      0      0   24160  211.3375       B5        S    2    NaN   \n",
       "1   0.92      1      2  113781  151.5500  C22 C26        S   11    NaN   \n",
       "2   2.00      1      2  113781  151.5500  C22 C26        S  NaN    NaN   \n",
       "3  30.00      1      2  113781  151.5500  C22 C26        S  NaN  135.0   \n",
       "4  25.00      1      2  113781  151.5500  C22 C26        S  NaN    NaN   \n",
       "\n",
       "                         home.dest  \n",
       "0                     St Louis, MO  \n",
       "1  Montreal, PQ / Chesterville, ON  \n",
       "2  Montreal, PQ / Chesterville, ON  \n",
       "3  Montreal, PQ / Chesterville, ON  \n",
       "4  Montreal, PQ / Chesterville, ON  "
      ],
      "text/html": "<div>\n<style scoped>\n    .dataframe tbody tr th:only-of-type {\n        vertical-align: middle;\n    }\n\n    .dataframe tbody tr th {\n        vertical-align: top;\n    }\n\n    .dataframe thead th {\n        text-align: right;\n    }\n</style>\n<table border=\"1\" class=\"dataframe\">\n  <thead>\n    <tr style=\"text-align: right;\">\n      <th></th>\n      <th>pclass</th>\n      <th>survived</th>\n      <th>name</th>\n      <th>gender</th>\n      <th>age</th>\n      <th>sibsp</th>\n      <th>parch</th>\n      <th>ticket</th>\n      <th>fare</th>\n      <th>cabin</th>\n      <th>embarked</th>\n      <th>boat</th>\n      <th>body</th>\n      <th>home.dest</th>\n    </tr>\n  </thead>\n  <tbody>\n    <tr>\n      <th>0</th>\n      <td>1</td>\n      <td>1</td>\n      <td>Allen, Miss. Elisabeth Walton</td>\n      <td>female</td>\n      <td>29.00</td>\n      <td>0</td>\n      <td>0</td>\n      <td>24160</td>\n      <td>211.3375</td>\n      <td>B5</td>\n      <td>S</td>\n      <td>2</td>\n      <td>NaN</td>\n      <td>St Louis, MO</td>\n    </tr>\n    <tr>\n      <th>1</th>\n      <td>1</td>\n      <td>1</td>\n      <td>Allison, Master. Hudson Trevor</td>\n      <td>male</td>\n      <td>0.92</td>\n      <td>1</td>\n      <td>2</td>\n      <td>113781</td>\n      <td>151.5500</td>\n      <td>C22 C26</td>\n      <td>S</td>\n      <td>11</td>\n      <td>NaN</td>\n      <td>Montreal, PQ / Chesterville, ON</td>\n    </tr>\n    <tr>\n      <th>2</th>\n      <td>1</td>\n      <td>0</td>\n      <td>Allison, Miss. Helen Loraine</td>\n      <td>female</td>\n      <td>2.00</td>\n      <td>1</td>\n      <td>2</td>\n      <td>113781</td>\n      <td>151.5500</td>\n      <td>C22 C26</td>\n      <td>S</td>\n      <td>NaN</td>\n      <td>NaN</td>\n      <td>Montreal, PQ / Chesterville, ON</td>\n    </tr>\n    <tr>\n      <th>3</th>\n      <td>1</td>\n      <td>0</td>\n      <td>Allison, Mr. Hudson Joshua Creighton</td>\n      <td>male</td>\n      <td>30.00</td>\n      <td>1</td>\n      <td>2</td>\n      <td>113781</td>\n      <td>151.5500</td>\n      <td>C22 C26</td>\n      <td>S</td>\n      <td>NaN</td>\n      <td>135.0</td>\n      <td>Montreal, PQ / Chesterville, ON</td>\n    </tr>\n    <tr>\n      <th>4</th>\n      <td>1</td>\n      <td>0</td>\n      <td>Allison, Mrs. Hudson J C (Bessie Waldo Daniels)</td>\n      <td>female</td>\n      <td>25.00</td>\n      <td>1</td>\n      <td>2</td>\n      <td>113781</td>\n      <td>151.5500</td>\n      <td>C22 C26</td>\n      <td>S</td>\n      <td>NaN</td>\n      <td>NaN</td>\n      <td>Montreal, PQ / Chesterville, ON</td>\n    </tr>\n  </tbody>\n</table>\n</div>"
     },
     "metadata": {},
     "execution_count": 77
    }
   ],
   "source": [
    "array_fe = titanic['sex'].values\n",
    "array_fe = np.where(array_fe == 'female', True, False)\n",
    "titanic = titanic.rename(columns={'sex': 'gender'})\n",
    "titanic.head()"
   ]
  },
  {
   "cell_type": "markdown",
   "metadata": {},
   "source": [
    "14. Filter the `titanic` dataframe with the boolean array, call it `woman_titanic`"
   ]
  },
  {
   "cell_type": "code",
   "execution_count": 78,
   "metadata": {},
   "outputs": [
    {
     "output_type": "execute_result",
     "data": {
      "text/plain": [
       "   pclass  survived                                             name  gender  \\\n",
       "0       1         1                    Allen, Miss. Elisabeth Walton  female   \n",
       "2       1         0                     Allison, Miss. Helen Loraine  female   \n",
       "4       1         0  Allison, Mrs. Hudson J C (Bessie Waldo Daniels)  female   \n",
       "6       1         1                Andrews, Miss. Kornelia Theodosia  female   \n",
       "8       1         1    Appleton, Mrs. Edward Dale (Charlotte Lamson)  female   \n",
       "\n",
       "    age  sibsp  parch  ticket      fare    cabin embarked boat  body  \\\n",
       "0  29.0      0      0   24160  211.3375       B5        S    2   NaN   \n",
       "2   2.0      1      2  113781  151.5500  C22 C26        S  NaN   NaN   \n",
       "4  25.0      1      2  113781  151.5500  C22 C26        S  NaN   NaN   \n",
       "6  63.0      1      0   13502   77.9583       D7        S   10   NaN   \n",
       "8  53.0      2      0   11769   51.4792     C101        S    D   NaN   \n",
       "\n",
       "                         home.dest  \n",
       "0                     St Louis, MO  \n",
       "2  Montreal, PQ / Chesterville, ON  \n",
       "4  Montreal, PQ / Chesterville, ON  \n",
       "6                       Hudson, NY  \n",
       "8              Bayside, Queens, NY  "
      ],
      "text/html": "<div>\n<style scoped>\n    .dataframe tbody tr th:only-of-type {\n        vertical-align: middle;\n    }\n\n    .dataframe tbody tr th {\n        vertical-align: top;\n    }\n\n    .dataframe thead th {\n        text-align: right;\n    }\n</style>\n<table border=\"1\" class=\"dataframe\">\n  <thead>\n    <tr style=\"text-align: right;\">\n      <th></th>\n      <th>pclass</th>\n      <th>survived</th>\n      <th>name</th>\n      <th>gender</th>\n      <th>age</th>\n      <th>sibsp</th>\n      <th>parch</th>\n      <th>ticket</th>\n      <th>fare</th>\n      <th>cabin</th>\n      <th>embarked</th>\n      <th>boat</th>\n      <th>body</th>\n      <th>home.dest</th>\n    </tr>\n  </thead>\n  <tbody>\n    <tr>\n      <th>0</th>\n      <td>1</td>\n      <td>1</td>\n      <td>Allen, Miss. Elisabeth Walton</td>\n      <td>female</td>\n      <td>29.0</td>\n      <td>0</td>\n      <td>0</td>\n      <td>24160</td>\n      <td>211.3375</td>\n      <td>B5</td>\n      <td>S</td>\n      <td>2</td>\n      <td>NaN</td>\n      <td>St Louis, MO</td>\n    </tr>\n    <tr>\n      <th>2</th>\n      <td>1</td>\n      <td>0</td>\n      <td>Allison, Miss. Helen Loraine</td>\n      <td>female</td>\n      <td>2.0</td>\n      <td>1</td>\n      <td>2</td>\n      <td>113781</td>\n      <td>151.5500</td>\n      <td>C22 C26</td>\n      <td>S</td>\n      <td>NaN</td>\n      <td>NaN</td>\n      <td>Montreal, PQ / Chesterville, ON</td>\n    </tr>\n    <tr>\n      <th>4</th>\n      <td>1</td>\n      <td>0</td>\n      <td>Allison, Mrs. Hudson J C (Bessie Waldo Daniels)</td>\n      <td>female</td>\n      <td>25.0</td>\n      <td>1</td>\n      <td>2</td>\n      <td>113781</td>\n      <td>151.5500</td>\n      <td>C22 C26</td>\n      <td>S</td>\n      <td>NaN</td>\n      <td>NaN</td>\n      <td>Montreal, PQ / Chesterville, ON</td>\n    </tr>\n    <tr>\n      <th>6</th>\n      <td>1</td>\n      <td>1</td>\n      <td>Andrews, Miss. Kornelia Theodosia</td>\n      <td>female</td>\n      <td>63.0</td>\n      <td>1</td>\n      <td>0</td>\n      <td>13502</td>\n      <td>77.9583</td>\n      <td>D7</td>\n      <td>S</td>\n      <td>10</td>\n      <td>NaN</td>\n      <td>Hudson, NY</td>\n    </tr>\n    <tr>\n      <th>8</th>\n      <td>1</td>\n      <td>1</td>\n      <td>Appleton, Mrs. Edward Dale (Charlotte Lamson)</td>\n      <td>female</td>\n      <td>53.0</td>\n      <td>2</td>\n      <td>0</td>\n      <td>11769</td>\n      <td>51.4792</td>\n      <td>C101</td>\n      <td>S</td>\n      <td>D</td>\n      <td>NaN</td>\n      <td>Bayside, Queens, NY</td>\n    </tr>\n  </tbody>\n</table>\n</div>"
     },
     "metadata": {},
     "execution_count": 78
    }
   ],
   "source": [
    "woman_titanic = titanic[array_fe]\n",
    "woman_titanic.head()"
   ]
  },
  {
   "cell_type": "markdown",
   "metadata": {},
   "source": [
    "15. How many woman were younger than 18? Call the variable `minor_wo`"
   ]
  },
  {
   "cell_type": "code",
   "execution_count": 82,
   "metadata": {},
   "outputs": [
    {
     "output_type": "stream",
     "name": "stdout",
     "text": [
      "Había 72 mujeres menores de 18 años\n"
     ]
    }
   ],
   "source": [
    "minor_wo = woman_titanic[woman_titanic.age < 18]['name'].count()\n",
    "print(f'Había {minor_wo} mujeres menores de 18 años')"
   ]
  },
  {
   "cell_type": "markdown",
   "metadata": {},
   "source": [
    "16. How many woman that were less than 18 actually died? Call the variable `dead_wo`"
   ]
  },
  {
   "cell_type": "code",
   "execution_count": 83,
   "metadata": {},
   "outputs": [
    {
     "output_type": "stream",
     "name": "stdout",
     "text": [
      "Murieron 22 mujeres menores de 18 años\n"
     ]
    }
   ],
   "source": [
    "dead_wo = woman_titanic[(woman_titanic.age < 18) & (woman_titanic.survived == 0)]['name'].count()\n",
    "print(f'Murieron {dead_wo} mujeres menores de 18 años')"
   ]
  },
  {
   "cell_type": "markdown",
   "metadata": {},
   "source": [
    "17. Drop rows with *Nan* in `titanic` with `how='any'` and print the shape\n",
    "\n"
   ]
  },
  {
   "cell_type": "code",
   "execution_count": 84,
   "metadata": {},
   "outputs": [
    {
     "output_type": "execute_result",
     "data": {
      "text/plain": [
       "(0, 14)"
      ]
     },
     "metadata": {},
     "execution_count": 84
    }
   ],
   "source": [
    "titanic.dropna(how='any').shape"
   ]
  },
  {
   "cell_type": "markdown",
   "metadata": {},
   "source": [
    "18. Drop rows with *Nan* in `titanic` with `how='all'` and print the shape\n"
   ]
  },
  {
   "cell_type": "code",
   "execution_count": 85,
   "metadata": {},
   "outputs": [
    {
     "output_type": "execute_result",
     "data": {
      "text/plain": [
       "(1309, 14)"
      ]
     },
     "metadata": {},
     "execution_count": 85
    }
   ],
   "source": [
    "titanic.dropna(how='all').shape"
   ]
  },
  {
   "cell_type": "markdown",
   "metadata": {},
   "source": [
    "Check in [here](https://pandas.pydata.org/pandas-docs/stable/reference/api/pandas.DataFrame.dropna.html) why the shapes are different."
   ]
  },
  {
   "cell_type": "markdown",
   "metadata": {},
   "source": [
    "19. Drop columns in `titanic` with more than 1000 missing values and print the columns remaining"
   ]
  },
  {
   "cell_type": "code",
   "execution_count": 95,
   "metadata": {},
   "outputs": [
    {
     "output_type": "execute_result",
     "data": {
      "text/plain": [
       "pclass          0\n",
       "survived        0\n",
       "name            0\n",
       "gender          0\n",
       "age           263\n",
       "sibsp           0\n",
       "parch           0\n",
       "ticket          0\n",
       "fare            1\n",
       "cabin        1014\n",
       "embarked        2\n",
       "boat          823\n",
       "body         1188\n",
       "home.dest     564\n",
       "dtype: int64"
      ]
     },
     "metadata": {},
     "execution_count": 95
    }
   ],
   "source": [
    "titanic.isna().sum()"
   ]
  },
  {
   "cell_type": "code",
   "execution_count": 119,
   "metadata": {},
   "outputs": [
    {
     "output_type": "execute_result",
     "data": {
      "text/plain": [
       "   pclass  survived                                             name  gender  \\\n",
       "0       1         1                    Allen, Miss. Elisabeth Walton  female   \n",
       "1       1         1                   Allison, Master. Hudson Trevor    male   \n",
       "2       1         0                     Allison, Miss. Helen Loraine  female   \n",
       "3       1         0             Allison, Mr. Hudson Joshua Creighton    male   \n",
       "4       1         0  Allison, Mrs. Hudson J C (Bessie Waldo Daniels)  female   \n",
       "\n",
       "     age  sibsp  parch  ticket      fare embarked boat  \\\n",
       "0  29.00      0      0   24160  211.3375        S    2   \n",
       "1   0.92      1      2  113781  151.5500        S   11   \n",
       "2   2.00      1      2  113781  151.5500        S  NaN   \n",
       "3  30.00      1      2  113781  151.5500        S  NaN   \n",
       "4  25.00      1      2  113781  151.5500        S  NaN   \n",
       "\n",
       "                         home.dest  \n",
       "0                     St Louis, MO  \n",
       "1  Montreal, PQ / Chesterville, ON  \n",
       "2  Montreal, PQ / Chesterville, ON  \n",
       "3  Montreal, PQ / Chesterville, ON  \n",
       "4  Montreal, PQ / Chesterville, ON  "
      ],
      "text/html": "<div>\n<style scoped>\n    .dataframe tbody tr th:only-of-type {\n        vertical-align: middle;\n    }\n\n    .dataframe tbody tr th {\n        vertical-align: top;\n    }\n\n    .dataframe thead th {\n        text-align: right;\n    }\n</style>\n<table border=\"1\" class=\"dataframe\">\n  <thead>\n    <tr style=\"text-align: right;\">\n      <th></th>\n      <th>pclass</th>\n      <th>survived</th>\n      <th>name</th>\n      <th>gender</th>\n      <th>age</th>\n      <th>sibsp</th>\n      <th>parch</th>\n      <th>ticket</th>\n      <th>fare</th>\n      <th>embarked</th>\n      <th>boat</th>\n      <th>home.dest</th>\n    </tr>\n  </thead>\n  <tbody>\n    <tr>\n      <th>0</th>\n      <td>1</td>\n      <td>1</td>\n      <td>Allen, Miss. Elisabeth Walton</td>\n      <td>female</td>\n      <td>29.00</td>\n      <td>0</td>\n      <td>0</td>\n      <td>24160</td>\n      <td>211.3375</td>\n      <td>S</td>\n      <td>2</td>\n      <td>St Louis, MO</td>\n    </tr>\n    <tr>\n      <th>1</th>\n      <td>1</td>\n      <td>1</td>\n      <td>Allison, Master. Hudson Trevor</td>\n      <td>male</td>\n      <td>0.92</td>\n      <td>1</td>\n      <td>2</td>\n      <td>113781</td>\n      <td>151.5500</td>\n      <td>S</td>\n      <td>11</td>\n      <td>Montreal, PQ / Chesterville, ON</td>\n    </tr>\n    <tr>\n      <th>2</th>\n      <td>1</td>\n      <td>0</td>\n      <td>Allison, Miss. Helen Loraine</td>\n      <td>female</td>\n      <td>2.00</td>\n      <td>1</td>\n      <td>2</td>\n      <td>113781</td>\n      <td>151.5500</td>\n      <td>S</td>\n      <td>NaN</td>\n      <td>Montreal, PQ / Chesterville, ON</td>\n    </tr>\n    <tr>\n      <th>3</th>\n      <td>1</td>\n      <td>0</td>\n      <td>Allison, Mr. Hudson Joshua Creighton</td>\n      <td>male</td>\n      <td>30.00</td>\n      <td>1</td>\n      <td>2</td>\n      <td>113781</td>\n      <td>151.5500</td>\n      <td>S</td>\n      <td>NaN</td>\n      <td>Montreal, PQ / Chesterville, ON</td>\n    </tr>\n    <tr>\n      <th>4</th>\n      <td>1</td>\n      <td>0</td>\n      <td>Allison, Mrs. Hudson J C (Bessie Waldo Daniels)</td>\n      <td>female</td>\n      <td>25.00</td>\n      <td>1</td>\n      <td>2</td>\n      <td>113781</td>\n      <td>151.5500</td>\n      <td>S</td>\n      <td>NaN</td>\n      <td>Montreal, PQ / Chesterville, ON</td>\n    </tr>\n  </tbody>\n</table>\n</div>"
     },
     "metadata": {},
     "execution_count": 119
    }
   ],
   "source": [
    "titanic = titanic.dropna(axis=1, thresh=titanic.shape[0] - 1000)\n",
    "titanic.head()"
   ]
  },
  {
   "cell_type": "markdown",
   "metadata": {},
   "source": [
    "20. Calculate the ratio of missing values at the `boat` column. "
   ]
  },
  {
   "cell_type": "code",
   "execution_count": 120,
   "metadata": {},
   "outputs": [
    {
     "output_type": "execute_result",
     "data": {
      "text/plain": [
       "0.6287242169595111"
      ]
     },
     "metadata": {},
     "execution_count": 120
    }
   ],
   "source": [
    "titanic['boat'].isna().mean()"
   ]
  },
  {
   "cell_type": "markdown",
   "metadata": {},
   "source": [
    "21.  Group `titanic` by `'pclass'` and aggregate by the columns `age` & `fare`, by `max` and `median` --> `by_class`\n"
   ]
  },
  {
   "cell_type": "code",
   "execution_count": 121,
   "metadata": {},
   "outputs": [
    {
     "output_type": "execute_result",
     "data": {
      "text/plain": [
       "         age             fare         \n",
       "         max median       max   median\n",
       "pclass                                \n",
       "1       80.0   39.0  512.3292  60.0000\n",
       "2       70.0   29.0   73.5000  15.0458\n",
       "3       74.0   24.0   69.5500   8.0500"
      ],
      "text/html": "<div>\n<style scoped>\n    .dataframe tbody tr th:only-of-type {\n        vertical-align: middle;\n    }\n\n    .dataframe tbody tr th {\n        vertical-align: top;\n    }\n\n    .dataframe thead tr th {\n        text-align: left;\n    }\n\n    .dataframe thead tr:last-of-type th {\n        text-align: right;\n    }\n</style>\n<table border=\"1\" class=\"dataframe\">\n  <thead>\n    <tr>\n      <th></th>\n      <th colspan=\"2\" halign=\"left\">age</th>\n      <th colspan=\"2\" halign=\"left\">fare</th>\n    </tr>\n    <tr>\n      <th></th>\n      <th>max</th>\n      <th>median</th>\n      <th>max</th>\n      <th>median</th>\n    </tr>\n    <tr>\n      <th>pclass</th>\n      <th></th>\n      <th></th>\n      <th></th>\n      <th></th>\n    </tr>\n  </thead>\n  <tbody>\n    <tr>\n      <th>1</th>\n      <td>80.0</td>\n      <td>39.0</td>\n      <td>512.3292</td>\n      <td>60.0000</td>\n    </tr>\n    <tr>\n      <th>2</th>\n      <td>70.0</td>\n      <td>29.0</td>\n      <td>73.5000</td>\n      <td>15.0458</td>\n    </tr>\n    <tr>\n      <th>3</th>\n      <td>74.0</td>\n      <td>24.0</td>\n      <td>69.5500</td>\n      <td>8.0500</td>\n    </tr>\n  </tbody>\n</table>\n</div>"
     },
     "metadata": {},
     "execution_count": 121
    }
   ],
   "source": [
    "by_class = titanic.groupby('pclass').agg(['max', 'median'])[['age', 'fare']]\n",
    "by_class"
   ]
  },
  {
   "cell_type": "markdown",
   "metadata": {},
   "source": [
    "22. Print the maximum age in each class from `by_class`"
   ]
  },
  {
   "cell_type": "code",
   "execution_count": 122,
   "metadata": {},
   "outputs": [
    {
     "output_type": "execute_result",
     "data": {
      "text/plain": [
       "pclass\n",
       "1    80.0\n",
       "2    70.0\n",
       "3    74.0\n",
       "Name: max, dtype: float64"
      ]
     },
     "metadata": {},
     "execution_count": 122
    }
   ],
   "source": [
    "by_class['age']['max']"
   ]
  },
  {
   "cell_type": "markdown",
   "metadata": {},
   "source": [
    "23. Print the median fare in each class from `by_class`"
   ]
  },
  {
   "cell_type": "code",
   "execution_count": 123,
   "metadata": {},
   "outputs": [
    {
     "output_type": "execute_result",
     "data": {
      "text/plain": [
       "pclass\n",
       "1    60.0000\n",
       "2    15.0458\n",
       "3     8.0500\n",
       "Name: median, dtype: float64"
      ]
     },
     "metadata": {},
     "execution_count": 123
    }
   ],
   "source": [
    "by_class['fare']['median']"
   ]
  },
  {
   "cell_type": "markdown",
   "metadata": {},
   "source": [
    "24. Using [`.pivot_table()`](https://pandas.pydata.org/pandas-docs/stable/reference/api/pandas.pivot_table.html) to count how many women or men survived by class, call it `counted`.\n",
    "\n",
    "Don't panic and read the documentation!\n",
    "\n",
    "\n"
   ]
  },
  {
   "cell_type": "code",
   "execution_count": 125,
   "metadata": {},
   "outputs": [
    {
     "output_type": "execute_result",
     "data": {
      "text/plain": [
       "gender  female  male\n",
       "pclass              \n",
       "1          139    61\n",
       "2           94    25\n",
       "3          106    75"
      ],
      "text/html": "<div>\n<style scoped>\n    .dataframe tbody tr th:only-of-type {\n        vertical-align: middle;\n    }\n\n    .dataframe tbody tr th {\n        vertical-align: top;\n    }\n\n    .dataframe thead th {\n        text-align: right;\n    }\n</style>\n<table border=\"1\" class=\"dataframe\">\n  <thead>\n    <tr style=\"text-align: right;\">\n      <th>gender</th>\n      <th>female</th>\n      <th>male</th>\n    </tr>\n    <tr>\n      <th>pclass</th>\n      <th></th>\n      <th></th>\n    </tr>\n  </thead>\n  <tbody>\n    <tr>\n      <th>1</th>\n      <td>139</td>\n      <td>61</td>\n    </tr>\n    <tr>\n      <th>2</th>\n      <td>94</td>\n      <td>25</td>\n    </tr>\n    <tr>\n      <th>3</th>\n      <td>106</td>\n      <td>75</td>\n    </tr>\n  </tbody>\n</table>\n</div>"
     },
     "metadata": {},
     "execution_count": 125
    }
   ],
   "source": [
    "counted = pd.pivot_table(data=titanic, values='survived', index='pclass', columns='gender', aggfunc='sum')\n",
    "counted"
   ]
  },
  {
   "cell_type": "markdown",
   "metadata": {},
   "source": [
    "25. Add a new column with the sum of survived men and women, call it `counted['total']` \n"
   ]
  },
  {
   "cell_type": "code",
   "execution_count": 126,
   "metadata": {},
   "outputs": [
    {
     "output_type": "execute_result",
     "data": {
      "text/plain": [
       "gender  female  male  total\n",
       "pclass                     \n",
       "1          139    61    200\n",
       "2           94    25    119\n",
       "3          106    75    181"
      ],
      "text/html": "<div>\n<style scoped>\n    .dataframe tbody tr th:only-of-type {\n        vertical-align: middle;\n    }\n\n    .dataframe tbody tr th {\n        vertical-align: top;\n    }\n\n    .dataframe thead th {\n        text-align: right;\n    }\n</style>\n<table border=\"1\" class=\"dataframe\">\n  <thead>\n    <tr style=\"text-align: right;\">\n      <th>gender</th>\n      <th>female</th>\n      <th>male</th>\n      <th>total</th>\n    </tr>\n    <tr>\n      <th>pclass</th>\n      <th></th>\n      <th></th>\n      <th></th>\n    </tr>\n  </thead>\n  <tbody>\n    <tr>\n      <th>1</th>\n      <td>139</td>\n      <td>61</td>\n      <td>200</td>\n    </tr>\n    <tr>\n      <th>2</th>\n      <td>94</td>\n      <td>25</td>\n      <td>119</td>\n    </tr>\n    <tr>\n      <th>3</th>\n      <td>106</td>\n      <td>75</td>\n      <td>181</td>\n    </tr>\n  </tbody>\n</table>\n</div>"
     },
     "metadata": {},
     "execution_count": 126
    }
   ],
   "source": [
    "counted['total'] = counted['female'] + counted['male']\n",
    "counted"
   ]
  },
  {
   "cell_type": "markdown",
   "metadata": {},
   "source": [
    "26. Sort `counted` by the `'total'` column. In which class the people survived the more?"
   ]
  },
  {
   "cell_type": "code",
   "execution_count": 129,
   "metadata": {},
   "outputs": [
    {
     "output_type": "execute_result",
     "data": {
      "text/plain": [
       "gender  female  male  total\n",
       "pclass                     \n",
       "1          139    61    200\n",
       "3          106    75    181\n",
       "2           94    25    119"
      ],
      "text/html": "<div>\n<style scoped>\n    .dataframe tbody tr th:only-of-type {\n        vertical-align: middle;\n    }\n\n    .dataframe tbody tr th {\n        vertical-align: top;\n    }\n\n    .dataframe thead th {\n        text-align: right;\n    }\n</style>\n<table border=\"1\" class=\"dataframe\">\n  <thead>\n    <tr style=\"text-align: right;\">\n      <th>gender</th>\n      <th>female</th>\n      <th>male</th>\n      <th>total</th>\n    </tr>\n    <tr>\n      <th>pclass</th>\n      <th></th>\n      <th></th>\n      <th></th>\n    </tr>\n  </thead>\n  <tbody>\n    <tr>\n      <th>1</th>\n      <td>139</td>\n      <td>61</td>\n      <td>200</td>\n    </tr>\n    <tr>\n      <th>3</th>\n      <td>106</td>\n      <td>75</td>\n      <td>181</td>\n    </tr>\n    <tr>\n      <th>2</th>\n      <td>94</td>\n      <td>25</td>\n      <td>119</td>\n    </tr>\n  </tbody>\n</table>\n</div>"
     },
     "metadata": {},
     "execution_count": 129
    }
   ],
   "source": [
    "counted.sort_values(by='total', ascending=False)"
   ]
  },
  {
   "cell_type": "markdown",
   "metadata": {},
   "source": [
    "27. Please, show only the rows using a mask with the following conditions: \n",
    "    - They are woman\n",
    "    - From third class\n",
    "    - Younger than 30\n",
    "    - They survived\n",
    "    \n",
    "    ¿How many rows fulfill the condition?"
   ]
  },
  {
   "cell_type": "code",
   "execution_count": 131,
   "metadata": {},
   "outputs": [
    {
     "output_type": "execute_result",
     "data": {
      "text/plain": [
       "57"
      ]
     },
     "metadata": {},
     "execution_count": 131
    }
   ],
   "source": [
    "titanic[(titanic.gender == 'female') & (titanic.pclass == 3) & (titanic.age < 30) & (titanic.survived == 1)].shape[0]"
   ]
  },
  {
   "cell_type": "markdown",
   "metadata": {},
   "source": [
    "28. Now, show only the rows using `.loc` with the following conditions: \n",
    "    - They are man\n",
    "    - From first class\n",
    "    - Older than 50\n",
    "    - They died\n",
    "    \n",
    "    ¿How many rows fulfill the condition?"
   ]
  },
  {
   "cell_type": "code",
   "execution_count": 134,
   "metadata": {},
   "outputs": [
    {
     "output_type": "execute_result",
     "data": {
      "text/plain": [
       "29"
      ]
     },
     "metadata": {},
     "execution_count": 134
    }
   ],
   "source": [
    "titanic.loc[(titanic.gender == 'male') & (titanic.pclass == 1) & (titanic.age > 50) & (titanic.survived == 0)].shape[0]"
   ]
  },
  {
   "cell_type": "markdown",
   "metadata": {},
   "source": [
    "29. Print the uniques values at the column `'name'`"
   ]
  },
  {
   "cell_type": "code",
   "execution_count": 156,
   "metadata": {
    "tags": [
     "outputPrepend"
    ]
   },
   "outputs": [
    {
     "output_type": "stream",
     "name": "stdout",
     "text": [
      "ley\nRichards, Master. William Rowe\nRichards, Mrs. Sidney (Emily Hocking)\nRidsdale, Miss. Lucy\nRogers, Mr. Reginald Harry\nRugg, Miss. Emily\nSchmidt, Mr. August\nSedgwick, Mr. Charles Frederick Waddington\nSharp, Mr. Percival James R\nShelley, Mrs. William (Imanita Parrish Hall)\nSilven, Miss. Lyyli Karoliina\nSincock, Miss. Maude\nSinkkonen, Miss. Anna\nSjostedt, Mr. Ernst Adolf\nSlayter, Miss. Hilda Mary\nSlemen, Mr. Richard James\nSmith, Miss. Marion Elsie\nSobey, Mr. Samuel James Hayden\nStanton, Mr. Samuel Ward\nStokes, Mr. Philip Joseph\nSwane, Mr. George\nSweet, Mr. George Frederick\nToomey, Miss. Ellen\nTroupiansky, Mr. Moses Aaron\nTrout, Mrs. William H (Jessie L)\nTroutt, Miss. Edwina Celia \"Winnie\"\nTurpin, Mr. William John Robert\nTurpin, Mrs. William John Robert (Dorothy Ann Wonnacott)\nVeal, Mr. James\nWalcroft, Miss. Nellie\nWare, Mr. John James\nWare, Mr. William Jeffery\nWare, Mrs. John James (Florence Louise Long)\nWatson, Mr. Ennis Hastings\nWatt, Miss. Bertha J\nWatt, Mrs. James (Elizabeth \"Bessie\" Inglis Milne)\nWebber, Miss. Susan\nWeisz, Mr. Leopold\nWeisz, Mrs. Leopold (Mathilde Francoise Pede)\nWells, Master. Ralph Lester\nWells, Miss. Joan\nWells, Mrs. Arthur Henry (\"Addie\" Dart Trevaskis)\nWest, Miss. Barbara J\nWest, Miss. Constance Mirium\nWest, Mr. Edwy Arthur\nWest, Mrs. Edwy Arthur (Ada Mary Worth)\nWheadon, Mr. Edward H\nWheeler, Mr. Edwin \"Frederick\"\nWilhelms, Mr. Charles\nWilliams, Mr. Charles Eugene\nWright, Miss. Marion\nYrois, Miss. Henriette (\"Mrs Harbeck\")\nAbbing, Mr. Anthony\nAbbott, Master. Eugene Joseph\nAbbott, Mr. Rossmore Edward\nAbbott, Mrs. Stanton (Rosa Hunt)\nAbelseth, Miss. Karen Marie\nAbelseth, Mr. Olaus Jorgensen\nAbrahamsson, Mr. Abraham August Johannes\nAbrahim, Mrs. Joseph (Sophie Halaut Easu)\nAdahl, Mr. Mauritz Nils Martin\nAdams, Mr. John\nAhlin, Mrs. Johan (Johanna Persdotter Larsson)\nAks, Master. Philip Frank\nAks, Mrs. Sam (Leah Rosen)\nAlbimona, Mr. Nassef Cassem\nAlexander, Mr. William\nAlhomaki, Mr. Ilmari Rudolf\nAli, Mr. Ahmed\nAli, Mr. William\nAllen, Mr. William Henry\nAllum, Mr. Owen George\nAndersen, Mr. Albert Karvin\nAndersen-Jensen, Miss. Carla Christine Nielsine\nAndersson, Master. Sigvard Harald Elias\nAndersson, Miss. Ebba Iris Alfrida\nAndersson, Miss. Ellis Anna Maria\nAndersson, Miss. Erna Alexandra\nAndersson, Miss. Ida Augusta Margareta\nAndersson, Miss. Ingeborg Constanzia\nAndersson, Miss. Sigrid Elisabeth\nAndersson, Mr. Anders Johan\nAndersson, Mr. August Edvard (\"Wennerstrom\")\nAndersson, Mr. Johan Samuel\nAndersson, Mrs. Anders Johan (Alfrida Konstantia Brogren)\nAndreasson, Mr. Paul Edvin\nAngheloff, Mr. Minko\nArnold-Franchi, Mr. Josef\nArnold-Franchi, Mrs. Josef (Josefine Franchi)\nAronsson, Mr. Ernst Axel Algot\nAsim, Mr. Adola\nAsplund, Master. Carl Edgar\nAsplund, Master. Clarence Gustaf Hugo\nAsplund, Master. Edvin Rojj Felix\nAsplund, Master. Filip Oscar\nAsplund, Miss. Lillian Gertrud\nAsplund, Mr. Carl Oscar Vilhelm Gustafsson\nAsplund, Mr. Johan Charles\nAsplund, Mrs. Carl Oscar (Selma Augusta Emilia Johansson)\nAssaf Khalil, Mrs. Mariana (\"Miriam\")\nAssaf, Mr. Gerios\nAssam, Mr. Ali\nAttalah, Miss. Malake\nAttalah, Mr. Sleiman\nAugustsson, Mr. Albert\nAyoub, Miss. Banoura\nBaccos, Mr. Raffull\nBackstrom, Mr. Karl Alfred\nBackstrom, Mrs. Karl Alfred (Maria Mathilda Gustafsson)\nBaclini, Miss. Eugenie\nBaclini, Miss. Helene Barbara\nBaclini, Miss. Marie Catherine\nBaclini, Mrs. Solomon (Latifa Qurban)\nBadman, Miss. Emily Louisa\nBadt, Mr. Mohamed\nBalkic, Mr. Cerin\nBarah, Mr. Hanna Assi\nBarbara, Miss. Saiide\nBarbara, Mrs. (Catherine David)\nBarry, Miss. Julia\nBarton, Mr. David John\nBeavan, Mr. William Thomas\nBengtsson, Mr. John Viktor\nBerglund, Mr. Karl Ivar Sven\nBetros, Master. Seman\nBetros, Mr. Tannous\nBing, Mr. Lee\nBirkeland, Mr. Hans Martin Monsen\nBjorklund, Mr. Ernst Herbert\nBostandyeff, Mr. Guentcho\nBoulos, Master. Akar\nBoulos, Miss. Nourelain\nBoulos, Mr. Hanna\nBoulos, Mrs. Joseph (Sultana)\nBourke, Miss. Mary\nBourke, Mr. John\nBourke, Mrs. John (Catherine)\nBowen, Mr. David John \"Dai\"\nBradley, Miss. Bridget Delia\nBraf, Miss. Elin Ester Maria\nBraund, Mr. Lewis Richard\nBraund, Mr. Owen Harris\nBrobeck, Mr. Karl Rudolf\nBrocklebank, Mr. William Alfred\nBuckley, Miss. Katherine\nBuckley, Mr. Daniel\nBurke, Mr. Jeremiah\nBurns, Miss. Mary Delia\nCacic, Miss. Manda\nCacic, Miss. Marija\nCacic, Mr. Jego Grga\nCacic, Mr. Luka\nCalic, Mr. Jovo\nCalic, Mr. Petar\nCanavan, Miss. Mary\nCanavan, Mr. Patrick\nCann, Mr. Ernest Charles\nCaram, Mr. Joseph\nCaram, Mrs. Joseph (Maria Elias)\nCarlsson, Mr. August Sigfrid\nCarlsson, Mr. Carl Robert\nCarr, Miss. Helen \"Ellen\"\nCarr, Miss. Jeannie\nCarver, Mr. Alfred John\nCelotti, Mr. Francesco\nCharters, Mr. David\nChip, Mr. Chang\nChristmann, Mr. Emil\nChronopoulos, Mr. Apostolos\nChronopoulos, Mr. Demetrios\nCoelho, Mr. Domingos Fernandeo\nCohen, Mr. Gurshon \"Gus\"\nColbert, Mr. Patrick\nColeff, Mr. Peju\nColeff, Mr. Satio\nConlon, Mr. Thomas Henry\nConnaghton, Mr. Michael\nConnolly, Miss. Kate\nConnors, Mr. Patrick\nCook, Mr. Jacob\nCor, Mr. Bartol\nCor, Mr. Ivan\nCor, Mr. Liudevit\nCorn, Mr. Harry\nCoutts, Master. Eden Leslie \"Neville\"\nCoutts, Master. William Loch \"William\"\nCoutts, Mrs. William (Winnie \"Minnie\" Treanor)\nCoxon, Mr. Daniel\nCrease, Mr. Ernest James\nCribb, Miss. Laura Alice\nCribb, Mr. John Hatfield\nCulumovic, Mr. Jeso\nDaher, Mr. Shedid\nDahl, Mr. Karl Edwart\nDahlberg, Miss. Gerda Ulrika\nDakic, Mr. Branko\nDaly, Miss. Margaret Marcella \"Maggie\"\nDaly, Mr. Eugene Patrick\nDanbom, Master. Gilbert Sigvard Emanuel\nDanbom, Mr. Ernst Gilbert\nDanbom, Mrs. Ernst Gilbert (Anna Sigrid Maria Brogren)\nDanoff, Mr. Yoto\nDantcheff, Mr. Ristiu\nDavies, Mr. Alfred J\nDavies, Mr. Evan\nDavies, Mr. John Samuel\nDavies, Mr. Joseph\nDavison, Mr. Thomas Henry\nDavison, Mrs. Thomas Henry (Mary E Finck)\nde Messemaeker, Mr. Guillaume Joseph\nde Messemaeker, Mrs. Guillaume Joseph (Emma)\nde Mulder, Mr. Theodore\nde Pelsmaeker, Mr. Alfons\nDean, Master. Bertram Vere\nDean, Miss. Elizabeth Gladys \"Millvina\"\nDean, Mr. Bertram Frank\nDean, Mrs. Bertram (Eva Georgetta Light)\nDelalic, Mr. Redjo\nDemetri, Mr. Marinko\nDenkoff, Mr. Mitto\nDennis, Mr. Samuel\nDennis, Mr. William\nDevaney, Miss. Margaret Delia\nDika, Mr. Mirko\nDimic, Mr. Jovan\nDintcheff, Mr. Valtcho\nDoharr, Mr. Tannous\nDooley, Mr. Patrick\nDorking, Mr. Edward Arthur\nDowdell, Miss. Elizabeth\nDoyle, Miss. Elizabeth\nDrapkin, Miss. Jennie\nDrazenoic, Mr. Jozef\nDuane, Mr. Frank\nDuquemin, Mr. Joseph\nDyker, Mr. Adolf Fredrik\nDyker, Mrs. Adolf Fredrik (Anna Elisabeth Judith Andersson)\nEdvardsson, Mr. Gustaf Hjalmar\nEklund, Mr. Hans Linus\nEkstrom, Mr. Johan\nElias, Mr. Dibo\nElias, Mr. Joseph\nElias, Mr. Joseph Jr\nElias, Mr. Tannous\nElsbury, Mr. William James\nEmanuel, Miss. Virginia Ethel\nEmir, Mr. Farred Chehab\nEverett, Mr. Thomas James\nFarrell, Mr. James\nFinoli, Mr. Luigi\nFischer, Mr. Eberhard Thelander\nFleming, Miss. Honora\nFlynn, Mr. James\nFlynn, Mr. John\nFoley, Mr. Joseph\nFoley, Mr. William\nFoo, Mr. Choong\nFord, Miss. Doolina Margaret \"Daisy\"\nFord, Miss. Robina Maggie \"Ruby\"\nFord, Mr. Arthur\nFord, Mr. Edward Watson\nFord, Mr. William Neal\nFord, Mrs. Edward (Margaret Ann Watson)\nFox, Mr. Patrick\nFranklin, Mr. Charles (Charles Fardon)\nGallagher, Mr. Martin\nGarfirth, Mr. John\nGheorgheff, Mr. Stanio\nGilinski, Mr. Eliezer\nGilnagh, Miss. Katherine \"Katie\"\nGlynn, Miss. Mary Agatha\nGoldsmith, Master. Frank John William \"Frankie\"\nGoldsmith, Mr. Frank John\nGoldsmith, Mr. Nathan\nGoldsmith, Mrs. Frank John (Emily Alice Brown)\nGoncalves, Mr. Manuel Estanslas\nGoodwin, Master. Harold Victor\nGoodwin, Master. Sidney Leonard\nGoodwin, Master. William Frederick\nGoodwin, Miss. Jessie Allis\nGoodwin, Miss. Lillian Amy\nGoodwin, Mr. Charles Edward\nGoodwin, Mr. Charles Frederick\nGoodwin, Mrs. Frederick (Augusta Tyler)\nGreen, Mr. George Henry\nGronnestad, Mr. Daniel Danielsen\nGuest, Mr. Robert\nGustafsson, Mr. Alfred Ossian\nGustafsson, Mr. Anders Vilhelm\nGustafsson, Mr. Johan Birger\nGustafsson, Mr. Karl Gideon\nHaas, Miss. Aloisia\nHagardon, Miss. Kate\nHagland, Mr. Ingvald Olai Olsen\nHagland, Mr. Konrad Mathias Reiersen\nHakkarainen, Mr. Pekka Pietari\nHakkarainen, Mrs. Pekka Pietari (Elin Matilda Dolck)\nHampe, Mr. Leon\nHanna, Mr. Mansour\nHansen, Mr. Claus Peter\nHansen, Mr. Henrik Juul\nHansen, Mr. Henry Damsgaard\nHansen, Mrs. Claus Peter (Jennie L Howard)\nHarknett, Miss. Alice Phoebe\nHarmer, Mr. Abraham (David Lishin)\nHart, Mr. Henry\nHassan, Mr. Houssein G N\nHealy, Miss. Hanora \"Nora\"\nHedman, Mr. Oskar Arvid\nHee, Mr. Ling\nHegarty, Miss. Hanora \"Nora\"\nHeikkinen, Miss. Laina\nHeininen, Miss. Wendla Maria\nHellstrom, Miss. Hilda Maria\nHendekovic, Mr. Ignjac\nHenriksson, Miss. Jenny Lovisa\nHenry, Miss. Delia\nHirvonen, Miss. Hildur E\nHirvonen, Mrs. Alexander (Helga E Lindqvist)\nHolm, Mr. John Fredrik Alexander\nHolthen, Mr. Johan Martin\nHonkanen, Miss. Eliina\nHorgan, Mr. John\nHoward, Miss. May Elizabeth\nHumblen, Mr. Adolf Mathias Nicolai Olsen\nHyman, Mr. Abraham\nIbrahim Shawah, Mr. Yousseff\nIlieff, Mr. Ylio\nIlmakangas, Miss. Ida Livija\nIlmakangas, Miss. Pieta Sofia\nIvanoff, Mr. Kanio\nJalsevac, Mr. Ivan\nJansson, Mr. Carl Olof\nJardin, Mr. Jose Neto\nJensen, Mr. Hans Peder\nJensen, Mr. Niels Peder\nJensen, Mr. Svend Lauritz\nJermyn, Miss. Annie\nJohannesen-Bratthammer, Mr. Bernt\nJohanson, Mr. Jakob Alfred\nJohansson Palmquist, Mr. Oskar Leander\nJohansson, Mr. Erik\nJohansson, Mr. Gustaf Joel\nJohansson, Mr. Karl Johan\nJohansson, Mr. Nils\nJohnson, Master. Harold Theodor\nJohnson, Miss. Eleanor Ileen\nJohnson, Mr. Alfred\nJohnson, Mr. Malkolm Joackim\nJohnson, Mr. William Cahoone Jr\nJohnson, Mrs. Oscar W (Elisabeth Vilhelmina Berg)\nJohnston, Master. William Arthur \"Willie\"\nJohnston, Miss. Catherine Helen \"Carrie\"\nJohnston, Mr. Andrew G\nJohnston, Mrs. Andrew G (Elizabeth \"Lily\" Watson)\nJonkoff, Mr. Lalio\nJonsson, Mr. Carl\nJonsson, Mr. Nils Hilding\nJussila, Miss. Katriina\nJussila, Miss. Mari Aina\nJussila, Mr. Eiriik\nKallio, Mr. Nikolai Erland\nKalvik, Mr. Johannes Halvorsen\nKaraic, Mr. Milan\nKarlsson, Mr. Einar Gervasius\nKarlsson, Mr. Julius Konrad Eugen\nKarlsson, Mr. Nils August\nKarun, Miss. Manca\nKarun, Mr. Franz\nKassem, Mr. Fared\nKatavelas, Mr. Vassilios (\"Catavelas Vassilios\")\nKeane, Mr. Andrew \"Andy\"\nKeefe, Mr. Arthur\nKelly, Miss. Anna Katherine \"Annie Kate\"\nKelly, Miss. Mary\nKelly, Mr. James\nKennedy, Mr. John\nKhalil, Mr. Betros\nKhalil, Mrs. Betros (Zahie \"Maria\" Elias)\nKiernan, Mr. John\nKiernan, Mr. Philip\nKilgannon, Mr. Thomas J\nKink, Miss. Maria\nKink, Mr. Vincenz\nKink-Heilmann, Miss. Luise Gretchen\nKink-Heilmann, Mr. Anton\nKink-Heilmann, Mrs. Anton (Luise Heilmann)\nKlasen, Miss. Gertrud Emilia\nKlasen, Mr. Klas Albin\nKlasen, Mrs. (Hulda Kristina Eugenia Lofqvist)\nKraeff, Mr. Theodor\nKrekorian, Mr. Neshan\nLahoud, Mr. Sarkis\nLaitinen, Miss. Kristina Sofia\nLaleff, Mr. Kristo\nLam, Mr. Ali\nLam, Mr. Len\nLandergren, Miss. Aurora Adelia\nLane, Mr. Patrick\nLang, Mr. Fang\nLarsson, Mr. August Viktor\nLarsson, Mr. Bengt Edvin\nLarsson-Rondberg, Mr. Edvard A\nLeeni, Mr. Fahim (\"Philip Zenni\")\nLefebre, Master. Henry Forbes\nLefebre, Miss. Ida\nLefebre, Miss. Jeannie\nLefebre, Miss. Mathilde\nLefebre, Mrs. Frank (Frances)\nLeinonen, Mr. Antti Gustaf\nLemberopolous, Mr. Peter L\nLennon, Miss. Mary\nLennon, Mr. Denis\nLeonard, Mr. Lionel\nLester, Mr. James\nLievens, Mr. Rene Aime\nLindahl, Miss. Agda Thorilda Viktoria\nLindblom, Miss. Augusta Charlotta\nLindell, Mr. Edvard Bengtsson\nLindell, Mrs. Edvard Bengtsson (Elin Gerda Persson)\nLindqvist, Mr. Eino William\nLinehan, Mr. Michael\nLing, Mr. Lee\nLithman, Mr. Simon\nLobb, Mr. William Arthur\nLobb, Mrs. William Arthur (Cordelia K Stanlick)\nLockyer, Mr. Edward\nLovell, Mr. John Hall (\"Henry\")\nLulic, Mr. Nikola\nLundahl, Mr. Johan Svensson\nLundin, Miss. Olga Elida\nLundstrom, Mr. Thure Edvin\nLyntakoff, Mr. Stanko\nMacKay, Mr. George William\nMadigan, Miss. Margaret \"Maggie\"\nMadsen, Mr. Fridtjof Arne\nMaenpaa, Mr. Matti Alexanteri\nMahon, Miss. Bridget Delia\nMahon, Mr. John\nMaisner, Mr. Simon\nMakinen, Mr. Kalle Edvard\nMamee, Mr. Hanna\nMangan, Miss. Mary\nMannion, Miss. Margareth\nMardirosian, Mr. Sarkis\nMarkoff, Mr. Marin\nMarkun, Mr. Johann\nMasselmani, Mrs. Fatima\nMatinoff, Mr. Nicola\nMcCarthy, Miss. Catherine \"Katie\"\nMcCormack, Mr. Thomas Joseph\nMcCoy, Miss. Agnes\nMcCoy, Miss. Alicia\nMcCoy, Mr. Bernard\nMcDermott, Miss. Brigdet Delia\nMcEvoy, Mr. Michael\nMcGovern, Miss. Mary\nMcGowan, Miss. Anna \"Annie\"\nMcGowan, Miss. Katherine\nMcMahon, Mr. Martin\nMcNamee, Mr. Neal\nMcNamee, Mrs. Neal (Eileen O'Leary)\nMcNeill, Miss. Bridget\nMeanwell, Miss. (Marion Ogden)\nMeek, Mrs. Thomas (Annie Louise Rowley)\nMeo, Mr. Alfonzo\nMernagh, Mr. Robert\nMidtsjo, Mr. Karl Albert\nMiles, Mr. Frank\nMineff, Mr. Ivan\nMinkoff, Mr. Lazar\nMionoff, Mr. Stoytcho\nMitkoff, Mr. Mito\nMockler, Miss. Helen Mary \"Ellie\"\nMoen, Mr. Sigurd Hansen\nMoor, Master. Meier\nMoor, Mrs. (Beila)\nMoore, Mr. Leonard Charles\nMoran, Miss. Bertha\nMoran, Mr. Daniel J\nMoran, Mr. James\nMorley, Mr. William\nMorrow, Mr. Thomas Rowan\nMoss, Mr. Albert Johan\nMoubarek, Master. Gerios\nMoubarek, Master. Halim Gonios (\"William George\")\nMoubarek, Mrs. George (Omine \"Amenia\" Alexander)\nMoussa, Mrs. (Mantoura Boulos)\nMoutal, Mr. Rahamin Haim\nMullens, Miss. Katherine \"Katie\"\nMulvihill, Miss. Bertha E\nMurdlin, Mr. Joseph\nMurphy, Miss. Katherine \"Kate\"\nMurphy, Miss. Margaret Jane\nMurphy, Miss. Nora\nMyhrman, Mr. Pehr Fabian Oliver Malkolm\nNaidenoff, Mr. Penko\nNajib, Miss. Adele Kiamie \"Jane\"\nNakid, Miss. Maria (\"Mary\")\nNakid, Mr. Sahid\nNakid, Mrs. Said (Waika \"Mary\" Mowad)\nNancarrow, Mr. William Henry\nNankoff, Mr. Minko\nNasr, Mr. Mustafa\nNaughton, Miss. Hannah\nNenkoff, Mr. Christo\nNicola-Yarred, Master. Elias\nNicola-Yarred, Miss. Jamila\nNieminen, Miss. Manta Josefina\nNiklasson, Mr. Samuel\nNilsson, Miss. Berta Olivia\nNilsson, Miss. Helmina Josefina\nNilsson, Mr. August Ferdinand\nNirva, Mr. Iisakki Antino Aijo\nNiskanen, Mr. Juha\nNosworthy, Mr. Richard Cater\nNovel, Mr. Mansouer\nNysten, Miss. Anna Sofia\nNysveen, Mr. Johan Hansen\nO'Brien, Mr. Thomas\nO'Brien, Mr. Timothy\nO'Brien, Mrs. Thomas (Johanna \"Hannah\" Godfrey)\nO'Connell, Mr. Patrick D\nO'Connor, Mr. Maurice\nO'Connor, Mr. Patrick\nOdahl, Mr. Nils Martin\nO'Donoghue, Ms. Bridget\nO'Driscoll, Miss. Bridget\nO'Dwyer, Miss. Ellen \"Nellie\"\nOhman, Miss. Velin\nO'Keefe, Mr. Patrick\nO'Leary, Miss. Hanora \"Norah\"\nOlsen, Master. Artur Karl\nOlsen, Mr. Henry Margido\nOlsen, Mr. Karl Siegwart Andreas\nOlsen, Mr. Ole Martin\nOlsson, Miss. Elina\nOlsson, Mr. Nils Johan Goransson\nOlsson, Mr. Oscar Wilhelm\nOlsvigen, Mr. Thor Anderson\nOreskovic, Miss. Jelka\nOreskovic, Miss. Marija\nOreskovic, Mr. Luka\nOsen, Mr. Olaf Elon\nOsman, Mrs. Mara\nO'Sullivan, Miss. Bridget Mary\nPalsson, Master. Gosta Leonard\nPalsson, Master. Paul Folke\nPalsson, Miss. Stina Viola\nPalsson, Miss. Torborg Danira\nPalsson, Mrs. Nils (Alma Cornelia Berglund)\nPanula, Master. Eino Viljami\nPanula, Master. Juha Niilo\nPanula, Master. Urho Abraham\nPanula, Mr. Ernesti Arvid\nPanula, Mr. Jaako Arnold\nPanula, Mrs. Juha (Maria Emilia Ojala)\nPasic, Mr. Jakob\nPatchett, Mr. George\nPaulner, Mr. Uscher\nPavlovic, Mr. Stefo\nPeacock, Master. Alfred Edward\nPeacock, Miss. Treasteall\nPeacock, Mrs. Benjamin (Edith Nile)\nPearce, Mr. Ernest\nPedersen, Mr. Olaf\nPeduzzi, Mr. Joseph\nPekoniemi, Mr. Edvard\nPeltomaki, Mr. Nikolai Johannes\nPerkin, Mr. John Henry\nPersson, Mr. Ernst Ulrik\nPeter, Master. Michael J\nPeter, Miss. Anna\nPeter, Mrs. Catherine (Catherine Rizk)\nPeters, Miss. Katie\nPetersen, Mr. Marius\nPetranec, Miss. Matilda\nPetroff, Mr. Nedelio\nPetroff, Mr. Pastcho (\"Pentcho\")\nPetterson, Mr. Johan Emil\nPettersson, Miss. Ellen Natalia\nPickard, Mr. Berk (Berk Trembisky)\nPlotcharsky, Mr. Vasil\nPokrnic, Mr. Mate\nPokrnic, Mr. Tome\nRadeff, Mr. Alexander\nRasmussen, Mrs. (Lena Jacobsen Solvang)\nRazi, Mr. Raihed\nReed, Mr. James George\nRekic, Mr. Tido\nReynolds, Mr. Harold J\nRice, Master. Albert\nRice, Master. Arthur\nRice, Master. Eric\nRice, Master. Eugene\nRice, Master. George Hugh\nRice, Mrs. William (Margaret Norton)\nRiihivouri, Miss. Susanna Juhantytar \"Sanni\"\nRintamaki, Mr. Matti\nRiordan, Miss. Johanna \"Hannah\"\nRisien, Mr. Samuel Beard\nRisien, Mrs. Samuel (Emma)\nRobins, Mr. Alexander A\nRobins, Mrs. Alexander A (Grace Charity Laury)\nRogers, Mr. William John\nRommetvedt, Mr. Knud Paust\nRosblom, Miss. Salli Helena\nRosblom, Mr. Viktor Richard\nRosblom, Mrs. Viktor (Helena Wilhelmina)\nRoth, Miss. Sarah A\nRouse, Mr. Richard Henry\nRush, Mr. Alfred George John\nRyan, Mr. Edward\nRyan, Mr. Patrick\nSaad, Mr. Amin\nSaad, Mr. Khalil\nSaade, Mr. Jean Nassr\nSadlier, Mr. Matthew\nSadowitz, Mr. Harry\nSaether, Mr. Simon Sivertsen\nSage, Master. Thomas Henry\nSage, Master. William Henry\nSage, Miss. Ada\nSage, Miss. Constance Gladys\nSage, Miss. Dorothy Edith \"Dolly\"\nSage, Miss. Stella Anna\nSage, Mr. Douglas Bullen\nSage, Mr. Frederick\nSage, Mr. George John Jr\nSage, Mr. John George\nSage, Mrs. John (Annie Bullen)\nSalander, Mr. Karl Johan\nSalkjelsvik, Miss. Anna Kristine\nSalonen, Mr. Johan Werner\nSamaan, Mr. Elias\nSamaan, Mr. Hanna\nSamaan, Mr. Youssef\nSandstrom, Miss. Beatrice Irene\nSandstrom, Mrs. Hjalmar (Agnes Charlotta Bengtsson)\nSandstrom, Miss. Marguerite Rut\nSap, Mr. Julius\nSaundercock, Mr. William Henry\nSawyer, Mr. Frederick Charles\nScanlan, Mr. James\nSdycoff, Mr. Todor\nShaughnessy, Mr. Patrick\nSheerlinck, Mr. Jan Baptist\nShellard, Mr. Frederick William\nShine, Miss. Ellen Natalia\nShorney, Mr. Charles Joseph\nSimmons, Mr. John\nSirayanian, Mr. Orsen\nSirota, Mr. Maurice\nSivic, Mr. Husein\nSivola, Mr. Antti Wilhelm\nSjoblom, Miss. Anna Sofia\nSkoog, Master. Harald\nSkoog, Master. Karl Thorsten\nSkoog, Miss. Mabel\nSkoog, Miss. Margit Elizabeth\nSkoog, Mr. Wilhelm\nSkoog, Mrs. William (Anna Bernhardina Karlsson)\nSlabenoff, Mr. Petco\nSlocovski, Mr. Selman Francis\nSmiljanic, Mr. Mile\nSmith, Mr. Thomas\nSmyth, Miss. Julia\nSoholt, Mr. Peter Andreas Lauritz Andersen\nSomerton, Mr. Francis William\nSpector, Mr. Woolf\nSpinner, Mr. Henry John\nStaneff, Mr. Ivan\nStankovic, Mr. Ivan\nStanley, Miss. Amy Zillah Elsie\nStanley, Mr. Edward Roland\nStorey, Mr. Thomas\nStoytcheff, Mr. Ilia\nStrandberg, Miss. Ida Sofia\nStranden, Mr. Juho\nStrilic, Mr. Ivan\nStrom, Miss. Telma Matilda\nStrom, Mrs. Wilhelm (Elna Matilda Persson)\nSunderland, Mr. Victor Francis\nSundman, Mr. Johan Julian\nSutehall, Mr. Henry Jr\nSvensson, Mr. Johan\nSvensson, Mr. Johan Cervin\nSvensson, Mr. Olof\nTenglin, Mr. Gunnar Isidor\nTheobald, Mr. Thomas Leonard\nThomas, Master. Assad Alexander\nThomas, Mr. Charles P\nThomas, Mr. John\nThomas, Mr. Tannous\nThomas, Mrs. Alexander (Thamine \"Thelma\")\nThomson, Mr. Alexander Morrison\nThorneycroft, Mr. Percival\nThorneycroft, Mrs. Percival (Florence Kate White)\nTikkanen, Mr. Juho\nTobin, Mr. Roger\nTodoroff, Mr. Lalio\nTomlin, Mr. Ernest Portage\nTorber, Mr. Ernst William\nTorfa, Mr. Assad\nTornquist, Mr. William Henry\nToufik, Mr. Nakli\nTouma, Master. Georges Youssef\nTouma, Miss. Maria Youssef\nTouma, Mrs. Darwis (Hanne Youssef Razi)\nTurcin, Mr. Stjepan\nTurja, Miss. Anna Sofia\nTurkula, Mrs. (Hedwig)\nvan Billiard, Master. James William\nvan Billiard, Master. Walter John\nvan Billiard, Mr. Austin Blyler\nVan Impe, Miss. Catharina\nVan Impe, Mr. Jean Baptiste\nVan Impe, Mrs. Jean Baptiste (Rosalie Paula Govaert)\nvan Melkebeke, Mr. Philemon\nVande Velde, Mr. Johannes Joseph\nVande Walle, Mr. Nestor Cyriel\nVanden Steen, Mr. Leo Peter\nVander Cruyssen, Mr. Victor\nVander Planke, Miss. Augusta Maria\nVander Planke, Mr. Julius\nVander Planke, Mr. Leo Edmondus\nVander Planke, Mrs. Julius (Emelia Maria Vandemoortele)\nVartanian, Mr. David\nVendel, Mr. Olof Edvin\nVestrom, Miss. Hulda Amanda Adolfina\nVovk, Mr. Janko\nWaelens, Mr. Achille\nWare, Mr. Frederick\nWarren, Mr. Charles William\nWebber, Mr. James\nWenzel, Mr. Linhart\nWhabee, Mrs. George Joseph (Shawneene Abi-Saab)\nWidegren, Mr. Carl/Charles Peter\nWiklund, Mr. Jakob Alfred\nWiklund, Mr. Karl Johan\nWilkes, Mrs. James (Ellen Needs)\nWiller, Mr. Aaron (\"Abi Weller\")\nWilley, Mr. Edward\nWilliams, Mr. Howard Hugh \"Harry\"\nWilliams, Mr. Leslie\nWindelov, Mr. Einar\nWirz, Mr. Albert\nWiseman, Mr. Phillippe\nWittevrongel, Mr. Camille\nYasbeck, Mr. Antoni\nYasbeck, Mrs. Antoni (Selini Alexander)\nYouseff, Mr. Gerious\nYousif, Mr. Wazli\nYousseff, Mr. Gerious\nZabour, Miss. Hileni\nZabour, Miss. Thamine\nZakarian, Mr. Mapriededer\nZakarian, Mr. Ortin\nZimmerman, Mr. Leo\n"
     ]
    }
   ],
   "source": [
    "for name in titanic['name'].unique():\n",
    "    print(name)"
   ]
  },
  {
   "cell_type": "markdown",
   "metadata": {},
   "source": [
    "30. Find if was there any `name` repeated at the Titanic?\n",
    "\n",
    "Hint: There were two people with the same name, who?"
   ]
  },
  {
   "cell_type": "code",
   "execution_count": 143,
   "metadata": {},
   "outputs": [
    {
     "output_type": "execute_result",
     "data": {
      "text/plain": [
       "725    Connolly, Miss. Kate\n",
       "726    Connolly, Miss. Kate\n",
       "924        Kelly, Mr. James\n",
       "925        Kelly, Mr. James\n",
       "Name: name, dtype: object"
      ]
     },
     "metadata": {},
     "execution_count": 143
    }
   ],
   "source": [
    "titanic.name[titanic.name.duplicated(keep=False)]"
   ]
  },
  {
   "cell_type": "markdown",
   "metadata": {},
   "source": [
    "31. Well done! You did it! I can tell you are a real master with Pandas. Please, now save the dataframe as a `.csv` since you will use it in a future exercise `Titanic-Visualisation`. The name of the `.csv` you'll generate should be `titanic_cleaned.csv`.\n",
    "\n",
    "Use for that aim the following pandas's method: https://pandas.pydata.org/pandas-docs/stable/reference/api/pandas.DataFrame.to_csv.html\n",
    "\n",
    "Make sure you use the argument `index = False`."
   ]
  },
  {
   "cell_type": "code",
   "execution_count": 146,
   "metadata": {},
   "outputs": [],
   "source": [
    "titanic.to_csv('../data/titanic_cleaned.csv')"
   ]
  },
  {
   "cell_type": "code",
   "execution_count": null,
   "metadata": {},
   "outputs": [],
   "source": []
  }
 ],
 "metadata": {
  "kernelspec": {
   "display_name": "Python 3",
   "language": "python",
   "name": "python3"
  },
  "language_info": {
   "codemirror_mode": {
    "name": "ipython",
    "version": 3
   },
   "file_extension": ".py",
   "mimetype": "text/x-python",
   "name": "python",
   "nbconvert_exporter": "python",
   "pygments_lexer": "ipython3",
   "version": "3.7.4"
  }
 },
 "nbformat": 4,
 "nbformat_minor": 4
}