{
 "cells": [
  {
   "cell_type": "markdown",
   "metadata": {},
   "source": [
    "Antes de empezar: un poco de documentación para enterder ligeramente cómo funciona HTML: https://www.w3schools.com/html/html_intro.asp"
   ]
  },
  {
   "cell_type": "markdown",
   "metadata": {},
   "source": [
    "# Web Scraping: Beautiful Soup"
   ]
  },
  {
   "cell_type": "markdown",
   "metadata": {},
   "source": [
    "**Beautiful Soup** es una librería **Python** que permite extraer información de contenido en formato **HTML o XML**. Para usarla, es necesario especificar un **parser**, que es responsable de transformar un documento HTML o XML en un árbol complejo de objetos Python. Esto permite, por ejemplo, que podamos interactuar con los elementos de una página web como si estuviésemos utilizando las herramientas del desarrollador de un navegador.\n",
    "\n",
    "A la hora de extraer información de una web, uno de los parsers más utilizado es el parser HTML de **lxml**. Precisamente, será el que utilicemos en este tutorial."
   ]
  },
  {
   "cell_type": "markdown",
   "metadata": {},
   "source": [
    "**Será necesario instalar las siguientes librerías** (si no las tienes ya):\n",
    "\n",
    "        pip3 install beautifulsoup4 requests pandas\n",
    "\n",
    "        pip3 install beautifulsoup4 \n",
    "\n",
    "        pip3 install requests\n",
    "\n",
    "        pip3 install pandas "
   ]
  },
  {
   "cell_type": "markdown",
   "metadata": {},
   "source": [
    "###  Pasos a seguir en el proceso de 'scraping':\n",
    "\n",
    "1. Encuentra la URL que quieres 'escrapear'.\n",
    "2. Inspecciona la página (código fuente).\n",
    "3. Localiza los datos que necesitas obtener.\n",
    "4. Desarrolla tu código en Python.\n",
    "    1. Crea tu sopa\n",
    "    2. Busca los elementos que cotienen los datos y extráelos\n",
    "5. Ejecuta tu código y obten los datos.\n",
    "6. Alamacena los datos en el formato requerido."
   ]
  },
  {
   "cell_type": "markdown",
   "metadata": {},
   "source": [
    "Algunos ejemplos de Web Scraping utilizando Beautiful Soup:\n",
    "\n",
    "https://j2logo.com/python/web-scraping-con-python-guia-inicio-beautifulsoup/\n",
    "\n",
    "http://omz-software.com/pythonista/docs/ios/beautifulsoup_guide.html\n",
    "\n",
    "https://towardsdatascience.com/top-5-beautiful-soup-functions-7bfe5a693482\n",
    "\n",
    "https://www.crummy.com/software/BeautifulSoup/bs4/doc/"
   ]
  },
  {
   "cell_type": "code",
   "execution_count": 1,
   "metadata": {},
   "outputs": [
    {
     "output_type": "stream",
     "name": "stderr",
     "text": [
      "/home/jose/.local/lib/python3.7/site-packages/pandas/compat/__init__.py:97: UserWarning: Could not import the lzma module. Your installed Python is incomplete. Attempting to use lzma compression will result in a RuntimeError.\n  warnings.warn(msg)\n"
     ]
    }
   ],
   "source": [
    "# Importamos librerías\n",
    "import requests\n",
    "from bs4 import BeautifulSoup\n",
    "import pandas as pd\n",
    "import html\n",
    "import numpy as np"
   ]
  },
  {
   "cell_type": "markdown",
   "metadata": {},
   "source": [
    "## Caso 1: Scraping de un catálogo: Labirratorium"
   ]
  },
  {
   "cell_type": "code",
   "execution_count": 2,
   "metadata": {},
   "outputs": [],
   "source": [
    "URL = 'https://www.labirratorium.com/es/67-cervezas-por-estilo?page='"
   ]
  },
  {
   "cell_type": "markdown",
   "metadata": {},
   "source": [
    "Queremos obtener un dataFrame con todas las cervezas del catálogo y sus características descritas. Analizamos la página para ver qué tenemos que hacer para conseguirlo"
   ]
  },
  {
   "cell_type": "code",
   "execution_count": 3,
   "metadata": {},
   "outputs": [],
   "source": [
    "# La web tiene 80 páginas con 12 cervezas listadas en cada página."
   ]
  },
  {
   "cell_type": "markdown",
   "metadata": {},
   "source": [
    "Hacemos la consulta (request) y creamos la SOPA inicial:"
   ]
  },
  {
   "cell_type": "code",
   "execution_count": 4,
   "metadata": {},
   "outputs": [],
   "source": [
    "r = requests.get(URL)\n",
    "soup = BeautifulSoup(r.text, 'lxml')"
   ]
  },
  {
   "cell_type": "code",
   "execution_count": 48,
   "metadata": {},
   "outputs": [
    {
     "output_type": "execute_result",
     "data": {
      "text/plain": [
       "[<div class=\"product-image\">\n",
       " <!-- @file modules\\appagebuilder\\views\\templates\\front\\products\\file_tpl -->\n",
       " <ul class=\"product-flags\">\n",
       " </ul>\n",
       " <a class=\"thumbnail product-thumbnail\" href=\"https://www.labirratorium.com/es/lambic/284-boon-kriek-2013.html\">\n",
       " <img alt=\"\" class=\"img-fluid\" data-full-size-image-url=\"https://www.labirratorium.com/19351-large_default/boon-kriek-2013.jpg\" src=\"https://www.labirratorium.com/19351-home_default/boon-kriek-2013.jpg\"/>\n",
       " <span class=\"product-additional\" data-idproduct=\"284\"></span>\n",
       " </a>\n",
       " </div>,\n",
       " <div class=\"product-image\">\n",
       " <!-- @file modules\\appagebuilder\\views\\templates\\front\\products\\file_tpl -->\n",
       " <ul class=\"product-flags\">\n",
       " </ul>\n",
       " <a class=\"thumbnail product-thumbnail\" href=\"https://www.labirratorium.com/es/alemania/225-stortebeker-schwarz-bier.html\">\n",
       " <img alt=\"Störtebeker Schwarz-Bier\" class=\"img-fluid\" data-full-size-image-url=\"https://www.labirratorium.com/488-large_default/stortebeker-schwarz-bier.jpg\" src=\"https://www.labirratorium.com/488-home_default/stortebeker-schwarz-bier.jpg\"/>\n",
       " <span class=\"product-additional\" data-idproduct=\"225\"></span>\n",
       " </a>\n",
       " </div>,\n",
       " <div class=\"product-image\">\n",
       " <!-- @file modules\\appagebuilder\\views\\templates\\front\\products\\file_tpl -->\n",
       " <ul class=\"product-flags\">\n",
       " </ul>\n",
       " <a class=\"thumbnail product-thumbnail\" href=\"https://www.labirratorium.com/es/inicio/199-orval.html\">\n",
       " <img alt=\"Orval\" class=\"img-fluid\" data-full-size-image-url=\"https://www.labirratorium.com/385-large_default/orval.jpg\" src=\"https://www.labirratorium.com/385-home_default/orval.jpg\"/>\n",
       " <span class=\"product-additional\" data-idproduct=\"199\"></span>\n",
       " </a>\n",
       " </div>,\n",
       " <div class=\"product-image\">\n",
       " <!-- @file modules\\appagebuilder\\views\\templates\\front\\products\\file_tpl -->\n",
       " <ul class=\"product-flags\">\n",
       " </ul>\n",
       " <a class=\"thumbnail product-thumbnail\" href=\"https://www.labirratorium.com/es/alemania/184-augustiner-lagerbier-hell.html\">\n",
       " <img alt=\"Augustiner Lagerbier Hell\" class=\"img-fluid\" data-full-size-image-url=\"https://www.labirratorium.com/367-large_default/augustiner-lagerbier-hell.jpg\" src=\"https://www.labirratorium.com/367-home_default/augustiner-lagerbier-hell.jpg\"/>\n",
       " <span class=\"product-additional\" data-idproduct=\"184\"></span>\n",
       " </a>\n",
       " </div>,\n",
       " <div class=\"product-image\">\n",
       " <!-- @file modules\\appagebuilder\\views\\templates\\front\\products\\file_tpl -->\n",
       " <ul class=\"product-flags\">\n",
       " </ul>\n",
       " <a class=\"thumbnail product-thumbnail\" href=\"https://www.labirratorium.com/es/inicio/183-schneider-eisbock.html\">\n",
       " <img alt=\"Schneider Aventinus Weizen-Eisbock\" class=\"img-fluid\" data-full-size-image-url=\"https://www.labirratorium.com/366-large_default/schneider-eisbock.jpg\" src=\"https://www.labirratorium.com/366-home_default/schneider-eisbock.jpg\"/>\n",
       " <span class=\"product-additional\" data-idproduct=\"183\"></span>\n",
       " </a>\n",
       " </div>,\n",
       " <div class=\"product-image\">\n",
       " <!-- @file modules\\appagebuilder\\views\\templates\\front\\products\\file_tpl -->\n",
       " <ul class=\"product-flags\">\n",
       " </ul>\n",
       " <a class=\"thumbnail product-thumbnail\" href=\"https://www.labirratorium.com/es/inicio/181-schlenkerla-rauchbier-weizen.html\">\n",
       " <img alt=\"Schlenkerla Rauchbier Weizen\" class=\"img-fluid\" data-full-size-image-url=\"https://www.labirratorium.com/364-large_default/schlenkerla-rauchbier-weizen.jpg\" src=\"https://www.labirratorium.com/364-home_default/schlenkerla-rauchbier-weizen.jpg\"/>\n",
       " <span class=\"product-additional\" data-idproduct=\"181\"></span>\n",
       " </a>\n",
       " </div>,\n",
       " <div class=\"product-image\">\n",
       " <!-- @file modules\\appagebuilder\\views\\templates\\front\\products\\file_tpl -->\n",
       " <ul class=\"product-flags\">\n",
       " </ul>\n",
       " <a class=\"thumbnail product-thumbnail\" href=\"https://www.labirratorium.com/es/inicio/173-samuel-adams-boston-lager.html\">\n",
       " <img alt=\"Samuel Adams Boston Lager\" class=\"img-fluid\" data-full-size-image-url=\"https://www.labirratorium.com/343-large_default/samuel-adams-boston-lager.jpg\" src=\"https://www.labirratorium.com/343-home_default/samuel-adams-boston-lager.jpg\"/>\n",
       " <span class=\"product-additional\" data-idproduct=\"173\"></span>\n",
       " </a>\n",
       " </div>,\n",
       " <div class=\"product-image\">\n",
       " <!-- @file modules\\appagebuilder\\views\\templates\\front\\products\\file_tpl -->\n",
       " <ul class=\"product-flags\">\n",
       " </ul>\n",
       " <a class=\"thumbnail product-thumbnail\" href=\"https://www.labirratorium.com/es/inicio/165-laugar-epa.html\">\n",
       " <img alt=\"Laugar EPA! Euskadiko Pale Ale\" class=\"img-fluid\" data-full-size-image-url=\"https://www.labirratorium.com/11103-large_default/laugar-epa.jpg\" src=\"https://www.labirratorium.com/11103-home_default/laugar-epa.jpg\"/>\n",
       " <span class=\"product-additional\" data-idproduct=\"165\"></span>\n",
       " </a>\n",
       " </div>,\n",
       " <div class=\"product-image\">\n",
       " <!-- @file modules\\appagebuilder\\views\\templates\\front\\products\\file_tpl -->\n",
       " <ul class=\"product-flags\">\n",
       " </ul>\n",
       " <a class=\"thumbnail product-thumbnail\" href=\"https://www.labirratorium.com/es/inicio/82-westmalle-dubbel.html\">\n",
       " <img alt=\"Westmalle Dubbel\" class=\"img-fluid\" data-full-size-image-url=\"https://www.labirratorium.com/102-large_default/westmalle-dubbel.jpg\" src=\"https://www.labirratorium.com/102-home_default/westmalle-dubbel.jpg\"/>\n",
       " <span class=\"product-additional\" data-idproduct=\"82\"></span>\n",
       " </a>\n",
       " </div>,\n",
       " <div class=\"product-image\">\n",
       " <!-- @file modules\\appagebuilder\\views\\templates\\front\\products\\file_tpl -->\n",
       " <ul class=\"product-flags\">\n",
       " </ul>\n",
       " <a class=\"thumbnail product-thumbnail\" href=\"https://www.labirratorium.com/es/inicio/75-duchesse-de-bourgogne.html\">\n",
       " <img alt=\"\" class=\"img-fluid\" data-full-size-image-url=\"https://www.labirratorium.com/12300-large_default/duchesse-de-bourgogne.jpg\" src=\"https://www.labirratorium.com/12300-home_default/duchesse-de-bourgogne.jpg\"/>\n",
       " <span class=\"product-additional\" data-idproduct=\"75\"></span>\n",
       " </a>\n",
       " </div>,\n",
       " <div class=\"product-image\">\n",
       " <!-- @file modules\\appagebuilder\\views\\templates\\front\\products\\file_tpl -->\n",
       " <ul class=\"product-flags\">\n",
       " </ul>\n",
       " <a class=\"thumbnail product-thumbnail\" href=\"https://www.labirratorium.com/es/inicio/61-tripel-karmeliet33.html\">\n",
       " <img alt=\"Tripel Karmeliet\" class=\"img-fluid\" data-full-size-image-url=\"https://www.labirratorium.com/81-large_default/tripel-karmeliet33.jpg\" src=\"https://www.labirratorium.com/81-home_default/tripel-karmeliet33.jpg\"/>\n",
       " <span class=\"product-additional\" data-idproduct=\"61\"></span>\n",
       " </a>\n",
       " </div>,\n",
       " <div class=\"product-image\">\n",
       " <!-- @file modules\\appagebuilder\\views\\templates\\front\\products\\file_tpl -->\n",
       " <ul class=\"product-flags\">\n",
       " </ul>\n",
       " <a class=\"thumbnail product-thumbnail\" href=\"https://www.labirratorium.com/es/inicio/21-weihenstephaner-vitus.html\">\n",
       " <img alt=\"\" class=\"img-fluid\" data-full-size-image-url=\"https://www.labirratorium.com/43-large_default/weihenstephaner-vitus.jpg\" src=\"https://www.labirratorium.com/43-home_default/weihenstephaner-vitus.jpg\"/>\n",
       " <span class=\"product-additional\" data-idproduct=\"21\"></span>\n",
       " </a>\n",
       " </div>]"
      ]
     },
     "metadata": {},
     "execution_count": 48
    }
   ],
   "source": [
    "# Guardamos lista de cervezas\n",
    "cervezas_grid = soup.find_all(class_ = 'product-image')\n",
    "cervezas_grid"
   ]
  },
  {
   "cell_type": "code",
   "execution_count": 6,
   "metadata": {},
   "outputs": [
    {
     "output_type": "execute_result",
     "data": {
      "text/plain": [
       "['https://www.labirratorium.com/es/lambic/284-boon-kriek-2013.html',\n",
       " 'https://www.labirratorium.com/es/alemania/225-stortebeker-schwarz-bier.html',\n",
       " 'https://www.labirratorium.com/es/inicio/199-orval.html',\n",
       " 'https://www.labirratorium.com/es/alemania/184-augustiner-lagerbier-hell.html',\n",
       " 'https://www.labirratorium.com/es/inicio/183-schneider-eisbock.html',\n",
       " 'https://www.labirratorium.com/es/inicio/181-schlenkerla-rauchbier-weizen.html',\n",
       " 'https://www.labirratorium.com/es/inicio/173-samuel-adams-boston-lager.html',\n",
       " 'https://www.labirratorium.com/es/inicio/165-laugar-epa.html',\n",
       " 'https://www.labirratorium.com/es/inicio/82-westmalle-dubbel.html',\n",
       " 'https://www.labirratorium.com/es/inicio/75-duchesse-de-bourgogne.html',\n",
       " 'https://www.labirratorium.com/es/inicio/61-tripel-karmeliet33.html',\n",
       " 'https://www.labirratorium.com/es/inicio/21-weihenstephaner-vitus.html']"
      ]
     },
     "metadata": {},
     "execution_count": 6
    }
   ],
   "source": [
    "# necesitamos acceder a cada una de las cervezas del grid:\n",
    "lista_url = []\n",
    "for cervezas in cervezas_grid:\n",
    "    lista_url.append(cervezas.find('a')['href'])\n",
    "lista_url"
   ]
  },
  {
   "cell_type": "code",
   "execution_count": 7,
   "metadata": {},
   "outputs": [],
   "source": [
    "# Hacemos un nuevo request para la primera cerveza: \n",
    "cerveza_individual = requests.get(lista_url[0])\n",
    "soup_cerveza = BeautifulSoup(cerveza_individual.text, 'lxml')"
   ]
  },
  {
   "cell_type": "code",
   "execution_count": 16,
   "metadata": {},
   "outputs": [
    {
     "output_type": "execute_result",
     "data": {
      "text/plain": [
       "'Boon Oude Kriek 37,5cl'"
      ]
     },
     "metadata": {},
     "execution_count": 16
    }
   ],
   "source": [
    "# Nombre\n",
    "nombre = soup_cerveza.find(class_ = 'h1 product-detail-name').text\n",
    "nombre"
   ]
  },
  {
   "cell_type": "code",
   "execution_count": 11,
   "metadata": {},
   "outputs": [
    {
     "output_type": "execute_result",
     "data": {
      "text/plain": [
       "'7.15'"
      ]
     },
     "metadata": {},
     "execution_count": 11
    }
   ],
   "source": [
    "# Precio\n",
    "precio = soup_cerveza.find(class_ = 'current-price').find('span')['content']\n",
    "precio"
   ]
  },
  {
   "cell_type": "code",
   "execution_count": 17,
   "metadata": {},
   "outputs": [
    {
     "output_type": "execute_result",
     "data": {
      "text/plain": [
       "'Lambic / Kriek'"
      ]
     },
     "metadata": {},
     "execution_count": 17
    }
   ],
   "source": [
    "# Descripcion corta\n",
    "desc_corta = soup_cerveza.find(class_ = 'description-short').find('p').text\n",
    "desc_corta"
   ]
  },
  {
   "cell_type": "code",
   "execution_count": 18,
   "metadata": {},
   "outputs": [
    {
     "output_type": "execute_result",
     "data": {
      "text/plain": [
       "'Cerveza de fermentación espontánea (Lambic) de 6.5% ABV sin filtrar ni pasteurizar de estilo Kriek, elaborada con cerezas naturales.'"
      ]
     },
     "metadata": {},
     "execution_count": 18
    }
   ],
   "source": [
    "# Descripción larga\n",
    "desc_larga = soup_cerveza.find(class_ = 'product-description').find('p').text\n",
    "desc_larga"
   ]
  },
  {
   "cell_type": "code",
   "execution_count": 29,
   "metadata": {},
   "outputs": [
    {
     "output_type": "execute_result",
     "data": {
      "text/plain": [
       "'https://www.labirratorium.com/19351-large_default/boon-kriek-2013.jpg'"
      ]
     },
     "metadata": {},
     "execution_count": 29
    }
   ],
   "source": [
    "# Imagen\n",
    "imagen = soup_cerveza.find(class_ = 'js-qv-product-cover img-fluid')['src']\n",
    "imagen"
   ]
  },
  {
   "cell_type": "code",
   "execution_count": 30,
   "metadata": {},
   "outputs": [
    {
     "output_type": "execute_result",
     "data": {
      "text/plain": [
       "'Brouwerij F. Boon'"
      ]
     },
     "metadata": {},
     "execution_count": 30
    }
   ],
   "source": [
    " # Brand\n",
    "brand = soup_cerveza.find(class_ = 'img img-thumbnail manufacturer-logo')['alt']\n",
    "brand"
   ]
  },
  {
   "cell_type": "code",
   "execution_count": null,
   "metadata": {},
   "outputs": [],
   "source": [
    "# Código de barras\n"
   ]
  },
  {
   "cell_type": "code",
   "execution_count": 47,
   "metadata": {},
   "outputs": [
    {
     "output_type": "execute_result",
     "data": {
      "text/plain": [
       "{'Estilo': 'KRIEK',\n",
       " 'Origen': 'Bélgica',\n",
       " '% Alc.': '6.5\\nALTO (6-9%)',\n",
       " 'Otros ingredientes': 'Cerezas Naturales',\n",
       " 'Volumen (cl)': '37.5 Cl',\n",
       " 'Tipo Fermentación': 'Lambic (Fermentación espontánea o salvaje)',\n",
       " 'Maltas': 'Cebada y Trigo',\n",
       " 'IBU': '0-25 Amargor bajo',\n",
       " 'Color': 'Rojiza',\n",
       " 'Envase': 'Botella'}"
      ]
     },
     "metadata": {},
     "execution_count": 47
    }
   ],
   "source": [
    "# Features\n",
    "fetures = soup_cerveza.find(class_ = 'data-sheet')\n",
    "fetures_dt = fetures.find_all('dt')\n",
    "fetures_dd = fetures.find_all('dd')\n",
    "features_dict = {}\n",
    "for feature, value in zip(fetures_dt, fetures_dd):\n",
    "    features_dict[feature.text] = value.text\n",
    "features_dict"
   ]
  },
  {
   "cell_type": "code",
   "execution_count": null,
   "metadata": {},
   "outputs": [],
   "source": [
    "# Creamos un Id único que os permita diferenciar cada entrada en la BBDD\n",
    "id_cerv = 'lbt' + str()"
   ]
  },
  {
   "cell_type": "markdown",
   "metadata": {},
   "source": [
    "Ya tenemos todos los datos que queremos de la cerveza: Agrupamos todo en una lista:"
   ]
  },
  {
   "cell_type": "code",
   "execution_count": 68,
   "metadata": {
    "tags": [
     "outputPrepend"
    ]
   },
   "outputs": [
    {
     "output_type": "stream",
     "name": "stdout",
     "text": [
      "4 de 958, pag 25/80\n",
      "Cerveza 295 de 958, pag 25/80\n",
      "Cerveza 296 de 958, pag 25/80\n",
      "Cerveza 297 de 958, pag 25/80\n",
      "Cerveza 298 de 958, pag 25/80\n",
      "Cerveza 299 de 958, pag 25/80\n",
      "Cerveza 300 de 958, pag 25/80\n",
      "Cerveza 301 de 958, pag 26/80\n",
      "Cerveza 302 de 958, pag 26/80\n",
      "Cerveza 303 de 958, pag 26/80\n",
      "Cerveza 304 de 958, pag 26/80\n",
      "Cerveza 305 de 958, pag 26/80\n",
      "Cerveza 306 de 958, pag 26/80\n",
      "Cerveza 307 de 958, pag 26/80\n",
      "Cerveza 308 de 958, pag 26/80\n",
      "Cerveza 309 de 958, pag 26/80\n",
      "Cerveza 310 de 958, pag 26/80\n",
      "Cerveza 311 de 958, pag 26/80\n",
      "Cerveza 312 de 958, pag 26/80\n",
      "Cerveza 313 de 958, pag 27/80\n",
      "Cerveza 314 de 958, pag 27/80\n",
      "Cerveza 315 de 958, pag 27/80\n",
      "Cerveza 316 de 958, pag 27/80\n",
      "Cerveza 317 de 958, pag 27/80\n",
      "Cerveza 318 de 958, pag 27/80\n",
      "Cerveza 319 de 958, pag 27/80\n",
      "Cerveza 320 de 958, pag 27/80\n",
      "Cerveza 321 de 958, pag 27/80\n",
      "Cerveza 322 de 958, pag 27/80\n",
      "Cerveza 323 de 958, pag 27/80\n",
      "Cerveza 324 de 958, pag 27/80\n",
      "Cerveza 325 de 958, pag 28/80\n",
      "Cerveza 326 de 958, pag 28/80\n",
      "Cerveza 327 de 958, pag 28/80\n",
      "Cerveza 328 de 958, pag 28/80\n",
      "Cerveza 329 de 958, pag 28/80\n",
      "Cerveza 330 de 958, pag 28/80\n",
      "Cerveza 331 de 958, pag 28/80\n",
      "Cerveza 332 de 958, pag 28/80\n",
      "Cerveza 333 de 958, pag 28/80\n",
      "Cerveza 334 de 958, pag 28/80\n",
      "Cerveza 335 de 958, pag 28/80\n",
      "Cerveza 336 de 958, pag 28/80\n",
      "Cerveza 337 de 958, pag 29/80\n",
      "Cerveza 338 de 958, pag 29/80\n",
      "Cerveza 339 de 958, pag 29/80\n",
      "Cerveza 340 de 958, pag 29/80\n",
      "Cerveza 341 de 958, pag 29/80\n",
      "Cerveza 342 de 958, pag 29/80\n",
      "Cerveza 343 de 958, pag 29/80\n",
      "Cerveza 344 de 958, pag 29/80\n",
      "Cerveza 345 de 958, pag 29/80\n",
      "Cerveza 346 de 958, pag 29/80\n",
      "Cerveza 347 de 958, pag 29/80\n",
      "Cerveza 348 de 958, pag 29/80\n",
      "Cerveza 349 de 958, pag 30/80\n",
      "Cerveza 350 de 958, pag 30/80\n",
      "Cerveza 351 de 958, pag 30/80\n",
      "Cerveza 352 de 958, pag 30/80\n",
      "Cerveza 353 de 958, pag 30/80\n",
      "Cerveza 354 de 958, pag 30/80\n",
      "Cerveza 355 de 958, pag 30/80\n",
      "Cerveza 356 de 958, pag 30/80\n",
      "Cerveza 357 de 958, pag 30/80\n",
      "Cerveza 358 de 958, pag 30/80\n",
      "Cerveza 359 de 958, pag 30/80\n",
      "Cerveza 360 de 958, pag 30/80\n",
      "Cerveza 361 de 958, pag 31/80\n",
      "Cerveza 362 de 958, pag 31/80\n",
      "Cerveza 363 de 958, pag 31/80\n",
      "Cerveza 364 de 958, pag 31/80\n",
      "Cerveza 365 de 958, pag 31/80\n",
      "Cerveza 366 de 958, pag 31/80\n",
      "Cerveza 367 de 958, pag 31/80\n",
      "Cerveza 368 de 958, pag 31/80\n",
      "Cerveza 369 de 958, pag 31/80\n",
      "Cerveza 370 de 958, pag 31/80\n",
      "Cerveza 371 de 958, pag 31/80\n",
      "Cerveza 372 de 958, pag 31/80\n",
      "Cerveza 373 de 958, pag 32/80\n",
      "Cerveza 374 de 958, pag 32/80\n",
      "Cerveza 375 de 958, pag 32/80\n",
      "Cerveza 376 de 958, pag 32/80\n",
      "Cerveza 377 de 958, pag 32/80\n",
      "Cerveza 378 de 958, pag 32/80\n",
      "Cerveza 379 de 958, pag 32/80\n",
      "Cerveza 380 de 958, pag 32/80\n",
      "Cerveza 381 de 958, pag 32/80\n",
      "Cerveza 382 de 958, pag 32/80\n",
      "Cerveza 383 de 958, pag 32/80\n",
      "Cerveza 384 de 958, pag 32/80\n",
      "Cerveza 385 de 958, pag 33/80\n",
      "Cerveza 386 de 958, pag 33/80\n",
      "Cerveza 387 de 958, pag 33/80\n",
      "Cerveza 388 de 958, pag 33/80\n",
      "Cerveza 389 de 958, pag 33/80\n",
      "Cerveza 390 de 958, pag 33/80\n",
      "Cerveza 391 de 958, pag 33/80\n",
      "Cerveza 392 de 958, pag 33/80\n",
      "Cerveza 393 de 958, pag 33/80\n",
      "Cerveza 394 de 958, pag 33/80\n",
      "Cerveza 395 de 958, pag 33/80\n",
      "Cerveza 396 de 958, pag 33/80\n",
      "Cerveza 397 de 958, pag 34/80\n",
      "Cerveza 398 de 958, pag 34/80\n",
      "Cerveza 399 de 958, pag 34/80\n",
      "Cerveza 400 de 958, pag 34/80\n",
      "Cerveza 401 de 958, pag 34/80\n",
      "Cerveza 402 de 958, pag 34/80\n",
      "Cerveza 403 de 958, pag 34/80\n",
      "Cerveza 404 de 958, pag 34/80\n",
      "Cerveza 405 de 958, pag 34/80\n",
      "Cerveza 406 de 958, pag 34/80\n",
      "Cerveza 407 de 958, pag 34/80\n",
      "Cerveza 408 de 958, pag 34/80\n",
      "Cerveza 409 de 958, pag 35/80\n",
      "Cerveza 410 de 958, pag 35/80\n",
      "Cerveza 411 de 958, pag 35/80\n",
      "Cerveza 412 de 958, pag 35/80\n",
      "Cerveza 413 de 958, pag 35/80\n",
      "Cerveza 414 de 958, pag 35/80\n",
      "Cerveza 415 de 958, pag 35/80\n",
      "Cerveza 416 de 958, pag 35/80\n",
      "Cerveza 417 de 958, pag 35/80\n",
      "Cerveza 418 de 958, pag 35/80\n",
      "Cerveza 419 de 958, pag 35/80\n",
      "Cerveza 420 de 958, pag 35/80\n",
      "Cerveza 421 de 958, pag 36/80\n",
      "Cerveza 422 de 958, pag 36/80\n",
      "Cerveza 423 de 958, pag 36/80\n",
      "Cerveza 424 de 958, pag 36/80\n",
      "Cerveza 425 de 958, pag 36/80\n",
      "Cerveza 426 de 958, pag 36/80\n",
      "Cerveza 427 de 958, pag 36/80\n",
      "Cerveza 428 de 958, pag 36/80\n",
      "Cerveza 429 de 958, pag 36/80\n",
      "Cerveza 430 de 958, pag 36/80\n",
      "Cerveza 431 de 958, pag 36/80\n",
      "Cerveza 432 de 958, pag 36/80\n",
      "Cerveza 433 de 958, pag 37/80\n",
      "Cerveza 434 de 958, pag 37/80\n",
      "Cerveza 435 de 958, pag 37/80\n",
      "Cerveza 436 de 958, pag 37/80\n",
      "Cerveza 437 de 958, pag 37/80\n",
      "Cerveza 438 de 958, pag 37/80\n",
      "Cerveza 439 de 958, pag 37/80\n",
      "Cerveza 440 de 958, pag 37/80\n",
      "Cerveza 441 de 958, pag 37/80\n",
      "Cerveza 442 de 958, pag 37/80\n",
      "Cerveza 443 de 958, pag 37/80\n",
      "Cerveza 444 de 958, pag 37/80\n",
      "Cerveza 445 de 958, pag 38/80\n",
      "Cerveza 446 de 958, pag 38/80\n",
      "Cerveza 447 de 958, pag 38/80\n",
      "Cerveza 448 de 958, pag 38/80\n",
      "Cerveza 449 de 958, pag 38/80\n",
      "Cerveza 450 de 958, pag 38/80\n",
      "Cerveza 451 de 958, pag 38/80\n",
      "Cerveza 452 de 958, pag 38/80\n",
      "Cerveza 453 de 958, pag 38/80\n",
      "Cerveza 454 de 958, pag 38/80\n",
      "Cerveza 455 de 958, pag 38/80\n",
      "Cerveza 456 de 958, pag 38/80\n",
      "Cerveza 457 de 958, pag 39/80\n",
      "Cerveza 458 de 958, pag 39/80\n",
      "Cerveza 459 de 958, pag 39/80\n",
      "Cerveza 460 de 958, pag 39/80\n",
      "Cerveza 461 de 958, pag 39/80\n",
      "Cerveza 462 de 958, pag 39/80\n",
      "Cerveza 463 de 958, pag 39/80\n",
      "Cerveza 464 de 958, pag 39/80\n",
      "Cerveza 465 de 958, pag 39/80\n",
      "Cerveza 466 de 958, pag 39/80\n",
      "Cerveza 467 de 958, pag 39/80\n",
      "Cerveza 468 de 958, pag 39/80\n",
      "Cerveza 469 de 958, pag 40/80\n",
      "Cerveza 470 de 958, pag 40/80\n",
      "Cerveza 471 de 958, pag 40/80\n",
      "Cerveza 472 de 958, pag 40/80\n",
      "Cerveza 473 de 958, pag 40/80\n",
      "Cerveza 474 de 958, pag 40/80\n",
      "Cerveza 475 de 958, pag 40/80\n",
      "Cerveza 476 de 958, pag 40/80\n",
      "Cerveza 477 de 958, pag 40/80\n",
      "Cerveza 478 de 958, pag 40/80\n",
      "Cerveza 479 de 958, pag 40/80\n",
      "Cerveza 480 de 958, pag 40/80\n",
      "Cerveza 481 de 958, pag 41/80\n",
      "Cerveza 482 de 958, pag 41/80\n",
      "Cerveza 483 de 958, pag 41/80\n",
      "Cerveza 484 de 958, pag 41/80\n",
      "Cerveza 485 de 958, pag 41/80\n",
      "Cerveza 486 de 958, pag 41/80\n",
      "Cerveza 487 de 958, pag 41/80\n",
      "Cerveza 488 de 958, pag 41/80\n",
      "Cerveza 489 de 958, pag 41/80\n",
      "Cerveza 490 de 958, pag 41/80\n",
      "Cerveza 491 de 958, pag 41/80\n",
      "Cerveza 492 de 958, pag 41/80\n",
      "Cerveza 493 de 958, pag 42/80\n",
      "Cerveza 494 de 958, pag 42/80\n",
      "Cerveza 495 de 958, pag 42/80\n",
      "Cerveza 496 de 958, pag 42/80\n",
      "Cerveza 497 de 958, pag 42/80\n",
      "Cerveza 498 de 958, pag 42/80\n",
      "Cerveza 499 de 958, pag 42/80\n",
      "Cerveza 500 de 958, pag 42/80\n",
      "Cerveza 501 de 958, pag 42/80\n",
      "Cerveza 502 de 958, pag 42/80\n",
      "Cerveza 503 de 958, pag 42/80\n",
      "Cerveza 504 de 958, pag 42/80\n",
      "Cerveza 505 de 958, pag 43/80\n",
      "Cerveza 506 de 958, pag 43/80\n",
      "Cerveza 507 de 958, pag 43/80\n",
      "Cerveza 508 de 958, pag 43/80\n",
      "Cerveza 509 de 958, pag 43/80\n",
      "Cerveza 510 de 958, pag 43/80\n",
      "Cerveza 511 de 958, pag 43/80\n",
      "Cerveza 512 de 958, pag 43/80\n",
      "Cerveza 513 de 958, pag 43/80\n",
      "Cerveza 514 de 958, pag 43/80\n",
      "Cerveza 515 de 958, pag 43/80\n",
      "Cerveza 516 de 958, pag 43/80\n",
      "Cerveza 517 de 958, pag 44/80\n",
      "Cerveza 518 de 958, pag 44/80\n",
      "Cerveza 519 de 958, pag 44/80\n",
      "Cerveza 520 de 958, pag 44/80\n",
      "Cerveza 521 de 958, pag 44/80\n",
      "Cerveza 522 de 958, pag 44/80\n",
      "Cerveza 523 de 958, pag 44/80\n",
      "Cerveza 524 de 958, pag 44/80\n",
      "Cerveza 525 de 958, pag 44/80\n",
      "Cerveza 526 de 958, pag 44/80\n",
      "Cerveza 527 de 958, pag 44/80\n",
      "Cerveza 528 de 958, pag 44/80\n",
      "Cerveza 529 de 958, pag 45/80\n",
      "Cerveza 530 de 958, pag 45/80\n",
      "Cerveza 531 de 958, pag 45/80\n",
      "Cerveza 532 de 958, pag 45/80\n",
      "Cerveza 533 de 958, pag 45/80\n",
      "Cerveza 534 de 958, pag 45/80\n",
      "Cerveza 535 de 958, pag 45/80\n",
      "Cerveza 536 de 958, pag 45/80\n",
      "Cerveza 537 de 958, pag 45/80\n",
      "Cerveza 538 de 958, pag 45/80\n",
      "Cerveza 539 de 958, pag 45/80\n",
      "Cerveza 540 de 958, pag 45/80\n",
      "Cerveza 541 de 958, pag 46/80\n",
      "Cerveza 542 de 958, pag 46/80\n",
      "Cerveza 543 de 958, pag 46/80\n",
      "Cerveza 544 de 958, pag 46/80\n",
      "Cerveza 545 de 958, pag 46/80\n",
      "Cerveza 546 de 958, pag 46/80\n",
      "Cerveza 547 de 958, pag 46/80\n",
      "Cerveza 548 de 958, pag 46/80\n",
      "Cerveza 549 de 958, pag 46/80\n",
      "Cerveza 550 de 958, pag 46/80\n",
      "Cerveza 551 de 958, pag 46/80\n",
      "Cerveza 552 de 958, pag 46/80\n",
      "Cerveza 553 de 958, pag 47/80\n",
      "Cerveza 554 de 958, pag 47/80\n",
      "Cerveza 555 de 958, pag 47/80\n",
      "Cerveza 556 de 958, pag 47/80\n",
      "Cerveza 557 de 958, pag 47/80\n",
      "Cerveza 558 de 958, pag 47/80\n",
      "Cerveza 559 de 958, pag 47/80\n",
      "Cerveza 560 de 958, pag 47/80\n",
      "Cerveza 561 de 958, pag 47/80\n",
      "Cerveza 562 de 958, pag 47/80\n",
      "Cerveza 563 de 958, pag 47/80\n",
      "Cerveza 564 de 958, pag 47/80\n",
      "Cerveza 565 de 958, pag 48/80\n",
      "Cerveza 566 de 958, pag 48/80\n",
      "Cerveza 567 de 958, pag 48/80\n",
      "Cerveza 568 de 958, pag 48/80\n",
      "Cerveza 569 de 958, pag 48/80\n",
      "Cerveza 570 de 958, pag 48/80\n",
      "Cerveza 571 de 958, pag 48/80\n",
      "Cerveza 572 de 958, pag 48/80\n",
      "Cerveza 573 de 958, pag 48/80\n",
      "Cerveza 574 de 958, pag 48/80\n",
      "Cerveza 575 de 958, pag 48/80\n",
      "Cerveza 576 de 958, pag 48/80\n",
      "Cerveza 577 de 958, pag 49/80\n",
      "Cerveza 578 de 958, pag 49/80\n",
      "Cerveza 579 de 958, pag 49/80\n",
      "Cerveza 580 de 958, pag 49/80\n",
      "Cerveza 581 de 958, pag 49/80\n",
      "Cerveza 582 de 958, pag 49/80\n",
      "Cerveza 583 de 958, pag 49/80\n",
      "Cerveza 584 de 958, pag 49/80\n",
      "Cerveza 585 de 958, pag 49/80\n",
      "Cerveza 586 de 958, pag 49/80\n",
      "Cerveza 587 de 958, pag 49/80\n",
      "Cerveza 588 de 958, pag 49/80\n",
      "Cerveza 589 de 958, pag 50/80\n",
      "Cerveza 590 de 958, pag 50/80\n",
      "Cerveza 591 de 958, pag 50/80\n",
      "Cerveza 592 de 958, pag 50/80\n",
      "Cerveza 593 de 958, pag 50/80\n",
      "Cerveza 594 de 958, pag 50/80\n",
      "Cerveza 595 de 958, pag 50/80\n",
      "Cerveza 596 de 958, pag 50/80\n",
      "Cerveza 597 de 958, pag 50/80\n",
      "Cerveza 598 de 958, pag 50/80\n",
      "Cerveza 599 de 958, pag 50/80\n",
      "Cerveza 600 de 958, pag 50/80\n",
      "Cerveza 601 de 958, pag 51/80\n",
      "Cerveza 602 de 958, pag 51/80\n",
      "Cerveza 603 de 958, pag 51/80\n",
      "Cerveza 604 de 958, pag 51/80\n",
      "Cerveza 605 de 958, pag 51/80\n",
      "Cerveza 606 de 958, pag 51/80\n",
      "Cerveza 607 de 958, pag 51/80\n",
      "Cerveza 608 de 958, pag 51/80\n",
      "Cerveza 609 de 958, pag 51/80\n",
      "Cerveza 610 de 958, pag 51/80\n",
      "Cerveza 611 de 958, pag 51/80\n",
      "Cerveza 612 de 958, pag 51/80\n",
      "Cerveza 613 de 958, pag 52/80\n",
      "Cerveza 614 de 958, pag 52/80\n",
      "Cerveza 615 de 958, pag 52/80\n",
      "Cerveza 616 de 958, pag 52/80\n",
      "Cerveza 617 de 958, pag 52/80\n",
      "Cerveza 618 de 958, pag 52/80\n",
      "Cerveza 619 de 958, pag 52/80\n",
      "Cerveza 620 de 958, pag 52/80\n",
      "Cerveza 621 de 958, pag 52/80\n",
      "Cerveza 622 de 958, pag 52/80\n",
      "Cerveza 623 de 958, pag 52/80\n",
      "Cerveza 624 de 958, pag 52/80\n",
      "Cerveza 625 de 958, pag 53/80\n",
      "Cerveza 626 de 958, pag 53/80\n",
      "Cerveza 627 de 958, pag 53/80\n",
      "Cerveza 628 de 958, pag 53/80\n",
      "Cerveza 629 de 958, pag 53/80\n",
      "Cerveza 630 de 958, pag 53/80\n",
      "Cerveza 631 de 958, pag 53/80\n",
      "Cerveza 632 de 958, pag 53/80\n",
      "Cerveza 633 de 958, pag 53/80\n",
      "Cerveza 634 de 958, pag 53/80\n",
      "Cerveza 635 de 958, pag 53/80\n",
      "Cerveza 636 de 958, pag 53/80\n",
      "Cerveza 637 de 958, pag 54/80\n",
      "Cerveza 638 de 958, pag 54/80\n",
      "Cerveza 639 de 958, pag 54/80\n",
      "Cerveza 640 de 958, pag 54/80\n",
      "Cerveza 641 de 958, pag 54/80\n",
      "Cerveza 642 de 958, pag 54/80\n",
      "Cerveza 643 de 958, pag 54/80\n",
      "Cerveza 644 de 958, pag 54/80\n",
      "Cerveza 645 de 958, pag 54/80\n",
      "Cerveza 646 de 958, pag 54/80\n",
      "Cerveza 647 de 958, pag 54/80\n",
      "Cerveza 648 de 958, pag 54/80\n",
      "Cerveza 649 de 958, pag 55/80\n",
      "Cerveza 650 de 958, pag 55/80\n",
      "Cerveza 651 de 958, pag 55/80\n",
      "Cerveza 652 de 958, pag 55/80\n",
      "Cerveza 653 de 958, pag 55/80\n",
      "Cerveza 654 de 958, pag 55/80\n",
      "Cerveza 655 de 958, pag 55/80\n",
      "Cerveza 656 de 958, pag 55/80\n",
      "Cerveza 657 de 958, pag 55/80\n",
      "Cerveza 658 de 958, pag 55/80\n",
      "Cerveza 659 de 958, pag 55/80\n",
      "Cerveza 660 de 958, pag 55/80\n",
      "Cerveza 661 de 958, pag 56/80\n",
      "Cerveza 662 de 958, pag 56/80\n",
      "Cerveza 663 de 958, pag 56/80\n",
      "Cerveza 664 de 958, pag 56/80\n",
      "Cerveza 665 de 958, pag 56/80\n",
      "Cerveza 666 de 958, pag 56/80\n",
      "Cerveza 667 de 958, pag 56/80\n",
      "Cerveza 668 de 958, pag 56/80\n",
      "Cerveza 669 de 958, pag 56/80\n",
      "Cerveza 670 de 958, pag 56/80\n",
      "Cerveza 671 de 958, pag 56/80\n",
      "Cerveza 672 de 958, pag 56/80\n",
      "Cerveza 673 de 958, pag 57/80\n",
      "Cerveza 674 de 958, pag 57/80\n",
      "Cerveza 675 de 958, pag 57/80\n",
      "Cerveza 676 de 958, pag 57/80\n",
      "Cerveza 677 de 958, pag 57/80\n",
      "Cerveza 678 de 958, pag 57/80\n",
      "Cerveza 679 de 958, pag 57/80\n",
      "Cerveza 680 de 958, pag 57/80\n",
      "Cerveza 681 de 958, pag 57/80\n",
      "Cerveza 682 de 958, pag 57/80\n",
      "Cerveza 683 de 958, pag 57/80\n",
      "Cerveza 684 de 958, pag 57/80\n",
      "Cerveza 685 de 958, pag 58/80\n",
      "Cerveza 686 de 958, pag 58/80\n",
      "Cerveza 687 de 958, pag 58/80\n",
      "Cerveza 688 de 958, pag 58/80\n",
      "Cerveza 689 de 958, pag 58/80\n",
      "Cerveza 690 de 958, pag 58/80\n",
      "Cerveza 691 de 958, pag 58/80\n",
      "Cerveza 692 de 958, pag 58/80\n",
      "Cerveza 693 de 958, pag 58/80\n",
      "Cerveza 694 de 958, pag 58/80\n",
      "Cerveza 695 de 958, pag 58/80\n",
      "Cerveza 696 de 958, pag 58/80\n",
      "Cerveza 697 de 958, pag 59/80\n",
      "Cerveza 698 de 958, pag 59/80\n",
      "Cerveza 699 de 958, pag 59/80\n",
      "Cerveza 700 de 958, pag 59/80\n",
      "Cerveza 701 de 958, pag 59/80\n",
      "Cerveza 702 de 958, pag 59/80\n",
      "Cerveza 703 de 958, pag 59/80\n",
      "Cerveza 704 de 958, pag 59/80\n",
      "Cerveza 705 de 958, pag 59/80\n",
      "Cerveza 706 de 958, pag 59/80\n",
      "Cerveza 707 de 958, pag 59/80\n",
      "Cerveza 708 de 958, pag 59/80\n",
      "Cerveza 709 de 958, pag 60/80\n",
      "Cerveza 710 de 958, pag 60/80\n",
      "Cerveza 711 de 958, pag 60/80\n",
      "Cerveza 712 de 958, pag 60/80\n",
      "Cerveza 713 de 958, pag 60/80\n",
      "Cerveza 714 de 958, pag 60/80\n",
      "Cerveza 715 de 958, pag 60/80\n",
      "Cerveza 716 de 958, pag 60/80\n",
      "Cerveza 717 de 958, pag 60/80\n",
      "Cerveza 718 de 958, pag 60/80\n",
      "Cerveza 719 de 958, pag 60/80\n",
      "Cerveza 720 de 958, pag 60/80\n",
      "Cerveza 721 de 958, pag 61/80\n",
      "Cerveza 722 de 958, pag 61/80\n",
      "Cerveza 723 de 958, pag 61/80\n",
      "Cerveza 724 de 958, pag 61/80\n",
      "Cerveza 725 de 958, pag 61/80\n",
      "Cerveza 726 de 958, pag 61/80\n",
      "Cerveza 727 de 958, pag 61/80\n",
      "Cerveza 728 de 958, pag 61/80\n",
      "Cerveza 729 de 958, pag 61/80\n",
      "Cerveza 730 de 958, pag 61/80\n",
      "Cerveza 731 de 958, pag 61/80\n",
      "Cerveza 732 de 958, pag 61/80\n",
      "Cerveza 733 de 958, pag 62/80\n",
      "Cerveza 734 de 958, pag 62/80\n",
      "Cerveza 735 de 958, pag 62/80\n",
      "Cerveza 736 de 958, pag 62/80\n",
      "Cerveza 737 de 958, pag 62/80\n",
      "Cerveza 738 de 958, pag 62/80\n",
      "Cerveza 739 de 958, pag 62/80\n",
      "Cerveza 740 de 958, pag 62/80\n",
      "Cerveza 741 de 958, pag 62/80\n",
      "Cerveza 742 de 958, pag 62/80\n",
      "Cerveza 743 de 958, pag 62/80\n",
      "Cerveza 744 de 958, pag 62/80\n",
      "Cerveza 745 de 958, pag 63/80\n",
      "Cerveza 746 de 958, pag 63/80\n",
      "Cerveza 747 de 958, pag 63/80\n",
      "Cerveza 748 de 958, pag 63/80\n",
      "Cerveza 749 de 958, pag 63/80\n",
      "Cerveza 750 de 958, pag 63/80\n",
      "Cerveza 751 de 958, pag 63/80\n",
      "Cerveza 752 de 958, pag 63/80\n",
      "Cerveza 753 de 958, pag 63/80\n",
      "Cerveza 754 de 958, pag 63/80\n",
      "Cerveza 755 de 958, pag 63/80\n",
      "Cerveza 756 de 958, pag 63/80\n",
      "Cerveza 757 de 958, pag 64/80\n",
      "Cerveza 758 de 958, pag 64/80\n",
      "Cerveza 759 de 958, pag 64/80\n",
      "Cerveza 760 de 958, pag 64/80\n",
      "Cerveza 761 de 958, pag 64/80\n",
      "Cerveza 762 de 958, pag 64/80\n",
      "Cerveza 763 de 958, pag 64/80\n",
      "Cerveza 764 de 958, pag 64/80\n",
      "Cerveza 765 de 958, pag 64/80\n",
      "Cerveza 766 de 958, pag 64/80\n",
      "Cerveza 767 de 958, pag 64/80\n",
      "Cerveza 768 de 958, pag 64/80\n",
      "Cerveza 769 de 958, pag 65/80\n",
      "Cerveza 770 de 958, pag 65/80\n",
      "Cerveza 771 de 958, pag 65/80\n",
      "Cerveza 772 de 958, pag 65/80\n",
      "Cerveza 773 de 958, pag 65/80\n",
      "Cerveza 774 de 958, pag 65/80\n",
      "Cerveza 775 de 958, pag 65/80\n",
      "Cerveza 776 de 958, pag 65/80\n",
      "Cerveza 777 de 958, pag 65/80\n",
      "Cerveza 778 de 958, pag 65/80\n",
      "Cerveza 779 de 958, pag 65/80\n",
      "Cerveza 780 de 958, pag 65/80\n",
      "Cerveza 781 de 958, pag 66/80\n",
      "Cerveza 782 de 958, pag 66/80\n",
      "Cerveza 783 de 958, pag 66/80\n",
      "Cerveza 784 de 958, pag 66/80\n",
      "Cerveza 785 de 958, pag 66/80\n",
      "Cerveza 786 de 958, pag 66/80\n",
      "Cerveza 787 de 958, pag 66/80\n",
      "Cerveza 788 de 958, pag 66/80\n",
      "Cerveza 789 de 958, pag 66/80\n",
      "Cerveza 790 de 958, pag 66/80\n",
      "Cerveza 791 de 958, pag 66/80\n",
      "Cerveza 792 de 958, pag 66/80\n",
      "Cerveza 793 de 958, pag 67/80\n",
      "Cerveza 794 de 958, pag 67/80\n",
      "Cerveza 795 de 958, pag 67/80\n",
      "Cerveza 796 de 958, pag 67/80\n",
      "Cerveza 797 de 958, pag 67/80\n",
      "Cerveza 798 de 958, pag 67/80\n",
      "Cerveza 799 de 958, pag 67/80\n",
      "Cerveza 800 de 958, pag 67/80\n",
      "Cerveza 801 de 958, pag 67/80\n",
      "Cerveza 802 de 958, pag 67/80\n",
      "Cerveza 803 de 958, pag 67/80\n",
      "Cerveza 804 de 958, pag 67/80\n",
      "Cerveza 805 de 958, pag 68/80\n",
      "Cerveza 806 de 958, pag 68/80\n",
      "Cerveza 807 de 958, pag 68/80\n",
      "Cerveza 808 de 958, pag 68/80\n",
      "Cerveza 809 de 958, pag 68/80\n",
      "Cerveza 810 de 958, pag 68/80\n",
      "Cerveza 811 de 958, pag 68/80\n",
      "Cerveza 812 de 958, pag 68/80\n",
      "Cerveza 813 de 958, pag 68/80\n",
      "Cerveza 814 de 958, pag 68/80\n",
      "Cerveza 815 de 958, pag 68/80\n",
      "Cerveza 816 de 958, pag 68/80\n",
      "Cerveza 817 de 958, pag 69/80\n",
      "Cerveza 818 de 958, pag 69/80\n",
      "Cerveza 819 de 958, pag 69/80\n",
      "Cerveza 820 de 958, pag 69/80\n",
      "Cerveza 821 de 958, pag 69/80\n",
      "Cerveza 822 de 958, pag 69/80\n",
      "Cerveza 823 de 958, pag 69/80\n",
      "Cerveza 824 de 958, pag 69/80\n",
      "Cerveza 825 de 958, pag 69/80\n",
      "Cerveza 826 de 958, pag 69/80\n",
      "Cerveza 827 de 958, pag 69/80\n",
      "Cerveza 828 de 958, pag 69/80\n",
      "Cerveza 829 de 958, pag 70/80\n",
      "Cerveza 830 de 958, pag 70/80\n",
      "Cerveza 831 de 958, pag 70/80\n",
      "Cerveza 832 de 958, pag 70/80\n",
      "Cerveza 833 de 958, pag 70/80\n",
      "Cerveza 834 de 958, pag 70/80\n",
      "Cerveza 835 de 958, pag 70/80\n",
      "Cerveza 836 de 958, pag 70/80\n",
      "Cerveza 837 de 958, pag 70/80\n",
      "Cerveza 838 de 958, pag 70/80\n",
      "Cerveza 839 de 958, pag 70/80\n",
      "Cerveza 840 de 958, pag 70/80\n",
      "Cerveza 841 de 958, pag 71/80\n",
      "Cerveza 842 de 958, pag 71/80\n",
      "Cerveza 843 de 958, pag 71/80\n",
      "Cerveza 844 de 958, pag 71/80\n",
      "Cerveza 845 de 958, pag 71/80\n",
      "Cerveza 846 de 958, pag 71/80\n",
      "Cerveza 847 de 958, pag 71/80\n",
      "Cerveza 848 de 958, pag 71/80\n",
      "Cerveza 849 de 958, pag 71/80\n",
      "Cerveza 850 de 958, pag 71/80\n",
      "Cerveza 851 de 958, pag 71/80\n",
      "Cerveza 852 de 958, pag 71/80\n",
      "Cerveza 853 de 958, pag 72/80\n",
      "Cerveza 854 de 958, pag 72/80\n",
      "Cerveza 855 de 958, pag 72/80\n",
      "Cerveza 856 de 958, pag 72/80\n",
      "Cerveza 857 de 958, pag 72/80\n",
      "Cerveza 858 de 958, pag 72/80\n",
      "Cerveza 859 de 958, pag 72/80\n",
      "Cerveza 860 de 958, pag 72/80\n",
      "Cerveza 861 de 958, pag 72/80\n",
      "Cerveza 862 de 958, pag 72/80\n",
      "Cerveza 863 de 958, pag 72/80\n",
      "Cerveza 864 de 958, pag 72/80\n",
      "Cerveza 865 de 958, pag 73/80\n",
      "Cerveza 866 de 958, pag 73/80\n",
      "Cerveza 867 de 958, pag 73/80\n",
      "Cerveza 868 de 958, pag 73/80\n",
      "Cerveza 869 de 958, pag 73/80\n",
      "Cerveza 870 de 958, pag 73/80\n",
      "Cerveza 871 de 958, pag 73/80\n",
      "Cerveza 872 de 958, pag 73/80\n",
      "Cerveza 873 de 958, pag 73/80\n",
      "Cerveza 874 de 958, pag 73/80\n",
      "Cerveza 875 de 958, pag 73/80\n",
      "Cerveza 876 de 958, pag 73/80\n",
      "Cerveza 877 de 958, pag 74/80\n",
      "Cerveza 878 de 958, pag 74/80\n",
      "Cerveza 879 de 958, pag 74/80\n",
      "Cerveza 880 de 958, pag 74/80\n",
      "Cerveza 881 de 958, pag 74/80\n",
      "Cerveza 882 de 958, pag 74/80\n",
      "Cerveza 883 de 958, pag 74/80\n",
      "Cerveza 884 de 958, pag 74/80\n",
      "Cerveza 885 de 958, pag 74/80\n",
      "Cerveza 886 de 958, pag 74/80\n",
      "Cerveza 887 de 958, pag 74/80\n",
      "Cerveza 888 de 958, pag 74/80\n",
      "Cerveza 889 de 958, pag 75/80\n",
      "Cerveza 890 de 958, pag 75/80\n",
      "Cerveza 891 de 958, pag 75/80\n",
      "Cerveza 892 de 958, pag 75/80\n",
      "Cerveza 893 de 958, pag 75/80\n",
      "Cerveza 894 de 958, pag 75/80\n",
      "Cerveza 895 de 958, pag 75/80\n",
      "Cerveza 896 de 958, pag 75/80\n",
      "Cerveza 897 de 958, pag 75/80\n",
      "Cerveza 898 de 958, pag 75/80\n",
      "Cerveza 899 de 958, pag 75/80\n",
      "Cerveza 900 de 958, pag 75/80\n",
      "Cerveza 901 de 958, pag 76/80\n",
      "Cerveza 902 de 958, pag 76/80\n",
      "Cerveza 903 de 958, pag 76/80\n",
      "Cerveza 904 de 958, pag 76/80\n",
      "Cerveza 905 de 958, pag 76/80\n",
      "Cerveza 906 de 958, pag 76/80\n",
      "Cerveza 907 de 958, pag 76/80\n",
      "Cerveza 908 de 958, pag 76/80\n",
      "Cerveza 909 de 958, pag 76/80\n",
      "Cerveza 910 de 958, pag 76/80\n",
      "Cerveza 911 de 958, pag 76/80\n",
      "Cerveza 912 de 958, pag 76/80\n",
      "Cerveza 913 de 958, pag 77/80\n",
      "Cerveza 914 de 958, pag 77/80\n",
      "Cerveza 915 de 958, pag 77/80\n",
      "Cerveza 916 de 958, pag 77/80\n",
      "Cerveza 917 de 958, pag 77/80\n",
      "Cerveza 918 de 958, pag 77/80\n",
      "Cerveza 919 de 958, pag 77/80\n",
      "Cerveza 920 de 958, pag 77/80\n",
      "Cerveza 921 de 958, pag 77/80\n",
      "Cerveza 922 de 958, pag 77/80\n",
      "Cerveza 923 de 958, pag 77/80\n",
      "Cerveza 924 de 958, pag 77/80\n",
      "Cerveza 925 de 958, pag 78/80\n",
      "Cerveza 926 de 958, pag 78/80\n",
      "Cerveza 927 de 958, pag 78/80\n",
      "Cerveza 928 de 958, pag 78/80\n",
      "Cerveza 929 de 958, pag 78/80\n",
      "Cerveza 930 de 958, pag 78/80\n",
      "Cerveza 931 de 958, pag 78/80\n",
      "Cerveza 932 de 958, pag 78/80\n",
      "Cerveza 933 de 958, pag 78/80\n",
      "Cerveza 934 de 958, pag 78/80\n",
      "Cerveza 935 de 958, pag 78/80\n",
      "Cerveza 936 de 958, pag 78/80\n",
      "Cerveza 937 de 958, pag 79/80\n",
      "Cerveza 938 de 958, pag 79/80\n",
      "Cerveza 939 de 958, pag 79/80\n",
      "Cerveza 940 de 958, pag 79/80\n",
      "Cerveza 941 de 958, pag 79/80\n",
      "Cerveza 942 de 958, pag 79/80\n",
      "Cerveza 943 de 958, pag 79/80\n",
      "Cerveza 944 de 958, pag 79/80\n",
      "Cerveza 945 de 958, pag 79/80\n",
      "Cerveza 946 de 958, pag 79/80\n",
      "Cerveza 947 de 958, pag 79/80\n",
      "Cerveza 948 de 958, pag 79/80\n",
      "Cerveza 949 de 958, pag 80/80\n",
      "Cerveza 950 de 958, pag 80/80\n",
      "Cerveza 951 de 958, pag 80/80\n",
      "Cerveza 952 de 958, pag 80/80\n",
      "Cerveza 953 de 958, pag 80/80\n",
      "Cerveza 954 de 958, pag 80/80\n",
      "Cerveza 955 de 958, pag 80/80\n",
      "Cerveza 956 de 958, pag 80/80\n",
      "Cerveza 957 de 958, pag 80/80\n",
      "Cerveza 958 de 958, pag 80/80\n",
      "Cerveza 959 de 958, pag 80/80\n",
      "Cerveza 960 de 958, pag 80/80\n"
     ]
    }
   ],
   "source": [
    "# Agregamos a una lista\n",
    "pages = np.arange(1, 81)\n",
    "count = 1\n",
    "lista_cervezas = []\n",
    "for page in pages:\n",
    "    URL = 'https://www.labirratorium.com/es/67-cervezas-por-estilo?page=' +str(page)\n",
    "    r = requests.get(URL)\n",
    "    soup = BeautifulSoup(r.text, 'lxml')\n",
    "    cervezas_grid = soup.find_all(class_ = 'product-image')\n",
    "    for cervezas in cervezas_grid:\n",
    "        \n",
    "        print('Cerveza {} de {}, pag {}/{}'.format(count, 958, page, len(pages)))\n",
    "        cerveza_individual = requests.get(cervezas.find('a')['href'])\n",
    "        soup_cerveza = BeautifulSoup(cerveza_individual.text, 'lxml')\n",
    "        nombre = soup_cerveza.find(class_ = 'h1 product-detail-name').text\n",
    "        precio = soup_cerveza.find(class_ = 'current-price').find('span')['content']\n",
    "        try:\n",
    "            desc_corta = soup_cerveza.find(class_ = 'description-short').find('p').text\n",
    "        except:\n",
    "            desc_corta = None\n",
    "        #desc_larga = soup_cerveza.find(class_ = 'product-description').find('p').text\n",
    "        imagen = soup_cerveza.find(class_ = 'js-qv-product-cover img-fluid')['src']\n",
    "        try:\n",
    "            brand = soup_cerveza.find(class_ = 'img img-thumbnail manufacturer-logo')['alt']\n",
    "        except:\n",
    "            brand = None\n",
    "        try:\n",
    "            fetures = soup_cerveza.find(class_ = 'data-sheet')\n",
    "            fetures_dt = fetures.find_all('dt')\n",
    "            fetures_dd = fetures.find_all('dd')\n",
    "            features_dict = {}\n",
    "            for feature, value in zip(fetures_dt, fetures_dd):\n",
    "                features_dict[feature.text] = value.text\n",
    "        except:\n",
    "            features_dict = {}\n",
    "        id_cerv = 'lbt' + str(count)\n",
    "        \n",
    "        lista_cervezas.append([\n",
    "            ('id', id_cerv),\n",
    "            ('name', nombre), \n",
    "            ('price', precio),\n",
    "            ('descr_short', desc_corta),\n",
    "            ('image', imagen),\n",
    "            ('brand', brand),\n",
    "            ('features', features_dict)\n",
    "            ])\n",
    "        \n",
    "        count += 1"
   ]
  },
  {
   "cell_type": "markdown",
   "metadata": {},
   "source": [
    "### Ya sabemos obtener todos los datos que nos interesan de una cerveza, ahora tenemos que aplicar esta lógica para obtener todas las demás "
   ]
  },
  {
   "cell_type": "code",
   "execution_count": 69,
   "metadata": {},
   "outputs": [
    {
     "output_type": "execute_result",
     "data": {
      "text/plain": [
       "     id                                name price  \\\n",
       "0  lbt1              Boon Oude Kriek 37,5cl  7.15   \n",
       "1  lbt2            Störtebeker Schwarz-Bier   2.4   \n",
       "2  lbt3                               Orval   2.8   \n",
       "3  lbt4           Augustiner Lagerbier Hell   2.5   \n",
       "4  lbt5  Schneider Aventinus Weizen-Eisbock   2.7   \n",
       "\n",
       "                                         descr_short  \\\n",
       "0                                     Lambic / Kriek   \n",
       "1                Cerveza negra de baja fermentación    \n",
       "2                                   Belgian Pale Ale   \n",
       "3                                     Lager / Helles   \n",
       "4  Cerveza de color medio oscuro, aromas alcohóli...   \n",
       "\n",
       "                                              imagen              brand  \\\n",
       "0  https://www.labirratorium.com/19351-large_defa...  Brouwerij F. Boon   \n",
       "1  https://www.labirratorium.com/488-large_defaul...        Störtebeker   \n",
       "2  https://www.labirratorium.com/385-large_defaul...              Orval   \n",
       "3  https://www.labirratorium.com/367-large_defaul...         Augustiner   \n",
       "4  https://www.labirratorium.com/366-large_defaul...          Schneider   \n",
       "\n",
       "                                             featurs  \n",
       "0  {'Estilo': 'KRIEK', 'Origen': 'Bélgica', '% Al...  \n",
       "1  {'Estilo': 'SCHWARZBIER', 'Origen': 'Alemania'...  \n",
       "2  {'Estilo': 'BELGIAN PALE ALE', 'Origen': 'Bélg...  \n",
       "3  {'Estilo': 'MUNICH HELLES', 'Origen': 'Alemani...  \n",
       "4  {'Origen': 'Alemania', '% Alc.': '12', 'Volume...  "
      ],
      "text/html": "<div>\n<style scoped>\n    .dataframe tbody tr th:only-of-type {\n        vertical-align: middle;\n    }\n\n    .dataframe tbody tr th {\n        vertical-align: top;\n    }\n\n    .dataframe thead th {\n        text-align: right;\n    }\n</style>\n<table border=\"1\" class=\"dataframe\">\n  <thead>\n    <tr style=\"text-align: right;\">\n      <th></th>\n      <th>id</th>\n      <th>name</th>\n      <th>price</th>\n      <th>descr_short</th>\n      <th>imagen</th>\n      <th>brand</th>\n      <th>featurs</th>\n    </tr>\n  </thead>\n  <tbody>\n    <tr>\n      <th>0</th>\n      <td>lbt1</td>\n      <td>Boon Oude Kriek 37,5cl</td>\n      <td>7.15</td>\n      <td>Lambic / Kriek</td>\n      <td>https://www.labirratorium.com/19351-large_defa...</td>\n      <td>Brouwerij F. Boon</td>\n      <td>{'Estilo': 'KRIEK', 'Origen': 'Bélgica', '% Al...</td>\n    </tr>\n    <tr>\n      <th>1</th>\n      <td>lbt2</td>\n      <td>Störtebeker Schwarz-Bier</td>\n      <td>2.4</td>\n      <td>Cerveza negra de baja fermentación</td>\n      <td>https://www.labirratorium.com/488-large_defaul...</td>\n      <td>Störtebeker</td>\n      <td>{'Estilo': 'SCHWARZBIER', 'Origen': 'Alemania'...</td>\n    </tr>\n    <tr>\n      <th>2</th>\n      <td>lbt3</td>\n      <td>Orval</td>\n      <td>2.8</td>\n      <td>Belgian Pale Ale</td>\n      <td>https://www.labirratorium.com/385-large_defaul...</td>\n      <td>Orval</td>\n      <td>{'Estilo': 'BELGIAN PALE ALE', 'Origen': 'Bélg...</td>\n    </tr>\n    <tr>\n      <th>3</th>\n      <td>lbt4</td>\n      <td>Augustiner Lagerbier Hell</td>\n      <td>2.5</td>\n      <td>Lager / Helles</td>\n      <td>https://www.labirratorium.com/367-large_defaul...</td>\n      <td>Augustiner</td>\n      <td>{'Estilo': 'MUNICH HELLES', 'Origen': 'Alemani...</td>\n    </tr>\n    <tr>\n      <th>4</th>\n      <td>lbt5</td>\n      <td>Schneider Aventinus Weizen-Eisbock</td>\n      <td>2.7</td>\n      <td>Cerveza de color medio oscuro, aromas alcohóli...</td>\n      <td>https://www.labirratorium.com/366-large_defaul...</td>\n      <td>Schneider</td>\n      <td>{'Origen': 'Alemania', '% Alc.': '12', 'Volume...</td>\n    </tr>\n  </tbody>\n</table>\n</div>"
     },
     "metadata": {},
     "execution_count": 69
    }
   ],
   "source": [
    "df = pd.DataFrame([[x[0][1],x[1][1],x[2][1],x[3][1],x[4][1],x[5][1],x[6][1]] for x in lista_cervezas],\n",
    "    columns = ['id',\n",
    "               'name',\n",
    "               'price',\n",
    "               'descr_short',\n",
    "               'imagen',\n",
    "               'brand',\n",
    "               'featurs'])\n",
    "#df.to_csv('df_lairratorium.csv')\n",
    "df.head()"
   ]
  },
  {
   "cell_type": "markdown",
   "metadata": {},
   "source": [
    "### FBI: Top ten criminals\n",
    "\n",
    "#### Queremos guardar las imágenes de cada fugitivo y que el nombre de cada archivo sea el nombre del fugitivo:"
   ]
  },
  {
   "cell_type": "code",
   "execution_count": null,
   "metadata": {},
   "outputs": [],
   "source": [
    "fbi_url = 'https://www.fbi.gov/wanted/topten'\n",
    "\n"
   ]
  },
  {
   "cell_type": "code",
   "execution_count": 1,
   "metadata": {},
   "outputs": [],
   "source": [
    "from selenium import webdriver"
   ]
  },
  {
   "cell_type": "code",
   "execution_count": 2,
   "metadata": {},
   "outputs": [],
   "source": [
    "driver = webdriver.Chrome(executable_path='/home/jose/Descargas/chromedriver_linux64/chromedriver')"
   ]
  },
  {
   "cell_type": "code",
   "execution_count": 3,
   "metadata": {},
   "outputs": [],
   "source": [
    "driver.get('https://www.fbi.gov/wanted/topten')"
   ]
  },
  {
   "cell_type": "code",
   "execution_count": 4,
   "metadata": {},
   "outputs": [
    {
     "output_type": "execute_result",
     "data": {
      "text/plain": [
       "'https://www.fbi.gov/wanted/topten'"
      ]
     },
     "metadata": {},
     "execution_count": 4
    }
   ],
   "source": [
    "driver.current_url"
   ]
  },
  {
   "cell_type": "code",
   "execution_count": 20,
   "metadata": {},
   "outputs": [],
   "source": [
    "mosaico = driver.find_element_by_id('query-results-0f737222c5054a81a120bce207b0446a')"
   ]
  },
  {
   "cell_type": "code",
   "execution_count": 29,
   "metadata": {},
   "outputs": [],
   "source": [
    "fbi_top_ten = mosaico.find_elements_by_class_name('portal-type-person')"
   ]
  },
  {
   "cell_type": "code",
   "execution_count": 31,
   "metadata": {},
   "outputs": [],
   "source": [
    "imagenes = []\n",
    "for elemen in fbi_top_ten:\n",
    "    imagenes.append(elemen.find_element_by_tag_name('img'))"
   ]
  },
  {
   "cell_type": "code",
   "execution_count": 50,
   "metadata": {},
   "outputs": [
    {
     "output_type": "error",
     "ename": "ValueError",
     "evalue": "invalid mode: '+w+'",
     "traceback": [
      "\u001b[0;31m---------------------------------------------------------------------------\u001b[0m",
      "\u001b[0;31mValueError\u001b[0m                                Traceback (most recent call last)",
      "\u001b[0;32m<ipython-input-50-8381f4a57e9c>\u001b[0m in \u001b[0;36m<module>\u001b[0;34m\u001b[0m\n\u001b[1;32m      2\u001b[0m \u001b[0;34m\u001b[0m\u001b[0m\n\u001b[1;32m      3\u001b[0m \u001b[0;32mfor\u001b[0m \u001b[0mpos\u001b[0m\u001b[0;34m,\u001b[0m \u001b[0melemen\u001b[0m \u001b[0;32min\u001b[0m \u001b[0menumerate\u001b[0m\u001b[0;34m(\u001b[0m\u001b[0mimagenes\u001b[0m\u001b[0;34m)\u001b[0m\u001b[0;34m:\u001b[0m\u001b[0;34m\u001b[0m\u001b[0;34m\u001b[0m\u001b[0m\n\u001b[0;32m----> 4\u001b[0;31m     \u001b[0;32mwith\u001b[0m \u001b[0mopen\u001b[0m\u001b[0;34m(\u001b[0m\u001b[0;34m'fbi.images/'\u001b[0m \u001b[0;34m+\u001b[0m \u001b[0melemen\u001b[0m\u001b[0;34m.\u001b[0m\u001b[0mget_attribute\u001b[0m\u001b[0;34m(\u001b[0m\u001b[0;34m'alt'\u001b[0m\u001b[0;34m)\u001b[0m \u001b[0;34m+\u001b[0m \u001b[0;34m'.png'\u001b[0m\u001b[0;34m,\u001b[0m \u001b[0;34m'+w+'\u001b[0m\u001b[0;34m)\u001b[0m \u001b[0;32mas\u001b[0m \u001b[0mimg\u001b[0m\u001b[0;34m:\u001b[0m\u001b[0;34m\u001b[0m\u001b[0;34m\u001b[0m\u001b[0m\n\u001b[0m\u001b[1;32m      5\u001b[0m        \u001b[0mshutil\u001b[0m\u001b[0;34m.\u001b[0m\u001b[0mcopyfileobj\u001b[0m\u001b[0;34m(\u001b[0m\u001b[0melemen\u001b[0m\u001b[0;34m,\u001b[0m \u001b[0mimg\u001b[0m\u001b[0;34m)\u001b[0m\u001b[0;34m\u001b[0m\u001b[0;34m\u001b[0m\u001b[0m\n",
      "\u001b[0;31mValueError\u001b[0m: invalid mode: '+w+'"
     ]
    }
   ],
   "source": [
    "import shutil\n",
    "\n",
    "for pos, elemen in enumerate(imagenes):\n",
    "    with open('fbi.images/' + elemen.get_attribute('alt') + '.png', 'w+') as img:\n",
    "       shutil.copyfileobj(elemen, img)\n"
   ]
  },
  {
   "cell_type": "code",
   "execution_count": 51,
   "metadata": {},
   "outputs": [],
   "source": [
    "driver.close()"
   ]
  },
  {
   "cell_type": "code",
   "execution_count": 52,
   "metadata": {},
   "outputs": [
    {
     "output_type": "error",
     "ename": "NoSuchWindowException",
     "evalue": "Message: no such window: target window already closed\nfrom unknown error: web view not found\n  (Session info: chrome=90.0.4430.212)\n",
     "traceback": [
      "\u001b[0;31m---------------------------------------------------------------------------\u001b[0m",
      "\u001b[0;31mNoSuchWindowException\u001b[0m                     Traceback (most recent call last)",
      "\u001b[0;32m<ipython-input-52-b493a679ded8>\u001b[0m in \u001b[0;36m<module>\u001b[0;34m\u001b[0m\n\u001b[0;32m----> 1\u001b[0;31m \u001b[0mdriver\u001b[0m\u001b[0;34m.\u001b[0m\u001b[0mcurrent_url\u001b[0m\u001b[0;34m(\u001b[0m\u001b[0;34m)\u001b[0m\u001b[0;34m\u001b[0m\u001b[0;34m\u001b[0m\u001b[0m\n\u001b[0m",
      "\u001b[0;32m~/.local/lib/python3.7/site-packages/selenium/webdriver/remote/webdriver.py\u001b[0m in \u001b[0;36mcurrent_url\u001b[0;34m(self)\u001b[0m\n\u001b[1;32m    667\u001b[0m             \u001b[0mdriver\u001b[0m\u001b[0;34m.\u001b[0m\u001b[0mcurrent_url\u001b[0m\u001b[0;34m\u001b[0m\u001b[0;34m\u001b[0m\u001b[0m\n\u001b[1;32m    668\u001b[0m         \"\"\"\n\u001b[0;32m--> 669\u001b[0;31m         \u001b[0;32mreturn\u001b[0m \u001b[0mself\u001b[0m\u001b[0;34m.\u001b[0m\u001b[0mexecute\u001b[0m\u001b[0;34m(\u001b[0m\u001b[0mCommand\u001b[0m\u001b[0;34m.\u001b[0m\u001b[0mGET_CURRENT_URL\u001b[0m\u001b[0;34m)\u001b[0m\u001b[0;34m[\u001b[0m\u001b[0;34m'value'\u001b[0m\u001b[0;34m]\u001b[0m\u001b[0;34m\u001b[0m\u001b[0;34m\u001b[0m\u001b[0m\n\u001b[0m\u001b[1;32m    670\u001b[0m \u001b[0;34m\u001b[0m\u001b[0m\n\u001b[1;32m    671\u001b[0m     \u001b[0;34m@\u001b[0m\u001b[0mproperty\u001b[0m\u001b[0;34m\u001b[0m\u001b[0;34m\u001b[0m\u001b[0m\n",
      "\u001b[0;32m~/.local/lib/python3.7/site-packages/selenium/webdriver/remote/webdriver.py\u001b[0m in \u001b[0;36mexecute\u001b[0;34m(self, driver_command, params)\u001b[0m\n\u001b[1;32m    319\u001b[0m         \u001b[0mresponse\u001b[0m \u001b[0;34m=\u001b[0m \u001b[0mself\u001b[0m\u001b[0;34m.\u001b[0m\u001b[0mcommand_executor\u001b[0m\u001b[0;34m.\u001b[0m\u001b[0mexecute\u001b[0m\u001b[0;34m(\u001b[0m\u001b[0mdriver_command\u001b[0m\u001b[0;34m,\u001b[0m \u001b[0mparams\u001b[0m\u001b[0;34m)\u001b[0m\u001b[0;34m\u001b[0m\u001b[0;34m\u001b[0m\u001b[0m\n\u001b[1;32m    320\u001b[0m         \u001b[0;32mif\u001b[0m \u001b[0mresponse\u001b[0m\u001b[0;34m:\u001b[0m\u001b[0;34m\u001b[0m\u001b[0;34m\u001b[0m\u001b[0m\n\u001b[0;32m--> 321\u001b[0;31m             \u001b[0mself\u001b[0m\u001b[0;34m.\u001b[0m\u001b[0merror_handler\u001b[0m\u001b[0;34m.\u001b[0m\u001b[0mcheck_response\u001b[0m\u001b[0;34m(\u001b[0m\u001b[0mresponse\u001b[0m\u001b[0;34m)\u001b[0m\u001b[0;34m\u001b[0m\u001b[0;34m\u001b[0m\u001b[0m\n\u001b[0m\u001b[1;32m    322\u001b[0m             response['value'] = self._unwrap_value(\n\u001b[1;32m    323\u001b[0m                 response.get('value', None))\n",
      "\u001b[0;32m~/.local/lib/python3.7/site-packages/selenium/webdriver/remote/errorhandler.py\u001b[0m in \u001b[0;36mcheck_response\u001b[0;34m(self, response)\u001b[0m\n\u001b[1;32m    240\u001b[0m                 \u001b[0malert_text\u001b[0m \u001b[0;34m=\u001b[0m \u001b[0mvalue\u001b[0m\u001b[0;34m[\u001b[0m\u001b[0;34m'alert'\u001b[0m\u001b[0;34m]\u001b[0m\u001b[0;34m.\u001b[0m\u001b[0mget\u001b[0m\u001b[0;34m(\u001b[0m\u001b[0;34m'text'\u001b[0m\u001b[0;34m)\u001b[0m\u001b[0;34m\u001b[0m\u001b[0;34m\u001b[0m\u001b[0m\n\u001b[1;32m    241\u001b[0m             \u001b[0;32mraise\u001b[0m \u001b[0mexception_class\u001b[0m\u001b[0;34m(\u001b[0m\u001b[0mmessage\u001b[0m\u001b[0;34m,\u001b[0m \u001b[0mscreen\u001b[0m\u001b[0;34m,\u001b[0m \u001b[0mstacktrace\u001b[0m\u001b[0;34m,\u001b[0m \u001b[0malert_text\u001b[0m\u001b[0;34m)\u001b[0m\u001b[0;34m\u001b[0m\u001b[0;34m\u001b[0m\u001b[0m\n\u001b[0;32m--> 242\u001b[0;31m         \u001b[0;32mraise\u001b[0m \u001b[0mexception_class\u001b[0m\u001b[0;34m(\u001b[0m\u001b[0mmessage\u001b[0m\u001b[0;34m,\u001b[0m \u001b[0mscreen\u001b[0m\u001b[0;34m,\u001b[0m \u001b[0mstacktrace\u001b[0m\u001b[0;34m)\u001b[0m\u001b[0;34m\u001b[0m\u001b[0;34m\u001b[0m\u001b[0m\n\u001b[0m\u001b[1;32m    243\u001b[0m \u001b[0;34m\u001b[0m\u001b[0m\n\u001b[1;32m    244\u001b[0m     \u001b[0;32mdef\u001b[0m \u001b[0m_value_or_default\u001b[0m\u001b[0;34m(\u001b[0m\u001b[0mself\u001b[0m\u001b[0;34m,\u001b[0m \u001b[0mobj\u001b[0m\u001b[0;34m,\u001b[0m \u001b[0mkey\u001b[0m\u001b[0;34m,\u001b[0m \u001b[0mdefault\u001b[0m\u001b[0;34m)\u001b[0m\u001b[0;34m:\u001b[0m\u001b[0;34m\u001b[0m\u001b[0;34m\u001b[0m\u001b[0m\n",
      "\u001b[0;31mNoSuchWindowException\u001b[0m: Message: no such window: target window already closed\nfrom unknown error: web view not found\n  (Session info: chrome=90.0.4430.212)\n"
     ]
    }
   ],
   "source": [
    "driver.current_url()"
   ]
  },
  {
   "cell_type": "code",
   "execution_count": null,
   "metadata": {},
   "outputs": [],
   "source": []
  }
 ],
 "metadata": {
  "hide_input": false,
  "kernelspec": {
   "display_name": "Python 3",
   "language": "python",
   "name": "python3"
  },
  "language_info": {
   "codemirror_mode": {
    "name": "ipython",
    "version": 3
   },
   "file_extension": ".py",
   "mimetype": "text/x-python",
   "name": "python",
   "nbconvert_exporter": "python",
   "pygments_lexer": "ipython3",
   "version": "3.7.4"
  },
  "varInspector": {
   "cols": {
    "lenName": 16,
    "lenType": 16,
    "lenVar": 40
   },
   "kernels_config": {
    "python": {
     "delete_cmd_postfix": "",
     "delete_cmd_prefix": "del ",
     "library": "var_list.py",
     "varRefreshCmd": "print(var_dic_list())"
    },
    "r": {
     "delete_cmd_postfix": ") ",
     "delete_cmd_prefix": "rm(",
     "library": "var_list.r",
     "varRefreshCmd": "cat(var_dic_list()) "
    }
   },
   "types_to_exclude": [
    "module",
    "function",
    "builtin_function_or_method",
    "instance",
    "_Feature"
   ],
   "window_display": false
  }
 },
 "nbformat": 4,
 "nbformat_minor": 2
}