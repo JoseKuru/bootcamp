{
 "cells": [
  {
   "cell_type": "markdown",
   "metadata": {},
   "source": [
    "Antes de empezar: un poco de documentación para enterder ligeramente cómo funciona HTML:"
   ]
  },
  {
   "cell_type": "markdown",
   "metadata": {},
   "source": [
    "https://www.w3schools.com/html/html_intro.asp"
   ]
  },
  {
   "cell_type": "markdown",
   "metadata": {},
   "source": [
    "# Web Scraping: Selenium"
   ]
  },
  {
   "cell_type": "markdown",
   "metadata": {},
   "source": [
    "En este notebook veremos cómo automatizar la extracción de datos de una página web simulando la navegación. Para ello utilizaremos la librería Selenium:\n",
    "https://selenium-python.readthedocs.io/"
   ]
  },
  {
   "cell_type": "markdown",
   "metadata": {},
   "source": [
    "El software libre Selenium es un **framework** para realizar test automatizados de software a aplicaciones web. En principio, fue desarrollado para poner a prueba páginas y apps web, pero el **WebDriver** de Selenium también puede usarse con Python para realizar scraping. Si bien Selenium en sí no está escrito en Python, con este lenguaje de programación es posible acceder a las funciones del software.\n",
    "\n",
    "A diferencia de Scrapy y de BeautifulSoup, Selenium no trabaja con el texto fuente en HTML de la web en cuestión, sino que carga la página en un navegador sin interfaz de usuario. El navegador interpreta entonces el código fuente de la página y crea, a partir de él, un **Document Object Model** (modelo de objetos de documento o DOM). Esta interfaz estandarizada permite poner a prueba las interacciones de los usuarios. De esta forma se consigue, por ejemplo, simular clics y rellenar formularios automáticamente. Los cambios en la web que resultan de dichas acciones se reflejan en el DOM. La estructura del proceso de web scraping con Selenium es la siguiente:\n",
    "\n",
    "URL → Solicitud HTTP → HTML → Selenium → DOM"
   ]
  },
  {
   "cell_type": "code",
   "execution_count": 1,
   "metadata": {
    "ExecuteTime": {
     "end_time": "2021-02-26T12:16:59.303652Z",
     "start_time": "2021-02-26T12:16:59.300657Z"
    }
   },
   "outputs": [
    {
     "output_type": "stream",
     "name": "stderr",
     "text": [
      "/home/jose/.local/lib/python3.7/site-packages/pandas/compat/__init__.py:97: UserWarning: Could not import the lzma module. Your installed Python is incomplete. Attempting to use lzma compression will result in a RuntimeError.\n  warnings.warn(msg)\n"
     ]
    }
   ],
   "source": [
    "# Imports\n",
    "import pandas as pd\n",
    "from selenium import webdriver"
   ]
  },
  {
   "cell_type": "markdown",
   "metadata": {},
   "source": [
    "Deberemos descargar un archivo Chrome driver para selenium en https://chromedriver.chromium.org/downloads, es importante que compruebes la versión de Chrome que utilizas y descargaues el driver correspondiente.\n",
    "Una vez descargado crearemos una variable con la dirección completa del path al chromedriver "
   ]
  },
  {
   "cell_type": "markdown",
   "metadata": {},
   "source": [
    "El objeto driver es con el que trabajaremos a partir de ahora"
   ]
  },
  {
   "cell_type": "code",
   "execution_count": 79,
   "metadata": {
    "ExecuteTime": {
     "end_time": "2021-02-26T10:22:46.333679Z",
     "start_time": "2021-02-26T10:22:45.178780Z"
    }
   },
   "outputs": [],
   "source": [
    "# especificamos el path hasta nuestro driver recién descargado:\n",
    "chrome_driver_path = '/home/jose/Descargas/chromedriver_linux64/chromedriver'\n",
    "options =webdriver.ChromeOptions()\n",
    "# headless nos permite no tener que ver la navegación en la ventana de Chrome\n",
    "#option.add_argument('headless')\n",
    "options.add_argument('--disable-extensions')"
   ]
  },
  {
   "cell_type": "code",
   "execution_count": 83,
   "metadata": {},
   "outputs": [],
   "source": [
    "# Creamos el driver con el que nos vamos a manejar en la sesión de scrapeo:\n",
    "driver = webdriver.Chrome(executable_path=chrome_driver_path, options=options)"
   ]
  },
  {
   "cell_type": "code",
   "execution_count": 84,
   "metadata": {},
   "outputs": [],
   "source": [
    "# indicamos la URL de la página web a la que queremos acceder\n",
    "url = 'https://www.filmaffinity.com/es/main.html'\n",
    "# el objeto driver nos va a permitir alterar el estado del la página\n",
    "driver.get(url)"
   ]
  },
  {
   "cell_type": "markdown",
   "metadata": {},
   "source": [
    "¡Vaya! Nos hemos encontrado con un pop-up que nos pide aceptar cookies o algo po el estilo, si nos lo queremos saltar, para poder automatizar el proceso deberemos:\n",
    "\n",
    "1. Buscamos el botón\n",
    "2. Hacemos click en el botón\n",
    "\n",
    "Selenium nos permite buscar elementos por etiqueteas de html: https://selenium-python.readthedocs.io/locating-elements.html\n",
    "\n",
    "CUIDADO! Los metodos de busqueda de elementos estan \"duplicados\". Tenemos *find_element_by_tag_name* y *find_elements_by_tag_name* el primero nos devolverá el primer elemento que encuentre (aunque haya más), el segundo nos devolverá una lista con todos los elementos que encuentre (aunque solo sea uno)"
   ]
  },
  {
   "cell_type": "code",
   "execution_count": 85,
   "metadata": {
    "ExecuteTime": {
     "end_time": "2021-02-26T10:22:48.546287Z",
     "start_time": "2021-02-26T10:22:48.489040Z"
    }
   },
   "outputs": [
    {
     "output_type": "stream",
     "name": "stdout",
     "text": [
      "<class 'list'>\n<class 'selenium.webdriver.remote.webelement.WebElement'>\n[<selenium.webdriver.remote.webelement.WebElement (session=\"e03aa374b7ab06d033347c3499f63b55\", element=\"61833fdf-f030-40eb-af54-293416f439f9\")>, <selenium.webdriver.remote.webelement.WebElement (session=\"e03aa374b7ab06d033347c3499f63b55\", element=\"de28df42-64ba-4e34-8a7e-559d0c147cc5\")>, <selenium.webdriver.remote.webelement.WebElement (session=\"e03aa374b7ab06d033347c3499f63b55\", element=\"5c7e313e-4ca3-4bf8-9cbd-f71e5a0783a7\")>]\n<selenium.webdriver.remote.webelement.WebElement (session=\"e03aa374b7ab06d033347c3499f63b55\", element=\"5c7e313e-4ca3-4bf8-9cbd-f71e5a0783a7\")>\n"
     ]
    }
   ],
   "source": [
    "# Navegando en filmaffinity, en el pop-up:\n",
    "element_by_tag = driver.find_elements_by_tag_name('button')\n",
    "element_by_xpath = driver.find_element_by_xpath('/html/body/div[1]/div/div/div/div[2]/div/button[2]')\n",
    "print(type(element_by_tag))\n",
    "print(type(element_by_xpath))\n",
    "print(element_by_tag)\n",
    "print(element_by_xpath)"
   ]
  },
  {
   "cell_type": "markdown",
   "metadata": {},
   "source": [
    "Una vez tenemos los elementos podemos hacer varias cosas con ellos"
   ]
  },
  {
   "cell_type": "markdown",
   "metadata": {},
   "source": [
    "Podemos extraer todos los atributos que tenga"
   ]
  },
  {
   "cell_type": "code",
   "execution_count": 6,
   "metadata": {
    "ExecuteTime": {
     "end_time": "2021-02-26T10:22:51.542538Z",
     "start_time": "2021-02-26T10:22:51.508077Z"
    }
   },
   "outputs": [
    {
     "output_type": "stream",
     "name": "stdout",
     "text": [
      "{'height': 40, 'width': 340}\nbutton\n"
     ]
    },
    {
     "output_type": "execute_result",
     "data": {
      "text/plain": [
       "['__class__',\n",
       " '__delattr__',\n",
       " '__dict__',\n",
       " '__dir__',\n",
       " '__doc__',\n",
       " '__eq__',\n",
       " '__format__',\n",
       " '__ge__',\n",
       " '__getattribute__',\n",
       " '__gt__',\n",
       " '__hash__',\n",
       " '__init__',\n",
       " '__init_subclass__',\n",
       " '__le__',\n",
       " '__lt__',\n",
       " '__module__',\n",
       " '__ne__',\n",
       " '__new__',\n",
       " '__reduce__',\n",
       " '__reduce_ex__',\n",
       " '__repr__',\n",
       " '__setattr__',\n",
       " '__sizeof__',\n",
       " '__str__',\n",
       " '__subclasshook__',\n",
       " '__weakref__',\n",
       " '_execute',\n",
       " '_id',\n",
       " '_parent',\n",
       " '_upload',\n",
       " '_w3c',\n",
       " 'clear',\n",
       " 'click',\n",
       " 'find_element',\n",
       " 'find_element_by_class_name',\n",
       " 'find_element_by_css_selector',\n",
       " 'find_element_by_id',\n",
       " 'find_element_by_link_text',\n",
       " 'find_element_by_name',\n",
       " 'find_element_by_partial_link_text',\n",
       " 'find_element_by_tag_name',\n",
       " 'find_element_by_xpath',\n",
       " 'find_elements',\n",
       " 'find_elements_by_class_name',\n",
       " 'find_elements_by_css_selector',\n",
       " 'find_elements_by_id',\n",
       " 'find_elements_by_link_text',\n",
       " 'find_elements_by_name',\n",
       " 'find_elements_by_partial_link_text',\n",
       " 'find_elements_by_tag_name',\n",
       " 'find_elements_by_xpath',\n",
       " 'get_attribute',\n",
       " 'get_property',\n",
       " 'id',\n",
       " 'is_displayed',\n",
       " 'is_enabled',\n",
       " 'is_selected',\n",
       " 'location',\n",
       " 'location_once_scrolled_into_view',\n",
       " 'parent',\n",
       " 'rect',\n",
       " 'screenshot',\n",
       " 'screenshot_as_base64',\n",
       " 'screenshot_as_png',\n",
       " 'send_keys',\n",
       " 'size',\n",
       " 'submit',\n",
       " 'tag_name',\n",
       " 'text',\n",
       " 'value_of_css_property']"
      ]
     },
     "metadata": {},
     "execution_count": 6
    }
   ],
   "source": [
    "print(element_by_xpath.size)\n",
    "print(element_by_tag[0].tag_name)\n",
    "dir(element_by_xpath)"
   ]
  },
  {
   "cell_type": "code",
   "execution_count": 7,
   "metadata": {},
   "outputs": [],
   "source": [
    "for pos, elemen in enumerate(element_by_tag):\n",
    "    elemen.screenshot(elemen.text + str(pos) + '.png')"
   ]
  },
  {
   "cell_type": "markdown",
   "metadata": {},
   "source": [
    "Podemos evaluar que tipo de elemento es (tag)"
   ]
  },
  {
   "cell_type": "code",
   "execution_count": 86,
   "metadata": {
    "ExecuteTime": {
     "end_time": "2021-02-26T10:22:53.325430Z",
     "start_time": "2021-02-26T10:22:53.306520Z"
    }
   },
   "outputs": [],
   "source": [
    "boton_aceptar = element_by_tag[2]\n",
    "boton_aceptar.click()"
   ]
  },
  {
   "cell_type": "markdown",
   "metadata": {},
   "source": [
    "Podemos sacar el valor que tiene (el texto)"
   ]
  },
  {
   "cell_type": "code",
   "execution_count": null,
   "metadata": {
    "ExecuteTime": {
     "end_time": "2021-02-26T10:22:54.583190Z",
     "start_time": "2021-02-26T10:22:54.553596Z"
    }
   },
   "outputs": [],
   "source": []
  },
  {
   "cell_type": "code",
   "execution_count": null,
   "metadata": {},
   "outputs": [],
   "source": []
  },
  {
   "cell_type": "markdown",
   "metadata": {},
   "source": [
    "Incluso podemos guardar una imagen del elemento"
   ]
  },
  {
   "cell_type": "code",
   "execution_count": 73,
   "metadata": {},
   "outputs": [],
   "source": [
    "# Vemos que es tipo 'WebElement' y en la documentación podremos encontrar sus métodos"
   ]
  },
  {
   "cell_type": "code",
   "execution_count": 74,
   "metadata": {
    "ExecuteTime": {
     "end_time": "2021-02-26T10:24:41.830050Z",
     "start_time": "2021-02-26T10:24:41.510086Z"
    }
   },
   "outputs": [],
   "source": [
    "# guardamos como 'mi_imagen.png' la imagen asociada al xpath\n"
   ]
  },
  {
   "cell_type": "markdown",
   "metadata": {
    "ExecuteTime": {
     "end_time": "2021-02-25T09:56:21.322475Z",
     "start_time": "2021-02-25T09:56:21.318715Z"
    }
   },
   "source": [
    "Evaluamos que elementos hemos encontrado por el tag:"
   ]
  },
  {
   "cell_type": "code",
   "execution_count": null,
   "metadata": {
    "ExecuteTime": {
     "end_time": "2021-02-25T10:40:47.561469Z",
     "start_time": "2021-02-25T10:40:46.812684Z"
    }
   },
   "outputs": [],
   "source": []
  },
  {
   "cell_type": "markdown",
   "metadata": {},
   "source": [
    "Nos quedamos con el botón que nos interesa"
   ]
  },
  {
   "cell_type": "code",
   "execution_count": null,
   "metadata": {
    "ExecuteTime": {
     "end_time": "2021-02-26T10:24:47.302978Z",
     "start_time": "2021-02-26T10:24:47.291261Z"
    }
   },
   "outputs": [],
   "source": []
  },
  {
   "cell_type": "markdown",
   "metadata": {},
   "source": [
    "Si el elemento es interactivo podremos hacer más cosas además de las anteriores. Por ejemplo: hacer click"
   ]
  },
  {
   "cell_type": "code",
   "execution_count": null,
   "metadata": {
    "ExecuteTime": {
     "end_time": "2021-02-26T10:24:48.611716Z",
     "start_time": "2021-02-26T10:24:48.390430Z"
    }
   },
   "outputs": [],
   "source": []
  },
  {
   "cell_type": "markdown",
   "metadata": {},
   "source": [
    "Buscamos una película por título"
   ]
  },
  {
   "cell_type": "code",
   "execution_count": 75,
   "metadata": {},
   "outputs": [],
   "source": [
    "from selenium.webdriver.common.keys import Keys"
   ]
  },
  {
   "cell_type": "code",
   "execution_count": 78,
   "metadata": {
    "ExecuteTime": {
     "end_time": "2021-02-26T10:28:14.592155Z",
     "start_time": "2021-02-26T10:28:13.509998Z"
    }
   },
   "outputs": [],
   "source": [
    "buscador = driver.find_element_by_xpath('/html/body/div[2]/div[1]/div/div[2]/form/input[1]')"
   ]
  },
  {
   "cell_type": "code",
   "execution_count": 79,
   "metadata": {},
   "outputs": [],
   "source": [
    "buscador.send_keys('Interstellar')\n",
    "buscador.send_keys(Keys.ENTER)"
   ]
  },
  {
   "cell_type": "code",
   "execution_count": 12,
   "metadata": {},
   "outputs": [],
   "source": [
    "# una vez escrita la búsqueda deberíamos poder activarla:\n",
    "menu_lateral = driver.find_element_by_id('lsmenu')\n",
    "secciones_menu = menu_lateral.find_elements_by_tag_name('a')"
   ]
  },
  {
   "cell_type": "code",
   "execution_count": 14,
   "metadata": {},
   "outputs": [
    {
     "output_type": "error",
     "ename": "StaleElementReferenceException",
     "evalue": "Message: stale element reference: element is not attached to the page document\n  (Session info: chrome=90.0.4430.212)\n",
     "traceback": [
      "\u001b[0;31m---------------------------------------------------------------------------\u001b[0m",
      "\u001b[0;31mStaleElementReferenceException\u001b[0m            Traceback (most recent call last)",
      "\u001b[0;32m<ipython-input-14-4d0ed0d2bbf8>\u001b[0m in \u001b[0;36m<module>\u001b[0;34m\u001b[0m\n\u001b[1;32m      1\u001b[0m \u001b[0;31m# volvemos a la página anterior\u001b[0m\u001b[0;34m\u001b[0m\u001b[0;34m\u001b[0m\u001b[0;34m\u001b[0m\u001b[0m\n\u001b[1;32m      2\u001b[0m \u001b[0;32mfor\u001b[0m \u001b[0melemen\u001b[0m \u001b[0;32min\u001b[0m \u001b[0msecciones_menu\u001b[0m\u001b[0;34m:\u001b[0m\u001b[0;34m\u001b[0m\u001b[0;34m\u001b[0m\u001b[0m\n\u001b[0;32m----> 3\u001b[0;31m     \u001b[0;32mif\u001b[0m \u001b[0melemen\u001b[0m\u001b[0;34m.\u001b[0m\u001b[0mtext\u001b[0m \u001b[0;34m==\u001b[0m \u001b[0;34m'Próximos estrenos'\u001b[0m\u001b[0;34m:\u001b[0m\u001b[0;34m\u001b[0m\u001b[0;34m\u001b[0m\u001b[0m\n\u001b[0m\u001b[1;32m      4\u001b[0m         \u001b[0melemen\u001b[0m\u001b[0;34m.\u001b[0m\u001b[0mclick\u001b[0m\u001b[0;34m(\u001b[0m\u001b[0;34m)\u001b[0m\u001b[0;34m\u001b[0m\u001b[0;34m\u001b[0m\u001b[0m\n",
      "\u001b[0;32m~/.local/lib/python3.7/site-packages/selenium/webdriver/remote/webelement.py\u001b[0m in \u001b[0;36mtext\u001b[0;34m(self)\u001b[0m\n\u001b[1;32m     74\u001b[0m     \u001b[0;32mdef\u001b[0m \u001b[0mtext\u001b[0m\u001b[0;34m(\u001b[0m\u001b[0mself\u001b[0m\u001b[0;34m)\u001b[0m\u001b[0;34m:\u001b[0m\u001b[0;34m\u001b[0m\u001b[0;34m\u001b[0m\u001b[0m\n\u001b[1;32m     75\u001b[0m         \u001b[0;34m\"\"\"The text of the element.\"\"\"\u001b[0m\u001b[0;34m\u001b[0m\u001b[0;34m\u001b[0m\u001b[0m\n\u001b[0;32m---> 76\u001b[0;31m         \u001b[0;32mreturn\u001b[0m \u001b[0mself\u001b[0m\u001b[0;34m.\u001b[0m\u001b[0m_execute\u001b[0m\u001b[0;34m(\u001b[0m\u001b[0mCommand\u001b[0m\u001b[0;34m.\u001b[0m\u001b[0mGET_ELEMENT_TEXT\u001b[0m\u001b[0;34m)\u001b[0m\u001b[0;34m[\u001b[0m\u001b[0;34m'value'\u001b[0m\u001b[0;34m]\u001b[0m\u001b[0;34m\u001b[0m\u001b[0;34m\u001b[0m\u001b[0m\n\u001b[0m\u001b[1;32m     77\u001b[0m \u001b[0;34m\u001b[0m\u001b[0m\n\u001b[1;32m     78\u001b[0m     \u001b[0;32mdef\u001b[0m \u001b[0mclick\u001b[0m\u001b[0;34m(\u001b[0m\u001b[0mself\u001b[0m\u001b[0;34m)\u001b[0m\u001b[0;34m:\u001b[0m\u001b[0;34m\u001b[0m\u001b[0;34m\u001b[0m\u001b[0m\n",
      "\u001b[0;32m~/.local/lib/python3.7/site-packages/selenium/webdriver/remote/webelement.py\u001b[0m in \u001b[0;36m_execute\u001b[0;34m(self, command, params)\u001b[0m\n\u001b[1;32m    631\u001b[0m             \u001b[0mparams\u001b[0m \u001b[0;34m=\u001b[0m \u001b[0;34m{\u001b[0m\u001b[0;34m}\u001b[0m\u001b[0;34m\u001b[0m\u001b[0;34m\u001b[0m\u001b[0m\n\u001b[1;32m    632\u001b[0m         \u001b[0mparams\u001b[0m\u001b[0;34m[\u001b[0m\u001b[0;34m'id'\u001b[0m\u001b[0;34m]\u001b[0m \u001b[0;34m=\u001b[0m \u001b[0mself\u001b[0m\u001b[0;34m.\u001b[0m\u001b[0m_id\u001b[0m\u001b[0;34m\u001b[0m\u001b[0;34m\u001b[0m\u001b[0m\n\u001b[0;32m--> 633\u001b[0;31m         \u001b[0;32mreturn\u001b[0m \u001b[0mself\u001b[0m\u001b[0;34m.\u001b[0m\u001b[0m_parent\u001b[0m\u001b[0;34m.\u001b[0m\u001b[0mexecute\u001b[0m\u001b[0;34m(\u001b[0m\u001b[0mcommand\u001b[0m\u001b[0;34m,\u001b[0m \u001b[0mparams\u001b[0m\u001b[0;34m)\u001b[0m\u001b[0;34m\u001b[0m\u001b[0;34m\u001b[0m\u001b[0m\n\u001b[0m\u001b[1;32m    634\u001b[0m \u001b[0;34m\u001b[0m\u001b[0m\n\u001b[1;32m    635\u001b[0m     \u001b[0;32mdef\u001b[0m \u001b[0mfind_element\u001b[0m\u001b[0;34m(\u001b[0m\u001b[0mself\u001b[0m\u001b[0;34m,\u001b[0m \u001b[0mby\u001b[0m\u001b[0;34m=\u001b[0m\u001b[0mBy\u001b[0m\u001b[0;34m.\u001b[0m\u001b[0mID\u001b[0m\u001b[0;34m,\u001b[0m \u001b[0mvalue\u001b[0m\u001b[0;34m=\u001b[0m\u001b[0;32mNone\u001b[0m\u001b[0;34m)\u001b[0m\u001b[0;34m:\u001b[0m\u001b[0;34m\u001b[0m\u001b[0;34m\u001b[0m\u001b[0m\n",
      "\u001b[0;32m~/.local/lib/python3.7/site-packages/selenium/webdriver/remote/webdriver.py\u001b[0m in \u001b[0;36mexecute\u001b[0;34m(self, driver_command, params)\u001b[0m\n\u001b[1;32m    319\u001b[0m         \u001b[0mresponse\u001b[0m \u001b[0;34m=\u001b[0m \u001b[0mself\u001b[0m\u001b[0;34m.\u001b[0m\u001b[0mcommand_executor\u001b[0m\u001b[0;34m.\u001b[0m\u001b[0mexecute\u001b[0m\u001b[0;34m(\u001b[0m\u001b[0mdriver_command\u001b[0m\u001b[0;34m,\u001b[0m \u001b[0mparams\u001b[0m\u001b[0;34m)\u001b[0m\u001b[0;34m\u001b[0m\u001b[0;34m\u001b[0m\u001b[0m\n\u001b[1;32m    320\u001b[0m         \u001b[0;32mif\u001b[0m \u001b[0mresponse\u001b[0m\u001b[0;34m:\u001b[0m\u001b[0;34m\u001b[0m\u001b[0;34m\u001b[0m\u001b[0m\n\u001b[0;32m--> 321\u001b[0;31m             \u001b[0mself\u001b[0m\u001b[0;34m.\u001b[0m\u001b[0merror_handler\u001b[0m\u001b[0;34m.\u001b[0m\u001b[0mcheck_response\u001b[0m\u001b[0;34m(\u001b[0m\u001b[0mresponse\u001b[0m\u001b[0;34m)\u001b[0m\u001b[0;34m\u001b[0m\u001b[0;34m\u001b[0m\u001b[0m\n\u001b[0m\u001b[1;32m    322\u001b[0m             response['value'] = self._unwrap_value(\n\u001b[1;32m    323\u001b[0m                 response.get('value', None))\n",
      "\u001b[0;32m~/.local/lib/python3.7/site-packages/selenium/webdriver/remote/errorhandler.py\u001b[0m in \u001b[0;36mcheck_response\u001b[0;34m(self, response)\u001b[0m\n\u001b[1;32m    240\u001b[0m                 \u001b[0malert_text\u001b[0m \u001b[0;34m=\u001b[0m \u001b[0mvalue\u001b[0m\u001b[0;34m[\u001b[0m\u001b[0;34m'alert'\u001b[0m\u001b[0;34m]\u001b[0m\u001b[0;34m.\u001b[0m\u001b[0mget\u001b[0m\u001b[0;34m(\u001b[0m\u001b[0;34m'text'\u001b[0m\u001b[0;34m)\u001b[0m\u001b[0;34m\u001b[0m\u001b[0;34m\u001b[0m\u001b[0m\n\u001b[1;32m    241\u001b[0m             \u001b[0;32mraise\u001b[0m \u001b[0mexception_class\u001b[0m\u001b[0;34m(\u001b[0m\u001b[0mmessage\u001b[0m\u001b[0;34m,\u001b[0m \u001b[0mscreen\u001b[0m\u001b[0;34m,\u001b[0m \u001b[0mstacktrace\u001b[0m\u001b[0;34m,\u001b[0m \u001b[0malert_text\u001b[0m\u001b[0;34m)\u001b[0m\u001b[0;34m\u001b[0m\u001b[0;34m\u001b[0m\u001b[0m\n\u001b[0;32m--> 242\u001b[0;31m         \u001b[0;32mraise\u001b[0m \u001b[0mexception_class\u001b[0m\u001b[0;34m(\u001b[0m\u001b[0mmessage\u001b[0m\u001b[0;34m,\u001b[0m \u001b[0mscreen\u001b[0m\u001b[0;34m,\u001b[0m \u001b[0mstacktrace\u001b[0m\u001b[0;34m)\u001b[0m\u001b[0;34m\u001b[0m\u001b[0;34m\u001b[0m\u001b[0m\n\u001b[0m\u001b[1;32m    243\u001b[0m \u001b[0;34m\u001b[0m\u001b[0m\n\u001b[1;32m    244\u001b[0m     \u001b[0;32mdef\u001b[0m \u001b[0m_value_or_default\u001b[0m\u001b[0;34m(\u001b[0m\u001b[0mself\u001b[0m\u001b[0;34m,\u001b[0m \u001b[0mobj\u001b[0m\u001b[0;34m,\u001b[0m \u001b[0mkey\u001b[0m\u001b[0;34m,\u001b[0m \u001b[0mdefault\u001b[0m\u001b[0;34m)\u001b[0m\u001b[0;34m:\u001b[0m\u001b[0;34m\u001b[0m\u001b[0;34m\u001b[0m\u001b[0m\n",
      "\u001b[0;31mStaleElementReferenceException\u001b[0m: Message: stale element reference: element is not attached to the page document\n  (Session info: chrome=90.0.4430.212)\n"
     ]
    }
   ],
   "source": [
    "# volvemos a la página anterior\n",
    "for elemen in secciones_menu:\n",
    "    if elemen.text == 'Próximos estrenos':\n",
    "        elemen.click()     "
   ]
  },
  {
   "cell_type": "markdown",
   "metadata": {
    "ExecuteTime": {
     "end_time": "2021-02-25T10:09:19.308961Z",
     "start_time": "2021-02-25T10:09:19.299983Z"
    }
   },
   "source": [
    "### Vamos a buscar todas las películas que se estrenan el próximo viernes"
   ]
  },
  {
   "cell_type": "markdown",
   "metadata": {},
   "source": [
    "1. Cogemos los containers que hay en la zona central"
   ]
  },
  {
   "cell_type": "code",
   "execution_count": null,
   "metadata": {
    "ExecuteTime": {
     "end_time": "2021-02-25T10:40:53.961145Z",
     "start_time": "2021-02-25T10:40:53.793388Z"
    }
   },
   "outputs": [],
   "source": []
  },
  {
   "cell_type": "code",
   "execution_count": null,
   "metadata": {},
   "outputs": [],
   "source": []
  },
  {
   "cell_type": "markdown",
   "metadata": {},
   "source": [
    "2. Vemos con cuál nos tenemos que quedar"
   ]
  },
  {
   "cell_type": "code",
   "execution_count": null,
   "metadata": {
    "ExecuteTime": {
     "end_time": "2021-02-25T10:40:55.130681Z",
     "start_time": "2021-02-25T10:40:54.930234Z"
    }
   },
   "outputs": [],
   "source": []
  },
  {
   "cell_type": "markdown",
   "metadata": {},
   "source": [
    "Accedemos al container central, en el que aparecen los estrenos por semana que queremos ver, exactamente igual que hemos hecho antes"
   ]
  },
  {
   "cell_type": "code",
   "execution_count": 23,
   "metadata": {
    "ExecuteTime": {
     "end_time": "2021-02-25T10:43:53.772471Z",
     "start_time": "2021-02-25T10:43:53.757510Z"
    },
    "tags": []
   },
   "outputs": [
    {
     "output_type": "stream",
     "name": "stdout",
     "text": [
      "21 de mayo de 2021\n",
      "2021-05-21\n",
      "28 de mayo de 2021\n",
      "2021-05-28\n",
      "3 de junio de 2021\n",
      "2021-06-03\n",
      "4 de junio de 2021\n",
      "2021-06-04\n",
      "11 de junio de 2021\n",
      "2021-06-11\n",
      "16 de junio de 2021\n",
      "2021-06-16\n",
      "18 de junio de 2021\n",
      "2021-06-18\n",
      "25 de junio de 2021\n",
      "2021-06-25\n"
     ]
    }
   ],
   "source": [
    "cajon_central = driver.find_elements_by_id(\"main-wrapper-rdcat\")\n",
    "for semana in cajon_central:\n",
    "    print(semana.find_element_by_tag_name('div').text)\n",
    "    print(semana.find_element_by_tag_name('div').get_attribute('id'))"
   ]
  },
  {
   "cell_type": "code",
   "execution_count": 25,
   "metadata": {},
   "outputs": [],
   "source": [
    "for semana in cajon_central:\n",
    "    fecha = semana.find_element_by_tag_name('div').get_attribute('id')\n",
    "    if fecha == '2021-05-21':\n",
    "        break"
   ]
  },
  {
   "cell_type": "code",
   "execution_count": 29,
   "metadata": {
    "ExecuteTime": {
     "end_time": "2021-02-25T11:04:59.734561Z",
     "start_time": "2021-02-25T11:04:59.617626Z"
    }
   },
   "outputs": [
    {
     "output_type": "execute_result",
     "data": {
      "text/plain": [
       "['https://www.filmaffinity.com/es/film637149.html',\n",
       " 'https://www.filmaffinity.com/es/film478891.html',\n",
       " 'https://www.filmaffinity.com/es/film713795.html',\n",
       " 'https://www.filmaffinity.com/es/film112106.html',\n",
       " 'https://www.filmaffinity.com/es/film329087.html',\n",
       " 'https://www.filmaffinity.com/es/film950177.html',\n",
       " 'https://www.filmaffinity.com/es/film388427.html',\n",
       " 'https://www.filmaffinity.com/es/film132801.html',\n",
       " 'https://www.filmaffinity.com/es/film759533.html',\n",
       " 'https://www.filmaffinity.com/es/film407520.html',\n",
       " 'https://www.filmaffinity.com/es/film452148.html',\n",
       " 'https://www.filmaffinity.com/es/film158082.html',\n",
       " 'https://www.filmaffinity.com/es/film108823.html']"
      ]
     },
     "metadata": {},
     "execution_count": 29
    }
   ],
   "source": [
    "caratula = semana.find_elements_by_class_name('mc-poster')\n",
    "lista_pelis = []\n",
    "for pelis in caratula:\n",
    "    lista_pelis.append(pelis.find_element_by_tag_name('a').get_attribute('href'))\n",
    "lista_pelis"
   ]
  },
  {
   "cell_type": "code",
   "execution_count": 37,
   "metadata": {},
   "outputs": [
    {
     "output_type": "stream",
     "name": "stdout",
     "text": [
      "Spiral: From the Book of Saw 4.9 39\n"
     ]
    }
   ],
   "source": [
    "driver.get(lista_pelis[0])\n",
    "titulo = driver.find_element_by_xpath('/html/body/div[4]/table/tbody/tr/td[2]/div[1]/div[4]/div/div[3]/dl[1]/dd[1]').text\n",
    "nota = driver.find_element_by_xpath('/html/body/div[4]/table/tbody/tr/td[2]/div[1]/div[4]/div/div[2]/div[2]/div[1]/div[2]/div[1]').get_attribute('content')\n",
    "votos = driver.find_element_by_xpath('/html/body/div[4]/table/tbody/tr/td[2]/div[1]/div[4]/div/div[2]/div[2]/div[1]/div[2]/div[2]/span').get_attribute('content')\n",
    "print(titulo, nota, votos)"
   ]
  },
  {
   "cell_type": "code",
   "execution_count": 40,
   "metadata": {},
   "outputs": [],
   "source": [
    "fichas  = driver.find_element_by_xpath('/html/body/div[4]/table/tbody/tr/td[2]/div[1]/div[4]/div/div[3]/dl[1]')"
   ]
  },
  {
   "cell_type": "code",
   "execution_count": 41,
   "metadata": {},
   "outputs": [],
   "source": [
    "ficha_clave = []\n",
    "ficha_valores = []\n",
    "\n",
    "for name in fichas.find_elements_by_tag_name('dt'):\n",
    "    ficha_clave.append(name.text)\n",
    "for name in fichas.find_elements_by_tag_name('dd'):\n",
    "    ficha_valores.append(name.text)"
   ]
  },
  {
   "cell_type": "code",
   "execution_count": 46,
   "metadata": {},
   "outputs": [],
   "source": [
    "columns = ['Titulo', 'Nota', 'Votos']\n",
    "columns.extend(ficha_clave)\n",
    "columns\n",
    "values = [titulo, nota, votos]\n",
    "values.extend(ficha_valores)"
   ]
  },
  {
   "cell_type": "code",
   "execution_count": 47,
   "metadata": {},
   "outputs": [
    {
     "output_type": "execute_result",
     "data": {
      "text/plain": [
       "['Spiral: From the Book of Saw',\n",
       " '2021',\n",
       " '93 min.',\n",
       " ' Estados Unidos',\n",
       " 'Darren Lynn Bousman',\n",
       " 'Josh Stolberg, Pete Goldfinger. Historia: Pete Goldfinger, Chris Rock, Josh Stolberg',\n",
       " 'Charlie Clouser',\n",
       " 'Jordan Oram',\n",
       " 'Chris Rock, Samuel L. Jackson, Max Minghella, Marisol Nichols, Zoie Palmer, Nazneen Contractor, Dan Petronijevic, Morgan David Jones, Edie Inksetter, K.C. Collins, Josh Stolberg, Ali Johnson, Brian Cook, ver 6 más',\n",
       " 'Serendipity Productions, Twisted Pictures, Burg/Koules Productions, Dahlstar. Distribuidora: Lionsgate',\n",
       " 'Terror. Thriller | Policíaco. Crimen. Asesinos en serie',\n",
       " 'Saw',\n",
       " 'Trabajando a la sombra de un policía veterano (Samuel L. Jackson), el intrépido detective Ezekiel “Zeke” Banks (Chris Rock) y su compañero novato (Max Minghella) toman las riendas de una investigación relacionada con una serie de asesinatos que albergan ciertos paralelismos con el sangriento pasado de la ciudad. A medida que profundiza en el misterio, Zeke descubre que él mismo se ha convertido en el epicentro del macabro juego del asesino. (FILMAFFINITY)\\n\\nReinicio de la franquicia \"Saw\".\\n\\nEstreno mundial: mayo 2021.']"
      ]
     },
     "metadata": {},
     "execution_count": 47
    }
   ],
   "source": [
    "ficha_valores"
   ]
  },
  {
   "cell_type": "code",
   "execution_count": 49,
   "metadata": {},
   "outputs": [
    {
     "output_type": "execute_result",
     "data": {
      "text/plain": [
       "                         Titulo Nota Votos               Título original  \\\n",
       "0  Spiral: From the Book of Saw  4.9    39  Spiral: From the Book of Saw   \n",
       "\n",
       "    Año Duración             País            Dirección  \\\n",
       "0  2021  93 min.   Estados Unidos  Darren Lynn Bousman   \n",
       "\n",
       "                                               Guion           Música  \\\n",
       "0  Josh Stolberg, Pete Goldfinger. Historia: Pete...  Charlie Clouser   \n",
       "\n",
       "    Fotografía                                            Reparto  \\\n",
       "0  Jordan Oram  Chris Rock, Samuel L. Jackson, Max Minghella, ...   \n",
       "\n",
       "                                          Productora  \\\n",
       "0  Serendipity Productions, Twisted Pictures, Bur...   \n",
       "\n",
       "                                              Género Grupos  \\\n",
       "0  Terror. Thriller | Policíaco. Crimen. Asesinos...    Saw   \n",
       "\n",
       "                                            Sinopsis  \n",
       "0  Trabajando a la sombra de un policía veterano ...  "
      ],
      "text/html": "<div>\n<style scoped>\n    .dataframe tbody tr th:only-of-type {\n        vertical-align: middle;\n    }\n\n    .dataframe tbody tr th {\n        vertical-align: top;\n    }\n\n    .dataframe thead th {\n        text-align: right;\n    }\n</style>\n<table border=\"1\" class=\"dataframe\">\n  <thead>\n    <tr style=\"text-align: right;\">\n      <th></th>\n      <th>Titulo</th>\n      <th>Nota</th>\n      <th>Votos</th>\n      <th>Título original</th>\n      <th>Año</th>\n      <th>Duración</th>\n      <th>País</th>\n      <th>Dirección</th>\n      <th>Guion</th>\n      <th>Música</th>\n      <th>Fotografía</th>\n      <th>Reparto</th>\n      <th>Productora</th>\n      <th>Género</th>\n      <th>Grupos</th>\n      <th>Sinopsis</th>\n    </tr>\n  </thead>\n  <tbody>\n    <tr>\n      <th>0</th>\n      <td>Spiral: From the Book of Saw</td>\n      <td>4.9</td>\n      <td>39</td>\n      <td>Spiral: From the Book of Saw</td>\n      <td>2021</td>\n      <td>93 min.</td>\n      <td>Estados Unidos</td>\n      <td>Darren Lynn Bousman</td>\n      <td>Josh Stolberg, Pete Goldfinger. Historia: Pete...</td>\n      <td>Charlie Clouser</td>\n      <td>Jordan Oram</td>\n      <td>Chris Rock, Samuel L. Jackson, Max Minghella, ...</td>\n      <td>Serendipity Productions, Twisted Pictures, Bur...</td>\n      <td>Terror. Thriller | Policíaco. Crimen. Asesinos...</td>\n      <td>Saw</td>\n      <td>Trabajando a la sombra de un policía veterano ...</td>\n    </tr>\n  </tbody>\n</table>\n</div>"
     },
     "metadata": {},
     "execution_count": 49
    }
   ],
   "source": [
    "pd.DataFrame([values], columns=columns)"
   ]
  },
  {
   "cell_type": "code",
   "execution_count": 31,
   "metadata": {},
   "outputs": [],
   "source": [
    "driver.back()"
   ]
  },
  {
   "cell_type": "markdown",
   "metadata": {
    "ExecuteTime": {
     "end_time": "2021-02-25T11:04:08.219853Z",
     "start_time": "2021-02-25T11:04:08.215863Z"
    }
   },
   "source": [
    "Buscamos cómo acceder a las películas"
   ]
  },
  {
   "cell_type": "code",
   "execution_count": 74,
   "metadata": {
    "ExecuteTime": {
     "end_time": "2021-02-25T11:10:28.294864Z",
     "start_time": "2021-02-25T11:10:28.174126Z"
    }
   },
   "outputs": [],
   "source": [
    "def sacar_info(driver):\n",
    "    driver.get(lista_pelis[0])\n",
    "    titulo = driver.find_element_by_xpath('/html/body/div[4]/table/tbody/tr/td[2]/div[1]/div[4]/div/div[3]/dl[1]/dd[1]').text\n",
    "    nota = driver.find_element_by_xpath('/html/body/div[4]/table/tbody/tr/td[2]/div[1]/div[4]/div/div[2]/div[2]/div[1]/div[2]/div[1]').get_attribute('content')\n",
    "    votos = driver.find_element_by_xpath('/html/body/div[4]/table/tbody/tr/td[2]/div[1]/div[4]/div/div[2]/div[2]/div[1]/div[2]/div[2]/span').get_attribute('content')\n",
    "    fichas  = driver.find_element_by_xpath('/html/body/div[4]/table/tbody/tr/td[2]/div[1]/div[4]/div/div[3]/dl[1]')\n",
    "\n",
    "    return titulo, nota, votos, fichas\n",
    "\n",
    "def sacar_ficha(fichas):\n",
    "    ficha_clave = []\n",
    "    ficha_valores = []\n",
    "\n",
    "    for name in fichas.find_elements_by_tag_name('dt'):\n",
    "        ficha_clave.append(name.text)\n",
    "    for name in fichas.find_elements_by_tag_name('dd'):\n",
    "        ficha_valores.append(name.text)\n",
    "    return ficha_clave, ficha_valores\n",
    "\n",
    "def montar_serie(ficha_clave, ficha_valores, titulo, nota, votos):\n",
    "    columns = ['Titulo', 'Nota', 'Votos']\n",
    "    columns.extend(ficha_clave)\n",
    "    values = [titulo, nota, votos]\n",
    "    values.extend(ficha_valores)\n",
    "\n",
    "    return pd.DataFrame([values], columns=columns)\n",
    "\n",
    "def montar_df(driver):\n",
    "    titulo, nota, votos, ficha = sacar_info(driver)\n",
    "    ficha_claves, ficha_valores = sacar_ficha(ficha)\n",
    "    montar_serie = montar_serie(ficha_clave, ficha_valores, titulo, nota, votos)\n",
    "\n",
    "    return"
   ]
  },
  {
   "cell_type": "code",
   "execution_count": 52,
   "metadata": {},
   "outputs": [
    {
     "output_type": "error",
     "ename": "NameError",
     "evalue": "name 'ficha' is not defined",
     "traceback": [
      "\u001b[0;31m---------------------------------------------------------------------------\u001b[0m",
      "\u001b[0;31mNameError\u001b[0m                                 Traceback (most recent call last)",
      "\u001b[0;32m<ipython-input-52-b306edd75c94>\u001b[0m in \u001b[0;36m<module>\u001b[0;34m\u001b[0m\n\u001b[0;32m----> 1\u001b[0;31m \u001b[0mmontar_df\u001b[0m\u001b[0;34m(\u001b[0m\u001b[0mdriver\u001b[0m\u001b[0;34m)\u001b[0m\u001b[0;34m\u001b[0m\u001b[0;34m\u001b[0m\u001b[0m\n\u001b[0m",
      "\u001b[0;32m<ipython-input-51-d2ea82a0f8b2>\u001b[0m in \u001b[0;36mmontar_df\u001b[0;34m(driver)\u001b[0m\n\u001b[1;32m     27\u001b[0m \u001b[0;34m\u001b[0m\u001b[0m\n\u001b[1;32m     28\u001b[0m \u001b[0;32mdef\u001b[0m \u001b[0mmontar_df\u001b[0m\u001b[0;34m(\u001b[0m\u001b[0mdriver\u001b[0m\u001b[0;34m)\u001b[0m\u001b[0;34m:\u001b[0m\u001b[0;34m\u001b[0m\u001b[0;34m\u001b[0m\u001b[0m\n\u001b[0;32m---> 29\u001b[0;31m     \u001b[0mtitulo\u001b[0m\u001b[0;34m,\u001b[0m \u001b[0mnota\u001b[0m\u001b[0;34m,\u001b[0m \u001b[0mvotos\u001b[0m\u001b[0;34m,\u001b[0m \u001b[0mficha\u001b[0m \u001b[0;34m=\u001b[0m \u001b[0msacar_info\u001b[0m\u001b[0;34m(\u001b[0m\u001b[0mdriver\u001b[0m\u001b[0;34m)\u001b[0m\u001b[0;34m\u001b[0m\u001b[0;34m\u001b[0m\u001b[0m\n\u001b[0m\u001b[1;32m     30\u001b[0m     \u001b[0mficha_claves\u001b[0m\u001b[0;34m,\u001b[0m \u001b[0mficha_valores\u001b[0m \u001b[0;34m=\u001b[0m \u001b[0msacar_ficha\u001b[0m\u001b[0;34m(\u001b[0m\u001b[0mficha\u001b[0m\u001b[0;34m)\u001b[0m\u001b[0;34m\u001b[0m\u001b[0;34m\u001b[0m\u001b[0m\n\u001b[1;32m     31\u001b[0m     \u001b[0mmontar_serie\u001b[0m \u001b[0;34m=\u001b[0m \u001b[0mmontar_serie\u001b[0m\u001b[0;34m(\u001b[0m\u001b[0mficha_clave\u001b[0m\u001b[0;34m,\u001b[0m \u001b[0mficha_valores\u001b[0m\u001b[0;34m,\u001b[0m \u001b[0mtitulo\u001b[0m\u001b[0;34m,\u001b[0m \u001b[0mnota\u001b[0m\u001b[0;34m,\u001b[0m \u001b[0mvotos\u001b[0m\u001b[0;34m)\u001b[0m\u001b[0;34m\u001b[0m\u001b[0;34m\u001b[0m\u001b[0m\n",
      "\u001b[0;32m<ipython-input-51-d2ea82a0f8b2>\u001b[0m in \u001b[0;36msacar_info\u001b[0;34m(driver)\u001b[0m\n\u001b[1;32m      6\u001b[0m     \u001b[0mfichas\u001b[0m  \u001b[0;34m=\u001b[0m \u001b[0mdriver\u001b[0m\u001b[0;34m.\u001b[0m\u001b[0mfind_element_by_xpath\u001b[0m\u001b[0;34m(\u001b[0m\u001b[0;34m'/html/body/div[4]/table/tbody/tr/td[2]/div[1]/div[4]/div/div[3]/dl[1]'\u001b[0m\u001b[0;34m)\u001b[0m\u001b[0;34m\u001b[0m\u001b[0;34m\u001b[0m\u001b[0m\n\u001b[1;32m      7\u001b[0m \u001b[0;34m\u001b[0m\u001b[0m\n\u001b[0;32m----> 8\u001b[0;31m     \u001b[0;32mreturn\u001b[0m \u001b[0mtitulo\u001b[0m\u001b[0;34m,\u001b[0m \u001b[0mnota\u001b[0m\u001b[0;34m,\u001b[0m \u001b[0mvotos\u001b[0m\u001b[0;34m,\u001b[0m \u001b[0mficha\u001b[0m\u001b[0;34m\u001b[0m\u001b[0;34m\u001b[0m\u001b[0m\n\u001b[0m\u001b[1;32m      9\u001b[0m \u001b[0;34m\u001b[0m\u001b[0m\n\u001b[1;32m     10\u001b[0m \u001b[0;32mdef\u001b[0m \u001b[0msacar_ficha\u001b[0m\u001b[0;34m(\u001b[0m\u001b[0mfichas\u001b[0m\u001b[0;34m)\u001b[0m\u001b[0;34m:\u001b[0m\u001b[0;34m\u001b[0m\u001b[0;34m\u001b[0m\u001b[0m\n",
      "\u001b[0;31mNameError\u001b[0m: name 'ficha' is not defined"
     ]
    }
   ],
   "source": [
    "montar_df(driver)"
   ]
  },
  {
   "cell_type": "markdown",
   "metadata": {},
   "source": [
    "Una vez tenemos todas las urls vamos a ver qué hacemos con cada una de ellas"
   ]
  },
  {
   "cell_type": "code",
   "execution_count": null,
   "metadata": {
    "ExecuteTime": {
     "end_time": "2021-02-25T11:15:40.003059Z",
     "start_time": "2021-02-25T11:15:39.091047Z"
    }
   },
   "outputs": [],
   "source": [
    "# Accedemos a la página de la primera pelicula\n"
   ]
  },
  {
   "cell_type": "markdown",
   "metadata": {
    "ExecuteTime": {
     "end_time": "2021-02-25T11:21:51.020248Z",
     "start_time": "2021-02-25T11:21:50.381138Z"
    }
   },
   "source": [
    "Vamos a ver el proceso que deberíamos hacer con cada una de las películas:"
   ]
  },
  {
   "cell_type": "markdown",
   "metadata": {},
   "source": [
    "1. Sacamos toda la información que nos interesa"
   ]
  },
  {
   "cell_type": "code",
   "execution_count": 54,
   "metadata": {
    "ExecuteTime": {
     "end_time": "2021-02-25T11:36:58.487622Z",
     "start_time": "2021-02-25T11:36:58.420292Z"
    }
   },
   "outputs": [],
   "source": [
    "# titulo, nota, numero de votos y ficha técnica\n",
    "driver.execute_script('window.open(\"\")')"
   ]
  },
  {
   "cell_type": "code",
   "execution_count": 58,
   "metadata": {},
   "outputs": [],
   "source": [
    "driver.switch_to.window(driver.window_handles[-1])"
   ]
  },
  {
   "cell_type": "code",
   "execution_count": 57,
   "metadata": {},
   "outputs": [],
   "source": [
    "driver.close()"
   ]
  },
  {
   "cell_type": "markdown",
   "metadata": {},
   "source": [
    "2. Creamos una lista a partir de la ficha técnica"
   ]
  },
  {
   "cell_type": "code",
   "execution_count": null,
   "metadata": {
    "ExecuteTime": {
     "end_time": "2021-02-25T11:34:54.218938Z",
     "start_time": "2021-02-25T11:34:53.923558Z"
    }
   },
   "outputs": [],
   "source": [
    "# Los nombres estan con tag  = 'dt' y los valores con 'dd'\n"
   ]
  },
  {
   "cell_type": "code",
   "execution_count": null,
   "metadata": {},
   "outputs": [],
   "source": []
  },
  {
   "cell_type": "markdown",
   "metadata": {},
   "source": [
    "3. Creamos un dataframe con la info"
   ]
  },
  {
   "cell_type": "code",
   "execution_count": null,
   "metadata": {
    "ExecuteTime": {
     "end_time": "2021-02-25T11:38:19.916044Z",
     "start_time": "2021-02-25T11:38:19.899094Z"
    }
   },
   "outputs": [],
   "source": []
  },
  {
   "cell_type": "code",
   "execution_count": null,
   "metadata": {},
   "outputs": [],
   "source": []
  },
  {
   "cell_type": "code",
   "execution_count": null,
   "metadata": {},
   "outputs": [],
   "source": []
  },
  {
   "cell_type": "markdown",
   "metadata": {},
   "source": [
    "Ahora vamos a crear una función que nos haga todo esto para cada una de las películas:"
   ]
  },
  {
   "cell_type": "code",
   "execution_count": null,
   "metadata": {
    "ExecuteTime": {
     "end_time": "2021-02-25T11:58:39.349919Z",
     "start_time": "2021-02-25T11:58:39.052802Z"
    }
   },
   "outputs": [],
   "source": [
    "\n"
   ]
  },
  {
   "cell_type": "markdown",
   "metadata": {},
   "source": [
    "## Modo Dios: moviendonos entre ventanas"
   ]
  },
  {
   "cell_type": "markdown",
   "metadata": {},
   "source": [
    "Vamos a ver cómo nos podemos mover entre ventanas del navegador\n",
    "\n",
    "Abrir nueva ventana:"
   ]
  },
  {
   "cell_type": "code",
   "execution_count": null,
   "metadata": {},
   "outputs": [],
   "source": []
  },
  {
   "cell_type": "markdown",
   "metadata": {},
   "source": [
    "Movernos a otra ventana"
   ]
  },
  {
   "cell_type": "code",
   "execution_count": null,
   "metadata": {},
   "outputs": [],
   "source": []
  },
  {
   "cell_type": "markdown",
   "metadata": {},
   "source": [
    "Cerrar ventana"
   ]
  },
  {
   "cell_type": "code",
   "execution_count": null,
   "metadata": {
    "ExecuteTime": {
     "end_time": "2021-02-25T12:04:17.177986Z",
     "start_time": "2021-02-25T12:04:17.160442Z"
    }
   },
   "outputs": [],
   "source": []
  },
  {
   "cell_type": "markdown",
   "metadata": {},
   "source": [
    "Una vez cerramos la ventana tenemos que indicarle a qué ventana tiene que ir"
   ]
  },
  {
   "cell_type": "code",
   "execution_count": null,
   "metadata": {
    "ExecuteTime": {
     "end_time": "2021-02-25T12:05:01.711952Z",
     "start_time": "2021-02-25T12:05:01.583709Z"
    }
   },
   "outputs": [],
   "source": []
  },
  {
   "cell_type": "markdown",
   "metadata": {},
   "source": [
    "Sabiendo cómo podemos movernos por entre las ventanas y sabiendo cómo extraer de cada página toda la información que necesitamos vamos a crear nuestro dataframe:"
   ]
  },
  {
   "cell_type": "code",
   "execution_count": 60,
   "metadata": {},
   "outputs": [],
   "source": [
    "# para abrir todos los links en lista_pelis\n",
    "for pelis in lista_pelis:\n",
    "    driver.execute_script(f\"window.open('{pelis}')\")\n",
    "    driver.switch_to.window(driver.window_handles[-1])\n",
    "    driver.get(pelis)\n",
    "    pass"
   ]
  },
  {
   "cell_type": "code",
   "execution_count": 78,
   "metadata": {
    "ExecuteTime": {
     "end_time": "2021-02-25T12:00:27.038323Z",
     "start_time": "2021-02-25T11:59:37.219902Z"
    }
   },
   "outputs": [
    {
     "output_type": "error",
     "ename": "UnboundLocalError",
     "evalue": "local variable 'montar_serie' referenced before assignment",
     "traceback": [
      "\u001b[0;31m---------------------------------------------------------------------------\u001b[0m",
      "\u001b[0;31mUnboundLocalError\u001b[0m                         Traceback (most recent call last)",
      "\u001b[0;32m<ipython-input-78-0f4164568048>\u001b[0m in \u001b[0;36m<module>\u001b[0;34m\u001b[0m\n\u001b[1;32m      5\u001b[0m     \u001b[0mdriver\u001b[0m\u001b[0;34m.\u001b[0m\u001b[0mswitch_to\u001b[0m\u001b[0;34m.\u001b[0m\u001b[0mwindow\u001b[0m\u001b[0;34m(\u001b[0m\u001b[0mdriver\u001b[0m\u001b[0;34m.\u001b[0m\u001b[0mwindow_handles\u001b[0m\u001b[0;34m[\u001b[0m\u001b[0;34m-\u001b[0m\u001b[0;36m1\u001b[0m\u001b[0;34m]\u001b[0m\u001b[0;34m)\u001b[0m\u001b[0;34m\u001b[0m\u001b[0;34m\u001b[0m\u001b[0m\n\u001b[1;32m      6\u001b[0m     \u001b[0mdriver\u001b[0m\u001b[0;34m.\u001b[0m\u001b[0mget\u001b[0m\u001b[0;34m(\u001b[0m\u001b[0mpelis\u001b[0m\u001b[0;34m)\u001b[0m\u001b[0;34m\u001b[0m\u001b[0;34m\u001b[0m\u001b[0m\n\u001b[0;32m----> 7\u001b[0;31m     \u001b[0mnueva_peli\u001b[0m \u001b[0;34m=\u001b[0m \u001b[0mmontar_df\u001b[0m\u001b[0;34m(\u001b[0m\u001b[0mdriver\u001b[0m\u001b[0;34m)\u001b[0m\u001b[0;34m\u001b[0m\u001b[0;34m\u001b[0m\u001b[0m\n\u001b[0m\u001b[1;32m      8\u001b[0m     \u001b[0mdf_peliculas\u001b[0m \u001b[0;34m=\u001b[0m \u001b[0mdf_peliculas\u001b[0m\u001b[0;34m.\u001b[0m\u001b[0mappend\u001b[0m\u001b[0;34m(\u001b[0m\u001b[0mnueva_peli\u001b[0m\u001b[0;34m)\u001b[0m\u001b[0;34m\u001b[0m\u001b[0;34m\u001b[0m\u001b[0m\n\u001b[1;32m      9\u001b[0m     \u001b[0;32mpass\u001b[0m\u001b[0;34m\u001b[0m\u001b[0;34m\u001b[0m\u001b[0m\n",
      "\u001b[0;32m<ipython-input-74-080cd17fd86b>\u001b[0m in \u001b[0;36mmontar_df\u001b[0;34m(driver)\u001b[0m\n\u001b[1;32m     29\u001b[0m     \u001b[0mtitulo\u001b[0m\u001b[0;34m,\u001b[0m \u001b[0mnota\u001b[0m\u001b[0;34m,\u001b[0m \u001b[0mvotos\u001b[0m\u001b[0;34m,\u001b[0m \u001b[0mficha\u001b[0m \u001b[0;34m=\u001b[0m \u001b[0msacar_info\u001b[0m\u001b[0;34m(\u001b[0m\u001b[0mdriver\u001b[0m\u001b[0;34m)\u001b[0m\u001b[0;34m\u001b[0m\u001b[0;34m\u001b[0m\u001b[0m\n\u001b[1;32m     30\u001b[0m     \u001b[0mficha_claves\u001b[0m\u001b[0;34m,\u001b[0m \u001b[0mficha_valores\u001b[0m \u001b[0;34m=\u001b[0m \u001b[0msacar_ficha\u001b[0m\u001b[0;34m(\u001b[0m\u001b[0mficha\u001b[0m\u001b[0;34m)\u001b[0m\u001b[0;34m\u001b[0m\u001b[0;34m\u001b[0m\u001b[0m\n\u001b[0;32m---> 31\u001b[0;31m     \u001b[0mmontar_serie\u001b[0m \u001b[0;34m=\u001b[0m \u001b[0mmontar_serie\u001b[0m\u001b[0;34m(\u001b[0m\u001b[0mficha_clave\u001b[0m\u001b[0;34m,\u001b[0m \u001b[0mficha_valores\u001b[0m\u001b[0;34m,\u001b[0m \u001b[0mtitulo\u001b[0m\u001b[0;34m,\u001b[0m \u001b[0mnota\u001b[0m\u001b[0;34m,\u001b[0m \u001b[0mvotos\u001b[0m\u001b[0;34m)\u001b[0m\u001b[0;34m\u001b[0m\u001b[0;34m\u001b[0m\u001b[0m\n\u001b[0m\u001b[1;32m     32\u001b[0m \u001b[0;34m\u001b[0m\u001b[0m\n\u001b[1;32m     33\u001b[0m     \u001b[0;32mreturn\u001b[0m\u001b[0;34m\u001b[0m\u001b[0;34m\u001b[0m\u001b[0m\n",
      "\u001b[0;31mUnboundLocalError\u001b[0m: local variable 'montar_serie' referenced before assignment"
     ]
    }
   ],
   "source": [
    "# Creamos un dataframe con todas las pelis que se estrenan la próxima semana:\n",
    "\n"
   ]
  },
  {
   "cell_type": "code",
   "execution_count": null,
   "metadata": {
    "ExecuteTime": {
     "end_time": "2021-02-25T12:00:36.221987Z",
     "start_time": "2021-02-25T12:00:36.207006Z"
    }
   },
   "outputs": [],
   "source": []
  },
  {
   "cell_type": "code",
   "execution_count": 87,
   "metadata": {},
   "outputs": [],
   "source": [
    "def sacar_info(driver):\n",
    "    titulo = driver.find_element_by_xpath('/html/body/div[4]/table/tbody/tr/td[2]/div[1]/div[4]/h1/span').text\n",
    "    try:\n",
    "        nota = driver.find_element_by_xpath('/html/body/div[4]/table/tbody/tr/td[2]/div[1]/div[4]/div/div[2]/div[2]/div[1]/div[2]/div[1]').text\n",
    "        votos = driver.find_element_by_xpath('/html/body/div[4]/table/tbody/tr/td[2]/div[1]/div[4]/div/div[2]/div[2]/div[1]/div[2]/div[2]/span').text\n",
    "    except:\n",
    "        nota = None\n",
    "        votos = None\n",
    "    ficha = driver.find_element_by_xpath('/html/body/div[4]/table/tbody/tr/td[2]/div[1]/div[4]/div')\n",
    "    return titulo, nota, votos, ficha\n",
    "\n",
    "def sacar_ficha(ficha):\n",
    "    ficha_claves = []\n",
    "    ficha_valores = []\n",
    "\n",
    "    for i, name in enumerate(ficha.find_elements_by_tag_name('dt')):\n",
    "        ficha_claves.append(name.text)\n",
    "        ficha_valores.append(ficha.find_elements_by_tag_name('dd')[i].text)\n",
    "    \n",
    "    return ficha_claves, ficha_valores\n",
    "\n",
    "\n",
    "def montar_df(ficha_claves, ficha_valores, titulo, nota, votos):\n",
    "    columns = ['Titulo', 'Nota', 'Votos']\n",
    "    values = [titulo, nota, votos]\n",
    "    \n",
    "    columns.extend(ficha_claves)\n",
    "    values.extend(ficha_valores)\n",
    "    \n",
    "    return pd.DataFrame([values], columns = columns)\n",
    "\n",
    "def nueva_peli(driver):\n",
    "    titulo, nota, votos, ficha = sacar_info(driver)\n",
    "    ficha_claves, ficha_valores = sacar_ficha(ficha)\n",
    "    df_peli = montar_df(ficha_claves, ficha_valores, titulo, nota, votos) \n",
    "    \n",
    "    return df_peli\n",
    "\n",
    "df_peliculas = pd.DataFrame() \n",
    "for pelis in lista_pelis:\n",
    "    driver.execute_script(f\"window.open('{pelis}')\")\n",
    "    driver.switch_to.window(driver.window_handles[-1])\n",
    "    driver.get(pelis)\n",
    "    nuevas_peli = nueva_peli(driver)\n",
    "    df_peliculas = df_peliculas.append(nuevas_peli)\n",
    "    pass"
   ]
  },
  {
   "cell_type": "code",
   "execution_count": 88,
   "metadata": {},
   "outputs": [
    {
     "output_type": "execute_result",
     "data": {
      "text/plain": [
       "                              Titulo  Nota    Votos  \\\n",
       "0                        Spiral: Saw   4,9       40   \n",
       "0        Poliamor para principiantes   4,4       26   \n",
       "0            Érase una vez en Queens  None     None   \n",
       "0                          First Cow   6,9    1.396   \n",
       "0                          Mía y Moi   6,0       67   \n",
       "0                       Pequeño país   6,4       30   \n",
       "0                              Sweat   6,5       44   \n",
       "0        Félix y el tesoro de Morgäa  None     None   \n",
       "0                El viaje de Chihiro   8,1  109.289   \n",
       "0                       Cascarrabias  None     None   \n",
       "0                        Rizi (Days)   6,7      204   \n",
       "0        El código de los diferentes  None     None   \n",
       "0  Tierra Santa. El último peregrino  None     None   \n",
       "\n",
       "                                 Título original   Año  Duración  \\\n",
       "0                   Spiral: From the Book of Saw  2021   93 min.   \n",
       "0                    Poliamor para principiantes  2021   97 min.   \n",
       "0                                         Boogie  2021   89 min.   \n",
       "0                                      First Cow  2019  121 min.   \n",
       "0                                      Mía y Moi  2021       NaN   \n",
       "0                                 Petit pays aka  2020  111 min.   \n",
       "0                                          Sweat  2020  100 min.   \n",
       "0               Félix et le trésor de Morgäa aka  2021   90 min.   \n",
       "0              Sen to Chihiro no kamikakushi aka  2001  124 min.   \n",
       "0  Here Comes the Grump (Ahí viene Cascarrabias)  2018   97 min.   \n",
       "0                                    Rizi (Days)  2020  127 min.   \n",
       "0                             Code of the Freaks  2020   68 min.   \n",
       "0              Tierra Santa. El último peregrino  2021   86 min.   \n",
       "\n",
       "              País                     Dirección  \\\n",
       "0   Estados Unidos           Darren Lynn Bousman   \n",
       "0           España               Fernando Colomo   \n",
       "0   Estados Unidos                   Eddie Huang   \n",
       "0   Estados Unidos               Kelly Reichardt   \n",
       "0           España              Borja de la Vega   \n",
       "0          Francia                  Eric Barbier   \n",
       "0          Polonia               Magnus von Horn   \n",
       "0           Canadá                  Nicola Lemay   \n",
       "0            Japón                Hayao Miyazaki   \n",
       "0           México              Andrés Couturier   \n",
       "0           Taiwán               Tsai Ming-liang   \n",
       "0   Estados Unidos               Salome Chasnoff   \n",
       "0           España  Andrés Garrigó, Pablo Moreno   \n",
       "\n",
       "                                               Guion  \\\n",
       "0  Josh Stolberg, Pete Goldfinger. Historia: Pete...   \n",
       "0  Fernando Colomo, Casandra Macías Gago, Marina ...   \n",
       "0                                        Eddie Huang   \n",
       "0  Jonathan Raymond, Kelly Reichardt. Novela: Jon...   \n",
       "0                                   Borja de la Vega   \n",
       "0                    Eric Barbier. Novela: Gaël Faye   \n",
       "0                                    Magnus von Horn   \n",
       "0                                    Marc Robitaille   \n",
       "0                                     Hayao Miyazaki   \n",
       "0  Jim Hecht, Piers Clifton, Ricardo Hernández Du...   \n",
       "0                                    Tsai Ming-liang   \n",
       "0    Susan Nussbaum, Alyson Patsavas, Carrie Sandahl   \n",
       "0    Andrés Garrigó, Pedro Delgado, Benjamín Lorenzo   \n",
       "\n",
       "                                Música  ...  \\\n",
       "0                      Charlie Clouser  ...   \n",
       "0                     Fernando Furones  ...   \n",
       "0  Ali Shaheed Muhammad, Adrian Younge  ...   \n",
       "0                        William Tyler  ...   \n",
       "0                                  NaN  ...   \n",
       "0                       Renaud Barbier  ...   \n",
       "0                          Piotr Kurek  ...   \n",
       "0                                  NaN  ...   \n",
       "0                         Joe Hisaishi  ...   \n",
       "0                  James Seymour Brett  ...   \n",
       "0                                  NaN  ...   \n",
       "0                          Brad Newton  ...   \n",
       "0                    José Sánchez-Sanz  ...   \n",
       "\n",
       "                                              Género  \\\n",
       "0  Terror. Thriller | Policíaco. Crimen. Asesinos...   \n",
       "0               Comedia. Romance | Comedia romántica   \n",
       "0                    Drama | Baloncesto. Inmigración   \n",
       "0                Drama. Western | Siglo XIX. Amistad   \n",
       "0                                              Drama   \n",
       "0                                              Drama   \n",
       "0                       Drama | Internet/Informática   \n",
       "0                Animación. Aventuras | Adolescencia   \n",
       "0  Animación. Fantástico. Aventuras | Dragones. P...   \n",
       "0  Animación. Aventuras. Comedia. Fantástico. Inf...   \n",
       "0                 Drama | Homosexualidad. Enfermedad   \n",
       "0                          Documental | Discapacidad   \n",
       "0                       Drama. Documental | Religión   \n",
       "\n",
       "                                 Grupos  \\\n",
       "0                                   Saw   \n",
       "0                                   NaN   \n",
       "0                                   NaN   \n",
       "0                                   NaN   \n",
       "0                                   NaN   \n",
       "0                                   NaN   \n",
       "0                                   NaN   \n",
       "0                                   NaN   \n",
       "0  Studio Ghibli (y obras relacionadas)   \n",
       "0                                   NaN   \n",
       "0                                   NaN   \n",
       "0                                   NaN   \n",
       "0                                   NaN   \n",
       "\n",
       "                                            Sinopsis  \\\n",
       "0  Trabajando a la sombra de un policía veterano ...   \n",
       "0  Satur (Karra Elejalde) y Tina (Toni Acosta) so...   \n",
       "0  En la Nueva York contemporánea, un joven fenóm...   \n",
       "0  Narra la historia de un cocinero (John Magaro)...   \n",
       "0  Tras perder a su madre, Mía y Moi se refugian ...   \n",
       "0  Gabriel tiene 10 años y vive en un cómodo veci...   \n",
       "0  Describe tres días en la vida de la motivadora...   \n",
       "0  Félix es un niño de 12 años que está convencid...   \n",
       "0  Chihiro es una niña de diez años que viaja en ...   \n",
       "0  Pasar las vacaciones de verano en el increíble...   \n",
       "0  Kang vive solo en una casa grande. A través de...   \n",
       "0  Documental que examina la representación de pe...   \n",
       "0  Carmen ve su matrimonio estancado: su marido n...   \n",
       "\n",
       "                                            Críticas  \\\n",
       "0  \"La saga de 'Saw' no ha cambiado nada. Así que...   \n",
       "0                                                NaN   \n",
       "0  \"Mientras que su acercamiento a los personajes...   \n",
       "0  \"Una película tan plena de humor como de trist...   \n",
       "0  \"Hay películas ultrasensoriales, que se huelen...   \n",
       "0  \"Un vehículo entrañable y pedagógico, un buen ...   \n",
       "0  \"Pocas dudas hay del poderoso influjo del maes...   \n",
       "0                                                NaN   \n",
       "0  Andy Wachowski, director de \"Matrix\": \"Es una ...   \n",
       "0  \"Si bien este trabajo no mantiene el carácter ...   \n",
       "0  \"Una obra mayor y bellísima sobre la soledad, ...   \n",
       "0                                                NaN   \n",
       "0                                                NaN   \n",
       "\n",
       "                                          Tu crítica  \\\n",
       "0  Escribe tu opinión para que el resto de los us...   \n",
       "0  Escribe tu opinión para que el resto de los us...   \n",
       "0  Escribe tu opinión para que el resto de los us...   \n",
       "0  Escribe tu opinión para que el resto de los us...   \n",
       "0  Escribe tu opinión para que el resto de los us...   \n",
       "0  Escribe tu opinión para que el resto de los us...   \n",
       "0  Escribe tu opinión para que el resto de los us...   \n",
       "0  Escribe tu opinión para que el resto de los us...   \n",
       "0  Escribe tu opinión para que el resto de los us...   \n",
       "0  Escribe tu opinión para que el resto de los us...   \n",
       "0  Escribe tu opinión para que el resto de los us...   \n",
       "0  Escribe tu opinión para que el resto de los us...   \n",
       "0  Escribe tu opinión para que el resto de los us...   \n",
       "\n",
       "                         Votaciones de almas gemelas  \\\n",
       "0  Regístrate y podrás acceder a recomendaciones ...   \n",
       "0  Regístrate y podrás acceder a recomendaciones ...   \n",
       "0  Regístrate y podrás acceder a recomendaciones ...   \n",
       "0  Regístrate y podrás acceder a recomendaciones ...   \n",
       "0  Regístrate y podrás acceder a recomendaciones ...   \n",
       "0  Regístrate y podrás acceder a recomendaciones ...   \n",
       "0  Regístrate y podrás acceder a recomendaciones ...   \n",
       "0  Regístrate y podrás acceder a recomendaciones ...   \n",
       "0  Regístrate y podrás acceder a recomendaciones ...   \n",
       "0  Regístrate y podrás acceder a recomendaciones ...   \n",
       "0  Regístrate y podrás acceder a recomendaciones ...   \n",
       "0  Regístrate y podrás acceder a recomendaciones ...   \n",
       "0  Regístrate y podrás acceder a recomendaciones ...   \n",
       "\n",
       "                            Votaciones de tus amigos  \\\n",
       "0  Regístrate y podrás acceder a todas las votaci...   \n",
       "0  Regístrate y podrás acceder a todas las votaci...   \n",
       "0  Regístrate y podrás acceder a todas las votaci...   \n",
       "0  Regístrate y podrás acceder a todas las votaci...   \n",
       "0  Regístrate y podrás acceder a todas las votaci...   \n",
       "0  Regístrate y podrás acceder a todas las votaci...   \n",
       "0  Regístrate y podrás acceder a todas las votaci...   \n",
       "0  Regístrate y podrás acceder a todas las votaci...   \n",
       "0  Regístrate y podrás acceder a todas las votaci...   \n",
       "0  Regístrate y podrás acceder a todas las votaci...   \n",
       "0  Regístrate y podrás acceder a todas las votaci...   \n",
       "0  Regístrate y podrás acceder a todas las votaci...   \n",
       "0  Regístrate y podrás acceder a todas las votaci...   \n",
       "\n",
       "                            Posición rankings listas  \\\n",
       "0  99 Próximos estrenos: éstas no me las pierdo (...   \n",
       "0                                                NaN   \n",
       "0                                                NaN   \n",
       "0           53 Mis películas favoritas del 2020 (24)   \n",
       "0                                                NaN   \n",
       "0                                                NaN   \n",
       "0                                                NaN   \n",
       "0                                                NaN   \n",
       "0  1 Mis películas japonesas favoritas (206)\\n2 M...   \n",
       "0                                                NaN   \n",
       "0                                                NaN   \n",
       "0                                                NaN   \n",
       "0                                                NaN   \n",
       "\n",
       "                                             Premios       \n",
       "0                                                NaN  NaN  \n",
       "0                                                NaN  NaN  \n",
       "0                                                NaN  NaN  \n",
       "0  2020: National Board of Review (NBR): Top 10 p...  NaN  \n",
       "0                                                NaN  NaN  \n",
       "0  2020: Premios César: Nominada a mejor guion ad...       \n",
       "0  2020: Festival internacional de Chicago: Mejor...  NaN  \n",
       "0                                                NaN       \n",
       "0  2002: Oscar: Mejor largometraje de animación\\n...       \n",
       "0  2018: Premios Ariel: Nominada a mejor largomet...  NaN  \n",
       "0  2020: Festival de Berlín: Sección oficial larg...  NaN  \n",
       "0                                                NaN  NaN  \n",
       "0                                                NaN  NaN  \n",
       "\n",
       "[13 rows x 23 columns]"
      ],
      "text/html": "<div>\n<style scoped>\n    .dataframe tbody tr th:only-of-type {\n        vertical-align: middle;\n    }\n\n    .dataframe tbody tr th {\n        vertical-align: top;\n    }\n\n    .dataframe thead th {\n        text-align: right;\n    }\n</style>\n<table border=\"1\" class=\"dataframe\">\n  <thead>\n    <tr style=\"text-align: right;\">\n      <th></th>\n      <th>Titulo</th>\n      <th>Nota</th>\n      <th>Votos</th>\n      <th>Título original</th>\n      <th>Año</th>\n      <th>Duración</th>\n      <th>País</th>\n      <th>Dirección</th>\n      <th>Guion</th>\n      <th>Música</th>\n      <th>...</th>\n      <th>Género</th>\n      <th>Grupos</th>\n      <th>Sinopsis</th>\n      <th>Críticas</th>\n      <th>Tu crítica</th>\n      <th>Votaciones de almas gemelas</th>\n      <th>Votaciones de tus amigos</th>\n      <th>Posición rankings listas</th>\n      <th>Premios</th>\n      <th></th>\n    </tr>\n  </thead>\n  <tbody>\n    <tr>\n      <th>0</th>\n      <td>Spiral: Saw</td>\n      <td>4,9</td>\n      <td>40</td>\n      <td>Spiral: From the Book of Saw</td>\n      <td>2021</td>\n      <td>93 min.</td>\n      <td>Estados Unidos</td>\n      <td>Darren Lynn Bousman</td>\n      <td>Josh Stolberg, Pete Goldfinger. Historia: Pete...</td>\n      <td>Charlie Clouser</td>\n      <td>...</td>\n      <td>Terror. Thriller | Policíaco. Crimen. Asesinos...</td>\n      <td>Saw</td>\n      <td>Trabajando a la sombra de un policía veterano ...</td>\n      <td>\"La saga de 'Saw' no ha cambiado nada. Así que...</td>\n      <td>Escribe tu opinión para que el resto de los us...</td>\n      <td>Regístrate y podrás acceder a recomendaciones ...</td>\n      <td>Regístrate y podrás acceder a todas las votaci...</td>\n      <td>99 Próximos estrenos: éstas no me las pierdo (...</td>\n      <td>NaN</td>\n      <td>NaN</td>\n    </tr>\n    <tr>\n      <th>0</th>\n      <td>Poliamor para principiantes</td>\n      <td>4,4</td>\n      <td>26</td>\n      <td>Poliamor para principiantes</td>\n      <td>2021</td>\n      <td>97 min.</td>\n      <td>España</td>\n      <td>Fernando Colomo</td>\n      <td>Fernando Colomo, Casandra Macías Gago, Marina ...</td>\n      <td>Fernando Furones</td>\n      <td>...</td>\n      <td>Comedia. Romance | Comedia romántica</td>\n      <td>NaN</td>\n      <td>Satur (Karra Elejalde) y Tina (Toni Acosta) so...</td>\n      <td>NaN</td>\n      <td>Escribe tu opinión para que el resto de los us...</td>\n      <td>Regístrate y podrás acceder a recomendaciones ...</td>\n      <td>Regístrate y podrás acceder a todas las votaci...</td>\n      <td>NaN</td>\n      <td>NaN</td>\n      <td>NaN</td>\n    </tr>\n    <tr>\n      <th>0</th>\n      <td>Érase una vez en Queens</td>\n      <td>None</td>\n      <td>None</td>\n      <td>Boogie</td>\n      <td>2021</td>\n      <td>89 min.</td>\n      <td>Estados Unidos</td>\n      <td>Eddie Huang</td>\n      <td>Eddie Huang</td>\n      <td>Ali Shaheed Muhammad, Adrian Younge</td>\n      <td>...</td>\n      <td>Drama | Baloncesto. Inmigración</td>\n      <td>NaN</td>\n      <td>En la Nueva York contemporánea, un joven fenóm...</td>\n      <td>\"Mientras que su acercamiento a los personajes...</td>\n      <td>Escribe tu opinión para que el resto de los us...</td>\n      <td>Regístrate y podrás acceder a recomendaciones ...</td>\n      <td>Regístrate y podrás acceder a todas las votaci...</td>\n      <td>NaN</td>\n      <td>NaN</td>\n      <td>NaN</td>\n    </tr>\n    <tr>\n      <th>0</th>\n      <td>First Cow</td>\n      <td>6,9</td>\n      <td>1.396</td>\n      <td>First Cow</td>\n      <td>2019</td>\n      <td>121 min.</td>\n      <td>Estados Unidos</td>\n      <td>Kelly Reichardt</td>\n      <td>Jonathan Raymond, Kelly Reichardt. Novela: Jon...</td>\n      <td>William Tyler</td>\n      <td>...</td>\n      <td>Drama. Western | Siglo XIX. Amistad</td>\n      <td>NaN</td>\n      <td>Narra la historia de un cocinero (John Magaro)...</td>\n      <td>\"Una película tan plena de humor como de trist...</td>\n      <td>Escribe tu opinión para que el resto de los us...</td>\n      <td>Regístrate y podrás acceder a recomendaciones ...</td>\n      <td>Regístrate y podrás acceder a todas las votaci...</td>\n      <td>53 Mis películas favoritas del 2020 (24)</td>\n      <td>2020: National Board of Review (NBR): Top 10 p...</td>\n      <td>NaN</td>\n    </tr>\n    <tr>\n      <th>0</th>\n      <td>Mía y Moi</td>\n      <td>6,0</td>\n      <td>67</td>\n      <td>Mía y Moi</td>\n      <td>2021</td>\n      <td>NaN</td>\n      <td>España</td>\n      <td>Borja de la Vega</td>\n      <td>Borja de la Vega</td>\n      <td>NaN</td>\n      <td>...</td>\n      <td>Drama</td>\n      <td>NaN</td>\n      <td>Tras perder a su madre, Mía y Moi se refugian ...</td>\n      <td>\"Hay películas ultrasensoriales, que se huelen...</td>\n      <td>Escribe tu opinión para que el resto de los us...</td>\n      <td>Regístrate y podrás acceder a recomendaciones ...</td>\n      <td>Regístrate y podrás acceder a todas las votaci...</td>\n      <td>NaN</td>\n      <td>NaN</td>\n      <td>NaN</td>\n    </tr>\n    <tr>\n      <th>0</th>\n      <td>Pequeño país</td>\n      <td>6,4</td>\n      <td>30</td>\n      <td>Petit pays aka</td>\n      <td>2020</td>\n      <td>111 min.</td>\n      <td>Francia</td>\n      <td>Eric Barbier</td>\n      <td>Eric Barbier. Novela: Gaël Faye</td>\n      <td>Renaud Barbier</td>\n      <td>...</td>\n      <td>Drama</td>\n      <td>NaN</td>\n      <td>Gabriel tiene 10 años y vive en un cómodo veci...</td>\n      <td>\"Un vehículo entrañable y pedagógico, un buen ...</td>\n      <td>Escribe tu opinión para que el resto de los us...</td>\n      <td>Regístrate y podrás acceder a recomendaciones ...</td>\n      <td>Regístrate y podrás acceder a todas las votaci...</td>\n      <td>NaN</td>\n      <td>2020: Premios César: Nominada a mejor guion ad...</td>\n      <td></td>\n    </tr>\n    <tr>\n      <th>0</th>\n      <td>Sweat</td>\n      <td>6,5</td>\n      <td>44</td>\n      <td>Sweat</td>\n      <td>2020</td>\n      <td>100 min.</td>\n      <td>Polonia</td>\n      <td>Magnus von Horn</td>\n      <td>Magnus von Horn</td>\n      <td>Piotr Kurek</td>\n      <td>...</td>\n      <td>Drama | Internet/Informática</td>\n      <td>NaN</td>\n      <td>Describe tres días en la vida de la motivadora...</td>\n      <td>\"Pocas dudas hay del poderoso influjo del maes...</td>\n      <td>Escribe tu opinión para que el resto de los us...</td>\n      <td>Regístrate y podrás acceder a recomendaciones ...</td>\n      <td>Regístrate y podrás acceder a todas las votaci...</td>\n      <td>NaN</td>\n      <td>2020: Festival internacional de Chicago: Mejor...</td>\n      <td>NaN</td>\n    </tr>\n    <tr>\n      <th>0</th>\n      <td>Félix y el tesoro de Morgäa</td>\n      <td>None</td>\n      <td>None</td>\n      <td>Félix et le trésor de Morgäa aka</td>\n      <td>2021</td>\n      <td>90 min.</td>\n      <td>Canadá</td>\n      <td>Nicola Lemay</td>\n      <td>Marc Robitaille</td>\n      <td>NaN</td>\n      <td>...</td>\n      <td>Animación. Aventuras | Adolescencia</td>\n      <td>NaN</td>\n      <td>Félix es un niño de 12 años que está convencid...</td>\n      <td>NaN</td>\n      <td>Escribe tu opinión para que el resto de los us...</td>\n      <td>Regístrate y podrás acceder a recomendaciones ...</td>\n      <td>Regístrate y podrás acceder a todas las votaci...</td>\n      <td>NaN</td>\n      <td>NaN</td>\n      <td></td>\n    </tr>\n    <tr>\n      <th>0</th>\n      <td>El viaje de Chihiro</td>\n      <td>8,1</td>\n      <td>109.289</td>\n      <td>Sen to Chihiro no kamikakushi aka</td>\n      <td>2001</td>\n      <td>124 min.</td>\n      <td>Japón</td>\n      <td>Hayao Miyazaki</td>\n      <td>Hayao Miyazaki</td>\n      <td>Joe Hisaishi</td>\n      <td>...</td>\n      <td>Animación. Fantástico. Aventuras | Dragones. P...</td>\n      <td>Studio Ghibli (y obras relacionadas)</td>\n      <td>Chihiro es una niña de diez años que viaja en ...</td>\n      <td>Andy Wachowski, director de \"Matrix\": \"Es una ...</td>\n      <td>Escribe tu opinión para que el resto de los us...</td>\n      <td>Regístrate y podrás acceder a recomendaciones ...</td>\n      <td>Regístrate y podrás acceder a todas las votaci...</td>\n      <td>1 Mis películas japonesas favoritas (206)\\n2 M...</td>\n      <td>2002: Oscar: Mejor largometraje de animación\\n...</td>\n      <td></td>\n    </tr>\n    <tr>\n      <th>0</th>\n      <td>Cascarrabias</td>\n      <td>None</td>\n      <td>None</td>\n      <td>Here Comes the Grump (Ahí viene Cascarrabias)</td>\n      <td>2018</td>\n      <td>97 min.</td>\n      <td>México</td>\n      <td>Andrés Couturier</td>\n      <td>Jim Hecht, Piers Clifton, Ricardo Hernández Du...</td>\n      <td>James Seymour Brett</td>\n      <td>...</td>\n      <td>Animación. Aventuras. Comedia. Fantástico. Inf...</td>\n      <td>NaN</td>\n      <td>Pasar las vacaciones de verano en el increíble...</td>\n      <td>\"Si bien este trabajo no mantiene el carácter ...</td>\n      <td>Escribe tu opinión para que el resto de los us...</td>\n      <td>Regístrate y podrás acceder a recomendaciones ...</td>\n      <td>Regístrate y podrás acceder a todas las votaci...</td>\n      <td>NaN</td>\n      <td>2018: Premios Ariel: Nominada a mejor largomet...</td>\n      <td>NaN</td>\n    </tr>\n    <tr>\n      <th>0</th>\n      <td>Rizi (Days)</td>\n      <td>6,7</td>\n      <td>204</td>\n      <td>Rizi (Days)</td>\n      <td>2020</td>\n      <td>127 min.</td>\n      <td>Taiwán</td>\n      <td>Tsai Ming-liang</td>\n      <td>Tsai Ming-liang</td>\n      <td>NaN</td>\n      <td>...</td>\n      <td>Drama | Homosexualidad. Enfermedad</td>\n      <td>NaN</td>\n      <td>Kang vive solo en una casa grande. A través de...</td>\n      <td>\"Una obra mayor y bellísima sobre la soledad, ...</td>\n      <td>Escribe tu opinión para que el resto de los us...</td>\n      <td>Regístrate y podrás acceder a recomendaciones ...</td>\n      <td>Regístrate y podrás acceder a todas las votaci...</td>\n      <td>NaN</td>\n      <td>2020: Festival de Berlín: Sección oficial larg...</td>\n      <td>NaN</td>\n    </tr>\n    <tr>\n      <th>0</th>\n      <td>El código de los diferentes</td>\n      <td>None</td>\n      <td>None</td>\n      <td>Code of the Freaks</td>\n      <td>2020</td>\n      <td>68 min.</td>\n      <td>Estados Unidos</td>\n      <td>Salome Chasnoff</td>\n      <td>Susan Nussbaum, Alyson Patsavas, Carrie Sandahl</td>\n      <td>Brad Newton</td>\n      <td>...</td>\n      <td>Documental | Discapacidad</td>\n      <td>NaN</td>\n      <td>Documental que examina la representación de pe...</td>\n      <td>NaN</td>\n      <td>Escribe tu opinión para que el resto de los us...</td>\n      <td>Regístrate y podrás acceder a recomendaciones ...</td>\n      <td>Regístrate y podrás acceder a todas las votaci...</td>\n      <td>NaN</td>\n      <td>NaN</td>\n      <td>NaN</td>\n    </tr>\n    <tr>\n      <th>0</th>\n      <td>Tierra Santa. El último peregrino</td>\n      <td>None</td>\n      <td>None</td>\n      <td>Tierra Santa. El último peregrino</td>\n      <td>2021</td>\n      <td>86 min.</td>\n      <td>España</td>\n      <td>Andrés Garrigó, Pablo Moreno</td>\n      <td>Andrés Garrigó, Pedro Delgado, Benjamín Lorenzo</td>\n      <td>José Sánchez-Sanz</td>\n      <td>...</td>\n      <td>Drama. Documental | Religión</td>\n      <td>NaN</td>\n      <td>Carmen ve su matrimonio estancado: su marido n...</td>\n      <td>NaN</td>\n      <td>Escribe tu opinión para que el resto de los us...</td>\n      <td>Regístrate y podrás acceder a recomendaciones ...</td>\n      <td>Regístrate y podrás acceder a todas las votaci...</td>\n      <td>NaN</td>\n      <td>NaN</td>\n      <td>NaN</td>\n    </tr>\n  </tbody>\n</table>\n<p>13 rows × 23 columns</p>\n</div>"
     },
     "metadata": {},
     "execution_count": 88
    }
   ],
   "source": [
    "df_peliculas"
   ]
  },
  {
   "cell_type": "markdown",
   "metadata": {},
   "source": [
    "¡Tachán! Ya tenemos un dataframe con todas las películas que se van a estrenar el próximo viernes"
   ]
  }
 ],
 "metadata": {
  "hide_input": false,
  "kernelspec": {
   "display_name": "Python 3",
   "language": "python",
   "name": "python3"
  },
  "language_info": {
   "codemirror_mode": {
    "name": "ipython",
    "version": 3
   },
   "file_extension": ".py",
   "mimetype": "text/x-python",
   "name": "python",
   "nbconvert_exporter": "python",
   "pygments_lexer": "ipython3",
   "version": "3.7.4"
  },
  "nbTranslate": {
   "displayLangs": [
    "*"
   ],
   "hotkey": "alt-t",
   "langInMainMenu": true,
   "sourceLang": "en",
   "targetLang": "fr",
   "useGoogleTranslate": true
  },
  "varInspector": {
   "cols": {
    "lenName": 16,
    "lenType": 16,
    "lenVar": 40
   },
   "kernels_config": {
    "python": {
     "delete_cmd_postfix": "",
     "delete_cmd_prefix": "del ",
     "library": "var_list.py",
     "varRefreshCmd": "print(var_dic_list())"
    },
    "r": {
     "delete_cmd_postfix": ") ",
     "delete_cmd_prefix": "rm(",
     "library": "var_list.r",
     "varRefreshCmd": "cat(var_dic_list()) "
    }
   },
   "types_to_exclude": [
    "module",
    "function",
    "builtin_function_or_method",
    "instance",
    "_Feature"
   ],
   "window_display": false
  }
 },
 "nbformat": 4,
 "nbformat_minor": 2
}