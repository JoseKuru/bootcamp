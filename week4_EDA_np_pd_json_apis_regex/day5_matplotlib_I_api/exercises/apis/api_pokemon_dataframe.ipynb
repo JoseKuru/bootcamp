{
 "metadata": {
  "language_info": {
   "codemirror_mode": {
    "name": "ipython",
    "version": 3
   },
   "file_extension": ".py",
   "mimetype": "text/x-python",
   "name": "python",
   "nbconvert_exporter": "python",
   "pygments_lexer": "ipython3",
   "version": "3.7.4"
  },
  "orig_nbformat": 2,
  "kernelspec": {
   "name": "python374jvsc74a57bd0aee8b7b246df8f9039afb4144a1f6fd8d2ca17a180786b69acc140d282b71a49",
   "display_name": "Python 3.7.4 64-bit"
  },
  "metadata": {
   "interpreter": {
    "hash": "aee8b7b246df8f9039afb4144a1f6fd8d2ca17a180786b69acc140d282b71a49"
   }
  }
 },
 "nbformat": 4,
 "nbformat_minor": 2,
 "cells": [
  {
   "source": [
    "### Ejercicio 1\n",
    "\n",
    "A partir de la API de Pokemon, se pide generar un DataFrame como el de la imagen con las columnas: \n",
    "\n",
    "- **\"height\",\"id\",\"order\",\"weight\",\"types\"**\n",
    "\n",
    "### Ejercicio 2\n",
    "\n",
    "¿Has visto que dentro del DataFrame la columna \"types\" hay diccionarios? Se pide agregar, por cada pokemon, las columnas necesarias al DataFrame para albergar toda la información de \"types\" (solo las keys)\n",
    "\n",
    "![](df_pk.PNG)"
   ],
   "cell_type": "markdown",
   "metadata": {}
  },
  {
   "cell_type": "code",
   "execution_count": 28,
   "metadata": {},
   "outputs": [],
   "source": [
    "import numpy as np\n",
    "import pandas as pd\n",
    "import requests"
   ]
  },
  {
   "cell_type": "code",
   "execution_count": 55,
   "metadata": {},
   "outputs": [],
   "source": [
    "url_pokeapi = 'https://pokeapi.co/api/v2/pokemon'\n",
    "pokeapi = requests.get(url_pokeapi).json()\n",
    "pokemon = []\n",
    "pokemon.append(pokeapi)\n",
    "while pokeapi['next']:\n",
    "    pokeapi = requests.get(url_pokeapi).json()\n",
    "    pokemon.append(pokeapi)\n",
    "    url_pokeapi = pokeapi['next']"
   ]
  },
  {
   "cell_type": "code",
   "execution_count": 56,
   "metadata": {},
   "outputs": [
    {
     "output_type": "execute_result",
     "data": {
      "text/plain": [
       "{'name': 'bulbasaur', 'url': 'https://pokeapi.co/api/v2/pokemon/1/'}"
      ]
     },
     "metadata": {},
     "execution_count": 56
    }
   ],
   "source": [
    "pokemon[0]['results'][0]"
   ]
  },
  {
   "cell_type": "code",
   "execution_count": 58,
   "metadata": {},
   "outputs": [],
   "source": [
    "names_pokemos = []\n",
    "for i in range(len(pokemon)):\n",
    "    for j in range(20):\n",
    "        try:\n",
    "            names_pokemos.append(pokemon[i]['results'][j])\n",
    "        except IndexError:\n",
    "            break"
   ]
  },
  {
   "cell_type": "code",
   "execution_count": 53,
   "metadata": {},
   "outputs": [
    {
     "output_type": "execute_result",
     "data": {
      "text/plain": [
       "                name                                       url\n",
       "0          bulbasaur      https://pokeapi.co/api/v2/pokemon/1/\n",
       "1            ivysaur      https://pokeapi.co/api/v2/pokemon/2/\n",
       "2           venusaur      https://pokeapi.co/api/v2/pokemon/3/\n",
       "3         charmander      https://pokeapi.co/api/v2/pokemon/4/\n",
       "4         charmeleon      https://pokeapi.co/api/v2/pokemon/5/\n",
       "...              ...                                       ...\n",
       "1095   garbodor-gmax  https://pokeapi.co/api/v2/pokemon/10198/\n",
       "1096   melmetal-gmax  https://pokeapi.co/api/v2/pokemon/10199/\n",
       "1097  rillaboom-gmax  https://pokeapi.co/api/v2/pokemon/10200/\n",
       "1098  cinderace-gmax  https://pokeapi.co/api/v2/pokemon/10201/\n",
       "1099   inteleon-gmax  https://pokeapi.co/api/v2/pokemon/10202/\n",
       "\n",
       "[1100 rows x 2 columns]"
      ],
      "text/html": "<div>\n<style scoped>\n    .dataframe tbody tr th:only-of-type {\n        vertical-align: middle;\n    }\n\n    .dataframe tbody tr th {\n        vertical-align: top;\n    }\n\n    .dataframe thead th {\n        text-align: right;\n    }\n</style>\n<table border=\"1\" class=\"dataframe\">\n  <thead>\n    <tr style=\"text-align: right;\">\n      <th></th>\n      <th>name</th>\n      <th>url</th>\n    </tr>\n  </thead>\n  <tbody>\n    <tr>\n      <th>0</th>\n      <td>bulbasaur</td>\n      <td>https://pokeapi.co/api/v2/pokemon/1/</td>\n    </tr>\n    <tr>\n      <th>1</th>\n      <td>ivysaur</td>\n      <td>https://pokeapi.co/api/v2/pokemon/2/</td>\n    </tr>\n    <tr>\n      <th>2</th>\n      <td>venusaur</td>\n      <td>https://pokeapi.co/api/v2/pokemon/3/</td>\n    </tr>\n    <tr>\n      <th>3</th>\n      <td>charmander</td>\n      <td>https://pokeapi.co/api/v2/pokemon/4/</td>\n    </tr>\n    <tr>\n      <th>4</th>\n      <td>charmeleon</td>\n      <td>https://pokeapi.co/api/v2/pokemon/5/</td>\n    </tr>\n    <tr>\n      <th>...</th>\n      <td>...</td>\n      <td>...</td>\n    </tr>\n    <tr>\n      <th>1095</th>\n      <td>garbodor-gmax</td>\n      <td>https://pokeapi.co/api/v2/pokemon/10198/</td>\n    </tr>\n    <tr>\n      <th>1096</th>\n      <td>melmetal-gmax</td>\n      <td>https://pokeapi.co/api/v2/pokemon/10199/</td>\n    </tr>\n    <tr>\n      <th>1097</th>\n      <td>rillaboom-gmax</td>\n      <td>https://pokeapi.co/api/v2/pokemon/10200/</td>\n    </tr>\n    <tr>\n      <th>1098</th>\n      <td>cinderace-gmax</td>\n      <td>https://pokeapi.co/api/v2/pokemon/10201/</td>\n    </tr>\n    <tr>\n      <th>1099</th>\n      <td>inteleon-gmax</td>\n      <td>https://pokeapi.co/api/v2/pokemon/10202/</td>\n    </tr>\n  </tbody>\n</table>\n<p>1100 rows × 2 columns</p>\n</div>"
     },
     "metadata": {},
     "execution_count": 53
    }
   ],
   "source": [
    "pd.DataFrame(names_pokemos)"
   ]
  },
  {
   "cell_type": "code",
   "execution_count": null,
   "metadata": {},
   "outputs": [],
   "source": []
  }
 ]
}