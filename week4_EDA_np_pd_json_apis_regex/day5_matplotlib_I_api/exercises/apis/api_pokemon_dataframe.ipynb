{
 "metadata": {
  "language_info": {
   "codemirror_mode": {
    "name": "ipython",
    "version": 3
   },
   "file_extension": ".py",
   "mimetype": "text/x-python",
   "name": "python",
   "nbconvert_exporter": "python",
   "pygments_lexer": "ipython3",
   "version": "3.7.4"
  },
  "orig_nbformat": 2,
  "kernelspec": {
   "name": "python374jvsc74a57bd0aee8b7b246df8f9039afb4144a1f6fd8d2ca17a180786b69acc140d282b71a49",
   "display_name": "Python 3.7.4 64-bit"
  },
  "metadata": {
   "interpreter": {
    "hash": "aee8b7b246df8f9039afb4144a1f6fd8d2ca17a180786b69acc140d282b71a49"
   }
  }
 },
 "nbformat": 4,
 "nbformat_minor": 2,
 "cells": [
  {
   "source": [
    "### Ejercicio 1\n",
    "\n",
    "A partir de la API de Pokemon, se pide generar un DataFrame como el de la imagen con las columnas: \n",
    "\n",
    "- **\"height\",\"id\",\"order\",\"weight\",\"types\"**\n",
    "\n",
    "### Ejercicio 2\n",
    "\n",
    "¿Has visto que dentro del DataFrame la columna \"types\" hay diccionarios? Se pide agregar, por cada pokemon, las columnas necesarias al DataFrame para albergar toda la información de \"types\" (solo las keys)\n",
    "\n",
    "![](df_pk.PNG)"
   ],
   "cell_type": "markdown",
   "metadata": {}
  },
  {
   "cell_type": "code",
   "execution_count": 1,
   "metadata": {},
   "outputs": [
    {
     "output_type": "stream",
     "name": "stderr",
     "text": [
      "/home/jose/.local/lib/python3.7/site-packages/pandas/compat/__init__.py:97: UserWarning: Could not import the lzma module. Your installed Python is incomplete. Attempting to use lzma compression will result in a RuntimeError.\n  warnings.warn(msg)\n"
     ]
    }
   ],
   "source": [
    "import numpy as np\n",
    "import pandas as pd\n",
    "import requests"
   ]
  },
  {
   "cell_type": "code",
   "execution_count": 2,
   "metadata": {},
   "outputs": [],
   "source": [
    "# Agrupamos todos los datos de pokemon en una lista 'pokemon'\n",
    "url_pokeapi = 'https://pokeapi.co/api/v2/pokemon'\n",
    "pokeapi = requests.get(url_pokeapi).json()\n",
    "pokemon = []\n",
    "pokemon.append(pokeapi)\n",
    "while pokeapi['next']:\n",
    "    pokeapi = requests.get(url_pokeapi).json()\n",
    "    pokemon.append(pokeapi)\n",
    "    url_pokeapi = pokeapi['next']"
   ]
  },
  {
   "cell_type": "code",
   "execution_count": 3,
   "metadata": {},
   "outputs": [
    {
     "output_type": "execute_result",
     "data": {
      "text/plain": [
       "{'name': 'bulbasaur', 'url': 'https://pokeapi.co/api/v2/pokemon/1/'}"
      ]
     },
     "metadata": {},
     "execution_count": 3
    }
   ],
   "source": [
    "# Vemos que los datos que necesitamos se encuentran dentro del primer elemento en la clave 'results'\n",
    "pokemon[0]['results'][0]"
   ]
  },
  {
   "cell_type": "code",
   "execution_count": 4,
   "metadata": {},
   "outputs": [],
   "source": [
    "# Accedemos a ese valor por cada pokemon y lo metemos en una lista 'names_pokemon'\n",
    "names_pokemon = []\n",
    "for i in range(len(pokemon)):\n",
    "    for j in range(20):\n",
    "        try:\n",
    "            names_pokemon.append(pokemon[i]['results'][j])\n",
    "        except IndexError:\n",
    "            break"
   ]
  },
  {
   "cell_type": "code",
   "execution_count": 5,
   "metadata": {},
   "outputs": [
    {
     "output_type": "execute_result",
     "data": {
      "text/plain": [
       "         name                                   url\n",
       "0   bulbasaur  https://pokeapi.co/api/v2/pokemon/1/\n",
       "1     ivysaur  https://pokeapi.co/api/v2/pokemon/2/\n",
       "2    venusaur  https://pokeapi.co/api/v2/pokemon/3/\n",
       "3  charmander  https://pokeapi.co/api/v2/pokemon/4/\n",
       "4  charmeleon  https://pokeapi.co/api/v2/pokemon/5/"
      ],
      "text/html": "<div>\n<style scoped>\n    .dataframe tbody tr th:only-of-type {\n        vertical-align: middle;\n    }\n\n    .dataframe tbody tr th {\n        vertical-align: top;\n    }\n\n    .dataframe thead th {\n        text-align: right;\n    }\n</style>\n<table border=\"1\" class=\"dataframe\">\n  <thead>\n    <tr style=\"text-align: right;\">\n      <th></th>\n      <th>name</th>\n      <th>url</th>\n    </tr>\n  </thead>\n  <tbody>\n    <tr>\n      <th>0</th>\n      <td>bulbasaur</td>\n      <td>https://pokeapi.co/api/v2/pokemon/1/</td>\n    </tr>\n    <tr>\n      <th>1</th>\n      <td>ivysaur</td>\n      <td>https://pokeapi.co/api/v2/pokemon/2/</td>\n    </tr>\n    <tr>\n      <th>2</th>\n      <td>venusaur</td>\n      <td>https://pokeapi.co/api/v2/pokemon/3/</td>\n    </tr>\n    <tr>\n      <th>3</th>\n      <td>charmander</td>\n      <td>https://pokeapi.co/api/v2/pokemon/4/</td>\n    </tr>\n    <tr>\n      <th>4</th>\n      <td>charmeleon</td>\n      <td>https://pokeapi.co/api/v2/pokemon/5/</td>\n    </tr>\n  </tbody>\n</table>\n</div>"
     },
     "metadata": {},
     "execution_count": 5
    }
   ],
   "source": [
    "# Vemos que son los datos correctos\n",
    "names_pokemon_dataframe = pd.DataFrame(names_pokemon)\n",
    "names_pokemon_dataframe.head()"
   ]
  },
  {
   "cell_type": "code",
   "execution_count": 6,
   "metadata": {},
   "outputs": [],
   "source": [
    "# Ahora accedemos a la url de cada pokemon para extraer los demas datos\n",
    "atributos_pokemon = []\n",
    "for url in names_pokemon_dataframe['url']:\n",
    "    atributos_pokemon.append(requests.get(url).json())"
   ]
  },
  {
   "cell_type": "code",
   "execution_count": 7,
   "metadata": {},
   "outputs": [
    {
     "output_type": "execute_result",
     "data": {
      "text/plain": [
       "      height     id  order  weight  \\\n",
       "0          7      1      1      69   \n",
       "1         10      2      2     130   \n",
       "2         20      3      3    1000   \n",
       "3          6      4      5      85   \n",
       "4         11      5      6     190   \n",
       "...      ...    ...    ...     ...   \n",
       "1133     430  10216     -1   10000   \n",
       "1134    1000  10217     -1   10000   \n",
       "1135     290  10218     -1   10000   \n",
       "1136     260  10219     -1   10000   \n",
       "1137     240  10220     -1   10000   \n",
       "\n",
       "                                                  types  \n",
       "0     [{'slot': 1, 'type': {'name': 'grass', 'url': ...  \n",
       "1     [{'slot': 1, 'type': {'name': 'grass', 'url': ...  \n",
       "2     [{'slot': 1, 'type': {'name': 'grass', 'url': ...  \n",
       "3     [{'slot': 1, 'type': {'name': 'fire', 'url': '...  \n",
       "4     [{'slot': 1, 'type': {'name': 'fire', 'url': '...  \n",
       "...                                                 ...  \n",
       "1133  [{'slot': 1, 'type': {'name': 'steel', 'url': ...  \n",
       "1134  [{'slot': 1, 'type': {'name': 'poison', 'url':...  \n",
       "1135  [{'slot': 1, 'type': {'name': 'fighting', 'url...  \n",
       "1136  [{'slot': 1, 'type': {'name': 'fighting', 'url...  \n",
       "1137  [{'slot': 1, 'type': {'name': 'electric', 'url...  \n",
       "\n",
       "[1138 rows x 5 columns]"
      ],
      "text/html": "<div>\n<style scoped>\n    .dataframe tbody tr th:only-of-type {\n        vertical-align: middle;\n    }\n\n    .dataframe tbody tr th {\n        vertical-align: top;\n    }\n\n    .dataframe thead th {\n        text-align: right;\n    }\n</style>\n<table border=\"1\" class=\"dataframe\">\n  <thead>\n    <tr style=\"text-align: right;\">\n      <th></th>\n      <th>height</th>\n      <th>id</th>\n      <th>order</th>\n      <th>weight</th>\n      <th>types</th>\n    </tr>\n  </thead>\n  <tbody>\n    <tr>\n      <th>0</th>\n      <td>7</td>\n      <td>1</td>\n      <td>1</td>\n      <td>69</td>\n      <td>[{'slot': 1, 'type': {'name': 'grass', 'url': ...</td>\n    </tr>\n    <tr>\n      <th>1</th>\n      <td>10</td>\n      <td>2</td>\n      <td>2</td>\n      <td>130</td>\n      <td>[{'slot': 1, 'type': {'name': 'grass', 'url': ...</td>\n    </tr>\n    <tr>\n      <th>2</th>\n      <td>20</td>\n      <td>3</td>\n      <td>3</td>\n      <td>1000</td>\n      <td>[{'slot': 1, 'type': {'name': 'grass', 'url': ...</td>\n    </tr>\n    <tr>\n      <th>3</th>\n      <td>6</td>\n      <td>4</td>\n      <td>5</td>\n      <td>85</td>\n      <td>[{'slot': 1, 'type': {'name': 'fire', 'url': '...</td>\n    </tr>\n    <tr>\n      <th>4</th>\n      <td>11</td>\n      <td>5</td>\n      <td>6</td>\n      <td>190</td>\n      <td>[{'slot': 1, 'type': {'name': 'fire', 'url': '...</td>\n    </tr>\n    <tr>\n      <th>...</th>\n      <td>...</td>\n      <td>...</td>\n      <td>...</td>\n      <td>...</td>\n      <td>...</td>\n    </tr>\n    <tr>\n      <th>1133</th>\n      <td>430</td>\n      <td>10216</td>\n      <td>-1</td>\n      <td>10000</td>\n      <td>[{'slot': 1, 'type': {'name': 'steel', 'url': ...</td>\n    </tr>\n    <tr>\n      <th>1134</th>\n      <td>1000</td>\n      <td>10217</td>\n      <td>-1</td>\n      <td>10000</td>\n      <td>[{'slot': 1, 'type': {'name': 'poison', 'url':...</td>\n    </tr>\n    <tr>\n      <th>1135</th>\n      <td>290</td>\n      <td>10218</td>\n      <td>-1</td>\n      <td>10000</td>\n      <td>[{'slot': 1, 'type': {'name': 'fighting', 'url...</td>\n    </tr>\n    <tr>\n      <th>1136</th>\n      <td>260</td>\n      <td>10219</td>\n      <td>-1</td>\n      <td>10000</td>\n      <td>[{'slot': 1, 'type': {'name': 'fighting', 'url...</td>\n    </tr>\n    <tr>\n      <th>1137</th>\n      <td>240</td>\n      <td>10220</td>\n      <td>-1</td>\n      <td>10000</td>\n      <td>[{'slot': 1, 'type': {'name': 'electric', 'url...</td>\n    </tr>\n  </tbody>\n</table>\n<p>1138 rows × 5 columns</p>\n</div>"
     },
     "metadata": {},
     "execution_count": 7
    }
   ],
   "source": [
    "# Seleccionamos solo las columnas que necesitamos\n",
    "atributos_pokemon_dataframe = pd.DataFrame(atributos_pokemon).loc[:, ['height', 'id', 'order', 'weight', 'types']]\n",
    "atributos_pokemon_dataframe"
   ]
  },
  {
   "cell_type": "code",
   "execution_count": 8,
   "metadata": {},
   "outputs": [
    {
     "output_type": "execute_result",
     "data": {
      "text/plain": [
       "                            name                                       url  \\\n",
       "0                      bulbasaur      https://pokeapi.co/api/v2/pokemon/1/   \n",
       "1                        ivysaur      https://pokeapi.co/api/v2/pokemon/2/   \n",
       "2                       venusaur      https://pokeapi.co/api/v2/pokemon/3/   \n",
       "3                     charmander      https://pokeapi.co/api/v2/pokemon/4/   \n",
       "4                     charmeleon      https://pokeapi.co/api/v2/pokemon/5/   \n",
       "...                          ...                                       ...   \n",
       "1133              duraludon-gmax  https://pokeapi.co/api/v2/pokemon/10216/   \n",
       "1134         eternatus-eternamax  https://pokeapi.co/api/v2/pokemon/10217/   \n",
       "1135  urshifu-single-strike-gmax  https://pokeapi.co/api/v2/pokemon/10218/   \n",
       "1136   urshifu-rapid-strike-gmax  https://pokeapi.co/api/v2/pokemon/10219/   \n",
       "1137     toxtricity-low-key-gmax  https://pokeapi.co/api/v2/pokemon/10220/   \n",
       "\n",
       "      height     id  order  weight  \\\n",
       "0          7      1      1      69   \n",
       "1         10      2      2     130   \n",
       "2         20      3      3    1000   \n",
       "3          6      4      5      85   \n",
       "4         11      5      6     190   \n",
       "...      ...    ...    ...     ...   \n",
       "1133     430  10216     -1   10000   \n",
       "1134    1000  10217     -1   10000   \n",
       "1135     290  10218     -1   10000   \n",
       "1136     260  10219     -1   10000   \n",
       "1137     240  10220     -1   10000   \n",
       "\n",
       "                                                  types  \n",
       "0     [{'slot': 1, 'type': {'name': 'grass', 'url': ...  \n",
       "1     [{'slot': 1, 'type': {'name': 'grass', 'url': ...  \n",
       "2     [{'slot': 1, 'type': {'name': 'grass', 'url': ...  \n",
       "3     [{'slot': 1, 'type': {'name': 'fire', 'url': '...  \n",
       "4     [{'slot': 1, 'type': {'name': 'fire', 'url': '...  \n",
       "...                                                 ...  \n",
       "1133  [{'slot': 1, 'type': {'name': 'steel', 'url': ...  \n",
       "1134  [{'slot': 1, 'type': {'name': 'poison', 'url':...  \n",
       "1135  [{'slot': 1, 'type': {'name': 'fighting', 'url...  \n",
       "1136  [{'slot': 1, 'type': {'name': 'fighting', 'url...  \n",
       "1137  [{'slot': 1, 'type': {'name': 'electric', 'url...  \n",
       "\n",
       "[1138 rows x 7 columns]"
      ],
      "text/html": "<div>\n<style scoped>\n    .dataframe tbody tr th:only-of-type {\n        vertical-align: middle;\n    }\n\n    .dataframe tbody tr th {\n        vertical-align: top;\n    }\n\n    .dataframe thead th {\n        text-align: right;\n    }\n</style>\n<table border=\"1\" class=\"dataframe\">\n  <thead>\n    <tr style=\"text-align: right;\">\n      <th></th>\n      <th>name</th>\n      <th>url</th>\n      <th>height</th>\n      <th>id</th>\n      <th>order</th>\n      <th>weight</th>\n      <th>types</th>\n    </tr>\n  </thead>\n  <tbody>\n    <tr>\n      <th>0</th>\n      <td>bulbasaur</td>\n      <td>https://pokeapi.co/api/v2/pokemon/1/</td>\n      <td>7</td>\n      <td>1</td>\n      <td>1</td>\n      <td>69</td>\n      <td>[{'slot': 1, 'type': {'name': 'grass', 'url': ...</td>\n    </tr>\n    <tr>\n      <th>1</th>\n      <td>ivysaur</td>\n      <td>https://pokeapi.co/api/v2/pokemon/2/</td>\n      <td>10</td>\n      <td>2</td>\n      <td>2</td>\n      <td>130</td>\n      <td>[{'slot': 1, 'type': {'name': 'grass', 'url': ...</td>\n    </tr>\n    <tr>\n      <th>2</th>\n      <td>venusaur</td>\n      <td>https://pokeapi.co/api/v2/pokemon/3/</td>\n      <td>20</td>\n      <td>3</td>\n      <td>3</td>\n      <td>1000</td>\n      <td>[{'slot': 1, 'type': {'name': 'grass', 'url': ...</td>\n    </tr>\n    <tr>\n      <th>3</th>\n      <td>charmander</td>\n      <td>https://pokeapi.co/api/v2/pokemon/4/</td>\n      <td>6</td>\n      <td>4</td>\n      <td>5</td>\n      <td>85</td>\n      <td>[{'slot': 1, 'type': {'name': 'fire', 'url': '...</td>\n    </tr>\n    <tr>\n      <th>4</th>\n      <td>charmeleon</td>\n      <td>https://pokeapi.co/api/v2/pokemon/5/</td>\n      <td>11</td>\n      <td>5</td>\n      <td>6</td>\n      <td>190</td>\n      <td>[{'slot': 1, 'type': {'name': 'fire', 'url': '...</td>\n    </tr>\n    <tr>\n      <th>...</th>\n      <td>...</td>\n      <td>...</td>\n      <td>...</td>\n      <td>...</td>\n      <td>...</td>\n      <td>...</td>\n      <td>...</td>\n    </tr>\n    <tr>\n      <th>1133</th>\n      <td>duraludon-gmax</td>\n      <td>https://pokeapi.co/api/v2/pokemon/10216/</td>\n      <td>430</td>\n      <td>10216</td>\n      <td>-1</td>\n      <td>10000</td>\n      <td>[{'slot': 1, 'type': {'name': 'steel', 'url': ...</td>\n    </tr>\n    <tr>\n      <th>1134</th>\n      <td>eternatus-eternamax</td>\n      <td>https://pokeapi.co/api/v2/pokemon/10217/</td>\n      <td>1000</td>\n      <td>10217</td>\n      <td>-1</td>\n      <td>10000</td>\n      <td>[{'slot': 1, 'type': {'name': 'poison', 'url':...</td>\n    </tr>\n    <tr>\n      <th>1135</th>\n      <td>urshifu-single-strike-gmax</td>\n      <td>https://pokeapi.co/api/v2/pokemon/10218/</td>\n      <td>290</td>\n      <td>10218</td>\n      <td>-1</td>\n      <td>10000</td>\n      <td>[{'slot': 1, 'type': {'name': 'fighting', 'url...</td>\n    </tr>\n    <tr>\n      <th>1136</th>\n      <td>urshifu-rapid-strike-gmax</td>\n      <td>https://pokeapi.co/api/v2/pokemon/10219/</td>\n      <td>260</td>\n      <td>10219</td>\n      <td>-1</td>\n      <td>10000</td>\n      <td>[{'slot': 1, 'type': {'name': 'fighting', 'url...</td>\n    </tr>\n    <tr>\n      <th>1137</th>\n      <td>toxtricity-low-key-gmax</td>\n      <td>https://pokeapi.co/api/v2/pokemon/10220/</td>\n      <td>240</td>\n      <td>10220</td>\n      <td>-1</td>\n      <td>10000</td>\n      <td>[{'slot': 1, 'type': {'name': 'electric', 'url...</td>\n    </tr>\n  </tbody>\n</table>\n<p>1138 rows × 7 columns</p>\n</div>"
     },
     "metadata": {},
     "execution_count": 8
    }
   ],
   "source": [
    "# Concatenamos los dos dataframe para obtener el dataframe final\n",
    "dataframe_final = names_pokemon_dataframe.join(atributos_pokemon_dataframe)\n",
    "dataframe_final"
   ]
  },
  {
   "cell_type": "code",
   "execution_count": null,
   "metadata": {},
   "outputs": [],
   "source": []
  }
 ]
}