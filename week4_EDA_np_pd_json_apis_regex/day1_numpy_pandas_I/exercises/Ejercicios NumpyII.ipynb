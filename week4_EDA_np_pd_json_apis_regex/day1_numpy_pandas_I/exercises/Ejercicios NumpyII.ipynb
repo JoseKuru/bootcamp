{
 "cells": [
  {
   "cell_type": "markdown",
   "metadata": {},
   "source": [
    "# Ejercicios Numpy II"
   ]
  },
  {
   "cell_type": "markdown",
   "metadata": {},
   "source": [
    "## Ejercicio 1\n",
    "1. Crea un array que vaya del 0 al 9 y que se llame `my_array`\n",
    "2. Imprime por pantalla los elementos [9 7 5 3 1] en ese orden."
   ]
  },
  {
   "cell_type": "code",
   "execution_count": 1,
   "metadata": {},
   "outputs": [
    {
     "output_type": "stream",
     "name": "stdout",
     "text": [
      "[9 7 5 3 1]\n"
     ]
    }
   ],
   "source": [
    "import numpy as np\n",
    "\n",
    "my_array = np.arange(10)\n",
    "print(my_array[-1:0:-2])"
   ]
  },
  {
   "cell_type": "markdown",
   "metadata": {},
   "source": [
    "## Ejercicio 2\n",
    "Imprime por pantalla la secuencia [[8 7]] del array `my_array`"
   ]
  },
  {
   "cell_type": "code",
   "execution_count": 5,
   "metadata": {},
   "outputs": [
    {
     "output_type": "stream",
     "name": "stdout",
     "text": [
      "[8 7]\n"
     ]
    }
   ],
   "source": [
    "print(my_array[-2:-4:-1])"
   ]
  },
  {
   "cell_type": "markdown",
   "metadata": {},
   "source": [
    "## Ejercicio 3\n",
    "Imprime por pantalla la secuencia [[2 1 0]] de `my_array`"
   ]
  },
  {
   "cell_type": "code",
   "execution_count": 15,
   "metadata": {},
   "outputs": [
    {
     "output_type": "stream",
     "name": "stdout",
     "text": [
      "[2 1 0]\n"
     ]
    }
   ],
   "source": [
    "print(my_array[2::-1])"
   ]
  },
  {
   "cell_type": "markdown",
   "metadata": {},
   "source": [
    "## Ejercicio 4\n",
    "1. Crea una matriz de 4x5, con una secuencia del 1 al 20\n",
    "2. Invierte totalmente la matriz. Tanto las filas, como las columnas"
   ]
  },
  {
   "cell_type": "code",
   "execution_count": 60,
   "metadata": {},
   "outputs": [
    {
     "output_type": "stream",
     "name": "stdout",
     "text": [
      "[[ 1  2  3  4  5]\n [ 6  7  8  9 10]\n [11 12 13 14 15]\n [16 17 18 19 20]]\n[[ 1  6 11 16]\n [ 2  7 12 17]\n [ 3  8 13 18]\n [ 4  9 14 19]\n [ 5 10 15 20]]\n"
     ]
    }
   ],
   "source": [
    "matrix = np.arange(1, 21).reshape(4, 5)\n",
    "print(matrix, matrix.T, sep='\\n')"
   ]
  },
  {
   "cell_type": "markdown",
   "metadata": {},
   "source": [
    "## Ejercicio 5\n",
    "\n",
    "Obtén el siguiente array, partiendo de la matriz del ejercicio 4\n",
    "```Python\n",
    "array([[1, 2],\n",
    "       [6, 7]])\n",
    "```"
   ]
  },
  {
   "cell_type": "code",
   "execution_count": 23,
   "metadata": {},
   "outputs": [
    {
     "output_type": "stream",
     "name": "stdout",
     "text": [
      "[[1 2]\n [6 7]]\n"
     ]
    }
   ],
   "source": [
    "print(matrix[0:2, 0:2])"
   ]
  },
  {
   "cell_type": "markdown",
   "metadata": {},
   "source": [
    "## Ejercicio 6\n",
    "Obtén el siguiente array, partiendo de la matriz del ejercicio 4\n",
    "```Python\n",
    "array([[ 1,  3,  5],\n",
    "       [11, 13, 15]])\n",
    "```"
   ]
  },
  {
   "cell_type": "code",
   "execution_count": 25,
   "metadata": {},
   "outputs": [
    {
     "output_type": "stream",
     "name": "stdout",
     "text": [
      "[[ 1  3  5]\n [11 13 15]]\n"
     ]
    }
   ],
   "source": [
    "print(matrix[::2, ::2])"
   ]
  },
  {
   "cell_type": "markdown",
   "metadata": {},
   "source": [
    "## Ejercicio 7\n",
    "Obtén el siguiente array, partiendo de la matriz del ejercicio 4\n",
    "```Python\n",
    "array([[ 5,  4,  3,  2,  1],\n",
    "       [10,  9,  8,  7,  6],\n",
    "       [15, 14, 13, 12, 11]])\n",
    "```"
   ]
  },
  {
   "cell_type": "code",
   "execution_count": 26,
   "metadata": {},
   "outputs": [
    {
     "output_type": "stream",
     "name": "stdout",
     "text": [
      "[[ 5  4  3  2  1]\n [10  9  8  7  6]\n [15 14 13 12 11]]\n"
     ]
    }
   ],
   "source": [
    "print(matrix[:-1, ::-1])"
   ]
  },
  {
   "cell_type": "markdown",
   "metadata": {},
   "source": [
    "## Ejercicio 8\n",
    "Dado el siguiente array:\n",
    "\n",
    "```Python\n",
    "x = np.array([\"Loro\", \"Perro\", \"Gato\", \"Loro\", \"Perro\"])\n",
    "```\n",
    "\n",
    "Filtra el array para quedarte únicamente con los loros.\n",
    "\n",
    "Resuélvelo de dos maneras diferentes"
   ]
  },
  {
   "cell_type": "code",
   "execution_count": 46,
   "metadata": {},
   "outputs": [],
   "source": [
    "x = np.array([\"Loro\", \"Perro\", \"Gato\", \"Loro\", \"Perro\"])"
   ]
  },
  {
   "cell_type": "code",
   "execution_count": 47,
   "metadata": {},
   "outputs": [
    {
     "output_type": "stream",
     "name": "stdout",
     "text": [
      "['Loro' 'Loro']\n"
     ]
    }
   ],
   "source": [
    "true_x = x == 'Loro'\n",
    "print(x[true_x])"
   ]
  },
  {
   "cell_type": "code",
   "execution_count": 56,
   "metadata": {},
   "outputs": [
    {
     "output_type": "stream",
     "name": "stdout",
     "text": [
      "['Loro' 'Loro']\n"
     ]
    }
   ],
   "source": [
    "solo_loros = np.where(x=='Loro', 1, 0)\n",
    "loro_indice = np.nonzero(solo_loros)\n",
    "print(x[loro_indice])"
   ]
  },
  {
   "cell_type": "markdown",
   "metadata": {},
   "source": [
    "## Ejercicio 9\n",
    "Crea una secuencia de 20 elementos y transformala en un array compuesto por 2 matrices de 5x2"
   ]
  },
  {
   "cell_type": "code",
   "execution_count": 59,
   "metadata": {},
   "outputs": [
    {
     "output_type": "execute_result",
     "data": {
      "text/plain": [
       "array([[[ 0,  1],\n",
       "        [ 2,  3],\n",
       "        [ 4,  5],\n",
       "        [ 6,  7],\n",
       "        [ 8,  9]],\n",
       "\n",
       "       [[10, 11],\n",
       "        [12, 13],\n",
       "        [14, 15],\n",
       "        [16, 17],\n",
       "        [18, 19]]])"
      ]
     },
     "metadata": {},
     "execution_count": 59
    }
   ],
   "source": [
    "secuencia = [x for x in range(20)]\n",
    "secuencia = np.array(secuencia).reshape(2, 5, 2)\n",
    "secuencia"
   ]
  },
  {
   "cell_type": "markdown",
   "metadata": {},
   "source": [
    "## Ejercicio 10\n",
    "Obtén el siguiente array, partiendo de la matriz del **ejercicio 4**\n",
    "```Python\n",
    "array([[20, 19, 18, 17, 16],\n",
    "       [15, 14, 13, 12, 11],\n",
    "       [10,  9,  8,  7,  6],\n",
    "       [ 5,  4,  3,  2,  1]])\n",
    "```"
   ]
  },
  {
   "cell_type": "code",
   "execution_count": 61,
   "metadata": {},
   "outputs": [
    {
     "output_type": "execute_result",
     "data": {
      "text/plain": [
       "array([[20, 19, 18, 17, 16],\n",
       "       [15, 14, 13, 12, 11],\n",
       "       [10,  9,  8,  7,  6],\n",
       "       [ 5,  4,  3,  2,  1]])"
      ]
     },
     "metadata": {},
     "execution_count": 61
    }
   ],
   "source": [
    "print(matrix[::-1, ::-1])"
   ]
  },
  {
   "cell_type": "markdown",
   "metadata": {},
   "source": [
    "## Ejercicio 11\n",
    "Crea un array de 10 0s. ¿Cuánto ocupa en memoria?\n",
    "\n",
    "Sustituye el 4to elemento por 1, e imprime el array por pantalla"
   ]
  },
  {
   "cell_type": "code",
   "execution_count": 67,
   "metadata": {},
   "outputs": [
    {
     "output_type": "stream",
     "name": "stdout",
     "text": [
      "El array ocupa 80 bytes\n[0. 0. 0. 1. 0. 0. 0. 0. 0. 0.]\n"
     ]
    }
   ],
   "source": [
    "zero_array = np.zeros(10)\n",
    "print(f'El array ocupa {zero_array.nbytes} bytes')\n",
    "zero_array[3] = 1\n",
    "print(zero_array)"
   ]
  },
  {
   "cell_type": "markdown",
   "metadata": {},
   "source": [
    "## Ejercicio 12\n",
    "Crea un vector que vaya del 10 al 49\n",
    "\n",
    "Inviértelo"
   ]
  },
  {
   "cell_type": "code",
   "execution_count": 68,
   "metadata": {},
   "outputs": [
    {
     "output_type": "execute_result",
     "data": {
      "text/plain": [
       "array([49, 48, 47, 46, 45, 44, 43, 42, 41, 40, 39, 38, 37, 36, 35, 34, 33,\n",
       "       32, 31, 30, 29, 28, 27, 26, 25, 24, 23, 22, 21, 20, 19, 18, 17, 16,\n",
       "       15, 14, 13, 12, 11, 10])"
      ]
     },
     "metadata": {},
     "execution_count": 68
    }
   ],
   "source": [
    "vector = np.arange(10, 50)\n",
    "vector[::-1]"
   ]
  },
  {
   "cell_type": "markdown",
   "metadata": {},
   "source": [
    "## Ejericio 13\n",
    "Encuentra los indices de los valores que no sean 0 del siguiente vector [[1,2,0,0,4,0]]. El output sería [[0, 1, 4]]. [Encuentra el método apropiado en la documentación.](https://numpy.org/doc/)"
   ]
  },
  {
   "cell_type": "code",
   "execution_count": 71,
   "metadata": {},
   "outputs": [
    {
     "output_type": "execute_result",
     "data": {
      "text/plain": [
       "[0, 1, 4]"
      ]
     },
     "metadata": {},
     "execution_count": 71
    }
   ],
   "source": [
    "vector = np.array([1, 2, 0, 0, 4, 0])\n",
    "indices = list(np.nonzero(vector)[0])\n",
    "indices"
   ]
  },
  {
   "cell_type": "markdown",
   "metadata": {},
   "source": [
    "## Ejercicio 14\n",
    "Crea una matriz de numeros aleatorios 10x10. Encuentra los valores mínimo y máximo."
   ]
  },
  {
   "cell_type": "code",
   "execution_count": 81,
   "metadata": {},
   "outputs": [
    {
     "output_type": "stream",
     "name": "stdout",
     "text": [
      "[[0.30563097 0.93229606 0.48086701 0.72673924 0.87649583 0.9787531\n  0.73389931 0.79208834 0.12887159 0.98248716]\n [0.33836726 0.26882912 0.40743139 0.14747331 0.3708369  0.53166894\n  0.15447698 0.74516821 0.11086768 0.42183821]\n [0.68804037 0.70647795 0.68470773 0.49128318 0.52643949 0.68334061\n  0.6145693  0.20693315 0.72229342 0.31513496]\n [0.09451541 0.88532816 0.45621159 0.50151089 0.72720053 0.09038663\n  0.02062376 0.28050827 0.15825668 0.70562364]\n [0.32662748 0.56406602 0.52447997 0.06561112 0.4242877  0.80575674\n  0.22639542 0.49266494 0.58289058 0.05630259]\n [0.1556693  0.8116516  0.33833887 0.73514449 0.32203768 0.48562381\n  0.11702216 0.16825869 0.81710634 0.1720097 ]\n [0.37362479 0.42289367 0.73377796 0.09773999 0.60892554 0.26317527\n  0.91805556 0.37332449 0.4849798  0.38488273]\n [0.80593178 0.88532662 0.1646823  0.25056363 0.76446139 0.7712044\n  0.94781708 0.06780356 0.20601044 0.46356818]\n [0.61335925 0.17618303 0.42891751 0.05398423 0.39779735 0.84759017\n  0.36572194 0.46010066 0.71906092 0.53947024]\n [0.43182947 0.94429127 0.87288436 0.26968491 0.00932176 0.43618955\n  0.90578737 0.50543402 0.27647601 0.89852347]]\nEl valor maximo es 0.9824871614208216 y el valor minimo 0.009321755486444316\n"
     ]
    }
   ],
   "source": [
    "aleatorio = np.random.rand(10, 10)\n",
    "print(aleatorio)\n",
    "print(f'El valor maximo es {aleatorio.max()} y el valor minimo {aleatorio.min()}')"
   ]
  },
  {
   "cell_type": "markdown",
   "metadata": {},
   "source": [
    "## Ejercicio 15\n",
    "Crea un vector aleatorio de tamaño 30 y calcula su media"
   ]
  },
  {
   "cell_type": "code",
   "execution_count": 124,
   "metadata": {},
   "outputs": [
    {
     "output_type": "execute_result",
     "data": {
      "text/plain": [
       "0.4969334333704933"
      ]
     },
     "metadata": {},
     "execution_count": 124
    }
   ],
   "source": [
    "aleatorio = np.random.rand(30)\n",
    "aleatorio.mean()"
   ]
  },
  {
   "cell_type": "markdown",
   "metadata": {},
   "source": [
    "## Ejercicio 16\n",
    "Crea un array cuadrado de 2D, con las dimensiones que quieras, pero que todo el borde esté compuesto por 1s, y el interior por 0s"
   ]
  },
  {
   "cell_type": "code",
   "execution_count": 198,
   "metadata": {},
   "outputs": [
    {
     "output_type": "execute_result",
     "data": {
      "text/plain": [
       "array([[1, 1, 1, 1, 1, 1, 1, 1],\n",
       "       [1, 0, 0, 0, 0, 0, 0, 1],\n",
       "       [1, 0, 0, 0, 0, 0, 0, 1],\n",
       "       [1, 0, 0, 0, 0, 0, 0, 1],\n",
       "       [1, 0, 0, 0, 0, 0, 0, 1],\n",
       "       [1, 0, 0, 0, 0, 0, 0, 1],\n",
       "       [1, 0, 0, 0, 0, 0, 0, 1],\n",
       "       [1, 1, 1, 1, 1, 1, 1, 1]], dtype=uint8)"
      ]
     },
     "metadata": {},
     "execution_count": 198
    }
   ],
   "source": [
    "array = np.zeros(shape=(6, 6), dtype='uint8')\n",
    "array = np.pad(array, pad_width=1, constant_values=1)\n",
    "print(array)"
   ]
  },
  {
   "cell_type": "markdown",
   "metadata": {},
   "source": [
    "## Ejercicio 17\n",
    "Crea una matriz de 8x8, y rellénala con 0s y 1s. Tienes que replicar:\n",
    "```Python\n",
    "[[0 1 0 1 0 1 0 1]\n",
    " [1 0 1 0 1 0 1 0]\n",
    " [0 1 0 1 0 1 0 1]\n",
    " [1 0 1 0 1 0 1 0]\n",
    " [0 1 0 1 0 1 0 1]\n",
    " [1 0 1 0 1 0 1 0]\n",
    " [0 1 0 1 0 1 0 1]\n",
    " [1 0 1 0 1 0 1 0]]\n",
    "```"
   ]
  },
  {
   "cell_type": "code",
   "execution_count": 203,
   "metadata": {},
   "outputs": [
    {
     "output_type": "stream",
     "name": "stdout",
     "text": [
      "[[0 1 0 1 0 1 0 1]\n [1 0 1 0 1 0 1 0]\n [0 1 0 1 0 1 0 1]\n [1 0 1 0 1 0 1 0]\n [0 1 0 1 0 1 0 1]\n [1 0 1 0 1 0 1 0]\n [0 1 0 1 0 1 0 1]\n [1 0 1 0 1 0 1 0]]\n"
     ]
    }
   ],
   "source": [
    "matrix = np.ones(shape=(8, 8), dtype='uint8')\n",
    "for i in range(matrix.shape[0]):\n",
    "    for j in range(matrix.shape[1]):\n",
    "        if (i+j) % 2 == 0:\n",
    "            matrix[i][j] = 0\n",
    "print(matrix)"
   ]
  },
  {
   "cell_type": "markdown",
   "metadata": {},
   "source": [
    "## Ejercicio 18\n",
    "Replica la matriz del apartado anterior, pero en este caso usando [la función `tile`](https://numpy.org/doc/stable/reference/generated/numpy.tile.html)"
   ]
  },
  {
   "cell_type": "code",
   "execution_count": 210,
   "metadata": {},
   "outputs": [
    {
     "output_type": "stream",
     "name": "stdout",
     "text": [
      "[[0 1 0 1 0 1 0 1]\n [1 0 1 0 1 0 1 0]\n [0 1 0 1 0 1 0 1]\n [1 0 1 0 1 0 1 0]\n [0 1 0 1 0 1 0 1]\n [1 0 1 0 1 0 1 0]\n [0 1 0 1 0 1 0 1]\n [1 0 1 0 1 0 1 0]]\n"
     ]
    }
   ],
   "source": [
    "matrix = np.array([[0, 1],[1,0]])\n",
    "matrix = np.tile(matrix, (4, 4))\n",
    "print(matrix)"
   ]
  },
  {
   "cell_type": "markdown",
   "metadata": {},
   "source": [
    "## Ejercicio 19\n",
    "Crea una matriz aleatoria de 5x5 y normaliza sus valores. Para normalizar tienes que restar sus valores por la media(`np.mean`) y dividir el resultado por la desviación estándar(`np.std`)."
   ]
  },
  {
   "cell_type": "code",
   "execution_count": 216,
   "metadata": {},
   "outputs": [
    {
     "output_type": "stream",
     "name": "stdout",
     "text": [
      "[[-0.81422321 -1.0354973   0.20115281  0.39768433  1.17587392]\n [ 0.43297485  1.48085285  0.67761193 -1.63256282 -0.93402409]\n [-0.335216   -1.89791911  0.27866081  1.22936501  0.36079091]\n [-0.92469013 -0.24067218 -0.91414662  0.8994917  -0.98254687]\n [ 1.24123592  1.21506147 -1.03837375  1.46907827 -0.30996271]]\n"
     ]
    }
   ],
   "source": [
    "aleatoria = np.random.rand(5, 5)\n",
    "aleatoria = (aleatoria - aleatoria.mean()) / aleatoria.std()\n",
    "print(aleatoria)"
   ]
  },
  {
   "cell_type": "markdown",
   "metadata": {},
   "source": [
    "## Ejercicio 20\n",
    "1. Crea una secuencia de números que vayan del 0 al 10.\n",
    "2. Crea un nuevo array, que parta del anterior, pero sustituya todos los elementos entre el 3 y el 8, por el valor -1\n",
    "3. Crea un nuevo array que niegue todos los elementos entre el 3 y el 8"
   ]
  },
  {
   "cell_type": "code",
   "execution_count": 231,
   "metadata": {},
   "outputs": [
    {
     "output_type": "stream",
     "name": "stdout",
     "text": [
      "[ 0  1  2  3  4  5  6  7  8  9 10]\n[ 0  1  2  3 -1 -1 -1 -1  8  9 10]\n[ 0  1  2  9 10]\n"
     ]
    }
   ],
   "source": [
    "# 1\n",
    "secuencia = np.arange(11)\n",
    "# 2\n",
    "secuencia2 = np.where((secuencia<8) & (secuencia>3), -1, secuencia)\n",
    "# 3\n",
    "secuencia3 = secuencia[np.where((secuencia>8) | (secuencia<3))]\n",
    "print(secuencia, secuencia2, secuencia3, sep='\\n')"
   ]
  },
  {
   "cell_type": "markdown",
   "metadata": {},
   "source": [
    "## Ejercicio 21 \n",
    "#### Bonus track. Mini hundir la flota para ir practicando.\n",
    "##### Te ayudará a entender la lógica de la tarea Hundir la Flota.\n",
    "1. Crea un tablero de 10x10 relleno del carácter espacio ( ).\n",
    "2. Posiciona un par de barcos en [(0,1), (1,1)] y [(1,3), (1,4), (1,5), (1,6)]. Los barcos serán Os mayúsculas. Como ves, un barco de dos posiciones de eslora y otro de cuatro.\n",
    "3. Recibe un disparo en uno de los barcos, sustituyendo la O por una X\n",
    "4. Recibe un disparo en agua, sustituyendo uno de los espacios por un guión: -\n",
    "5. Ignorando los disparos recibidos, ahora prueba a posicionar otro barco de 4 posiciones dentro del tablero, pero **de manera ALEATORIA.**\n",
    "\n",
    "**TIP apartado 5**: El barco tendrá una posición inicial aleatoria dentro del tablero, y una orientación también aleatoria (N,S,E,O).\n",
    "\n",
    "Por ejemplo, si tu posicion inicial fuese (5,0) y la orientación O, no podrias ponerlo porque se sale del tablero. Ahora bien, si fuese orientación este, si podrías, y ocuparía las posiciones [(5,0), (5,1), (5,2), (5,3)]. Por tanto tendrás que iterar con un bucle si es posible encajar el barco en el tablero, y el bucle terminará cuando lo consigas encajar. **Ojo con las posiciones donde ya hay barco!!!**\n",
    "\n",
    "Usa `import random` para elegir las coordenadas aleatorias."
   ]
  },
  {
   "cell_type": "code",
   "execution_count": 56,
   "metadata": {
    "tags": []
   },
   "outputs": [
    {
     "output_type": "stream",
     "name": "stdout",
     "text": [
      "Añadido barco de eslora 4 en la posicion inicial (9, 1) con orientacion Este\n[[' ' 'O' ' ' ' ' ' ' ' ' ' ' ' ' ' ' ' ']\n [' ' 'O' ' ' 'O' 'X' 'O' 'O' ' ' ' ' ' ']\n [' ' ' ' ' ' ' ' ' ' ' ' ' ' ' ' ' ' ' ']\n [' ' ' ' ' ' ' ' ' ' ' ' ' ' ' ' ' ' ' ']\n [' ' ' ' ' ' ' ' ' ' ' ' ' ' ' ' ' ' ' ']\n [' ' ' ' ' ' ' ' ' ' ' ' ' ' ' ' ' ' ' ']\n [' ' ' ' ' ' ' ' ' ' ' ' ' ' '_' ' ' ' ']\n [' ' ' ' ' ' ' ' ' ' ' ' ' ' ' ' ' ' ' ']\n [' ' ' ' ' ' ' ' ' ' ' ' ' ' ' ' ' ' ' ']\n [' ' 'O' 'O' 'O' 'O' ' ' ' ' ' ' ' ' ' ']]\n"
     ]
    }
   ],
   "source": [
    "import random\n",
    "\n",
    "tablero = np.ndarray((10, 10), dtype='U1')       # Inicializo una array 10x10 con tipo de dato unicode de 1 byte\n",
    "tablero[:] = ' '                                 # Asigno el valor (' ') a todo el array\n",
    "tablero[0:2, 1] = 'O'                            # Asigno el barco de 2 de eslora\n",
    "tablero[1, 3:7] = 'O'                            # Asigno el barco de 4 de eslora\n",
    "tablero[1, 4] = 'X'                              # Un barco recibe un disparo \n",
    "tablero[6, 7] = '_'                              # Un disparo falla\n",
    "\n",
    "diccionario_orientaciones = {'Norte' :0, 'Sur' :1, 'Este': 2, 'Oeste':3}\n",
    "while True:\n",
    "\n",
    "    x_inicial, y_inicial = random.randint(0, 9), random.randint(0, 9)\n",
    "    orientacion = random.choice(list(diccionario_orientaciones.keys())) # Aqui elegimos unas coordenadas y oreintacion aleaotrias\n",
    "    \n",
    "    if diccionario_orientaciones[orientacion] == 0: # Norte\n",
    "        if (y_inicial - 4 < 0) or not all(tablero[y_inicial -3 : y_inicial + 1, x_inicial] == ' '):\n",
    "        # La primer condicion es verdad si el indice se va fuera del rango de la matriz\n",
    "        # La segunda es verdad si hay algun barco o casilla ya marcada en el rango donde ira el barco\n",
    "        # Si alguna es verdad el bucle se reiniciara y se utilizaran otras coordenadas\n",
    "            continue\n",
    "        for i in range(y_inicial, y_inicial - 4, -1):\n",
    "            tablero[i][x_inicial] = 'O'\n",
    "\n",
    "    elif diccionario_orientaciones[orientacion] == 1: # Sur\n",
    "        if (y_inicial + 4 > 10) or not all(tablero[y_inicial: y_inicial + 4, x_inicial] == ' '):\n",
    "            continue\n",
    "        for i in range(y_inicial, y_inicial + 4):\n",
    "            tablero[i][x_inicial] = 'O'\n",
    "\n",
    "    elif diccionario_orientaciones[orientacion] == 2: # Este\n",
    "        if (x_inicial + 4 > 10) or not all(tablero[y_inicial, x_inicial: x_inicial + 4] == ' '):\n",
    "            continue\n",
    "        for i in range(x_inicial, x_inicial + 4):\n",
    "            tablero[y_inicial][i] = 'O'\n",
    "            \n",
    "    elif diccionario_orientaciones[orientacion] == 3: # Oeste\n",
    "        if (x_inicial - 4 < 0) or not all(tablero[y_inicial, x_inicial -3 :x_inicial + 1] == ' '):\n",
    "            continue\n",
    "        for i in range(x_inicial, x_inicial - 4, -1):\n",
    "            tablero[y_inicial][i] = 'O'\n",
    "            \n",
    "    break\n",
    "\n",
    "print(f'Añadido barco de eslora 4 en la posicion inicial {(y_inicial, x_inicial)} con orientacion {orientacion}')\n",
    "print(tablero)"
   ]
  },
  {
   "cell_type": "code",
   "execution_count": null,
   "metadata": {},
   "outputs": [],
   "source": []
  }
 ],
 "metadata": {
  "kernelspec": {
   "display_name": "Python 3",
   "language": "python",
   "name": "python3"
  },
  "language_info": {
   "codemirror_mode": {
    "name": "ipython",
    "version": 3
   },
   "file_extension": ".py",
   "mimetype": "text/x-python",
   "name": "python",
   "nbconvert_exporter": "python",
   "pygments_lexer": "ipython3",
   "version": "3.7.4"
  }
 },
 "nbformat": 4,
 "nbformat_minor": 4
}