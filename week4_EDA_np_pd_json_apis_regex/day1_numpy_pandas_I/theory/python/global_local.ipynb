{
 "metadata": {
  "language_info": {
   "codemirror_mode": {
    "name": "ipython",
    "version": 3
   },
   "file_extension": ".py",
   "mimetype": "text/x-python",
   "name": "python",
   "nbconvert_exporter": "python",
   "pygments_lexer": "ipython3",
   "version": "3.7.4"
  },
  "orig_nbformat": 2,
  "kernelspec": {
   "name": "python374jvsc74a57bd0aee8b7b246df8f9039afb4144a1f6fd8d2ca17a180786b69acc140d282b71a49",
   "display_name": "Python 3.7.4 64-bit"
  },
  "metadata": {
   "interpreter": {
    "hash": "aee8b7b246df8f9039afb4144a1f6fd8d2ca17a180786b69acc140d282b71a49"
   }
  }
 },
 "nbformat": 4,
 "nbformat_minor": 2,
 "cells": [
  {
   "cell_type": "code",
   "execution_count": 1,
   "metadata": {},
   "outputs": [
    {
     "output_type": "stream",
     "name": "stdout",
     "text": [
      "2\n14\n2\n"
     ]
    }
   ],
   "source": [
    "x = 2\n",
    "\n",
    "def funcion(x):\n",
    "    x = 7 + x\n",
    "    print(x)\n",
    "\n",
    "print(x)\n",
    "funcion(x=7)\n",
    "print(x)"
   ]
  },
  {
   "cell_type": "code",
   "execution_count": 2,
   "metadata": {},
   "outputs": [
    {
     "output_type": "stream",
     "name": "stdout",
     "text": [
      "2\n24\n2\n"
     ]
    }
   ],
   "source": [
    "x = 2\n",
    "a = 10\n",
    "\n",
    "def funcion(x):\n",
    "    x = 7 + x + a\n",
    "    print(x)\n",
    "\n",
    "print(x)\n",
    "funcion(x=7)\n",
    "print(x)"
   ]
  },
  {
   "cell_type": "code",
   "execution_count": 11,
   "metadata": {},
   "outputs": [
    {
     "output_type": "stream",
     "name": "stdout",
     "text": [
      "2\nb: 14\n24\n2\n10\n"
     ]
    }
   ],
   "source": [
    "x = 2\n",
    "a = 10\n",
    "\n",
    "def funcion(x):\n",
    "    b = a + 4\n",
    "    print(\"b:\", b)\n",
    "    x = 7 + x + a\n",
    "    print(x)\n",
    "\n",
    "print(x)\n",
    "funcion(x=7)\n",
    "print(x)\n",
    "print(a)"
   ]
  },
  {
   "cell_type": "code",
   "execution_count": 12,
   "metadata": {},
   "outputs": [
    {
     "output_type": "stream",
     "name": "stdout",
     "text": [
      "2\na: 12\nb: 16\n26\n2\n12\n"
     ]
    }
   ],
   "source": [
    "x = 2\n",
    "a = 10\n",
    "\n",
    "def funcion(x):\n",
    "    global a\n",
    "    a = a + 2\n",
    "    b = a + 4\n",
    "    print(\"a:\", a)\n",
    "    print(\"b:\", b)\n",
    "    x = 7 + x + a\n",
    "    print(x)\n",
    "\n",
    "print(x)\n",
    "funcion(x=7)\n",
    "print(x)\n",
    "print(a)"
   ]
  },
  {
   "cell_type": "code",
   "execution_count": 4,
   "metadata": {},
   "outputs": [
    {
     "output_type": "stream",
     "name": "stdout",
     "text": [
      "x 2\n[0, 1, 2, 'AS']\n"
     ]
    }
   ],
   "source": [
    "x = 99\n",
    "l1 = [0, 1, 2]\n",
    "def funcion(lista):\n",
    "    global x\n",
    "    x = 2\n",
    "    lista.append('AS')\n",
    "    lista = l1\n",
    "\n",
    "funcion(lista=l1)\n",
    "print('x', x)\n",
    "print(l1)"
   ]
  },
  {
   "cell_type": "code",
   "execution_count": null,
   "metadata": {},
   "outputs": [],
   "source": []
  }
 ]
}