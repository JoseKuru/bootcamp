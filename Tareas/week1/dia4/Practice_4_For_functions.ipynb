{
 "cells": [
  {
   "cell_type": "markdown",
   "metadata": {},
   "source": [
    "# Python | day 4 | for loop, functions (feat. basics & if/else) "
   ]
  },
  {
   "cell_type": "markdown",
   "metadata": {},
   "source": [
    "### Exercise 0.1 - Python Basics\n",
    "\n",
    "1. What do we use to make a line break in a print? And for a tab stop?\n",
    "\n",
    "have a look ---> http://elclubdelautodidacta.es/wp/2012/04/python-capitulo-31-exprimiendo-la-funcion-print/"
   ]
  },
  {
   "cell_type": "code",
   "execution_count": 1,
   "metadata": {},
   "outputs": [
    {
     "output_type": "stream",
     "name": "stdout",
     "text": [
      "hello\n3\nTrue\nhello 3 True\t"
     ]
    }
   ],
   "source": [
    "# Line break between arguments --> print(argument_1, argument_2..., sep='\\n')\n",
    "print('hello', 3, True, sep='\\n')\n",
    "# Tab stop at the end --> print(argument_1, argument_2..., end='\\t')\n",
    "print('hello', 3, True, end='\\t')"
   ]
  },
  {
   "cell_type": "markdown",
   "metadata": {},
   "source": [
    "2. Make a converter from dollars to euros. You'll have to use input."
   ]
  },
  {
   "cell_type": "code",
   "execution_count": 2,
   "metadata": {},
   "outputs": [
    {
     "output_type": "stream",
     "name": "stdout",
     "text": [
      "10 dollars are 8.4 euros\n"
     ]
    }
   ],
   "source": [
    "dollars = int(input('Enter the number of dollars: '))\n",
    "print(f'{dollars} dollars are {dollars * 0.84} euros')"
   ]
  },
  {
   "cell_type": "markdown",
   "metadata": {},
   "source": [
    "3. Declare two strings, one will be your first name and the other your last name. Declare your age in another variable. Print a sentence which include those variables, using ```f{}```. Wtf is that? check this out **-->** https://realpython.com/python-string-formatting/"
   ]
  },
  {
   "cell_type": "code",
   "execution_count": 3,
   "metadata": {},
   "outputs": [
    {
     "output_type": "stream",
     "name": "stdout",
     "text": [
      "My name is José Carlos Batista Rivero and I am 28 years old\n"
     ]
    }
   ],
   "source": [
    "first_name = 'José Carlos'\n",
    "last_name = 'Batista Rivero'\n",
    "age = 28\n",
    "print(f'My name is {first_name + \" \" + last_name} and I am {age} years old')"
   ]
  },
  {
   "cell_type": "markdown",
   "metadata": {},
   "source": [
    "4. Given the list `[4,7, -3]`, calculate its maximum, minimum and sum."
   ]
  },
  {
   "cell_type": "code",
   "execution_count": 4,
   "metadata": {},
   "outputs": [
    {
     "output_type": "stream",
     "name": "stdout",
     "text": [
      "Maximum element: 7\nMinimum element: -3\nSuma of elements: 8\n"
     ]
    }
   ],
   "source": [
    "lista = [4, 7, -3]\n",
    "maximun = max(lista)\n",
    "minimun = min(lista)\n",
    "sum_list = sum(lista)\n",
    "print(f'Maximum element: {maximun}\\nMinimum element: {minimun}\\nSuma of elements: {sum_list}')"
   ]
  },
  {
   "cell_type": "markdown",
   "metadata": {},
   "source": [
    "5. Save the number `38.38276252728` to a variable called `number_dec` and round it to 5 decimal places.\n"
   ]
  },
  {
   "cell_type": "code",
   "execution_count": 5,
   "metadata": {},
   "outputs": [
    {
     "output_type": "stream",
     "name": "stdout",
     "text": [
      "38.38276\n"
     ]
    }
   ],
   "source": [
    "number_dec = 38.38276252728\n",
    "print(round(number_dec, 5))"
   ]
  },
  {
   "cell_type": "markdown",
   "metadata": {},
   "source": [
    "6. Declare a variable `phrase` with the value `\"Born to be wild\"` and make it uppercase, then lowercase, divide it by spaces, and finally, replace `\"wild\"` with `\"Geek.\"`"
   ]
  },
  {
   "cell_type": "code",
   "execution_count": 6,
   "metadata": {},
   "outputs": [
    {
     "output_type": "execute_result",
     "data": {
      "text/plain": [
       "'Born to be Geek'"
      ]
     },
     "metadata": {},
     "execution_count": 6
    }
   ],
   "source": [
    "phrase = 'Born to be wild'\n",
    "phrase.upper()\n",
    "phrase.lower()\n",
    "phrase.split(' ')\n",
    "phrase.replace('wild', 'Geek')"
   ]
  },
  {
   "cell_type": "markdown",
   "metadata": {},
   "source": [
    "7. Create a program where two inputs are collected, and the output of the program is a boolean which tell the user whether those inputs are the same or not.\n"
   ]
  },
  {
   "cell_type": "code",
   "execution_count": 7,
   "metadata": {},
   "outputs": [
    {
     "output_type": "stream",
     "name": "stdout",
     "text": [
      "The sentence \"the first number is equal to the second number\" is False\n"
     ]
    }
   ],
   "source": [
    "first_number = int(input('Enter the first number: '))\n",
    "second_number = int(input('Enter the second number: '))\n",
    "print(f'The sentence \"the first number is equal to the second number\" is {first_number == second_number}')"
   ]
  },
  {
   "cell_type": "markdown",
   "metadata": {},
   "source": [
    "### Exercise 0.2 - If/else\n",
    "\n",
    "1. Create a decission tree using if/else sentences, to determine the price of the movies ticket. If the client's age is between 5 and 15 years, both included, the price will be 5, if she/he is retired and the movie is one of the `peliculas_discount`, the price is 4. In any other case, it will be 7 euros.\n",
    "\n",
    "You should create the list of `peliculas_discount` with your favourites movies. "
   ]
  },
  {
   "cell_type": "code",
   "execution_count": 8,
   "metadata": {},
   "outputs": [
    {
     "output_type": "stream",
     "name": "stdout",
     "text": [
      "Movie ticket for Alien costs 4€\n"
     ]
    }
   ],
   "source": [
    "client_age = int(input('Enter your age: '))\n",
    "client_movie = input('Enter the name of the movie you want to see: ')\n",
    "is_client_retired = bool(input('Enter 1 if you are retired, else enter 0'))\n",
    "peliculas_discounts = ['Blade runner', 'Paprika', 'Goodfellas', 'Alien', 'Ghost in the shell']\n",
    "if 5 <= client_age <= 15:\n",
    "    print(f'Movie ticket for {client_movie} costs 5€')\n",
    "elif is_client_retired and client_movie in peliculas_discounts:\n",
    "    print(f'Movie ticket for {client_movie} costs 4€')\n",
    "else:\n",
    "    print(f'Movie ticket for {client_movie} costs 7€')"
   ]
  },
  {
   "cell_type": "markdown",
   "metadata": {},
   "source": [
    "### Exercise 1 - For"
   ]
  },
  {
   "cell_type": "markdown",
   "metadata": {},
   "source": [
    "1. You are witnessing an epic battle between two powerful sorcerers: Gandalf and Saruman. Each sorcerer has 10 spells of variable power in their mind and they are going to throw them one after the other. The winner of the duel will be the one who wins more of those clashes between spells. Spells are represented as a list of 10 integers whose value equals the power of the spell.\n",
    "\n",
    "```python\n",
    "gandalf = [10, 11, 13, 30, 22, 11, 10, 33, 22, 22]\n",
    "saruman = [23, 66, 12, 43, 12, 10, 44, 23, 12, 17]\n",
    "```\n",
    "\n",
    "For example:\n",
    "\n",
    "The first clash is won by Saruman: 10 against 23, wins 23\n",
    "The second clash wins Saruman: 11 against 66, wins 66\n",
    "etc.\n",
    "You will create two variables, one for each sorcerer, where the sum of clashes won will be stored. Depending on which variable is greater at the end of the duel, you will show one of the following three results on the screen:\n",
    "```\n",
    "Gandalf wins\n",
    "Saruman wins\n",
    "Tie\n",
    "```"
   ]
  },
  {
   "cell_type": "code",
   "execution_count": 19,
   "metadata": {},
   "outputs": [
    {
     "output_type": "stream",
     "name": "stdout",
     "text": [
      "Gandalf wins\n"
     ]
    }
   ],
   "source": [
    "import random\n",
    "\n",
    "gandalf = [random.random() * 100 for x in range(10)]\n",
    "saruman = [random.random() * 100 for x in range(10)]\n",
    "gandalf_wins, saruman_wins = 0, 0\n",
    "for i in range(len(gandalf)):\n",
    "    if gandalf[i] > saruman[i]:\n",
    "        gandalf_wins += 1\n",
    "    elif gandalf[i] < saruman[i]:\n",
    "        saruman_wins += 1\n",
    "if gandalf_wins > saruman_wins:\n",
    "    print('Gandalf wins')\n",
    "elif gandalf_wins < saruman_wins:\n",
    "    print('Saruman wins')\n",
    "else:\n",
    "    print('Tie')"
   ]
  },
  {
   "cell_type": "markdown",
   "metadata": {},
   "source": [
    "### Exercise 2 - Functions"
   ]
  },
  {
   "cell_type": "markdown",
   "metadata": {},
   "source": [
    "1. Write a function program to sum up two given different numbers. "
   ]
  },
  {
   "cell_type": "code",
   "execution_count": 10,
   "metadata": {},
   "outputs": [],
   "source": [
    "def suma(a, b):\n",
    "    return a + b"
   ]
  },
  {
   "cell_type": "markdown",
   "metadata": {},
   "source": [
    "Call the function you've just defined to sum up: \n",
    "    - 5 and 6\n",
    "    - -3 and 10\n",
    "    - 99 and 789"
   ]
  },
  {
   "cell_type": "code",
   "execution_count": 11,
   "metadata": {},
   "outputs": [
    {
     "output_type": "stream",
     "name": "stdout",
     "text": [
      "11\n7\n888\n"
     ]
    }
   ],
   "source": [
    "print(suma(5, 6))\n",
    "print(suma(-3, 10))\n",
    "print(suma(99, 789))"
   ]
  },
  {
   "cell_type": "markdown",
   "metadata": {},
   "source": [
    "### Bonus Track"
   ]
  },
  {
   "cell_type": "markdown",
   "metadata": {},
   "source": [
    "2. Write a Python program to convert a tuple of characters into a string.\n",
    "\n",
    "    - Sample tuple: `(\"T\", \"H\", \"E\", \" \", \"B\", \"R\", \"I\", \"D\", \"G\", \"E\")`\n",
    "    - Expected output : `\"THE BRIDGE\"`\n",
    "    \n",
    "Hint: Turn it into a list. "
   ]
  },
  {
   "cell_type": "code",
   "execution_count": 12,
   "metadata": {},
   "outputs": [
    {
     "output_type": "execute_result",
     "data": {
      "text/plain": [
       "'THE BRIDGE'"
      ]
     },
     "metadata": {},
     "execution_count": 12
    }
   ],
   "source": [
    "sample_tuple = (\"T\", \"H\", \"E\", \" \", \"B\", \"R\", \"I\", \"D\", \"G\", \"E\")\n",
    "''.join(list(sample_tuple))"
   ]
  },
  {
   "cell_type": "markdown",
   "metadata": {},
   "source": [
    "3. Write a Python program to generate a list where the values are square of numbers between 1 and 30 (both included), and return a list of first and last 5 elements of the list."
   ]
  },
  {
   "cell_type": "code",
   "execution_count": 21,
   "metadata": {},
   "outputs": [
    {
     "output_type": "stream",
     "name": "stdout",
     "text": [
      "First 5 elements --> [1, 4, 9, 16, 25]\nLast 5 elements --> [676, 729, 784, 841]\n"
     ]
    }
   ],
   "source": [
    "list_squares = [x ** 2 for x in range(1, 31)]\n",
    "print(f'First 5 elements --> {list_squares[:5]}\\nLast 5 elements --> {list_squares[(len(list_squares) - 5):-1:]}')"
   ]
  },
  {
   "cell_type": "markdown",
   "metadata": {},
   "source": [
    "4. Create a program that calculates the average.\n",
    "\n",
    "The program will ask the user to specify how many numbers you want to enter, and will show a prompt to include number by number to a list, and then calculate the average of each number in that list."
   ]
  },
  {
   "cell_type": "code",
   "execution_count": 17,
   "metadata": {},
   "outputs": [
    {
     "output_type": "stream",
     "name": "stdout",
     "text": [
      "Data list --> [3, 7, 4, 6, 2, 7, 4, 5, 3, 7]\nThe average is 4.8\n"
     ]
    }
   ],
   "source": [
    "total_number = int(input('Enter the total number of data: '))\n",
    "data_list = []\n",
    "for n in range(total_number):\n",
    "    data_list.append(int(input(f'Enter the data number {n +1}')))\n",
    "average = sum(data_list)/total_number\n",
    "print(f'Data list --> {data_list}\\nThe average is {average}')"
   ]
  },
  {
   "cell_type": "markdown",
   "metadata": {},
   "source": [
    "# If you made it till here you did a fantastic work!"
   ]
  },
  {
   "cell_type": "markdown",
   "metadata": {},
   "source": [
    "![\"holo\"](https://img-9gag-fun.9cache.com/photo/aNg9wMK_460s.jpg)"
   ]
  },
  {
   "cell_type": "code",
   "execution_count": null,
   "metadata": {},
   "outputs": [],
   "source": []
  }
 ],
 "metadata": {
  "kernelspec": {
   "display_name": "Python 3",
   "language": "python",
   "name": "python3"
  },
  "language_info": {
   "codemirror_mode": {
    "name": "ipython",
    "version": 3
   },
   "file_extension": ".py",
   "mimetype": "text/x-python",
   "name": "python",
   "nbconvert_exporter": "python",
   "pygments_lexer": "ipython3",
   "version": "3.7.4-final"
  }
 },
 "nbformat": 4,
 "nbformat_minor": 4
}