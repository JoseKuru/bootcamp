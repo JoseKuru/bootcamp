{
 "metadata": {
  "language_info": {
   "codemirror_mode": {
    "name": "ipython",
    "version": 3
   },
   "file_extension": ".py",
   "mimetype": "text/x-python",
   "name": "python",
   "nbconvert_exporter": "python",
   "pygments_lexer": "ipython3",
   "version": "3.7.4-final"
  },
  "orig_nbformat": 2,
  "kernelspec": {
   "name": "python374jvsc74a57bd0aee8b7b246df8f9039afb4144a1f6fd8d2ca17a180786b69acc140d282b71a49",
   "display_name": "Python 3.7.4 64-bit"
  },
  "metadata": {
   "interpreter": {
    "hash": "aee8b7b246df8f9039afb4144a1f6fd8d2ca17a180786b69acc140d282b71a49"
   }
  }
 },
 "nbformat": 4,
 "nbformat_minor": 2,
 "cells": [
  {
   "cell_type": "code",
   "execution_count": 1,
   "metadata": {},
   "outputs": [
    {
     "output_type": "execute_result",
     "data": {
      "text/plain": [
       "[0, 1, 2, 3, 4, 5, 6, 7, 8, 9, 10]"
      ]
     },
     "metadata": {},
     "execution_count": 1
    }
   ],
   "source": [
    "lista = [x for x in range(11)]\n",
    "lista"
   ]
  },
  {
   "cell_type": "code",
   "execution_count": 18,
   "metadata": {},
   "outputs": [
    {
     "output_type": "execute_result",
     "data": {
      "text/plain": [
       "[10, 9, 8, 7, 6, 5]"
      ]
     },
     "metadata": {},
     "execution_count": 18
    }
   ],
   "source": [
    "# Lista slicing --> sigue algun tipo de orden. Buscar en google. CUIDADO TERMINA LA LISTA\n",
    "# Lista [start:stop:step]\n",
    "lista[:-7:-1]"
   ]
  },
  {
   "cell_type": "code",
   "execution_count": 19,
   "metadata": {},
   "outputs": [
    {
     "output_type": "execute_result",
     "data": {
      "text/plain": [
       "[10, 9, 8, 7, 6, 5, 4, 3, 2, 1, 0]"
      ]
     },
     "metadata": {},
     "execution_count": 19
    }
   ],
   "source": [
    "lista.sort(reverse=True)\n",
    "lista"
   ]
  },
  {
   "cell_type": "code",
   "execution_count": 20,
   "metadata": {},
   "outputs": [
    {
     "output_type": "execute_result",
     "data": {
      "text/plain": [
       "139692509919184"
      ]
     },
     "metadata": {},
     "execution_count": 20
    }
   ],
   "source": [
    "id(lista) # --> Identificador?"
   ]
  },
  {
   "cell_type": "code",
   "execution_count": 22,
   "metadata": {},
   "outputs": [],
   "source": [
    "conjunto_vacio = {0,}"
   ]
  },
  {
   "cell_type": "code",
   "execution_count": 29,
   "metadata": {},
   "outputs": [
    {
     "output_type": "stream",
     "name": "stdout",
     "text": [
      "XF\n1F\nGF\n"
     ]
    }
   ],
   "source": [
    "tupa = ['X', 1, 'G']\n",
    "for x in tupa:\n",
    "    try:\n",
    "        print(x + 'F')\n",
    "    except TypeError:\n",
    "        print(str(x) + 'F')"
   ]
  },
  {
   "cell_type": "code",
   "execution_count": 32,
   "metadata": {},
   "outputs": [
    {
     "output_type": "execute_result",
     "data": {
      "text/plain": [
       "[-2, -5, -8, -11, -14, -17, -20, -23, -26, -29, -32]"
      ]
     },
     "metadata": {},
     "execution_count": 32
    }
   ],
   "source": [
    "# rango[start:stop:step] --> Es un generador\n",
    "list(range(-2,-34,-3))"
   ]
  },
  {
   "cell_type": "code",
   "execution_count": 36,
   "metadata": {},
   "outputs": [
    {
     "output_type": "execute_result",
     "data": {
      "text/plain": [
       "[4, 6]"
      ]
     },
     "metadata": {},
     "execution_count": 36
    }
   ],
   "source": [
    "lista = [1, 2]\n",
    "lista2= [3, 4]\n",
    "lista_suma = []\n",
    "\n",
    "\"\"\"for i in range(len(lista)):\n",
    "       lista_suma.append(lista[i] + lista2[i])\"\"\"\n",
    "\n",
    "contador = 0\n",
    "for num in lista:\n",
    "    lista_suma.append(num + lista2[contador])\n",
    "    contador += 1\n",
    "lista_suma"
   ]
  },
  {
   "cell_type": "code",
   "execution_count": 37,
   "metadata": {},
   "outputs": [
    {
     "output_type": "stream",
     "name": "stdout",
     "text": [
      "2\n4\n6\n"
     ]
    }
   ],
   "source": [
    "# for normal\n",
    "lista = [2,4,6]\n",
    "for elemen in lista:\n",
    "    print(elemen)"
   ]
  },
  {
   "cell_type": "code",
   "execution_count": 38,
   "metadata": {},
   "outputs": [
    {
     "output_type": "stream",
     "name": "stdout",
     "text": [
      "2\n4\n6\n"
     ]
    }
   ],
   "source": [
    "# for range\n",
    "lista = [2,4,6]\n",
    "for elemen in range(len(lista)):\n",
    "    print(lista[elemen])"
   ]
  },
  {
   "cell_type": "code",
   "execution_count": 40,
   "metadata": {},
   "outputs": [
    {
     "output_type": "stream",
     "name": "stdout",
     "text": [
      "Elemento 2 en posicion 0\nElemento 4 en posicion 1\nElemento 6 en posicion 2\n"
     ]
    }
   ],
   "source": [
    "# for enumarate\n",
    "lista = [2,4,6]\n",
    "for i, elem in enumerate(lista):\n",
    "    print(f'Elemento {elem} en posicion {i}')"
   ]
  },
  {
   "cell_type": "code",
   "execution_count": 42,
   "metadata": {},
   "outputs": [
    {
     "output_type": "stream",
     "name": "stdout",
     "text": [
      "s x\nh f\n"
     ]
    }
   ],
   "source": [
    "lista = [1, 2, 'x', 'f', 9]\n",
    "lista2= [4, 5, 's', 'h', 3]\n",
    "for i, elem in enumerate(lista2):\n",
    "    if isinstance(elem, str):\n",
    "        print(elem, lista[i])"
   ]
  },
  {
   "cell_type": "code",
   "execution_count": 45,
   "metadata": {},
   "outputs": [
    {
     "output_type": "stream",
     "name": "stdout",
     "text": [
      "5\n"
     ]
    }
   ],
   "source": [
    "lista2= [4, 5, 's', 'h', 3, []]\n",
    "# Mostra los elementos de dos es dos \n",
    "\n",
    "for pos, v_elem in enumerate(lista2):\n",
    "    if (pos + 1) % 2 == 0 and isinstance(v_elem, int):\n",
    "        print(v_elem)\n"
   ]
  },
  {
   "cell_type": "code",
   "execution_count": 63,
   "metadata": {},
   "outputs": [
    {
     "output_type": "stream",
     "name": "stdout",
     "text": [
      "6\n5\nh?23\n?\n['xs']\nxs\n[]\n[True]\nTrue\nh?23\n"
     ]
    }
   ],
   "source": [
    "lista2= [6, 4, 5, 's24543', 'h?23', 3, ['xs'], '3', [], 2, [True]]\n",
    "\n",
    "#elementos en posciones pares\n",
    "#si es string el elemento en segunda posicion si tiene\n",
    "#si es lista, el primer elemento si tiene\n",
    "#mostar si o si el elemento en la quinta posicion\n",
    "for i, item in enumerate(lista2):\n",
    "    if i % 2 == 0:\n",
    "        print(item)\n",
    "        if isinstance(item, str) and len(item) >= 2:\n",
    "            print(item[1])\n",
    "        elif isinstance(item, list) and len(item) >= 1:\n",
    "            print(item[0])\n",
    "print(lista2[4])\n"
   ]
  },
  {
   "source": [
    "## FUNCIONES"
   ],
   "cell_type": "markdown",
   "metadata": {}
  },
  {
   "cell_type": "code",
   "execution_count": 70,
   "metadata": {},
   "outputs": [
    {
     "output_type": "stream",
     "name": "stdout",
     "text": [
      "Me ejecuto desde dentro de una funcion\n"
     ]
    },
    {
     "output_type": "execute_result",
     "data": {
      "text/plain": [
       "<function __main__.nombre_funcion()>"
      ]
     },
     "metadata": {},
     "execution_count": 70
    }
   ],
   "source": [
    "#def nombre_de_la_funcion():\n",
    "\n",
    "def nombre_funcion():\n",
    "    print(\"Me ejecuto desde dentro de una funcion\")\n",
    "\n",
    "nombre_funcion()\n",
    "nombre_funcion"
   ]
  },
  {
   "cell_type": "code",
   "execution_count": 71,
   "metadata": {},
   "outputs": [
    {
     "output_type": "stream",
     "name": "stdout",
     "text": [
      "Me ejecuto desde dentro de una funcion\n"
     ]
    }
   ],
   "source": [
    "nombre_funcion()"
   ]
  },
  {
   "cell_type": "code",
   "execution_count": 72,
   "metadata": {},
   "outputs": [],
   "source": [
    "def suma():\n",
    "    x = 3\n",
    "    x = 2\n",
    "    print(x + y)"
   ]
  },
  {
   "cell_type": "code",
   "execution_count": 73,
   "metadata": {},
   "outputs": [
    {
     "output_type": "stream",
     "name": "stdout",
     "text": [
      "5\n"
     ]
    }
   ],
   "source": [
    "suma()"
   ]
  },
  {
   "cell_type": "code",
   "execution_count": 79,
   "metadata": {},
   "outputs": [],
   "source": [
    "def suma_con_parametros(nombre_parametro): # --> No puedo insertar funciones dentro de la definicion de la funcion\n",
    "    print(5 + int(nombre_parametro))"
   ]
  },
  {
   "cell_type": "code",
   "execution_count": 81,
   "metadata": {},
   "outputs": [
    {
     "output_type": "stream",
     "name": "stdout",
     "text": [
      "7\n"
     ]
    }
   ],
   "source": [
    "x = input()\n",
    "suma_con_parametros(x)"
   ]
  },
  {
   "cell_type": "code",
   "execution_count": 84,
   "metadata": {},
   "outputs": [],
   "source": [
    "def multiplicacion(par1, par2):\n",
    "    if par1 > 0 and par2 >0:\n",
    "        print(par1 * par2)\n",
    "    else:\n",
    "        print(\"Solo se aceptan numeros positivos\")"
   ]
  },
  {
   "cell_type": "code",
   "execution_count": 86,
   "metadata": {},
   "outputs": [
    {
     "output_type": "stream",
     "name": "stdout",
     "text": [
      "Solo se aceptan numeros enteros\n"
     ]
    }
   ],
   "source": [
    "multiplicacion(par1=-4, par2=5)"
   ]
  },
  {
   "cell_type": "code",
   "execution_count": null,
   "metadata": {},
   "outputs": [],
   "source": [
    "def nf(param1)\n",
    "print(2)\n",
    "print"
   ]
  },
  {
   "cell_type": "code",
   "execution_count": null,
   "metadata": {},
   "outputs": [],
   "source": [
    "# Las funciones tienen por defecto un 'return None'\n",
    "\n",
    "def f_con_return():\n",
    "    print(2)\n",
    "    return 3\n",
    "\n",
    "x = f_con_return() # x vale los que retorna la funcion"
   ]
  },
  {
   "cell_type": "code",
   "execution_count": 4,
   "metadata": {},
   "outputs": [
    {
     "output_type": "stream",
     "name": "stdout",
     "text": [
      "hola\nNone\n"
     ]
    }
   ],
   "source": [
    "def f():\n",
    "    print('hola')\n",
    "print(f())"
   ]
  },
  {
   "cell_type": "code",
   "execution_count": null,
   "metadata": {},
   "outputs": [],
   "source": [
    "# Jupyter Notebooks no muestra None como output por defecto cuando el None esta en la ultima linea"
   ]
  },
  {
   "cell_type": "code",
   "execution_count": 6,
   "metadata": {},
   "outputs": [
    {
     "output_type": "stream",
     "name": "stdout",
     "text": [
      "6\n"
     ]
    },
    {
     "output_type": "execute_result",
     "data": {
      "text/plain": [
       "6"
      ]
     },
     "metadata": {},
     "execution_count": 6
    }
   ],
   "source": [
    "def suma_sin_return(a, b):\n",
    "    print(a + b)\n",
    "\n",
    "def suma_con_return(a, b):\n",
    "    return a + b\n",
    "\n",
    "suma_sin_return(a=2, b=4)\n",
    "suma_con_return(a=2, b=4)"
   ]
  },
  {
   "cell_type": "code",
   "execution_count": 8,
   "metadata": {},
   "outputs": [
    {
     "output_type": "stream",
     "name": "stdout",
     "text": [
      "20 100\n"
     ]
    }
   ],
   "source": [
    "def nueva_funcion(a, b):\n",
    "    suma = a +b\n",
    "    mult = a * \n",
    "    return suma, mult\n",
    "\n",
    "suma, mult = nueva_funcion(10, 10)\n",
    "print(suma, mult)"
   ]
  },
  {
   "cell_type": "code",
   "execution_count": 16,
   "metadata": {},
   "outputs": [
    {
     "output_type": "execute_result",
     "data": {
      "text/plain": [
       "[91.7249417368993,\n",
       " 14.107661077197807,\n",
       " 23.77881084147414,\n",
       " 50.670329763367285,\n",
       " 33.36406398291819,\n",
       " 60.18687384660567,\n",
       " 80.74879603478614,\n",
       " 15.19152335293672,\n",
       " 29.592747573128896,\n",
       " 57.71097837115675]"
      ]
     },
     "metadata": {},
     "execution_count": 16
    }
   ],
   "source": [
    "# Lo ultimo que ocurrre en una funcion durante su ejecucion es el 'return'\n",
    "import random\n",
    "\n",
    "def random_number():\n",
    "    return 100 * random.random()\n",
    "\n",
    "lista = [random_number() for i in range(10)]\n",
    "lista\n"
   ]
  },
  {
   "cell_type": "code",
   "execution_count": 27,
   "metadata": {},
   "outputs": [
    {
     "output_type": "stream",
     "name": "stdout",
     "text": [
      "Help on built-in function pop:\n\npop(index=-1, /) method of builtins.list instance\n    Remove and return item at index (default last).\n    \n    Raises IndexError if list is empty or index is out of range.\n\n"
     ]
    }
   ],
   "source": [
    "help(l.pop)"
   ]
  },
  {
   "cell_type": "code",
   "execution_count": 23,
   "metadata": {},
   "outputs": [],
   "source": [
    "def documentacion(a):\n",
    "    \"\"\"Descripcion de la variable\n",
    "\n",
    "    Params:\n",
    "        'a' --> tipo de dato\n",
    "\n",
    "    Return: \n",
    "        Lo que devuelve\n",
    "    \"\"\"\n",
    "    return 1"
   ]
  },
  {
   "cell_type": "code",
   "execution_count": 24,
   "metadata": {},
   "outputs": [
    {
     "output_type": "stream",
     "name": "stdout",
     "text": [
      "Help on function documentacion in module __main__:\n\ndocumentacion(a)\n    Descripcion de la variable\n    \n    Params:\n        'a' --> tipo de dato\n    \n    Return: \n        Lo que devuelve\n\n"
     ]
    }
   ],
   "source": [
    "help(documentacion)"
   ]
  },
  {
   "cell_type": "code",
   "execution_count": 29,
   "metadata": {},
   "outputs": [
    {
     "output_type": "error",
     "ename": "ValueError",
     "evalue": "invalid literal for int() with base 10: '3.2'",
     "traceback": [
      "\u001b[0;31m---------------------------------------------------------------------------\u001b[0m",
      "\u001b[0;31mValueError\u001b[0m                                Traceback (most recent call last)",
      "\u001b[0;32m<ipython-input-29-91869f0d3d8c>\u001b[0m in \u001b[0;36m<module>\u001b[0;34m\u001b[0m\n\u001b[0;32m----> 1\u001b[0;31m \u001b[0ma\u001b[0m \u001b[0;34m=\u001b[0m \u001b[0mint\u001b[0m\u001b[0;34m(\u001b[0m\u001b[0minput\u001b[0m\u001b[0;34m(\u001b[0m\u001b[0;34m)\u001b[0m\u001b[0;34m)\u001b[0m\u001b[0;34m\u001b[0m\u001b[0;34m\u001b[0m\u001b[0m\n\u001b[0m",
      "\u001b[0;31mValueError\u001b[0m: invalid literal for int() with base 10: '3.2'"
     ]
    }
   ],
   "source": [
    "a = int(input()) # -------------> Error si mento un float"
   ]
  },
  {
   "cell_type": "code",
   "execution_count": 34,
   "metadata": {},
   "outputs": [
    {
     "output_type": "stream",
     "name": "stdout",
     "text": [
      "Introduce una lista gilipollas\n"
     ]
    },
    {
     "output_type": "execute_result",
     "data": {
      "text/plain": [
       "4"
      ]
     },
     "metadata": {},
     "execution_count": 34
    }
   ],
   "source": [
    "def elimina_elemento(lista):\n",
    "    try:\n",
    "        lista.pop()\n",
    "    except AttributeError:\n",
    "        print(\"Introduce una lista gilipollas\")\n",
    "    pass # ---- Python lee esta keyword y salta a la siguiente linea sin hacer nada\n",
    "    return None\n",
    "\n",
    "lista = 4\n",
    "elimina_elemento(lista=lista)\n",
    "lista"
   ]
  },
  {
   "cell_type": "code",
   "execution_count": 35,
   "metadata": {},
   "outputs": [],
   "source": [
    "#Una funcion que guarde en una variable 'x' todos los nombres concatenados de la 'lista_nombres_altuta'\n",
    "#utilizansdo una funcion para ello x = nombre_funcion(lista=lisa_nombres_alturas)\n",
    "lista_nombres_alturas = [(\"Gabriel Vázquez\", 1.75),(\"Jonathan Abbondanza\",  1.70),(\"Nacho Fontal\", 1.82),(\"Javier Araiz\", 1.80),('Jonathan Suarez', 1.86),('Sonia Cobo', 1.73), ('Jorge García', 1.79), (\"Mary Meza\", 1.52), ('Leonardo Frazzetto', 1.75), (\"Nacho Astorga\",1.78),(\"José Carlos Batista\",1.70), (\"Isabel Palomares\", 1.78),(\"Marina Serrano\", 1.54), (\"Daniel Walker\", 1.87), (\"Clara Piniella\", 1.66), (\"Gina Garrido\", 1.63), (\"Adrià Gallardo\", 1.70), (\"María García-Maroto\", 1.64), (\"Susana Vázquez\",1.80), (\"Mauro Garcia-Oliva\", 1.77), (\"Juan Bayon\", 1.64), (\"Miguel Barquero\", 1.85), (\"Borja Puig\", 1.82), (\"Pablo Martínez\", 1.81), (\"Xinru Yang\", 1.60),(\"Pablo Díez\", 1.84),(\"Karina Inche\",1.61)]"
   ]
  },
  {
   "cell_type": "code",
   "execution_count": 44,
   "metadata": {},
   "outputs": [
    {
     "output_type": "stream",
     "name": "stdout",
     "text": [
      "Gabriel Vázquez, Jonathan Abbondanza, Nacho Fontal, Javier Araiz, Jonathan Suarez, Sonia Cobo, Jorge García, Mary Meza, Leonardo Frazzetto, Nacho Astorga, José Carlos Batista, Isabel Palomares, Marina Serrano, Daniel Walker, Clara Piniella, Gina Garrido, Adrià Gallardo, María García-Maroto, Susana Vázquez, Mauro Garcia-Oliva, Juan Bayon, Miguel Barquero, Borja Puig, Pablo Martínez, Xinru Yang, Pablo Díez, Karina Inche\n"
     ]
    }
   ],
   "source": [
    "def concatenacion_nombres(lista):\n",
    "    cadena_nombre = ''\n",
    "    for i, element in enumerate(lista):\n",
    "        cadena_nombre += element[0]\n",
    "        if i != len(lista)-1:\n",
    "            cadena_nombre += ', '\n",
    "    return cadena_nombre\n",
    "\n",
    "x = concatenacion_nombres(lista=lista_nombres_alturas)\n",
    "print(x)"
   ]
  },
  {
   "cell_type": "code",
   "execution_count": null,
   "metadata": {},
   "outputs": [],
   "source": []
  }
 ]
}