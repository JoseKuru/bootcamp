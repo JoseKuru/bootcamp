{
 "cells": [
  {
   "cell_type": "code",
   "execution_count": 18,
   "metadata": {},
   "outputs": [],
   "source": [
    "from datetime import date \n",
    "  \n",
    "class Person: \n",
    "    def __init__(self, name, age, is_alive): \n",
    "        self.__name = name \n",
    "        self.__age = age\n",
    "        self.__isalive = is_alive \n",
    "    \n",
    "    # @ --> decorador de la función\n",
    "    @classmethod\n",
    "    def from_birth_year(cls, name, birthyear): # -- Utilizar el constructo de otra manera\n",
    "        return cls(name=name, age=(date.today().year - birthyear), is_alive=True) \n",
    "      \n",
    "    @classmethod\n",
    "    def create_pepito(cls): \n",
    "        return cls(name=\"Pepito\", age=34, is_alive=True) \n",
    "\n",
    "    @classmethod\n",
    "    def create_alive_person(cls, name, age): \n",
    "        return cls(name=name, age=age, is_alive=True) \n",
    "\n",
    "    # @ --> decorador de la función\n",
    "    @staticmethod  # ---> se puede utilizar como un funcion publica, sin tener que utilizar una instancia de la clase\n",
    "    def is_adult(age):\n",
    "        return age >= 18\n",
    "  \n",
    "    @property\n",
    "    def name(self):\n",
    "        return self.__name\n",
    "\n",
    "    def funcion_normal(self):\n",
    "        return 2\n",
    "\n",
    "    @name.setter\n",
    "    def name(self, x):\n",
    "        if x == \"\" or x == None:\n",
    "            print(\"Por favor, escriba un nombre\")\n",
    "        else:\n",
    "            self.__name = x\n",
    "    \n",
    "    @property\n",
    "    def age(self):\n",
    "        return self.__age\n",
    "\n",
    "    @age.setter\n",
    "    def age(self, age):\n",
    "        self.__age = age\n",
    "\n",
    "    @property\n",
    "    def x(self):\n",
    "        return self.__x\n",
    "\n",
    "    def name_and_age(self):\n",
    "        print(self.age, self.name) \n",
    "\n",
    "    def __private_function(self):\n",
    "        print(\"I am private\")\n",
    "\n",
    "    def _protected_function(self):\n",
    "        print(\"I am protected\")\n",
    "        self.__private_function()\n",
    "\n",
    "    def public_function(self):\n",
    "        print(\"I am public and I will call my sisters private and protected functions\")\n",
    "        print(\"Calling protected...\")\n",
    "        self._protected_function()\n",
    "        print(\"Calling private...\")\n",
    "        self.__private_function()\n",
    "        print(\"They are safe!\")\n"
   ]
  },
  {
   "cell_type": "code",
   "execution_count": null,
   "metadata": {},
   "outputs": [],
   "source": [
    "p = Person(name=\"Gregorio\", age=92)\n",
    "p.name_and_age()\n",
    "p.is_adult(age=43)"
   ]
  },
  {
   "cell_type": "code",
   "execution_count": 13,
   "metadata": {},
   "outputs": [
    {
     "output_type": "stream",
     "name": "stdout",
     "text": [
      "34\nTrue\n"
     ]
    },
    {
     "output_type": "execute_result",
     "data": {
      "text/plain": [
       "'Pepito'"
      ]
     },
     "metadata": {},
     "execution_count": 13
    }
   ],
   "source": [
    "pepito = Person.create_pepito()\n",
    "print(pepito.age)\n",
    "print(pepito.is_adult(86))\n",
    "pepito.name"
   ]
  },
  {
   "cell_type": "code",
   "execution_count": 22,
   "metadata": {},
   "outputs": [
    {
     "output_type": "execute_result",
     "data": {
      "text/plain": [
       "True"
      ]
     },
     "metadata": {},
     "execution_count": 22
    }
   ],
   "source": [
    "pepito.is_adult(pepito.age)"
   ]
  },
  {
   "cell_type": "code",
   "execution_count": 23,
   "metadata": {},
   "outputs": [
    {
     "output_type": "execute_result",
     "data": {
      "text/plain": [
       "True"
      ]
     },
     "metadata": {},
     "execution_count": 23
    }
   ],
   "source": [
    "Person.is_adult(19)"
   ]
  },
  {
   "cell_type": "code",
   "execution_count": null,
   "metadata": {},
   "outputs": [],
   "source": [
    "pepito.x"
   ]
  },
  {
   "cell_type": "code",
   "execution_count": null,
   "metadata": {},
   "outputs": [],
   "source": [
    "pepito.name = \"Zidane\"\n",
    "pepito.name"
   ]
  },
  {
   "cell_type": "code",
   "execution_count": null,
   "metadata": {},
   "outputs": [],
   "source": [
    "pepito.x"
   ]
  },
  {
   "cell_type": "code",
   "execution_count": null,
   "metadata": {},
   "outputs": [],
   "source": [
    "Person.is_adult(86)"
   ]
  },
  {
   "cell_type": "code",
   "execution_count": null,
   "metadata": {},
   "outputs": [],
   "source": [
    "Person.name_and_age()"
   ]
  },
  {
   "cell_type": "code",
   "execution_count": null,
   "metadata": {},
   "outputs": [],
   "source": [
    "p = Person(name=\"\", age=56)"
   ]
  },
  {
   "cell_type": "code",
   "execution_count": null,
   "metadata": {},
   "outputs": [],
   "source": [
    "p = Person(name=\"Gregorio\", age=92)\n",
    "p.name "
   ]
  },
  {
   "cell_type": "code",
   "execution_count": null,
   "metadata": {},
   "outputs": [],
   "source": [
    "p.age"
   ]
  },
  {
   "cell_type": "code",
   "execution_count": null,
   "metadata": {},
   "outputs": [],
   "source": [
    "p.__age"
   ]
  },
  {
   "cell_type": "code",
   "execution_count": 12,
   "metadata": {},
   "outputs": [
    {
     "output_type": "stream",
     "name": "stdout",
     "text": [
      "Lucía\n"
     ]
    },
    {
     "output_type": "execute_result",
     "data": {
      "text/plain": [
       "29"
      ]
     },
     "metadata": {},
     "execution_count": 12
    }
   ],
   "source": [
    "lucia = Person.from_birth_year(name=\"Lucía\", birthyear=1992)\n",
    "print(lucia.name)\n",
    "lucia.age"
   ]
  },
  {
   "cell_type": "code",
   "execution_count": null,
   "metadata": {},
   "outputs": [],
   "source": [
    "lucia.age"
   ]
  },
  {
   "cell_type": "code",
   "execution_count": null,
   "metadata": {},
   "outputs": [],
   "source": []
  }
 ],
 "metadata": {
  "language_info": {
   "name": "python",
   "codemirror_mode": {
    "name": "ipython",
    "version": 3
   },
   "version": "3.7.4"
  },
  "orig_nbformat": 2,
  "file_extension": ".py",
  "mimetype": "text/x-python",
  "name": "python",
  "npconvert_exporter": "python",
  "pygments_lexer": "ipython3",
  "version": 3,
  "kernelspec": {
   "name": "python374jvsc74a57bd0aee8b7b246df8f9039afb4144a1f6fd8d2ca17a180786b69acc140d282b71a49",
   "display_name": "Python 3.7.4 64-bit"
  },
  "metadata": {
   "interpreter": {
    "hash": "aee8b7b246df8f9039afb4144a1f6fd8d2ca17a180786b69acc140d282b71a49"
   }
  }
 },
 "nbformat": 4,
 "nbformat_minor": 2
}