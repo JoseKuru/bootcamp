{
 "metadata": {
  "language_info": {
   "codemirror_mode": {
    "name": "ipython",
    "version": 3
   },
   "file_extension": ".py",
   "mimetype": "text/x-python",
   "name": "python",
   "nbconvert_exporter": "python",
   "pygments_lexer": "ipython3",
   "version": "3.7.4"
  },
  "orig_nbformat": 2,
  "kernelspec": {
   "name": "python374jvsc74a57bd0aee8b7b246df8f9039afb4144a1f6fd8d2ca17a180786b69acc140d282b71a49",
   "display_name": "Python 3.7.4 64-bit"
  },
  "metadata": {
   "interpreter": {
    "hash": "aee8b7b246df8f9039afb4144a1f6fd8d2ca17a180786b69acc140d282b71a49"
   }
  }
 },
 "nbformat": 4,
 "nbformat_minor": 2,
 "cells": [
  {
   "source": [
    "Here's your coding interview problem for today.\n",
    "\n",
    "This problem was asked by Facebook.\n",
    "\n",
    "Given a string of round, curly, and square open and closing brackets, return whether the brackets are balanced (well-formed).\n",
    "\n",
    "For example, given the string \"([])[]({})\", you should return true.\n",
    "\n",
    "{}\n",
    "\n",
    "Given the string \"([)]\" or \"((()\", you should return false.\n",
    "\n",
    "\"()[]{}\", True"
   ],
   "cell_type": "markdown",
   "metadata": {}
  },
  {
   "source": [
    "- This case is not correct: \n",
    "\n",
    "\"({)}\""
   ],
   "cell_type": "markdown",
   "metadata": {}
  },
  {
   "cell_type": "code",
   "execution_count": null,
   "metadata": {},
   "outputs": [],
   "source": [
    "# ([{)}] False\n",
    "\n",
    "# Your code"
   ]
  },
  {
   "cell_type": "code",
   "execution_count": 1,
   "metadata": {},
   "outputs": [],
   "source": [
    "case1 = '{()}'"
   ]
  },
  {
   "cell_type": "code",
   "execution_count": 2,
   "metadata": {},
   "outputs": [],
   "source": [
    "case2 = '{(})'"
   ]
  },
  {
   "cell_type": "code",
   "execution_count": 29,
   "metadata": {},
   "outputs": [],
   "source": [
    "def funcion(word: str):  \n",
    "    conjunto_abierto = ['{', '(', '[']\n",
    "    conjunto_cerrado = ['}', ')', ']']\n",
    "    diccionario = dict(zip(conjunto_cerrado, conjunto_abierto))\n",
    "    count = []\n",
    "    for pos, elemen in enumerate(word):\n",
    "        if pos == 0 and elemen not in conjunto_abierto:\n",
    "            return False # break --> return False\n",
    "        elif elemen in conjunto_cerrado:\n",
    "            if word[pos - 1] == diccionario[elemen]:\n",
    "                count.pop()\n",
    "                print('eliminado')\n",
    "        else:\n",
    "            count.append(elemen)\n",
    "        print(count)\n",
    "    if len(count) == 0:\n",
    "        return count\n",
    "    else: \n",
    "        return count"
   ]
  },
  {
   "cell_type": "code",
   "execution_count": 30,
   "metadata": {},
   "outputs": [
    {
     "output_type": "stream",
     "name": "stdout",
     "text": [
      "['{']\n['{', '(']\neliminado\n['{']\n['{']\n"
     ]
    },
    {
     "output_type": "execute_result",
     "data": {
      "text/plain": [
       "['{']"
      ]
     },
     "metadata": {},
     "execution_count": 30
    }
   ],
   "source": [
    "funcion(case1)"
   ]
  },
  {
   "cell_type": "code",
   "execution_count": 24,
   "metadata": {},
   "outputs": [
    {
     "output_type": "execute_result",
     "data": {
      "text/plain": [
       "['{', '(']"
      ]
     },
     "metadata": {},
     "execution_count": 24
    }
   ],
   "source": [
    "funcion(case2)"
   ]
  },
  {
   "cell_type": "code",
   "execution_count": null,
   "metadata": {},
   "outputs": [],
   "source": []
  }
 ]
}