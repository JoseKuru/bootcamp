{
 "cells": [
  {
   "cell_type": "markdown",
   "metadata": {},
   "source": [
    "Here's your coding interview problem for today.\n",
    "\n",
    "This problem was asked by Facebook.\n",
    "\n",
    "Given a string of round, curly, and square open and closing brackets, return whether the brackets are balanced (well-formed).\n",
    "\n",
    "For example, given the string \"([])[]({})\", you should return true.\n",
    "\n",
    "{}\n",
    "\n",
    "Given the string \"([)]\" or \"((()\", you should return false.\n",
    "\n",
    "\"()[]{}\", True"
   ]
  },
  {
   "cell_type": "markdown",
   "metadata": {},
   "source": [
    "- This case is not correct: \n",
    "\n",
    "\"({)}\""
   ]
  },
  {
   "cell_type": "code",
   "execution_count": 60,
   "metadata": {},
   "outputs": [],
   "source": [
    "def funcion(word: str):  \n",
    "    conjunto_abierto = ['{', '(', '[']\n",
    "    conjunto_cerrado = ['}', ')', ']']\n",
    "    diccionario = dict(zip(conjunto_cerrado, conjunto_abierto)) # Creamos un diccionario con los símbolos que aparecerán en nuestro string en formato símbolo_cerrado : símbolo_abierto\n",
    "    count = [] # Aquí iremos agregando cada símbolo de apertura en el string\n",
    "    for pos, elemen in enumerate(word):\n",
    "        if pos == 0 and elemen not in conjunto_abierto: # Si el primer símbolo es uno de cerrar, la función devolvera False directamente\n",
    "            return False\n",
    "        elif elemen in conjunto_abierto: # Agregaremos los símbolos de apertura\n",
    "             count.append(elemen)\n",
    "        elif elemen in conjunto_cerrado:\n",
    "            if count[-1] == diccionario[elemen]: # Si aparece un símbolo de clausura, miraremos si el último elemento de nuestra lista corresponde a su símbolo de apertura, y si es así, eliminaremos este último. Esto se realiza para asegurar que están balanceados\n",
    "                count.pop()\n",
    "    # Si el string es correcto, no debería quedar nada en nuestra lista            \n",
    "    if len(count) == 0:\n",
    "        return True\n",
    "    else: \n",
    "        return False"
   ]
  },
  {
   "cell_type": "code",
   "execution_count": 61,
   "metadata": {},
   "outputs": [
    {
     "data": {
      "text/plain": [
       "True"
      ]
     },
     "execution_count": 61,
     "metadata": {},
     "output_type": "execute_result"
    }
   ],
   "source": [
    "case1 = '{()}'\n",
    "funcion(case1)"
   ]
  },
  {
   "cell_type": "code",
   "execution_count": 62,
   "metadata": {},
   "outputs": [
    {
     "data": {
      "text/plain": [
       "False"
      ]
     },
     "execution_count": 62,
     "metadata": {},
     "output_type": "execute_result"
    }
   ],
   "source": [
    "case2 = '{(})'\n",
    "funcion(case2)"
   ]
  },
  {
   "cell_type": "code",
   "execution_count": null,
   "metadata": {},
   "outputs": [],
   "source": []
  }
 ],
 "metadata": {
  "kernelspec": {
   "display_name": "Python 3.7.4 64-bit",
   "name": "python374jvsc74a57bd0aee8b7b246df8f9039afb4144a1f6fd8d2ca17a180786b69acc140d282b71a49"
  },
  "language_info": {
   "name": "python",
   "version": ""
  },
  "metadata": {
   "interpreter": {
    "hash": "aee8b7b246df8f9039afb4144a1f6fd8d2ca17a180786b69acc140d282b71a49"
   }
  },
  "orig_nbformat": 2
 },
 "nbformat": 4,
 "nbformat_minor": 2
}