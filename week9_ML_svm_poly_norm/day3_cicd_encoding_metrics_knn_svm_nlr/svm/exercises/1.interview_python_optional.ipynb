{
 "metadata": {
  "language_info": {
   "codemirror_mode": {
    "name": "ipython",
    "version": 3
   },
   "file_extension": ".py",
   "mimetype": "text/x-python",
   "name": "python",
   "nbconvert_exporter": "python",
   "pygments_lexer": "ipython3",
   "version": "3.7.4"
  },
  "orig_nbformat": 2,
  "kernelspec": {
   "name": "python374jvsc74a57bd0aee8b7b246df8f9039afb4144a1f6fd8d2ca17a180786b69acc140d282b71a49",
   "display_name": "Python 3.7.4 64-bit"
  },
  "metadata": {
   "interpreter": {
    "hash": "aee8b7b246df8f9039afb4144a1f6fd8d2ca17a180786b69acc140d282b71a49"
   }
  }
 },
 "nbformat": 4,
 "nbformat_minor": 2,
 "cells": [
  {
   "source": [
    "Here's your coding interview problem for today.\n",
    "\n",
    "This problem was asked by Facebook.\n",
    "\n",
    "Given a string of round, curly, and square open and closing brackets, return whether the brackets are balanced (well-formed).\n",
    "\n",
    "For example, given the string \"([])[]({})\", you should return true.\n",
    "\n",
    "{}\n",
    "\n",
    "Given the string \"([)]\" or \"((()\", you should return false.\n",
    "\n",
    "\"()[]{}\", True"
   ],
   "cell_type": "markdown",
   "metadata": {}
  },
  {
   "source": [
    "- This case is not correct: \n",
    "\n",
    "\"({)}\""
   ],
   "cell_type": "markdown",
   "metadata": {}
  },
  {
   "cell_type": "code",
   "execution_count": 60,
   "metadata": {},
   "outputs": [],
   "source": [
    "def funcion(word: str):  \n",
    "    conjunto_abierto = ['{', '(', '[']\n",
    "    conjunto_cerrado = ['}', ')', ']']\n",
    "    diccionario = dict(zip(conjunto_cerrado, conjunto_abierto)) # Creamos un diccionario con los símbolos que aparecerán en nuestro string en formato símbolo_cerrado : símbolo_abierto\n",
    "    count = [] # Aquí iremos agregando cada símbolo de apertura en el string\n",
    "    for pos, elemen in enumerate(word):\n",
    "        if pos == 0 and elemen not in conjunto_abierto: # Si el primer símbolo es uno de cerrar, la función devolvera False directamente\n",
    "            return False\n",
    "        elif elemen in conjunto_abierto: # Agregaremos los símbolos de apertura\n",
    "             count.append(elemen)\n",
    "        elif elemen in conjunto_cerrado:\n",
    "            if count[-1] == diccionario[elemen]: # Si aparece un símbolo de clausura, miraremos si el último elemento de nuestra lista corresponde a su símbolo de apertura, y si es así, eliminaremos este último. Esto se realiza para asegurar que están balanceados\n",
    "                count.pop()\n",
    "    # Si el string es correcto, no debería quedar nada en nuestra lista            \n",
    "    if len(count) == 0:\n",
    "        return True\n",
    "    else: \n",
    "        return False"
   ]
  },
  {
   "cell_type": "code",
   "execution_count": 61,
   "metadata": {},
   "outputs": [
    {
     "output_type": "execute_result",
     "data": {
      "text/plain": [
       "True"
      ]
     },
     "metadata": {},
     "execution_count": 61
    }
   ],
   "source": [
    "case1 = '{()}'\n",
    "funcion(case1)"
   ]
  },
  {
   "cell_type": "code",
   "execution_count": 62,
   "metadata": {},
   "outputs": [
    {
     "output_type": "execute_result",
     "data": {
      "text/plain": [
       "False"
      ]
     },
     "metadata": {},
     "execution_count": 62
    }
   ],
   "source": [
    "case2 = '{(})'\n",
    "funcion(case2)"
   ]
  },
  {
   "cell_type": "code",
   "execution_count": null,
   "metadata": {},
   "outputs": [],
   "source": []
  }
 ]
}