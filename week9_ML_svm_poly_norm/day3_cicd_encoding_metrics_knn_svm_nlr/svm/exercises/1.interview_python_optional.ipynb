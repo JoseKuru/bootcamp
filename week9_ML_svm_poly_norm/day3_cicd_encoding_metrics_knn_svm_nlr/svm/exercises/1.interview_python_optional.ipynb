{
 "metadata": {
  "language_info": {
   "codemirror_mode": {
    "name": "ipython",
    "version": 3
   },
   "file_extension": ".py",
   "mimetype": "text/x-python",
   "name": "python",
   "nbconvert_exporter": "python",
   "pygments_lexer": "ipython3",
   "version": "3.7.4"
  },
  "orig_nbformat": 2,
  "kernelspec": {
   "name": "python374jvsc74a57bd0aee8b7b246df8f9039afb4144a1f6fd8d2ca17a180786b69acc140d282b71a49",
   "display_name": "Python 3.7.4 64-bit"
  },
  "metadata": {
   "interpreter": {
    "hash": "aee8b7b246df8f9039afb4144a1f6fd8d2ca17a180786b69acc140d282b71a49"
   }
  }
 },
 "nbformat": 4,
 "nbformat_minor": 2,
 "cells": [
  {
   "source": [
    "Here's your coding interview problem for today.\n",
    "\n",
    "This problem was asked by Facebook.\n",
    "\n",
    "Given a string of round, curly, and square open and closing brackets, return whether the brackets are balanced (well-formed).\n",
    "\n",
    "For example, given the string \"([])[]({})\", you should return true.\n",
    "\n",
    "{}\n",
    "\n",
    "Given the string \"([)]\" or \"((()\", you should return false.\n",
    "\n",
    "\"()[]{}\", True"
   ],
   "cell_type": "markdown",
   "metadata": {}
  },
  {
   "source": [
    "- This case is not correct: \n",
    "\n",
    "\"({)}\""
   ],
   "cell_type": "markdown",
   "metadata": {}
  },
  {
   "cell_type": "code",
   "execution_count": null,
   "metadata": {},
   "outputs": [],
   "source": [
    "# ([{)}] False\n",
    "\n",
    "# Your code"
   ]
  },
  {
   "cell_type": "code",
   "execution_count": 1,
   "metadata": {},
   "outputs": [],
   "source": [
    "case1 = '{()}'"
   ]
  },
  {
   "cell_type": "code",
   "execution_count": 2,
   "metadata": {},
   "outputs": [],
   "source": [
    "case2 = '{(})'"
   ]
  },
  {
   "cell_type": "code",
   "execution_count": 11,
   "metadata": {},
   "outputs": [
    {
     "output_type": "error",
     "ename": "IndexError",
     "evalue": "pop from empty list",
     "traceback": [
      "\u001b[0;31m---------------------------------------------------------------------------\u001b[0m",
      "\u001b[0;31mIndexError\u001b[0m                                Traceback (most recent call last)",
      "\u001b[0;32m<ipython-input-11-a907b38c20b2>\u001b[0m in \u001b[0;36m<module>\u001b[0;34m\u001b[0m\n\u001b[1;32m      8\u001b[0m     \u001b[0;32mif\u001b[0m \u001b[0melemen\u001b[0m \u001b[0;32min\u001b[0m \u001b[0mconjunto_cerrado\u001b[0m\u001b[0;34m:\u001b[0m\u001b[0;34m\u001b[0m\u001b[0;34m\u001b[0m\u001b[0m\n\u001b[1;32m      9\u001b[0m         \u001b[0;32mif\u001b[0m \u001b[0mcase1\u001b[0m\u001b[0;34m[\u001b[0m\u001b[0mpos\u001b[0m \u001b[0;34m-\u001b[0m \u001b[0;36m1\u001b[0m\u001b[0;34m]\u001b[0m \u001b[0;34m==\u001b[0m \u001b[0mdiccionario\u001b[0m\u001b[0;34m[\u001b[0m\u001b[0melemen\u001b[0m\u001b[0;34m]\u001b[0m\u001b[0;34m:\u001b[0m\u001b[0;34m\u001b[0m\u001b[0;34m\u001b[0m\u001b[0m\n\u001b[0;32m---> 10\u001b[0;31m             \u001b[0mcount\u001b[0m\u001b[0;34m.\u001b[0m\u001b[0mpop\u001b[0m\u001b[0;34m(\u001b[0m\u001b[0;34m)\u001b[0m\u001b[0;34m\u001b[0m\u001b[0;34m\u001b[0m\u001b[0m\n\u001b[0m\u001b[1;32m     11\u001b[0m     \u001b[0mcount\u001b[0m\u001b[0;34m.\u001b[0m\u001b[0mappend\u001b[0m\u001b[0;34m\u001b[0m\u001b[0;34m\u001b[0m\u001b[0m\n",
      "\u001b[0;31mIndexError\u001b[0m: pop from empty list"
     ]
    }
   ],
   "source": [
    "conjunto_abierto = ['{', '(', '[']\n",
    "conjunto_cerrado = ['}', ')', ']']\n",
    "diccionario = dict(zip(conjunto_cerrado, conjunto_abierto))\n",
    "count = []\n",
    "for pos, elemen in enumerate(case1):\n",
    "    if pos == 0 and elemen not in conjunto_abierto:\n",
    "        break\n",
    "    if elemen in conjunto_cerrado:\n",
    "        if case1[pos - 1] == diccionario[elemen]:\n",
    "            count.pop()\n",
    "    count.append"
   ]
  },
  {
   "cell_type": "code",
   "execution_count": 9,
   "metadata": {},
   "outputs": [
    {
     "output_type": "execute_result",
     "data": {
      "text/plain": [
       "{'}': '{', ')': '(', ']': '['}"
      ]
     },
     "metadata": {},
     "execution_count": 9
    }
   ],
   "source": [
    "conjunto_abierto = ['{', '(', '[']\n",
    "conjunto_cerrado = ['}', ')', ']']\n",
    "dict(zip(conjunto_cerrado, conjunto_abierto))"
   ]
  },
  {
   "cell_type": "code",
   "execution_count": null,
   "metadata": {},
   "outputs": [],
   "source": []
  }
 ]
}