{
 "metadata": {
  "language_info": {
   "codemirror_mode": {
    "name": "ipython",
    "version": 3
   },
   "file_extension": ".py",
   "mimetype": "text/x-python",
   "name": "python",
   "nbconvert_exporter": "python",
   "pygments_lexer": "ipython3",
   "version": "3.7.4"
  },
  "orig_nbformat": 2,
  "kernelspec": {
   "name": "python374jvsc74a57bd0aee8b7b246df8f9039afb4144a1f6fd8d2ca17a180786b69acc140d282b71a49",
   "display_name": "Python 3.7.4 64-bit"
  },
  "metadata": {
   "interpreter": {
    "hash": "aee8b7b246df8f9039afb4144a1f6fd8d2ca17a180786b69acc140d282b71a49"
   }
  }
 },
 "nbformat": 4,
 "nbformat_minor": 2,
 "cells": [
  {
   "source": [
    "## OOP --> Programación orientada a objetos"
   ],
   "cell_type": "markdown",
   "metadata": {}
  },
  {
   "cell_type": "code",
   "execution_count": 22,
   "metadata": {},
   "outputs": [],
   "source": [
    "class Humano:\n",
    "\n",
    "    #Crear funcion constructor\n",
    "    def __init__(self, nombre, edad, sexo, altura, color_pelo, ojos=2, piernas=2, especie='Homo Sapiens', jkl=9):\n",
    "        #nombre del atributo de la clase humano <---> valor\n",
    "        self.nombre = nombre\n",
    "        self.edad = 89\n",
    "        self.sexo = sexo\n",
    "        self.piernas = piernas\n",
    "\n",
    "    def mostrar_piernas(self):\n",
    "        print(self.piernas)\n",
    "\n",
    "    def mostrar_atributos(self):\n",
    "        print(f'El nombre del humano es {self.nombre}\\nLa edad del humano es {self.edad}\\njkl es {self.jkl}')\n",
    "\n",
    "    def muestra_jkl(self, jkl):\n",
    "        self.jkl = jkl\n",
    "\n",
    "ataulfo = Humano(nombre='Ataulfo', edad=25, sexo='H', altura=2.20, ojos=3, color_pelo='pelirojo')\n",
    "#print(ataulfo.nombre)\n",
    "#print(ataulfo.edad)\n",
    "#print(ataulfo.sexo)\n",
    "#ataulfo.mostrar_piernas()"
   ]
  },
  {
   "cell_type": "code",
   "execution_count": 23,
   "metadata": {},
   "outputs": [
    {
     "output_type": "execute_result",
     "data": {
      "text/plain": [
       "2"
      ]
     },
     "metadata": {},
     "execution_count": 23
    }
   ],
   "source": [
    "class Perro():   #### MALA PRAXIS?\n",
    "    ojos = 2\n",
    "    nombre = 'Simba'\n",
    "\n",
    "simba = Perro()\n",
    "simba.ojos"
   ]
  },
  {
   "cell_type": "code",
   "execution_count": 24,
   "metadata": {},
   "outputs": [
    {
     "output_type": "stream",
     "name": "stdout",
     "text": [
      "El nombre del humano es Ataulfo\nLa edad del humano es 89\njkl es 1000\n"
     ]
    }
   ],
   "source": [
    "ataulfo.muestra_jkl(jkl=1000)\n",
    "ataulfo.mostrar_atributos()"
   ]
  },
  {
   "cell_type": "code",
   "execution_count": null,
   "metadata": {},
   "outputs": [],
   "source": []
  }
 ]
}