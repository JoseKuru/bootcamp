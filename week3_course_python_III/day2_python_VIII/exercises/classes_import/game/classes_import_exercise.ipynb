{
 "metadata": {
  "language_info": {
   "codemirror_mode": {
    "name": "ipython",
    "version": 3
   },
   "file_extension": ".py",
   "mimetype": "text/x-python",
   "name": "python",
   "nbconvert_exporter": "python",
   "pygments_lexer": "ipython3",
   "version": "3.7.4"
  },
  "orig_nbformat": 2,
  "kernelspec": {
   "name": "python374jvsc74a57bd0aee8b7b246df8f9039afb4144a1f6fd8d2ca17a180786b69acc140d282b71a49",
   "display_name": "Python 3.7.4 64-bit"
  },
  "metadata": {
   "interpreter": {
    "hash": "aee8b7b246df8f9039afb4144a1f6fd8d2ca17a180786b69acc140d282b71a49"
   }
  }
 },
 "nbformat": 4,
 "nbformat_minor": 2,
 "cells": [
  {
   "source": [
    "## 1\n",
    "\n",
    "Crea un archivo 'ClaseHumano.py' en la carpeta 'objects' que contenga una clase:\n",
    "\n",
    "* 'Humano' que tiene:\n",
    "    - Un atributo 'ojos' que por defecto es 2\n",
    "    - Un atributo 'piernas' que por defecto es 2\n",
    "    - Un atributo 'dientes' que por defecto es 32\n",
    "    - Un atributo 'nombre'\n",
    "    - Un atributo 'armadura' \n",
    "    - Un atributo 'nivel' \n",
    "    - Un atributo 'ataque'\n",
    "    - Un atributo 'salud' que por defecto es 100\n",
    "    - Una función  llamada 'atacar' que recibe un argumento 'orco' que representa otra clase ('Orco'). Esta función resta a la vida del 'Orco' el ataque de 'Humano' menos la armadura de 'Orco'. Al final, muestra por pantalla la vida del 'Orco'\n",
    "    - Una función no_vivo que retorna True si la vida del 'Humano' es igual o inferior a 0, False en otro caso.\n",
    "    - Una función que muestre por pantalla todos los atributos actuales de 'Humano' concatenados con un String representando el nombre del atributo que se muestra. Ejemplo: \"Nombre: Ataulfo | dientes: 32 | salud: 100 | ...\"\n",
    "\n",
    "Crea un archivo 'ClaseOrco.py' en la carpeta 'objects' que contenga una clase:\n",
    "\n",
    "* 'Orco' que tiene:\n",
    "    - Un atributo 'ojos' que por defecto es 2\n",
    "    - Un atributo 'piernas' que por defecto es 2\n",
    "    - Un atributo 'dientes' que por defecto es 56\n",
    "    - Un atributo 'nombre'\n",
    "    - Un atributo 'armadura' \n",
    "    - Un atributo 'nivel' \n",
    "    - Un atributo 'ataque'\n",
    "    - Un atributo 'salud' que por defecto es 100\n",
    "    - Una función  llamada 'atacar' que recibe un argumento 'humano' que representa otra clase ('Humano'). Esta función resta a la vida del 'Humano' el ataque de 'Orco' menos la armadura de 'Humano'. Al final, muestra por pantalla la vida del 'Humano'\n",
    "    - Una función no_vivo que retorna True si la vida del 'Humano' es igual o inferior a 0, False en otro caso.\n",
    "    - Una función que muestre por pantalla todos los atributos actuales de 'Orco' concatenados con un String representando el nombre del atributo que se muestra. Ejemplo: \"Nombre: Graug | dientes: 56 | salud: 100 | ...\"   "
   ],
   "cell_type": "markdown",
   "metadata": {}
  },
  {
   "source": [
    "## 2\n",
    "\n",
    "Desde aquí, importa las clases del ejercicio 1 (tendrás que utilizar sys.path para poder importar los archivos/módulos/librerías/ficheros). Crea una instancia de Humano/a y otra de Orco/a:\n",
    "\n",
    "* La clase Humano/a ha de inicializarse con los siguientes valores:\n",
    "    - nombre: tu nombre\n",
    "    - nivel: tu edad\n",
    "    - armadura: un número Entero que sea un décimo de tu nivel redondeado hacia abajo\n",
    "    - ataque: un número Entero que sea un quinto de tu nivel redondeado hacia abajo\n",
    "    - Todo lo demás por defecto.\n",
    "\n",
    "* La clase Orco/a ha de inicializarse con los siguientes valores:\n",
    "    - nombre: el nombre de tu compañero/a\n",
    "    - nivel: su edad\n",
    "    - armadura: un número Entero que sea un quinceavo de su nivel redondeado hacia arriba\n",
    "    - ataque: un número Entero que sea un sexto de su nivel redondeado hacia arriba\n",
    "    - Todo lo demás por defecto.\n"
   ],
   "cell_type": "markdown",
   "metadata": {}
  },
  {
   "cell_type": "code",
   "execution_count": 5,
   "metadata": {},
   "outputs": [],
   "source": [
    "import os, sys, math\n",
    "\n",
    "ruta = os.path.dirname(os.getcwd())\n",
    "sys.path.append(ruta)\n",
    "\n",
    "from objects.ClaseHumano import Humano\n",
    "from objects.ClaseOrco import Orco"
   ]
  },
  {
   "cell_type": "code",
   "execution_count": 6,
   "metadata": {},
   "outputs": [],
   "source": [
    "jose = Humano(nombre = 'José', nivel=28, armadura=28//10, ataque=28//5)\n",
    "mauro = Orco(nombre = 'Mauro', nivel=45, armadura=math.ceil(45/15), ataque=math.ceil(45/6))"
   ]
  },
  {
   "source": [
    "## 3\n",
    "\n",
    "Crea un bucle infinito que espere en cada turno(Iteración) 1 segundo. Para ello has de utilizar la función 'sleep(1)' de la librería time. En cada uno de los turnos debe ocurrir lo siguiente:\n",
    "\n",
    "- Que se muestre por pantalla el número del turno que se lleva empezando desde 1.  \n",
    "- Que se ataquen las instancias. Para ello, has de llamar a la función 'atacar' de cada una de las instancias.\n",
    "- Comprobar si una instancia no está viva con la función correspondiente. Si una instancia no está viva, mostrar por pantalla que una de ellas ha perdido y la otra ha ganado. Terminar el juego aquí.\n",
    "- Mostrar al finalizar el turno una barra divisoria para diferenciar un turno del siguiente.\n",
    "\n",
    "Hay que tener en cuenta: \n",
    "\n",
    "- Una instancia no puede atacar a la otra si no está viva.\n",
    "- Empieza primero la instancia que tiene menos nivel."
   ],
   "cell_type": "markdown",
   "metadata": {}
  },
  {
   "cell_type": "code",
   "execution_count": 7,
   "metadata": {},
   "outputs": [
    {
     "output_type": "stream",
     "name": "stdout",
     "text": [
      "Turno numero : 1\n",
      "La salud de Mauro es 98\n",
      "La salud de José es 94\n",
      "----------\n",
      "Turno numero : 2\n",
      "La salud de Mauro es 96\n",
      "La salud de José es 88\n",
      "----------\n",
      "Turno numero : 3\n",
      "La salud de Mauro es 94\n",
      "La salud de José es 82\n",
      "----------\n",
      "Turno numero : 4\n",
      "La salud de Mauro es 92\n",
      "La salud de José es 76\n",
      "----------\n",
      "Turno numero : 5\n",
      "La salud de Mauro es 90\n",
      "La salud de José es 70\n",
      "----------\n",
      "Turno numero : 6\n",
      "La salud de Mauro es 88\n",
      "La salud de José es 64\n",
      "----------\n",
      "Turno numero : 7\n",
      "La salud de Mauro es 86\n",
      "La salud de José es 58\n",
      "----------\n",
      "Turno numero : 8\n",
      "La salud de Mauro es 84\n",
      "La salud de José es 52\n",
      "----------\n",
      "Turno numero : 9\n",
      "La salud de Mauro es 82\n",
      "La salud de José es 46\n",
      "----------\n",
      "Turno numero : 10\n",
      "La salud de Mauro es 80\n",
      "La salud de José es 40\n",
      "----------\n",
      "Turno numero : 11\n",
      "La salud de Mauro es 78\n",
      "La salud de José es 34\n",
      "----------\n",
      "Turno numero : 12\n",
      "La salud de Mauro es 76\n",
      "La salud de José es 28\n",
      "----------\n",
      "Turno numero : 13\n",
      "La salud de Mauro es 74\n",
      "La salud de José es 22\n",
      "----------\n",
      "Turno numero : 14\n",
      "La salud de Mauro es 72\n",
      "La salud de José es 16\n",
      "----------\n",
      "Turno numero : 15\n",
      "La salud de Mauro es 70\n",
      "La salud de José es 10\n",
      "----------\n",
      "Turno numero : 16\n",
      "La salud de Mauro es 68\n",
      "La salud de José es 4\n",
      "----------\n",
      "Turno numero : 17\n",
      "La salud de Mauro es 66\n",
      "La salud de José es -2\n",
      "José ha muerto\n"
     ]
    }
   ],
   "source": [
    "import time\n",
    "\n",
    "def ataque(Objeto1, Objeto2):\n",
    "    Objeto1.atacar(Objeto2)\n",
    "    if not Objeto2.no_vivo():\n",
    "        Objeto2.atacar(Objeto1)\n",
    "        if not Objeto1.no_vivo():\n",
    "            print('----------')\n",
    "            return True\n",
    "        else:\n",
    "            print(f'{Objeto1.nombre} ha muerto')\n",
    "            return False\n",
    "    else:\n",
    "        print(f'{Objeto2.nombre} ha muerto')\n",
    "        return False\n",
    "\n",
    "turno = 1\n",
    "loop = True\n",
    "while loop:\n",
    "    time.sleep(1)\n",
    "    print(f'Turno numero : {turno}')\n",
    "    if jose.nivel <= mauro.nivel:\n",
    "        loop = ataque(Objeto1=jose, Objeto2=mauro)\n",
    "        turno += 1\n",
    "        continue\n",
    "    else:\n",
    "        loop = ataque(Objeto1=mauro, Objeto2=jose)\n",
    "        turno += 1\n",
    "        continue"
   ]
  },
  {
   "source": [
    "### Enlace a github : https://github.com/JoseKuru/bootcamp/tree/main/week3_course_python_III/day2_python_VIII/exercises/classes_import"
   ],
   "cell_type": "markdown",
   "metadata": {}
  }
 ]
}