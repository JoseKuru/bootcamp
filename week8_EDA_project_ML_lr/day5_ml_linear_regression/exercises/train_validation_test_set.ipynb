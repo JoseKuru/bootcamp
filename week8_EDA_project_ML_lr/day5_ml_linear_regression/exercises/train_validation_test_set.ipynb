{
 "metadata": {
  "language_info": {
   "codemirror_mode": {
    "name": "ipython",
    "version": 3
   },
   "file_extension": ".py",
   "mimetype": "text/x-python",
   "name": "python",
   "nbconvert_exporter": "python",
   "pygments_lexer": "ipython3",
   "version": "3.7.4"
  },
  "orig_nbformat": 2,
  "kernelspec": {
   "name": "python374jvsc74a57bd0aee8b7b246df8f9039afb4144a1f6fd8d2ca17a180786b69acc140d282b71a49",
   "display_name": "Python 3.7.4 64-bit"
  },
  "metadata": {
   "interpreter": {
    "hash": "aee8b7b246df8f9039afb4144a1f6fd8d2ca17a180786b69acc140d282b71a49"
   }
  }
 },
 "nbformat": 4,
 "nbformat_minor": 2,
 "cells": [
  {
   "cell_type": "markdown",
   "metadata": {},
   "source": [
    "### 1. \n",
    "\n",
    "Crear una función que reciba cuatro parámetros: una lista 'L', un número 'T', un número 'V' y un booleano 'S'. La función debe devolver otras dos listas: \"lista_train_val\" y \"lista_test\".\n",
    "\n",
    "- \"lista_train_val\" es una lista con dos elementos. Cada elemento es una lista: \"list_train\", que representa el conjunto de entrenamiento y \"list_val\", que representa el conjunto de validación. \n",
    "- \"list_test\" es el conjunto de test. Como mínimo ha de tener 1 elemento (si 'L' > 1).\n",
    "- \"L\" es cualquier lista de elementos. Al principio, entra con un tamaño completo (100%). Esta es la lista que se partirá y se generarán los conjuntos entrenamiento, de validación y de test.\n",
    "- \"T\" es un número entre 1 y 100 que va a representar el tamaño, en porcentaje, del conjunto de test \"list_test\". \n",
    "- \"V\" es un número entre 0 y 100 que va a representar el tamaño, en porcentaje, del conjunto de validación \"list_val\". Su valor por defecto es 0.\n",
    "- \"S\", que por defecto es False, determinará si los conjuntos \"list_train\", \"list_test\" y \"list_val\" están aleatoriamente ordenados. ¿Encuentras alguna posible incoherencia si se reordenan aleatoriamente?\n",
    "\n",
    "Prueba la función con una lista de 100 números aleatorios del 0 al 100. \n",
    "\n",
    "### 2. \n",
    "\n",
    "Rehacer el ejercicio anterior en otra función para que no devuelva dos listas, sino los tres conjuntos: \n",
    "\n",
    "--> return list_train, list_val, list_test "
   ]
  },
  {
   "cell_type": "code",
   "execution_count": 83,
   "metadata": {},
   "outputs": [],
   "source": [
    "import random\n",
    "\n",
    "def train_val_test(L, T, V=0, S=False):\n",
    "    numero_divisiones_test = len(L) * T // 100\n",
    "    numero_divisiones_validacion = len(L) * V // 100\n",
    "    numero_divisiones_train = len(L) - (numero_divisiones_test + numero_divisiones_validacion)\n",
    "    if S:\n",
    "        list_train = random_listas(L, numero_divisiones_train)\n",
    "        list_val = random_listas(L, numero_divisiones_validacion)\n",
    "        lista_test = random_listas(L, numero_divisiones_test)\n",
    "        lista_train_val = [list_train, list_val]\n",
    "        return lista_train_val, lista_test\n",
    "    list_train = L[:numero_divisiones_train]\n",
    "    list_val = L[numero_divisiones_train: numero_divisiones_validacion + numero_divisiones_train]\n",
    "    lista_test = L[numero_divisiones_validacion + numero_divisiones_train: numero_divisiones_test +\n",
    "        numero_divisiones_validacion + numero_divisiones_train]\n",
    "    lista_train_val = [list_train, list_val]\n",
    "    \n",
    "    return lista_train_val, lista_test\n",
    "\n",
    "def random_listas(lista, longitud):\n",
    "    lista_retornar = []\n",
    "    random.shuffle(lista)\n",
    "    for i in range(longitud):\n",
    "        lista_retornar.append(lista.pop())\n",
    "    return lista_retornar"
   ]
  },
  {
   "cell_type": "code",
   "execution_count": 84,
   "metadata": {},
   "outputs": [],
   "source": [
    "L = [random.randint(0, 100) for i in range(100)]"
   ]
  },
  {
   "cell_type": "code",
   "execution_count": 85,
   "metadata": {},
   "outputs": [],
   "source": [
    "lista_train_val, lista_test = nombre(L, 20, 10, True)"
   ]
  },
  {
   "cell_type": "code",
   "execution_count": 86,
   "metadata": {},
   "outputs": [
    {
     "output_type": "stream",
     "name": "stdout",
     "text": [
      "Lista de entrenamiento: [21, 97, 84, 28, 65, 5, 19, 89, 8, 33, 68, 84, 85, 65, 79, 57, 56, 100, 94, 25, 87, 44, 76, 2, 71, 97, 43, 12, 46, 86, 34, 50, 57, 23, 82, 69, 77, 67, 26, 54, 46, 85, 73, 43, 46, 99, 95, 14, 4, 55, 79, 37, 22, 62, 17, 78, 88, 77, 0, 42, 9, 34, 34, 95, 38, 62, 94, 35, 64, 17] -> Tamaño: 70\nLista de validación: [17, 51, 35, 76, 31, 62, 93, 24, 72, 94] -> Tamaño: 10\nLista de test: [49, 97, 30, 58, 92, 55, 13, 18, 6, 49, 71, 83, 44, 16, 17, 39, 95, 77, 57, 3] -> Tamaño: 20\n"
     ]
    }
   ],
   "source": [
    "print(f'Lista de entrenamiento: {lista_train_val[0]} -> Tamaño: {len(lista_train_val[0])}')\n",
    "print(f'Lista de validación: {lista_train_val[1]} -> Tamaño: {len(lista_train_val[1])}')\n",
    "print(f'Lista de test: {lista_test} -> Tamaño: {len(lista_test)}')"
   ]
  },
  {
   "cell_type": "code",
   "execution_count": 87,
   "metadata": {},
   "outputs": [],
   "source": [
    "def train_val_test(L, T, V=0, S=False):\n",
    "    numero_divisiones_test = len(L) * T // 100\n",
    "    numero_divisiones_validacion = len(L) * V // 100\n",
    "    numero_divisiones_train = len(L) - (numero_divisiones_test + numero_divisiones_validacion)\n",
    "    if S:\n",
    "        list_train = random_listas(L, numero_divisiones_train)\n",
    "        list_val = random_listas(L, numero_divisiones_validacion)\n",
    "        lista_test = random_listas(L, numero_divisiones_test)\n",
    "        lista_train_val = [list_train, list_val]\n",
    "        return list_train, list_val, lista_test\n",
    "    list_train = L[:numero_divisiones_train]\n",
    "    list_val = L[numero_divisiones_train: numero_divisiones_validacion + numero_divisiones_train]\n",
    "    lista_test = L[numero_divisiones_validacion + numero_divisiones_train: numero_divisiones_test +\n",
    "        numero_divisiones_validacion + numero_divisiones_train]\n",
    "    \n",
    "    return list_train, list_val, lista_test\n",
    "\n",
    "def random_listas(lista, longitud):\n",
    "    lista_retornar = []\n",
    "    random.shuffle(lista)\n",
    "    for i in range(longitud):\n",
    "        lista_retornar.append(lista.pop())\n",
    "    return lista_retornar"
   ]
  }
 ]
}