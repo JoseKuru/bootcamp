{
 "metadata": {
  "language_info": {
   "codemirror_mode": {
    "name": "ipython",
    "version": 3
   },
   "file_extension": ".py",
   "mimetype": "text/x-python",
   "name": "python",
   "nbconvert_exporter": "python",
   "pygments_lexer": "ipython3",
   "version": "3.7.4"
  },
  "orig_nbformat": 2,
  "kernelspec": {
   "name": "python374jvsc74a57bd0aee8b7b246df8f9039afb4144a1f6fd8d2ca17a180786b69acc140d282b71a49",
   "display_name": "Python 3.7.4 64-bit"
  },
  "metadata": {
   "interpreter": {
    "hash": "aee8b7b246df8f9039afb4144a1f6fd8d2ca17a180786b69acc140d282b71a49"
   }
  }
 },
 "nbformat": 4,
 "nbformat_minor": 2,
 "cells": [
  {
   "cell_type": "markdown",
   "metadata": {},
   "source": [
    "### 1. \n",
    "\n",
    "Crear una función que reciba cuatro parámetros: una lista 'L', un número 'T', un número 'V' y un booleano 'S'. La función debe devolver otras dos listas: \"lista_train_val\" y \"lista_test\".\n",
    "\n",
    "- \"lista_train_val\" es una lista con dos elementos. Cada elemento es una lista: \"list_train\", que representa el conjunto de entrenamiento y \"list_val\", que representa el conjunto de validación. \n",
    "- \"list_test\" es el conjunto de test. Como mínimo ha de tener 1 elemento (si 'L' > 1).\n",
    "- \"L\" es cualquier lista de elementos. Al principio, entra con un tamaño completo (100%). Esta es la lista que se partirá y se generarán los conjuntos entrenamiento, de validación y de test.\n",
    "- \"T\" es un número entre 1 y 100 que va a representar el tamaño, en porcentaje, del conjunto de test \"list_test\". \n",
    "- \"V\" es un número entre 0 y 100 que va a representar el tamaño, en porcentaje, del conjunto de validación \"list_val\". Su valor por defecto es 0.\n",
    "- \"S\", que por defecto es False, determinará si los conjuntos \"list_train\", \"list_test\" y \"list_val\" están aleatoriamente ordenados. ¿Encuentras alguna posible incoherencia si se reordenan aleatoriamente?\n",
    "\n",
    "Prueba la función con una lista de 100 números aleatorios del 0 al 100. \n",
    "\n",
    "### 2. \n",
    "\n",
    "Rehacer el ejercicio anterior en otra función para que no devuelva dos listas, sino los tres conjuntos: \n",
    "\n",
    "--> return list_train, list_val, list_test "
   ]
  },
  {
   "cell_type": "code",
   "execution_count": 6,
   "metadata": {},
   "outputs": [],
   "source": [
    "import random\n",
    "\n",
    "def train_val_test(L, T, V=0, S=False):\n",
    "    # Primero creamos las divisiones de los distintos conjuntos\n",
    "    numero_divisiones_test = len(L) * T // 100\n",
    "    numero_divisiones_validacion = len(L) * V // 100\n",
    "    numero_divisiones_train = len(L) - (numero_divisiones_test + numero_divisiones_validacion)\n",
    "    if S:\n",
    "        # Si S es True, la selección se hara aleatoriamente utilizando la funciñon random_listas\n",
    "        list_train = random_listas(L, numero_divisiones_train)\n",
    "        list_val = random_listas(L, numero_divisiones_validacion)\n",
    "        lista_test = random_listas(L, numero_divisiones_test)\n",
    "        lista_train_val = [list_train, list_val]\n",
    "        return lista_train_val, lista_test\n",
    "    # Si S es False, la selección sera por orden de lista.    \n",
    "    list_train = L[:numero_divisiones_train]\n",
    "    list_val = L[numero_divisiones_train: numero_divisiones_validacion + numero_divisiones_train]\n",
    "    lista_test = L[numero_divisiones_validacion + numero_divisiones_train: numero_divisiones_test +\n",
    "        numero_divisiones_validacion + numero_divisiones_train]\n",
    "    lista_train_val = [list_train, list_val]\n",
    "    \n",
    "    return lista_train_val, lista_test\n",
    "\n",
    "def random_listas(lista, longitud):\n",
    "    '''Función que retorna una lista aleatoria con la longitud que hayamos pasado. Los elementos que se agreguen a la lista se eliminarán de la lista original'''\n",
    "    lista_retornar = []\n",
    "    random.shuffle(lista)\n",
    "    for i in range(longitud):\n",
    "        lista_retornar.append(lista.pop())\n",
    "    return lista_retornar"
   ]
  },
  {
   "source": [
    "Vamos a probar nuestra función"
   ],
   "cell_type": "markdown",
   "metadata": {}
  },
  {
   "cell_type": "code",
   "execution_count": 7,
   "metadata": {},
   "outputs": [],
   "source": [
    "L = [random.randint(0, 100) for i in range(100)]"
   ]
  },
  {
   "cell_type": "code",
   "execution_count": 8,
   "metadata": {},
   "outputs": [],
   "source": [
    "lista_train_val, lista_test = train_val_test(L, 20, 10, True)"
   ]
  },
  {
   "cell_type": "code",
   "execution_count": 9,
   "metadata": {},
   "outputs": [
    {
     "output_type": "stream",
     "name": "stdout",
     "text": [
      "Lista de entrenamiento: [45, 11, 2, 51, 91, 1, 19, 33, 22, 32, 48, 100, 29, 37, 93, 68, 19, 25, 14, 55, 17, 58, 76, 0, 86, 5, 94, 80, 25, 74, 20, 82, 93, 9, 18, 29, 39, 50, 61, 28, 69, 84, 90, 96, 63, 85, 53, 17, 90, 79, 52, 56, 61, 26, 93, 35, 94, 97, 8, 71, 55, 61, 77, 15, 0, 75, 17, 20, 8, 18] -> Tamaño: 70\nLista de validación: [47, 14, 68, 39, 79, 86, 7, 44, 52, 3] -> Tamaño: 10\nLista de test: [5, 10, 35, 63, 77, 88, 64, 47, 84, 36, 82, 22, 86, 27, 26, 36, 80, 37, 94, 39] -> Tamaño: 20\n"
     ]
    }
   ],
   "source": [
    "print(f'Lista de entrenamiento: {lista_train_val[0]} -> Tamaño: {len(lista_train_val[0])}')\n",
    "print(f'Lista de validación: {lista_train_val[1]} -> Tamaño: {len(lista_train_val[1])}')\n",
    "print(f'Lista de test: {lista_test} -> Tamaño: {len(lista_test)}')"
   ]
  },
  {
   "source": [
    "Vamos a crear una función alternativa donde se retornen las tres listas de forma individual."
   ],
   "cell_type": "markdown",
   "metadata": {}
  },
  {
   "cell_type": "code",
   "execution_count": 10,
   "metadata": {},
   "outputs": [],
   "source": [
    "def train_val_test_2(L, T, V=0, S=False):\n",
    "    numero_divisiones_test = len(L) * T // 100\n",
    "    numero_divisiones_validacion = len(L) * V // 100\n",
    "    numero_divisiones_train = len(L) - (numero_divisiones_test + numero_divisiones_validacion)\n",
    "    if S:\n",
    "        list_train = random_listas(L, numero_divisiones_train)\n",
    "        list_val = random_listas(L, numero_divisiones_validacion)\n",
    "        lista_test = random_listas(L, numero_divisiones_test)\n",
    "        lista_train_val = [list_train, list_val]\n",
    "        return list_train, list_val, lista_test\n",
    "    list_train = L[:numero_divisiones_train]\n",
    "    list_val = L[numero_divisiones_train: numero_divisiones_validacion + numero_divisiones_train]\n",
    "    lista_test = L[numero_divisiones_validacion + numero_divisiones_train: numero_divisiones_test +\n",
    "        numero_divisiones_validacion + numero_divisiones_train]\n",
    "    \n",
    "    return list_train, list_val, lista_test\n",
    "\n",
    "def random_listas(lista, longitud):\n",
    "    lista_retornar = []\n",
    "    random.shuffle(lista)\n",
    "    for i in range(longitud):\n",
    "        lista_retornar.append(lista.pop())\n",
    "    return lista_retornar"
   ]
  }
 ]
}