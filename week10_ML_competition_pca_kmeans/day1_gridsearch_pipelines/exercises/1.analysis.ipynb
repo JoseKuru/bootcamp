{
 "cells": [
  {
   "cell_type": "markdown",
   "metadata": {},
   "source": [
    "A partir del archivo food_100, se pide:\n",
    "\n",
    "1. Limpiar el archivo borrando las columnas Unnamed.\n",
    "2. ¿Qué porcentaje de valores NaN hay en cada columna?\n",
    "3. ¿Tendría algún sentido clasificar el nombre de los alimentos a partir del top5 de columnas numéricas con menos valores NaN?"
   ]
  },
  {
   "cell_type": "code",
   "execution_count": 13,
   "metadata": {},
   "outputs": [],
   "source": [
    "import numpy as np\n",
    "import pandas as pd\n",
    "from sklearn.linear_model import LogisticRegression\n",
    "from sklearn.model_selection import train_test_split\n",
    "\n",
    "pd.set_option('display.max_rows', 500)\n"
   ]
  },
  {
   "cell_type": "code",
   "execution_count": 2,
   "metadata": {},
   "outputs": [
    {
     "data": {
      "text/html": "<div>\n<style scoped>\n    .dataframe tbody tr th:only-of-type {\n        vertical-align: middle;\n    }\n\n    .dataframe tbody tr th {\n        vertical-align: top;\n    }\n\n    .dataframe thead th {\n        text-align: right;\n    }\n</style>\n<table border=\"1\" class=\"dataframe\">\n  <thead>\n    <tr style=\"text-align: right;\">\n      <th></th>\n      <th>Unnamed: 0</th>\n      <th>code</th>\n      <th>url</th>\n      <th>creator</th>\n      <th>created_t</th>\n      <th>created_datetime</th>\n      <th>last_modified_t</th>\n      <th>last_modified_datetime</th>\n      <th>product_name</th>\n      <th>generic_name</th>\n      <th>...</th>\n      <th>fruits-vegetables-nuts_100g</th>\n      <th>fruits-vegetables-nuts-estimate_100g</th>\n      <th>collagen-meat-protein-ratio_100g</th>\n      <th>cocoa_100g</th>\n      <th>chlorophyl_100g</th>\n      <th>carbon-footprint_100g</th>\n      <th>nutrition-score-fr_100g</th>\n      <th>nutrition-score-uk_100g</th>\n      <th>glycemic-index_100g</th>\n      <th>water-hardness_100g</th>\n    </tr>\n  </thead>\n  <tbody>\n    <tr>\n      <th>0</th>\n      <td>0</td>\n      <td>3087</td>\n      <td>http://world-en.openfoodfacts.org/product/0000...</td>\n      <td>openfoodfacts-contributors</td>\n      <td>1474103866</td>\n      <td>2016-09-17T09:17:46Z</td>\n      <td>1474103893</td>\n      <td>2016-09-17T09:18:13Z</td>\n      <td>Farine de blé noir</td>\n      <td>NaN</td>\n      <td>...</td>\n      <td>NaN</td>\n      <td>NaN</td>\n      <td>NaN</td>\n      <td>NaN</td>\n      <td>NaN</td>\n      <td>NaN</td>\n      <td>NaN</td>\n      <td>NaN</td>\n      <td>NaN</td>\n      <td>NaN</td>\n    </tr>\n    <tr>\n      <th>1</th>\n      <td>1</td>\n      <td>4530</td>\n      <td>http://world-en.openfoodfacts.org/product/0000...</td>\n      <td>usda-ndb-import</td>\n      <td>1489069957</td>\n      <td>2017-03-09T14:32:37Z</td>\n      <td>1489069957</td>\n      <td>2017-03-09T14:32:37Z</td>\n      <td>Banana Chips Sweetened (Whole)</td>\n      <td>NaN</td>\n      <td>...</td>\n      <td>NaN</td>\n      <td>NaN</td>\n      <td>NaN</td>\n      <td>NaN</td>\n      <td>NaN</td>\n      <td>NaN</td>\n      <td>14.0</td>\n      <td>14.0</td>\n      <td>NaN</td>\n      <td>NaN</td>\n    </tr>\n    <tr>\n      <th>2</th>\n      <td>2</td>\n      <td>4559</td>\n      <td>http://world-en.openfoodfacts.org/product/0000...</td>\n      <td>usda-ndb-import</td>\n      <td>1489069957</td>\n      <td>2017-03-09T14:32:37Z</td>\n      <td>1489069957</td>\n      <td>2017-03-09T14:32:37Z</td>\n      <td>Peanuts</td>\n      <td>NaN</td>\n      <td>...</td>\n      <td>NaN</td>\n      <td>NaN</td>\n      <td>NaN</td>\n      <td>NaN</td>\n      <td>NaN</td>\n      <td>NaN</td>\n      <td>0.0</td>\n      <td>0.0</td>\n      <td>NaN</td>\n      <td>NaN</td>\n    </tr>\n    <tr>\n      <th>3</th>\n      <td>3</td>\n      <td>16087</td>\n      <td>http://world-en.openfoodfacts.org/product/0000...</td>\n      <td>usda-ndb-import</td>\n      <td>1489055731</td>\n      <td>2017-03-09T10:35:31Z</td>\n      <td>1489055731</td>\n      <td>2017-03-09T10:35:31Z</td>\n      <td>Organic Salted Nut Mix</td>\n      <td>NaN</td>\n      <td>...</td>\n      <td>NaN</td>\n      <td>NaN</td>\n      <td>NaN</td>\n      <td>NaN</td>\n      <td>NaN</td>\n      <td>NaN</td>\n      <td>12.0</td>\n      <td>12.0</td>\n      <td>NaN</td>\n      <td>NaN</td>\n    </tr>\n    <tr>\n      <th>4</th>\n      <td>4</td>\n      <td>16094</td>\n      <td>http://world-en.openfoodfacts.org/product/0000...</td>\n      <td>usda-ndb-import</td>\n      <td>1489055653</td>\n      <td>2017-03-09T10:34:13Z</td>\n      <td>1489055653</td>\n      <td>2017-03-09T10:34:13Z</td>\n      <td>Organic Polenta</td>\n      <td>NaN</td>\n      <td>...</td>\n      <td>NaN</td>\n      <td>NaN</td>\n      <td>NaN</td>\n      <td>NaN</td>\n      <td>NaN</td>\n      <td>NaN</td>\n      <td>NaN</td>\n      <td>NaN</td>\n      <td>NaN</td>\n      <td>NaN</td>\n    </tr>\n  </tbody>\n</table>\n<p>5 rows × 164 columns</p>\n</div>",
      "text/plain": "   Unnamed: 0   code                                                url  \\\n0           0   3087  http://world-en.openfoodfacts.org/product/0000...   \n1           1   4530  http://world-en.openfoodfacts.org/product/0000...   \n2           2   4559  http://world-en.openfoodfacts.org/product/0000...   \n3           3  16087  http://world-en.openfoodfacts.org/product/0000...   \n4           4  16094  http://world-en.openfoodfacts.org/product/0000...   \n\n                      creator   created_t      created_datetime  \\\n0  openfoodfacts-contributors  1474103866  2016-09-17T09:17:46Z   \n1             usda-ndb-import  1489069957  2017-03-09T14:32:37Z   \n2             usda-ndb-import  1489069957  2017-03-09T14:32:37Z   \n3             usda-ndb-import  1489055731  2017-03-09T10:35:31Z   \n4             usda-ndb-import  1489055653  2017-03-09T10:34:13Z   \n\n   last_modified_t last_modified_datetime                    product_name  \\\n0       1474103893   2016-09-17T09:18:13Z              Farine de blé noir   \n1       1489069957   2017-03-09T14:32:37Z  Banana Chips Sweetened (Whole)   \n2       1489069957   2017-03-09T14:32:37Z                         Peanuts   \n3       1489055731   2017-03-09T10:35:31Z          Organic Salted Nut Mix   \n4       1489055653   2017-03-09T10:34:13Z                 Organic Polenta   \n\n   generic_name  ... fruits-vegetables-nuts_100g  \\\n0           NaN  ...                         NaN   \n1           NaN  ...                         NaN   \n2           NaN  ...                         NaN   \n3           NaN  ...                         NaN   \n4           NaN  ...                         NaN   \n\n  fruits-vegetables-nuts-estimate_100g collagen-meat-protein-ratio_100g  \\\n0                                  NaN                              NaN   \n1                                  NaN                              NaN   \n2                                  NaN                              NaN   \n3                                  NaN                              NaN   \n4                                  NaN                              NaN   \n\n  cocoa_100g chlorophyl_100g carbon-footprint_100g nutrition-score-fr_100g  \\\n0        NaN             NaN                   NaN                     NaN   \n1        NaN             NaN                   NaN                    14.0   \n2        NaN             NaN                   NaN                     0.0   \n3        NaN             NaN                   NaN                    12.0   \n4        NaN             NaN                   NaN                     NaN   \n\n  nutrition-score-uk_100g  glycemic-index_100g  water-hardness_100g  \n0                     NaN                  NaN                  NaN  \n1                    14.0                  NaN                  NaN  \n2                     0.0                  NaN                  NaN  \n3                    12.0                  NaN                  NaN  \n4                     NaN                  NaN                  NaN  \n\n[5 rows x 164 columns]"
     },
     "execution_count": 2,
     "metadata": {},
     "output_type": "execute_result"
    }
   ],
   "source": [
    "df = pd.read_csv(\"../data/food_100.csv\")\n",
    "target = df['product_name']\n",
    "df.head()"
   ]
  },
  {
   "cell_type": "code",
   "execution_count": 3,
   "metadata": {},
   "outputs": [
    {
     "data": {
      "text/html": "<div>\n<style scoped>\n    .dataframe tbody tr th:only-of-type {\n        vertical-align: middle;\n    }\n\n    .dataframe tbody tr th {\n        vertical-align: top;\n    }\n\n    .dataframe thead th {\n        text-align: right;\n    }\n</style>\n<table border=\"1\" class=\"dataframe\">\n  <thead>\n    <tr style=\"text-align: right;\">\n      <th></th>\n      <th>code</th>\n      <th>url</th>\n      <th>creator</th>\n      <th>created_t</th>\n      <th>created_datetime</th>\n      <th>last_modified_t</th>\n      <th>last_modified_datetime</th>\n      <th>product_name</th>\n      <th>generic_name</th>\n      <th>quantity</th>\n      <th>...</th>\n      <th>fruits-vegetables-nuts_100g</th>\n      <th>fruits-vegetables-nuts-estimate_100g</th>\n      <th>collagen-meat-protein-ratio_100g</th>\n      <th>cocoa_100g</th>\n      <th>chlorophyl_100g</th>\n      <th>carbon-footprint_100g</th>\n      <th>nutrition-score-fr_100g</th>\n      <th>nutrition-score-uk_100g</th>\n      <th>glycemic-index_100g</th>\n      <th>water-hardness_100g</th>\n    </tr>\n  </thead>\n  <tbody>\n    <tr>\n      <th>0</th>\n      <td>3087</td>\n      <td>http://world-en.openfoodfacts.org/product/0000...</td>\n      <td>openfoodfacts-contributors</td>\n      <td>1474103866</td>\n      <td>2016-09-17T09:17:46Z</td>\n      <td>1474103893</td>\n      <td>2016-09-17T09:18:13Z</td>\n      <td>Farine de blé noir</td>\n      <td>NaN</td>\n      <td>1kg</td>\n      <td>...</td>\n      <td>NaN</td>\n      <td>NaN</td>\n      <td>NaN</td>\n      <td>NaN</td>\n      <td>NaN</td>\n      <td>NaN</td>\n      <td>NaN</td>\n      <td>NaN</td>\n      <td>NaN</td>\n      <td>NaN</td>\n    </tr>\n    <tr>\n      <th>1</th>\n      <td>4530</td>\n      <td>http://world-en.openfoodfacts.org/product/0000...</td>\n      <td>usda-ndb-import</td>\n      <td>1489069957</td>\n      <td>2017-03-09T14:32:37Z</td>\n      <td>1489069957</td>\n      <td>2017-03-09T14:32:37Z</td>\n      <td>Banana Chips Sweetened (Whole)</td>\n      <td>NaN</td>\n      <td>NaN</td>\n      <td>...</td>\n      <td>NaN</td>\n      <td>NaN</td>\n      <td>NaN</td>\n      <td>NaN</td>\n      <td>NaN</td>\n      <td>NaN</td>\n      <td>14.0</td>\n      <td>14.0</td>\n      <td>NaN</td>\n      <td>NaN</td>\n    </tr>\n    <tr>\n      <th>2</th>\n      <td>4559</td>\n      <td>http://world-en.openfoodfacts.org/product/0000...</td>\n      <td>usda-ndb-import</td>\n      <td>1489069957</td>\n      <td>2017-03-09T14:32:37Z</td>\n      <td>1489069957</td>\n      <td>2017-03-09T14:32:37Z</td>\n      <td>Peanuts</td>\n      <td>NaN</td>\n      <td>NaN</td>\n      <td>...</td>\n      <td>NaN</td>\n      <td>NaN</td>\n      <td>NaN</td>\n      <td>NaN</td>\n      <td>NaN</td>\n      <td>NaN</td>\n      <td>0.0</td>\n      <td>0.0</td>\n      <td>NaN</td>\n      <td>NaN</td>\n    </tr>\n    <tr>\n      <th>3</th>\n      <td>16087</td>\n      <td>http://world-en.openfoodfacts.org/product/0000...</td>\n      <td>usda-ndb-import</td>\n      <td>1489055731</td>\n      <td>2017-03-09T10:35:31Z</td>\n      <td>1489055731</td>\n      <td>2017-03-09T10:35:31Z</td>\n      <td>Organic Salted Nut Mix</td>\n      <td>NaN</td>\n      <td>NaN</td>\n      <td>...</td>\n      <td>NaN</td>\n      <td>NaN</td>\n      <td>NaN</td>\n      <td>NaN</td>\n      <td>NaN</td>\n      <td>NaN</td>\n      <td>12.0</td>\n      <td>12.0</td>\n      <td>NaN</td>\n      <td>NaN</td>\n    </tr>\n    <tr>\n      <th>4</th>\n      <td>16094</td>\n      <td>http://world-en.openfoodfacts.org/product/0000...</td>\n      <td>usda-ndb-import</td>\n      <td>1489055653</td>\n      <td>2017-03-09T10:34:13Z</td>\n      <td>1489055653</td>\n      <td>2017-03-09T10:34:13Z</td>\n      <td>Organic Polenta</td>\n      <td>NaN</td>\n      <td>NaN</td>\n      <td>...</td>\n      <td>NaN</td>\n      <td>NaN</td>\n      <td>NaN</td>\n      <td>NaN</td>\n      <td>NaN</td>\n      <td>NaN</td>\n      <td>NaN</td>\n      <td>NaN</td>\n      <td>NaN</td>\n      <td>NaN</td>\n    </tr>\n  </tbody>\n</table>\n<p>5 rows × 163 columns</p>\n</div>",
      "text/plain": "    code                                                url  \\\n0   3087  http://world-en.openfoodfacts.org/product/0000...   \n1   4530  http://world-en.openfoodfacts.org/product/0000...   \n2   4559  http://world-en.openfoodfacts.org/product/0000...   \n3  16087  http://world-en.openfoodfacts.org/product/0000...   \n4  16094  http://world-en.openfoodfacts.org/product/0000...   \n\n                      creator   created_t      created_datetime  \\\n0  openfoodfacts-contributors  1474103866  2016-09-17T09:17:46Z   \n1             usda-ndb-import  1489069957  2017-03-09T14:32:37Z   \n2             usda-ndb-import  1489069957  2017-03-09T14:32:37Z   \n3             usda-ndb-import  1489055731  2017-03-09T10:35:31Z   \n4             usda-ndb-import  1489055653  2017-03-09T10:34:13Z   \n\n   last_modified_t last_modified_datetime                    product_name  \\\n0       1474103893   2016-09-17T09:18:13Z              Farine de blé noir   \n1       1489069957   2017-03-09T14:32:37Z  Banana Chips Sweetened (Whole)   \n2       1489069957   2017-03-09T14:32:37Z                         Peanuts   \n3       1489055731   2017-03-09T10:35:31Z          Organic Salted Nut Mix   \n4       1489055653   2017-03-09T10:34:13Z                 Organic Polenta   \n\n   generic_name quantity  ... fruits-vegetables-nuts_100g  \\\n0           NaN      1kg  ...                         NaN   \n1           NaN      NaN  ...                         NaN   \n2           NaN      NaN  ...                         NaN   \n3           NaN      NaN  ...                         NaN   \n4           NaN      NaN  ...                         NaN   \n\n  fruits-vegetables-nuts-estimate_100g collagen-meat-protein-ratio_100g  \\\n0                                  NaN                              NaN   \n1                                  NaN                              NaN   \n2                                  NaN                              NaN   \n3                                  NaN                              NaN   \n4                                  NaN                              NaN   \n\n  cocoa_100g chlorophyl_100g carbon-footprint_100g nutrition-score-fr_100g  \\\n0        NaN             NaN                   NaN                     NaN   \n1        NaN             NaN                   NaN                    14.0   \n2        NaN             NaN                   NaN                     0.0   \n3        NaN             NaN                   NaN                    12.0   \n4        NaN             NaN                   NaN                     NaN   \n\n   nutrition-score-uk_100g  glycemic-index_100g  water-hardness_100g  \n0                      NaN                  NaN                  NaN  \n1                     14.0                  NaN                  NaN  \n2                      0.0                  NaN                  NaN  \n3                     12.0                  NaN                  NaN  \n4                      NaN                  NaN                  NaN  \n\n[5 rows x 163 columns]"
     },
     "execution_count": 3,
     "metadata": {},
     "output_type": "execute_result"
    }
   ],
   "source": [
    "df = df.iloc[:, ~df.columns.str.match(r'^Unnamed')] # Eliminamos culaquier columna que empiece por 'Unnamed'\n",
    "df.head()"
   ]
  },
  {
   "cell_type": "code",
   "execution_count": 4,
   "metadata": {},
   "outputs": [
    {
     "data": {
      "text/plain": "array([dtype('int64'), dtype('O'), dtype('float64')], dtype=object)"
     },
     "execution_count": 4,
     "metadata": {},
     "output_type": "execute_result"
    }
   ],
   "source": [
    "df.dtypes.unique()\n",
    "# Vemos los tipos de datos numericos que tenemos para quedarnos únicamente con ellos"
   ]
  },
  {
   "cell_type": "code",
   "execution_count": 5,
   "metadata": {},
   "outputs": [
    {
     "data": {
      "text/html": "<div>\n<style scoped>\n    .dataframe tbody tr th:only-of-type {\n        vertical-align: middle;\n    }\n\n    .dataframe tbody tr th {\n        vertical-align: top;\n    }\n\n    .dataframe thead th {\n        text-align: right;\n    }\n</style>\n<table border=\"1\" class=\"dataframe\">\n  <thead>\n    <tr style=\"text-align: right;\">\n      <th></th>\n      <th>code</th>\n      <th>created_t</th>\n      <th>last_modified_t</th>\n      <th>generic_name</th>\n      <th>origins</th>\n      <th>origins_tags</th>\n      <th>manufacturing_places</th>\n      <th>manufacturing_places_tags</th>\n      <th>labels</th>\n      <th>labels_tags</th>\n      <th>...</th>\n      <th>fruits-vegetables-nuts-estimate_100g</th>\n      <th>collagen-meat-protein-ratio_100g</th>\n      <th>cocoa_100g</th>\n      <th>chlorophyl_100g</th>\n      <th>carbon-footprint_100g</th>\n      <th>nutrition-score-fr_100g</th>\n      <th>nutrition-score-uk_100g</th>\n      <th>glycemic-index_100g</th>\n      <th>water-hardness_100g</th>\n      <th>target</th>\n    </tr>\n  </thead>\n  <tbody>\n    <tr>\n      <th>0</th>\n      <td>3087</td>\n      <td>1474103866</td>\n      <td>1474103893</td>\n      <td>NaN</td>\n      <td>NaN</td>\n      <td>NaN</td>\n      <td>NaN</td>\n      <td>NaN</td>\n      <td>NaN</td>\n      <td>NaN</td>\n      <td>...</td>\n      <td>NaN</td>\n      <td>NaN</td>\n      <td>NaN</td>\n      <td>NaN</td>\n      <td>NaN</td>\n      <td>NaN</td>\n      <td>NaN</td>\n      <td>NaN</td>\n      <td>NaN</td>\n      <td>Farine de blé noir</td>\n    </tr>\n    <tr>\n      <th>1</th>\n      <td>4530</td>\n      <td>1489069957</td>\n      <td>1489069957</td>\n      <td>NaN</td>\n      <td>NaN</td>\n      <td>NaN</td>\n      <td>NaN</td>\n      <td>NaN</td>\n      <td>NaN</td>\n      <td>NaN</td>\n      <td>...</td>\n      <td>NaN</td>\n      <td>NaN</td>\n      <td>NaN</td>\n      <td>NaN</td>\n      <td>NaN</td>\n      <td>14.0</td>\n      <td>14.0</td>\n      <td>NaN</td>\n      <td>NaN</td>\n      <td>Banana Chips Sweetened (Whole)</td>\n    </tr>\n    <tr>\n      <th>2</th>\n      <td>4559</td>\n      <td>1489069957</td>\n      <td>1489069957</td>\n      <td>NaN</td>\n      <td>NaN</td>\n      <td>NaN</td>\n      <td>NaN</td>\n      <td>NaN</td>\n      <td>NaN</td>\n      <td>NaN</td>\n      <td>...</td>\n      <td>NaN</td>\n      <td>NaN</td>\n      <td>NaN</td>\n      <td>NaN</td>\n      <td>NaN</td>\n      <td>0.0</td>\n      <td>0.0</td>\n      <td>NaN</td>\n      <td>NaN</td>\n      <td>Peanuts</td>\n    </tr>\n    <tr>\n      <th>3</th>\n      <td>16087</td>\n      <td>1489055731</td>\n      <td>1489055731</td>\n      <td>NaN</td>\n      <td>NaN</td>\n      <td>NaN</td>\n      <td>NaN</td>\n      <td>NaN</td>\n      <td>NaN</td>\n      <td>NaN</td>\n      <td>...</td>\n      <td>NaN</td>\n      <td>NaN</td>\n      <td>NaN</td>\n      <td>NaN</td>\n      <td>NaN</td>\n      <td>12.0</td>\n      <td>12.0</td>\n      <td>NaN</td>\n      <td>NaN</td>\n      <td>Organic Salted Nut Mix</td>\n    </tr>\n    <tr>\n      <th>4</th>\n      <td>16094</td>\n      <td>1489055653</td>\n      <td>1489055653</td>\n      <td>NaN</td>\n      <td>NaN</td>\n      <td>NaN</td>\n      <td>NaN</td>\n      <td>NaN</td>\n      <td>NaN</td>\n      <td>NaN</td>\n      <td>...</td>\n      <td>NaN</td>\n      <td>NaN</td>\n      <td>NaN</td>\n      <td>NaN</td>\n      <td>NaN</td>\n      <td>NaN</td>\n      <td>NaN</td>\n      <td>NaN</td>\n      <td>NaN</td>\n      <td>Organic Polenta</td>\n    </tr>\n  </tbody>\n</table>\n<p>5 rows × 129 columns</p>\n</div>",
      "text/plain": "    code   created_t  last_modified_t  generic_name  origins  origins_tags  \\\n0   3087  1474103866       1474103893           NaN      NaN           NaN   \n1   4530  1489069957       1489069957           NaN      NaN           NaN   \n2   4559  1489069957       1489069957           NaN      NaN           NaN   \n3  16087  1489055731       1489055731           NaN      NaN           NaN   \n4  16094  1489055653       1489055653           NaN      NaN           NaN   \n\n   manufacturing_places  manufacturing_places_tags  labels  labels_tags  ...  \\\n0                   NaN                        NaN     NaN          NaN  ...   \n1                   NaN                        NaN     NaN          NaN  ...   \n2                   NaN                        NaN     NaN          NaN  ...   \n3                   NaN                        NaN     NaN          NaN  ...   \n4                   NaN                        NaN     NaN          NaN  ...   \n\n   fruits-vegetables-nuts-estimate_100g  collagen-meat-protein-ratio_100g  \\\n0                                   NaN                               NaN   \n1                                   NaN                               NaN   \n2                                   NaN                               NaN   \n3                                   NaN                               NaN   \n4                                   NaN                               NaN   \n\n   cocoa_100g  chlorophyl_100g  carbon-footprint_100g  \\\n0         NaN              NaN                    NaN   \n1         NaN              NaN                    NaN   \n2         NaN              NaN                    NaN   \n3         NaN              NaN                    NaN   \n4         NaN              NaN                    NaN   \n\n   nutrition-score-fr_100g  nutrition-score-uk_100g  glycemic-index_100g  \\\n0                      NaN                      NaN                  NaN   \n1                     14.0                     14.0                  NaN   \n2                      0.0                      0.0                  NaN   \n3                     12.0                     12.0                  NaN   \n4                      NaN                      NaN                  NaN   \n\n   water-hardness_100g                          target  \n0                  NaN              Farine de blé noir  \n1                  NaN  Banana Chips Sweetened (Whole)  \n2                  NaN                         Peanuts  \n3                  NaN          Organic Salted Nut Mix  \n4                  NaN                 Organic Polenta  \n\n[5 rows x 129 columns]"
     },
     "execution_count": 5,
     "metadata": {},
     "output_type": "execute_result"
    }
   ],
   "source": [
    "df = df.select_dtypes(include=['int64', 'float64'])\n",
    "df['target'] = target\n",
    "df.head()"
   ]
  },
  {
   "cell_type": "code",
   "execution_count": 6,
   "metadata": {},
   "outputs": [
    {
     "data": {
      "text/plain": "code                                         0.0\ncreated_t                                    0.0\nlast_modified_t                              0.0\ngeneric_name                               100.0\norigins                                    100.0\norigins_tags                               100.0\nmanufacturing_places                       100.0\nmanufacturing_places_tags                  100.0\nlabels                                     100.0\nlabels_tags                                100.0\nlabels_en                                  100.0\nemb_codes                                  100.0\nemb_codes_tags                             100.0\nfirst_packaging_code_geo                   100.0\ncities                                     100.0\ncities_tags                                100.0\npurchase_places                            100.0\nstores                                     100.0\nallergens                                  100.0\nallergens_en                               100.0\nno_nutriments                              100.0\nadditives_n                                  5.0\ningredients_from_palm_oil_n                  5.0\ningredients_from_palm_oil                  100.0\ningredients_from_palm_oil_tags             100.0\ningredients_that_may_be_from_palm_oil_n      5.0\ningredients_that_may_be_from_palm_oil      100.0\nnutrition_grade_uk                         100.0\nenergy_100g                                  8.0\nenergy-from-fat_100g                       100.0\nfat_100g                                    20.0\nsaturated-fat_100g                          42.0\n-butyric-acid_100g                         100.0\n-caproic-acid_100g                         100.0\n-caprylic-acid_100g                        100.0\n-capric-acid_100g                          100.0\n-lauric-acid_100g                          100.0\n-myristic-acid_100g                        100.0\n-palmitic-acid_100g                        100.0\n-stearic-acid_100g                         100.0\n-arachidic-acid_100g                       100.0\n-behenic-acid_100g                         100.0\n-lignoceric-acid_100g                      100.0\n-cerotic-acid_100g                         100.0\n-montanic-acid_100g                        100.0\n-melissic-acid_100g                        100.0\nmonounsaturated-fat_100g                   100.0\npolyunsaturated-fat_100g                   100.0\nomega-3-fat_100g                           100.0\n-alpha-linolenic-acid_100g                 100.0\n-eicosapentaenoic-acid_100g                100.0\n-docosahexaenoic-acid_100g                 100.0\nomega-6-fat_100g                           100.0\n-linoleic-acid_100g                        100.0\n-arachidonic-acid_100g                     100.0\n-gamma-linolenic-acid_100g                 100.0\n-dihomo-gamma-linolenic-acid_100g          100.0\nomega-9-fat_100g                           100.0\n-oleic-acid_100g                           100.0\n-elaidic-acid_100g                         100.0\n-gondoic-acid_100g                         100.0\n-mead-acid_100g                            100.0\n-erucic-acid_100g                          100.0\n-nervonic-acid_100g                        100.0\ntrans-fat_100g                              96.0\ncholesterol_100g                            94.0\ncarbohydrates_100g                          10.0\nsugars_100g                                 36.0\n-sucrose_100g                              100.0\n-glucose_100g                              100.0\n-fructose_100g                             100.0\n-lactose_100g                              100.0\n-maltose_100g                              100.0\n-maltodextrins_100g                        100.0\nstarch_100g                                100.0\npolyols_100g                               100.0\nfiber_100g                                  14.0\nproteins_100g                               12.0\ncasein_100g                                100.0\nserum-proteins_100g                        100.0\nnucleotides_100g                           100.0\nsalt_100g                                   41.0\nsodium_100g                                 41.0\nalcohol_100g                               100.0\nvitamin-a_100g                              83.0\nbeta-carotene_100g                         100.0\nvitamin-d_100g                             100.0\nvitamin-e_100g                             100.0\nvitamin-k_100g                             100.0\nvitamin-c_100g                              80.0\nvitamin-b1_100g                            100.0\nvitamin-b2_100g                            100.0\nvitamin-pp_100g                            100.0\nvitamin-b6_100g                            100.0\nvitamin-b9_100g                            100.0\nfolates_100g                               100.0\nvitamin-b12_100g                           100.0\nbiotin_100g                                100.0\npantothenic-acid_100g                      100.0\nsilica_100g                                100.0\nbicarbonate_100g                           100.0\npotassium_100g                             100.0\nchloride_100g                              100.0\ncalcium_100g                                35.0\nphosphorus_100g                            100.0\niron_100g                                   19.0\nmagnesium_100g                             100.0\nzinc_100g                                  100.0\ncopper_100g                                100.0\nmanganese_100g                             100.0\nfluoride_100g                              100.0\nselenium_100g                              100.0\nchromium_100g                              100.0\nmolybdenum_100g                            100.0\niodine_100g                                100.0\ncaffeine_100g                              100.0\ntaurine_100g                               100.0\nph_100g                                    100.0\nfruits-vegetables-nuts_100g                100.0\nfruits-vegetables-nuts-estimate_100g       100.0\ncollagen-meat-protein-ratio_100g           100.0\ncocoa_100g                                 100.0\nchlorophyl_100g                            100.0\ncarbon-footprint_100g                      100.0\nnutrition-score-fr_100g                     63.0\nnutrition-score-uk_100g                     63.0\nglycemic-index_100g                        100.0\nwater-hardness_100g                        100.0\ntarget                                       1.0\ndtype: float64"
     },
     "execution_count": 6,
     "metadata": {},
     "output_type": "execute_result"
    }
   ],
   "source": [
    "df.isnull().mean() * 100\n",
    "# Porcentaje de valores NaN por columna númerica"
   ]
  },
  {
   "cell_type": "code",
   "execution_count": 7,
   "metadata": {},
   "outputs": [
    {
     "data": {
      "text/plain": "code                                       0.00\ncreated_t                                  0.00\nlast_modified_t                            0.00\ntarget                                     0.01\ningredients_from_palm_oil_n                0.05\ningredients_that_may_be_from_palm_oil_n    0.05\ndtype: float64"
     },
     "execution_count": 7,
     "metadata": {},
     "output_type": "execute_result"
    }
   ],
   "source": [
    "df.isnull().mean().sort_values().iloc[:6]\n",
    "# Escogemos las 5 columnas con menos valores NaN y la columna target"
   ]
  },
  {
   "cell_type": "code",
   "execution_count": 8,
   "metadata": {},
   "outputs": [],
   "source": [
    "df = df[df.isnull().mean().sort_values().iloc[:6].index]\n",
    "df = df.dropna(axis=0, how='any')\n",
    "# Limpiamos el dataset de valores NaN y ya lo tenemos listo"
   ]
  },
  {
   "cell_type": "code",
   "execution_count": 9,
   "metadata": {},
   "outputs": [
    {
     "data": {
      "text/html": "<div>\n<style scoped>\n    .dataframe tbody tr th:only-of-type {\n        vertical-align: middle;\n    }\n\n    .dataframe tbody tr th {\n        vertical-align: top;\n    }\n\n    .dataframe thead th {\n        text-align: right;\n    }\n</style>\n<table border=\"1\" class=\"dataframe\">\n  <thead>\n    <tr style=\"text-align: right;\">\n      <th></th>\n      <th>code</th>\n      <th>created_t</th>\n      <th>last_modified_t</th>\n      <th>target</th>\n      <th>ingredients_from_palm_oil_n</th>\n      <th>ingredients_that_may_be_from_palm_oil_n</th>\n    </tr>\n  </thead>\n  <tbody>\n    <tr>\n      <th>1</th>\n      <td>4530</td>\n      <td>1489069957</td>\n      <td>1489069957</td>\n      <td>Banana Chips Sweetened (Whole)</td>\n      <td>0.0</td>\n      <td>0.0</td>\n    </tr>\n    <tr>\n      <th>2</th>\n      <td>4559</td>\n      <td>1489069957</td>\n      <td>1489069957</td>\n      <td>Peanuts</td>\n      <td>0.0</td>\n      <td>0.0</td>\n    </tr>\n    <tr>\n      <th>3</th>\n      <td>16087</td>\n      <td>1489055731</td>\n      <td>1489055731</td>\n      <td>Organic Salted Nut Mix</td>\n      <td>0.0</td>\n      <td>0.0</td>\n    </tr>\n    <tr>\n      <th>4</th>\n      <td>16094</td>\n      <td>1489055653</td>\n      <td>1489055653</td>\n      <td>Organic Polenta</td>\n      <td>0.0</td>\n      <td>0.0</td>\n    </tr>\n    <tr>\n      <th>5</th>\n      <td>16100</td>\n      <td>1489055651</td>\n      <td>1489055651</td>\n      <td>Breadshop Honey Gone Nuts Granola</td>\n      <td>0.0</td>\n      <td>0.0</td>\n    </tr>\n  </tbody>\n</table>\n</div>",
      "text/plain": "    code   created_t  last_modified_t                             target  \\\n1   4530  1489069957       1489069957     Banana Chips Sweetened (Whole)   \n2   4559  1489069957       1489069957                            Peanuts   \n3  16087  1489055731       1489055731             Organic Salted Nut Mix   \n4  16094  1489055653       1489055653                    Organic Polenta   \n5  16100  1489055651       1489055651  Breadshop Honey Gone Nuts Granola   \n\n   ingredients_from_palm_oil_n  ingredients_that_may_be_from_palm_oil_n  \n1                          0.0                                      0.0  \n2                          0.0                                      0.0  \n3                          0.0                                      0.0  \n4                          0.0                                      0.0  \n5                          0.0                                      0.0  "
     },
     "execution_count": 9,
     "metadata": {},
     "output_type": "execute_result"
    }
   ],
   "source": [
    "df.head()"
   ]
  },
  {
   "cell_type": "code",
   "execution_count": 10,
   "metadata": {},
   "outputs": [
    {
     "name": "stdout",
     "output_type": "stream",
     "text": [
      "<class 'pandas.core.frame.DataFrame'>\n",
      "Int64Index: 95 entries, 1 to 99\n",
      "Data columns (total 6 columns):\n",
      " #   Column                                   Non-Null Count  Dtype  \n",
      "---  ------                                   --------------  -----  \n",
      " 0   code                                     95 non-null     int64  \n",
      " 1   created_t                                95 non-null     int64  \n",
      " 2   last_modified_t                          95 non-null     int64  \n",
      " 3   target                                   95 non-null     object \n",
      " 4   ingredients_from_palm_oil_n              95 non-null     float64\n",
      " 5   ingredients_that_may_be_from_palm_oil_n  95 non-null     float64\n",
      "dtypes: float64(2), int64(3), object(1)\n",
      "memory usage: 5.2+ KB\n"
     ]
    }
   ],
   "source": [
    "df.info()"
   ]
  },
  {
   "cell_type": "markdown",
   "metadata": {},
   "source": [
    "Vamos a ver si tiene algún sentido clasificar el nombre de los alimentos a partirde este dataset"
   ]
  },
  {
   "cell_type": "code",
   "execution_count": 11,
   "metadata": {},
   "outputs": [],
   "source": [
    "seed = 42\n",
    "X_train, X_test, y_train, y_test = train_test_split(df.drop('target', axis=1), df['target'], test_size=0.2, random_state=seed)"
   ]
  },
  {
   "cell_type": "code",
   "execution_count": 12,
   "metadata": {},
   "outputs": [
    {
     "name": "stdout",
     "output_type": "stream",
     "text": [
      "El score es 0.0\n"
     ]
    }
   ],
   "source": [
    "clf = LogisticRegression()\n",
    "clf.fit(X_train, y_train)\n",
    "print(f'El score es {clf.score(X_test, y_test)}')"
   ]
  },
  {
   "cell_type": "markdown",
   "metadata": {},
   "source": [
    "El modelo no ha acertado ningún resultado. Esto es comprensible ya que en el dataset hay columnas como el código que, en principio, no nos aporta ninguna información"
   ]
  },
  {
   "cell_type": "code",
   "execution_count": null,
   "metadata": {},
   "outputs": [],
   "source": []
  }
 ],
 "metadata": {
  "kernelspec": {
   "display_name": "Python 3.7.4 64-bit",
   "name": "python374jvsc74a57bd0aee8b7b246df8f9039afb4144a1f6fd8d2ca17a180786b69acc140d282b71a49"
  },
  "language_info": {
   "codemirror_mode": {
    "name": "ipython",
    "version": 3
   },
   "file_extension": ".py",
   "mimetype": "text/x-python",
   "name": "python",
   "nbconvert_exporter": "python",
   "pygments_lexer": "ipython3",
   "version": "3.7.4"
  },
  "metadata": {
   "interpreter": {
    "hash": "aee8b7b246df8f9039afb4144a1f6fd8d2ca17a180786b69acc140d282b71a49"
   }
  },
  "orig_nbformat": 2
 },
 "nbformat": 4,
 "nbformat_minor": 2
}